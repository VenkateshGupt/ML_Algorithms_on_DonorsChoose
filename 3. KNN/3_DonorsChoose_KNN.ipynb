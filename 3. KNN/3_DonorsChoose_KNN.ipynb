{
 "cells": [
  {
   "cell_type": "markdown",
   "metadata": {
    "colab_type": "text",
    "id": "-Ab-X-IrCyl0"
   },
   "source": [
    "# DonorsChoose"
   ]
  },
  {
   "cell_type": "code",
   "execution_count": 105,
   "metadata": {
    "colab": {
     "base_uri": "https://localhost:8080/",
     "height": 56
    },
    "colab_type": "code",
    "executionInfo": {
     "elapsed": 2882,
     "status": "ok",
     "timestamp": 1594367005812,
     "user": {
      "displayName": "Venkatesh Gupta",
      "photoUrl": "https://lh3.googleusercontent.com/a-/AOh14Gg8U_KUdnX4JWp6we7eGz6jpyKj3zYYWCk4s2LqwQ=s64",
      "userId": "13664137025209273415"
     },
     "user_tz": -330
    },
    "id": "rAQRPaL_sQLq",
    "outputId": "f4f8590e-78cd-4686-a9c3-726396b77223"
   },
   "outputs": [
    {
     "name": "stdout",
     "output_type": "stream",
     "text": [
      "Drive already mounted at /content/drive; to attempt to forcibly remount, call drive.mount(\"/content/drive\", force_remount=True).\n"
     ]
    }
   ],
   "source": [
    "from google.colab import drive\n",
    "drive.mount('/content/drive')"
   ]
  },
  {
   "cell_type": "code",
   "execution_count": 106,
   "metadata": {
    "colab": {
     "base_uri": "https://localhost:8080/",
     "height": 205
    },
    "colab_type": "code",
    "executionInfo": {
     "elapsed": 7228,
     "status": "ok",
     "timestamp": 1594367010173,
     "user": {
      "displayName": "Venkatesh Gupta",
      "photoUrl": "https://lh3.googleusercontent.com/a-/AOh14Gg8U_KUdnX4JWp6we7eGz6jpyKj3zYYWCk4s2LqwQ=s64",
      "userId": "13664137025209273415"
     },
     "user_tz": -330
    },
    "id": "bmyWwbJAsUTk",
    "outputId": "9cb0e171-53cf-4a7d-bf71-867ace6b3a51"
   },
   "outputs": [
    {
     "name": "stdout",
     "output_type": "stream",
     "text": [
      "Requirement already satisfied: chart_studio in /usr/local/lib/python3.6/dist-packages (1.1.0)\n",
      "Requirement already satisfied: requests in /usr/local/lib/python3.6/dist-packages (from chart_studio) (2.23.0)\n",
      "Requirement already satisfied: retrying>=1.3.3 in /usr/local/lib/python3.6/dist-packages (from chart_studio) (1.3.3)\n",
      "Requirement already satisfied: plotly in /usr/local/lib/python3.6/dist-packages (from chart_studio) (4.4.1)\n",
      "Requirement already satisfied: six in /usr/local/lib/python3.6/dist-packages (from chart_studio) (1.12.0)\n",
      "Requirement already satisfied: chardet<4,>=3.0.2 in /usr/local/lib/python3.6/dist-packages (from requests->chart_studio) (3.0.4)\n",
      "Requirement already satisfied: certifi>=2017.4.17 in /usr/local/lib/python3.6/dist-packages (from requests->chart_studio) (2020.6.20)\n",
      "Requirement already satisfied: idna<3,>=2.5 in /usr/local/lib/python3.6/dist-packages (from requests->chart_studio) (2.9)\n",
      "Requirement already satisfied: urllib3!=1.25.0,!=1.25.1,<1.26,>=1.21.1 in /usr/local/lib/python3.6/dist-packages (from requests->chart_studio) (1.24.3)\n"
     ]
    }
   ],
   "source": [
    "!pip install chart_studio"
   ]
  },
  {
   "cell_type": "markdown",
   "metadata": {
    "colab_type": "text",
    "id": "etNpzy7rCyl2"
   },
   "source": [
    "<p>\n",
    "DonorsChoose.org receives hundreds of thousands of project proposals each year for classroom projects in need of funding. Right now, a large number of volunteers is needed to manually screen each submission before it's approved to be posted on the DonorsChoose.org website.\n",
    "</p>\n",
    "<p>\n",
    "    Next year, DonorsChoose.org expects to receive close to 500,000 project proposals. As a result, there are three main problems they need to solve:\n",
    "<ul>\n",
    "<li>\n",
    "    How to scale current manual processes and resources to screen 500,000 projects so that they can be posted as quickly and as efficiently as possible</li>\n",
    "    <li>How to increase the consistency of project vetting across different volunteers to improve the experience for teachers</li>\n",
    "    <li>How to focus volunteer time on the applications that need the most assistance</li>\n",
    "    </ul>\n",
    "</p>    \n",
    "<p>\n",
    "The goal of the competition is to predict whether or not a DonorsChoose.org project proposal submitted by a teacher will be approved, using the text of project descriptions as well as additional metadata about the project, teacher, and school. DonorsChoose.org can then use this information to identify projects most likely to need further review before approval.\n",
    "</p>"
   ]
  },
  {
   "cell_type": "markdown",
   "metadata": {
    "colab_type": "text",
    "id": "kO2Kg7TgCyl4"
   },
   "source": [
    "## About the DonorsChoose Data Set\n",
    "\n",
    "The `train.csv` data set provided by DonorsChoose contains the following features:\n",
    "\n",
    "Feature | Description \n",
    "----------|---------------\n",
    "**`project_id`** | A unique identifier for the proposed project. **Example:** `p036502`   \n",
    "**`project_title`**    | Title of the project. **Examples:**<br><ul><li><code>Art Will Make You Happy!</code></li><li><code>First Grade Fun</code></li></ul> \n",
    "**`project_grade_category`** | Grade level of students for which the project is targeted. One of the following enumerated values: <br/><ul><li><code>Grades PreK-2</code></li><li><code>Grades 3-5</code></li><li><code>Grades 6-8</code></li><li><code>Grades 9-12</code></li></ul>  \n",
    " **`project_subject_categories`** | One or more (comma-separated) subject categories for the project from the following enumerated list of values:  <br/><ul><li><code>Applied Learning</code></li><li><code>Care &amp; Hunger</code></li><li><code>Health &amp; Sports</code></li><li><code>History &amp; Civics</code></li><li><code>Literacy &amp; Language</code></li><li><code>Math &amp; Science</code></li><li><code>Music &amp; The Arts</code></li><li><code>Special Needs</code></li><li><code>Warmth</code></li></ul><br/> **Examples:** <br/><ul><li><code>Music &amp; The Arts</code></li><li><code>Literacy &amp; Language, Math &amp; Science</code></li>  \n",
    "  **`school_state`** | State where school is located ([Two-letter U.S. postal code](https://en.wikipedia.org/wiki/List_of_U.S._state_abbreviations#Postal_codes)). **Example:** `WY`\n",
    "**`project_subject_subcategories`** | One or more (comma-separated) subject subcategories for the project. **Examples:** <br/><ul><li><code>Literacy</code></li><li><code>Literature &amp; Writing, Social Sciences</code></li></ul> \n",
    "**`project_resource_summary`** | An explanation of the resources needed for the project. **Example:** <br/><ul><li><code>My students need hands on literacy materials to manage sensory needs!</code</li></ul> \n",
    "**`project_essay_1`**    | First application essay<sup>*</sup>  \n",
    "**`project_essay_2`**    | Second application essay<sup>*</sup> \n",
    "**`project_essay_3`**    | Third application essay<sup>*</sup> \n",
    "**`project_essay_4`**    | Fourth application essay<sup>*</sup> \n",
    "**`project_submitted_datetime`** | Datetime when project application was submitted. **Example:** `2016-04-28 12:43:56.245`   \n",
    "**`teacher_id`** | A unique identifier for the teacher of the proposed project. **Example:** `bdf8baa8fedef6bfeec7ae4ff1c15c56`  \n",
    "**`teacher_prefix`** | Teacher's title. One of the following enumerated values: <br/><ul><li><code>nan</code></li><li><code>Dr.</code></li><li><code>Mr.</code></li><li><code>Mrs.</code></li><li><code>Ms.</code></li><li><code>Teacher.</code></li></ul>  \n",
    "**`teacher_number_of_previously_posted_projects`** | Number of project applications previously submitted by the same teacher. **Example:** `2` \n",
    "\n",
    "<sup>*</sup> See the section <b>Notes on the Essay Data</b> for more details about these features.\n",
    "\n",
    "Additionally, the `resources.csv` data set provides more data about the resources required for each project. Each line in this file represents a resource required by a project:\n",
    "\n",
    "Feature | Description \n",
    "----------|---------------\n",
    "**`id`** | A `project_id` value from the `train.csv` file.  **Example:** `p036502`   \n",
    "**`description`** | Desciption of the resource. **Example:** `Tenor Saxophone Reeds, Box of 25`   \n",
    "**`quantity`** | Quantity of the resource required. **Example:** `3`   \n",
    "**`price`** | Price of the resource required. **Example:** `9.95`   \n",
    "\n",
    "**Note:** Many projects require multiple resources. The `id` value corresponds to a `project_id` in train.csv, so you use it as a key to retrieve all resources needed for a project:\n",
    "\n",
    "The data set contains the following label (the value you will attempt to predict):\n",
    "\n",
    "Label | Description\n",
    "----------|---------------\n",
    "`project_is_approved` | A binary flag indicating whether DonorsChoose approved the project. A value of `0` indicates the project was not approved, and a value of `1` indicates the project was approved."
   ]
  },
  {
   "cell_type": "markdown",
   "metadata": {
    "colab_type": "text",
    "id": "dBGA_YStCyl6"
   },
   "source": [
    "### Notes on the Essay Data\n",
    "\n",
    "<ul>\n",
    "Prior to May 17, 2016, the prompts for the essays were as follows:\n",
    "<li>__project_essay_1:__ \"Introduce us to your classroom\"</li>\n",
    "<li>__project_essay_2:__ \"Tell us more about your students\"</li>\n",
    "<li>__project_essay_3:__ \"Describe how your students will use the materials you're requesting\"</li>\n",
    "<li>__project_essay_3:__ \"Close by sharing why your project will make a difference\"</li>\n",
    "</ul>\n",
    "\n",
    "\n",
    "<ul>\n",
    "Starting on May 17, 2016, the number of essays was reduced from 4 to 2, and the prompts for the first 2 essays were changed to the following:<br>\n",
    "<li>__project_essay_1:__ \"Describe your students: What makes your students special? Specific details about their background, your neighborhood, and your school are all helpful.\"</li>\n",
    "<li>__project_essay_2:__ \"About your project: How will these materials make a difference in your students' learning and improve their school lives?\"</li>\n",
    "<br>For all projects with project_submitted_datetime of 2016-05-17 and later, the values of project_essay_3 and project_essay_4 will be NaN.\n",
    "</ul>\n"
   ]
  },
  {
   "cell_type": "code",
   "execution_count": 107,
   "metadata": {
    "colab": {},
    "colab_type": "code",
    "executionInfo": {
     "elapsed": 7220,
     "status": "ok",
     "timestamp": 1594367010177,
     "user": {
      "displayName": "Venkatesh Gupta",
      "photoUrl": "https://lh3.googleusercontent.com/a-/AOh14Gg8U_KUdnX4JWp6we7eGz6jpyKj3zYYWCk4s2LqwQ=s64",
      "userId": "13664137025209273415"
     },
     "user_tz": -330
    },
    "id": "XTrCJ5p9Cyl7"
   },
   "outputs": [],
   "source": [
    "%matplotlib inline\n",
    "import warnings\n",
    "warnings.filterwarnings(\"ignore\")\n",
    "\n",
    "import sqlite3\n",
    "import pandas as pd\n",
    "import numpy as np\n",
    "import nltk\n",
    "import string\n",
    "import matplotlib.pyplot as plt\n",
    "import seaborn as sns\n",
    "from sklearn.feature_extraction.text import TfidfTransformer\n",
    "from sklearn.feature_extraction.text import TfidfVectorizer\n",
    "\n",
    "from sklearn.feature_extraction.text import CountVectorizer\n",
    "from sklearn.metrics import confusion_matrix\n",
    "from sklearn import metrics\n",
    "from sklearn.metrics import roc_curve, auc\n",
    "from nltk.stem.porter import PorterStemmer\n",
    "\n",
    "import re\n",
    "# Tutorial about Python regular expressions: https://pymotw.com/2/re/\n",
    "import string\n",
    "from nltk.corpus import stopwords\n",
    "from nltk.stem import PorterStemmer\n",
    "from nltk.stem.wordnet import WordNetLemmatizer\n",
    "\n",
    "from gensim.models import Word2Vec\n",
    "from gensim.models import KeyedVectors\n",
    "import pickle\n",
    "\n",
    "from tqdm import tqdm\n",
    "import os\n",
    "\n",
    "import chart_studio.plotly as py\n",
    "import plotly.graph_objs as go\n",
    "from collections import Counter"
   ]
  },
  {
   "cell_type": "markdown",
   "metadata": {
    "colab_type": "text",
    "id": "MjknLZQqCymQ"
   },
   "source": [
    "## 1.1 Reading Data"
   ]
  },
  {
   "cell_type": "code",
   "execution_count": 108,
   "metadata": {
    "colab": {},
    "colab_type": "code",
    "executionInfo": {
     "elapsed": 10516,
     "status": "ok",
     "timestamp": 1594367013480,
     "user": {
      "displayName": "Venkatesh Gupta",
      "photoUrl": "https://lh3.googleusercontent.com/a-/AOh14Gg8U_KUdnX4JWp6we7eGz6jpyKj3zYYWCk4s2LqwQ=s64",
      "userId": "13664137025209273415"
     },
     "user_tz": -330
    },
    "id": "abtcqBS8CymT"
   },
   "outputs": [],
   "source": [
    "project_data = pd.read_csv('train_data.csv',nrows=30000)\n",
    "resource_data = pd.read_csv('resources.csv')"
   ]
  },
  {
   "cell_type": "code",
   "execution_count": 109,
   "metadata": {
    "colab": {
     "base_uri": "https://localhost:8080/",
     "height": 167
    },
    "colab_type": "code",
    "executionInfo": {
     "elapsed": 10510,
     "status": "ok",
     "timestamp": 1594367013483,
     "user": {
      "displayName": "Venkatesh Gupta",
      "photoUrl": "https://lh3.googleusercontent.com/a-/AOh14Gg8U_KUdnX4JWp6we7eGz6jpyKj3zYYWCk4s2LqwQ=s64",
      "userId": "13664137025209273415"
     },
     "user_tz": -330
    },
    "id": "Prf2ghjDCymX",
    "outputId": "9bdb9fe7-d44f-4f75-ffb7-f879478806be"
   },
   "outputs": [
    {
     "name": "stdout",
     "output_type": "stream",
     "text": [
      "Number of data points in train data (30000, 17)\n",
      "--------------------------------------------------\n",
      "The attributes of data : ['Unnamed: 0' 'id' 'teacher_id' 'teacher_prefix' 'school_state'\n",
      " 'project_submitted_datetime' 'project_grade_category'\n",
      " 'project_subject_categories' 'project_subject_subcategories'\n",
      " 'project_title' 'project_essay_1' 'project_essay_2' 'project_essay_3'\n",
      " 'project_essay_4' 'project_resource_summary'\n",
      " 'teacher_number_of_previously_posted_projects' 'project_is_approved']\n"
     ]
    }
   ],
   "source": [
    "print(\"Number of data points in train data\", project_data.shape)\n",
    "print('-'*50)\n",
    "print(\"The attributes of data :\", project_data.columns.values)"
   ]
  },
  {
   "cell_type": "code",
   "execution_count": 110,
   "metadata": {
    "colab": {
     "base_uri": "https://localhost:8080/",
     "height": 73
    },
    "colab_type": "code",
    "executionInfo": {
     "elapsed": 10501,
     "status": "ok",
     "timestamp": 1594367013486,
     "user": {
      "displayName": "Venkatesh Gupta",
      "photoUrl": "https://lh3.googleusercontent.com/a-/AOh14Gg8U_KUdnX4JWp6we7eGz6jpyKj3zYYWCk4s2LqwQ=s64",
      "userId": "13664137025209273415"
     },
     "user_tz": -330
    },
    "id": "JBmamwoZjPay",
    "outputId": "58b39269-59e7-4434-ac6f-dbd6acb961cd"
   },
   "outputs": [
    {
     "data": {
      "text/plain": [
       "1    25380\n",
       "0     4620\n",
       "Name: project_is_approved, dtype: int64"
      ]
     },
     "execution_count": 110,
     "metadata": {
      "tags": []
     },
     "output_type": "execute_result"
    }
   ],
   "source": [
    "project_data[\"project_is_approved\"].value_counts()"
   ]
  },
  {
   "cell_type": "code",
   "execution_count": 111,
   "metadata": {
    "colab": {
     "base_uri": "https://localhost:8080/",
     "height": 219
    },
    "colab_type": "code",
    "executionInfo": {
     "elapsed": 10489,
     "status": "ok",
     "timestamp": 1594367013487,
     "user": {
      "displayName": "Venkatesh Gupta",
      "photoUrl": "https://lh3.googleusercontent.com/a-/AOh14Gg8U_KUdnX4JWp6we7eGz6jpyKj3zYYWCk4s2LqwQ=s64",
      "userId": "13664137025209273415"
     },
     "user_tz": -330
    },
    "id": "BTGMDQoPCymc",
    "outputId": "d3097342-7d77-4fd7-b480-2007e3cc7751"
   },
   "outputs": [
    {
     "data": {
      "text/html": [
       "<div>\n",
       "<style scoped>\n",
       "    .dataframe tbody tr th:only-of-type {\n",
       "        vertical-align: middle;\n",
       "    }\n",
       "\n",
       "    .dataframe tbody tr th {\n",
       "        vertical-align: top;\n",
       "    }\n",
       "\n",
       "    .dataframe thead th {\n",
       "        text-align: right;\n",
       "    }\n",
       "</style>\n",
       "<table border=\"1\" class=\"dataframe\">\n",
       "  <thead>\n",
       "    <tr style=\"text-align: right;\">\n",
       "      <th></th>\n",
       "      <th>Unnamed: 0</th>\n",
       "      <th>id</th>\n",
       "      <th>teacher_id</th>\n",
       "      <th>teacher_prefix</th>\n",
       "      <th>school_state</th>\n",
       "      <th>Date</th>\n",
       "      <th>project_grade_category</th>\n",
       "      <th>project_subject_categories</th>\n",
       "      <th>project_subject_subcategories</th>\n",
       "      <th>project_title</th>\n",
       "      <th>project_essay_1</th>\n",
       "      <th>project_essay_2</th>\n",
       "      <th>project_essay_3</th>\n",
       "      <th>project_essay_4</th>\n",
       "      <th>project_resource_summary</th>\n",
       "      <th>teacher_number_of_previously_posted_projects</th>\n",
       "      <th>project_is_approved</th>\n",
       "    </tr>\n",
       "  </thead>\n",
       "  <tbody>\n",
       "    <tr>\n",
       "      <th>473</th>\n",
       "      <td>100660</td>\n",
       "      <td>p234804</td>\n",
       "      <td>cbc0e38f522143b86d372f8b43d4cff3</td>\n",
       "      <td>Mrs.</td>\n",
       "      <td>GA</td>\n",
       "      <td>2016-04-27 00:53:00</td>\n",
       "      <td>Grades PreK-2</td>\n",
       "      <td>Applied Learning</td>\n",
       "      <td>Early Development</td>\n",
       "      <td>Flexible Seating for Flexible Learning</td>\n",
       "      <td>I recently read an article about giving studen...</td>\n",
       "      <td>I teach at a low-income (Title 1) school. Ever...</td>\n",
       "      <td>We need a classroom rug that we can use as a c...</td>\n",
       "      <td>Benjamin Franklin once said, \\\"Tell me and I f...</td>\n",
       "      <td>My students need flexible seating in the class...</td>\n",
       "      <td>2</td>\n",
       "      <td>1</td>\n",
       "    </tr>\n",
       "    <tr>\n",
       "      <th>29891</th>\n",
       "      <td>146723</td>\n",
       "      <td>p099708</td>\n",
       "      <td>c0a28c79fe8ad5810da49de47b3fb491</td>\n",
       "      <td>Mrs.</td>\n",
       "      <td>CA</td>\n",
       "      <td>2016-04-27 01:10:09</td>\n",
       "      <td>Grades 3-5</td>\n",
       "      <td>Math &amp; Science, History &amp; Civics</td>\n",
       "      <td>Mathematics, Social Sciences</td>\n",
       "      <td>Breakout Box to Ignite Engagement!</td>\n",
       "      <td>It's the end of the school year. Routines have...</td>\n",
       "      <td>My students desire challenges, movement, and c...</td>\n",
       "      <td>I will design different clues using specific c...</td>\n",
       "      <td>Donations to this project will immediately imp...</td>\n",
       "      <td>My students need items from a \\\"Breakout Box\\\"...</td>\n",
       "      <td>6</td>\n",
       "      <td>1</td>\n",
       "    </tr>\n",
       "  </tbody>\n",
       "</table>\n",
       "</div>"
      ],
      "text/plain": [
       "       Unnamed: 0  ... project_is_approved\n",
       "473        100660  ...                   1\n",
       "29891      146723  ...                   1\n",
       "\n",
       "[2 rows x 17 columns]"
      ]
     },
     "execution_count": 111,
     "metadata": {
      "tags": []
     },
     "output_type": "execute_result"
    }
   ],
   "source": [
    "# how to replace elements in list python: https://stackoverflow.com/a/2582163/4084039\n",
    "cols = ['Date' if x=='project_submitted_datetime' else x for x in list(project_data.columns)]\n",
    "\n",
    "\n",
    "#sort dataframe based on time pandas python: https://stackoverflow.com/a/49702492/4084039\n",
    "project_data['Date'] = pd.to_datetime(project_data['project_submitted_datetime'])\n",
    "project_data.drop('project_submitted_datetime', axis=1, inplace=True)\n",
    "project_data.sort_values(by=['Date'], inplace=True)\n",
    "\n",
    "\n",
    "# how to reorder columns pandas python: https://stackoverflow.com/a/13148611/4084039\n",
    "project_data = project_data[cols]\n",
    "\n",
    "\n",
    "project_data.head(2)"
   ]
  },
  {
   "cell_type": "code",
   "execution_count": 112,
   "metadata": {
    "colab": {
     "base_uri": "https://localhost:8080/",
     "height": 149
    },
    "colab_type": "code",
    "executionInfo": {
     "elapsed": 10478,
     "status": "ok",
     "timestamp": 1594367013488,
     "user": {
      "displayName": "Venkatesh Gupta",
      "photoUrl": "https://lh3.googleusercontent.com/a-/AOh14Gg8U_KUdnX4JWp6we7eGz6jpyKj3zYYWCk4s2LqwQ=s64",
      "userId": "13664137025209273415"
     },
     "user_tz": -330
    },
    "id": "ntdWuRoUCymj",
    "outputId": "e024bd1d-364b-40d2-c8cd-7003be9725f5"
   },
   "outputs": [
    {
     "name": "stdout",
     "output_type": "stream",
     "text": [
      "Number of data points in train data (1541272, 4)\n",
      "['id' 'description' 'quantity' 'price']\n"
     ]
    },
    {
     "data": {
      "text/html": [
       "<div>\n",
       "<style scoped>\n",
       "    .dataframe tbody tr th:only-of-type {\n",
       "        vertical-align: middle;\n",
       "    }\n",
       "\n",
       "    .dataframe tbody tr th {\n",
       "        vertical-align: top;\n",
       "    }\n",
       "\n",
       "    .dataframe thead th {\n",
       "        text-align: right;\n",
       "    }\n",
       "</style>\n",
       "<table border=\"1\" class=\"dataframe\">\n",
       "  <thead>\n",
       "    <tr style=\"text-align: right;\">\n",
       "      <th></th>\n",
       "      <th>id</th>\n",
       "      <th>description</th>\n",
       "      <th>quantity</th>\n",
       "      <th>price</th>\n",
       "    </tr>\n",
       "  </thead>\n",
       "  <tbody>\n",
       "    <tr>\n",
       "      <th>0</th>\n",
       "      <td>p233245</td>\n",
       "      <td>LC652 - Lakeshore Double-Space Mobile Drying Rack</td>\n",
       "      <td>1</td>\n",
       "      <td>149.00</td>\n",
       "    </tr>\n",
       "    <tr>\n",
       "      <th>1</th>\n",
       "      <td>p069063</td>\n",
       "      <td>Bouncy Bands for Desks (Blue support pipes)</td>\n",
       "      <td>3</td>\n",
       "      <td>14.95</td>\n",
       "    </tr>\n",
       "  </tbody>\n",
       "</table>\n",
       "</div>"
      ],
      "text/plain": [
       "        id                                        description  quantity   price\n",
       "0  p233245  LC652 - Lakeshore Double-Space Mobile Drying Rack         1  149.00\n",
       "1  p069063        Bouncy Bands for Desks (Blue support pipes)         3   14.95"
      ]
     },
     "execution_count": 112,
     "metadata": {
      "tags": []
     },
     "output_type": "execute_result"
    }
   ],
   "source": [
    "print(\"Number of data points in train data\", resource_data.shape)\n",
    "print(resource_data.columns.values)\n",
    "resource_data.head(2)"
   ]
  },
  {
   "cell_type": "markdown",
   "metadata": {
    "colab_type": "text",
    "id": "6WZaYhwJCymp"
   },
   "source": [
    "## 1.2 preprocessing of `project_subject_categories`"
   ]
  },
  {
   "cell_type": "code",
   "execution_count": 113,
   "metadata": {
    "colab": {},
    "colab_type": "code",
    "executionInfo": {
     "elapsed": 10473,
     "status": "ok",
     "timestamp": 1594367013491,
     "user": {
      "displayName": "Venkatesh Gupta",
      "photoUrl": "https://lh3.googleusercontent.com/a-/AOh14Gg8U_KUdnX4JWp6we7eGz6jpyKj3zYYWCk4s2LqwQ=s64",
      "userId": "13664137025209273415"
     },
     "user_tz": -330
    },
    "id": "Mdkhq7PRCymr"
   },
   "outputs": [],
   "source": [
    "catogories = list(project_data['project_subject_categories'].values)\n",
    "# remove special characters from list of strings python: https://stackoverflow.com/a/47301924/4084039\n",
    "\n",
    "# https://www.geeksforgeeks.org/removing-stop-words-nltk-python/\n",
    "# https://stackoverflow.com/questions/23669024/how-to-strip-a-specific-word-from-a-string\n",
    "# https://stackoverflow.com/questions/8270092/remove-all-whitespace-in-a-string-in-python\n",
    "cat_list = []\n",
    "for i in catogories:\n",
    "    temp = \"\"\n",
    "    # consider we have text like this \"Math & Science, Warmth, Care & Hunger\"\n",
    "    for j in i.split(','): # it will split it in three parts [\"Math & Science\", \"Warmth\", \"Care & Hunger\"]\n",
    "        if 'The' in j.split(): # this will split each of the catogory based on space \"Math & Science\"=> \"Math\",\"&\", \"Science\"\n",
    "            j=j.replace('The','') # if we have the words \"The\" we are going to replace it with ''(i.e removing 'The')\n",
    "        j = j.replace(' ','') # we are placeing all the ' '(space) with ''(empty) ex:\"Math & Science\"=>\"Math&Science\"\n",
    "        temp+=j.strip()+\" \" #\" abc \".strip() will return \"abc\", remove the trailing spaces\n",
    "        temp = temp.replace('&','_') # we are replacing the & value into \n",
    "    cat_list.append(temp.strip())\n",
    "    \n",
    "project_data['clean_categories'] = cat_list\n",
    "project_data.drop(['project_subject_categories'], axis=1, inplace=True)\n",
    "\n",
    "from collections import Counter\n",
    "my_counter = Counter()\n",
    "for word in project_data['clean_categories'].values:\n",
    "    my_counter.update(word.split())\n",
    "\n",
    "cat_dict = dict(my_counter)\n",
    "sorted_cat_dict = dict(sorted(cat_dict.items(), key=lambda kv: kv[1]))\n"
   ]
  },
  {
   "cell_type": "markdown",
   "metadata": {
    "colab_type": "text",
    "id": "386yx3T2Cymv"
   },
   "source": [
    "## 1.3 preprocessing of `project_subject_subcategories`"
   ]
  },
  {
   "cell_type": "code",
   "execution_count": 114,
   "metadata": {
    "colab": {},
    "colab_type": "code",
    "executionInfo": {
     "elapsed": 11183,
     "status": "ok",
     "timestamp": 1594367014208,
     "user": {
      "displayName": "Venkatesh Gupta",
      "photoUrl": "https://lh3.googleusercontent.com/a-/AOh14Gg8U_KUdnX4JWp6we7eGz6jpyKj3zYYWCk4s2LqwQ=s64",
      "userId": "13664137025209273415"
     },
     "user_tz": -330
    },
    "id": "4QSP0r8XCymw"
   },
   "outputs": [],
   "source": [
    "sub_catogories = list(project_data['project_subject_subcategories'].values)\n",
    "# remove special characters from list of strings python: https://stackoverflow.com/a/47301924/4084039\n",
    "\n",
    "# https://www.geeksforgeeks.org/removing-stop-words-nltk-python/\n",
    "# https://stackoverflow.com/questions/23669024/how-to-strip-a-specific-word-from-a-string\n",
    "# https://stackoverflow.com/questions/8270092/remove-all-whitespace-in-a-string-in-python\n",
    "\n",
    "sub_cat_list = []\n",
    "for i in sub_catogories:\n",
    "    temp = \"\"\n",
    "    # consider we have text like this \"Math & Science, Warmth, Care & Hunger\"\n",
    "    for j in i.split(','): # it will split it in three parts [\"Math & Science\", \"Warmth\", \"Care & Hunger\"]\n",
    "        if 'The' in j.split(): # this will split each of the catogory based on space \"Math & Science\"=> \"Math\",\"&\", \"Science\"\n",
    "            j=j.replace('The','') # if we have the words \"The\" we are going to replace it with ''(i.e removing 'The')\n",
    "        j = j.replace(' ','') # we are placeing all the ' '(space) with ''(empty) ex:\"Math & Science\"=>\"Math&Science\"\n",
    "        temp +=j.strip()+\" \"#\" abc \".strip() will return \"abc\", remove the trailing spaces\n",
    "        temp = temp.replace('&','_')\n",
    "    sub_cat_list.append(temp.strip())\n",
    "\n",
    "project_data['clean_subcategories'] = sub_cat_list\n",
    "project_data.drop(['project_subject_subcategories'], axis=1, inplace=True)\n",
    "\n",
    "# count of all the words in corpus python: https://stackoverflow.com/a/22898595/4084039\n",
    "my_counter = Counter()\n",
    "for word in project_data['clean_subcategories'].values:\n",
    "    my_counter.update(word.split())\n",
    "    \n",
    "sub_cat_dict = dict(my_counter)\n",
    "sorted_sub_cat_dict = dict(sorted(sub_cat_dict.items(), key=lambda kv: kv[1]))"
   ]
  },
  {
   "cell_type": "markdown",
   "metadata": {
    "colab_type": "text",
    "id": "NANzhWlLCynN"
   },
   "source": [
    "## 1.3 Text preprocessing"
   ]
  },
  {
   "cell_type": "code",
   "execution_count": 115,
   "metadata": {
    "colab": {},
    "colab_type": "code",
    "executionInfo": {
     "elapsed": 11178,
     "status": "ok",
     "timestamp": 1594367014209,
     "user": {
      "displayName": "Venkatesh Gupta",
      "photoUrl": "https://lh3.googleusercontent.com/a-/AOh14Gg8U_KUdnX4JWp6we7eGz6jpyKj3zYYWCk4s2LqwQ=s64",
      "userId": "13664137025209273415"
     },
     "user_tz": -330
    },
    "id": "yqsmu-BTCynQ"
   },
   "outputs": [],
   "source": [
    "# merge two column text dataframe: \n",
    "project_data[\"essay\"] = project_data[\"project_essay_1\"].map(str) +\\\n",
    "                        project_data[\"project_essay_2\"].map(str) + \\\n",
    "                        project_data[\"project_essay_3\"].map(str) + \\\n",
    "                        project_data[\"project_essay_4\"].map(str)"
   ]
  },
  {
   "cell_type": "code",
   "execution_count": 116,
   "metadata": {
    "colab": {
     "base_uri": "https://localhost:8080/",
     "height": 358
    },
    "colab_type": "code",
    "executionInfo": {
     "elapsed": 11171,
     "status": "ok",
     "timestamp": 1594367014211,
     "user": {
      "displayName": "Venkatesh Gupta",
      "photoUrl": "https://lh3.googleusercontent.com/a-/AOh14Gg8U_KUdnX4JWp6we7eGz6jpyKj3zYYWCk4s2LqwQ=s64",
      "userId": "13664137025209273415"
     },
     "user_tz": -330
    },
    "id": "xxtnd3maCynV",
    "outputId": "4fc01030-07d2-44dd-b078-5fc59c18d931"
   },
   "outputs": [
    {
     "data": {
      "text/html": [
       "<div>\n",
       "<style scoped>\n",
       "    .dataframe tbody tr th:only-of-type {\n",
       "        vertical-align: middle;\n",
       "    }\n",
       "\n",
       "    .dataframe tbody tr th {\n",
       "        vertical-align: top;\n",
       "    }\n",
       "\n",
       "    .dataframe thead th {\n",
       "        text-align: right;\n",
       "    }\n",
       "</style>\n",
       "<table border=\"1\" class=\"dataframe\">\n",
       "  <thead>\n",
       "    <tr style=\"text-align: right;\">\n",
       "      <th></th>\n",
       "      <th>Unnamed: 0</th>\n",
       "      <th>id</th>\n",
       "      <th>teacher_id</th>\n",
       "      <th>teacher_prefix</th>\n",
       "      <th>school_state</th>\n",
       "      <th>Date</th>\n",
       "      <th>project_grade_category</th>\n",
       "      <th>project_title</th>\n",
       "      <th>project_essay_1</th>\n",
       "      <th>project_essay_2</th>\n",
       "      <th>project_essay_3</th>\n",
       "      <th>project_essay_4</th>\n",
       "      <th>project_resource_summary</th>\n",
       "      <th>teacher_number_of_previously_posted_projects</th>\n",
       "      <th>project_is_approved</th>\n",
       "      <th>clean_categories</th>\n",
       "      <th>clean_subcategories</th>\n",
       "      <th>essay</th>\n",
       "    </tr>\n",
       "  </thead>\n",
       "  <tbody>\n",
       "    <tr>\n",
       "      <th>473</th>\n",
       "      <td>100660</td>\n",
       "      <td>p234804</td>\n",
       "      <td>cbc0e38f522143b86d372f8b43d4cff3</td>\n",
       "      <td>Mrs.</td>\n",
       "      <td>GA</td>\n",
       "      <td>2016-04-27 00:53:00</td>\n",
       "      <td>Grades PreK-2</td>\n",
       "      <td>Flexible Seating for Flexible Learning</td>\n",
       "      <td>I recently read an article about giving studen...</td>\n",
       "      <td>I teach at a low-income (Title 1) school. Ever...</td>\n",
       "      <td>We need a classroom rug that we can use as a c...</td>\n",
       "      <td>Benjamin Franklin once said, \\\"Tell me and I f...</td>\n",
       "      <td>My students need flexible seating in the class...</td>\n",
       "      <td>2</td>\n",
       "      <td>1</td>\n",
       "      <td>AppliedLearning</td>\n",
       "      <td>EarlyDevelopment</td>\n",
       "      <td>I recently read an article about giving studen...</td>\n",
       "    </tr>\n",
       "    <tr>\n",
       "      <th>29891</th>\n",
       "      <td>146723</td>\n",
       "      <td>p099708</td>\n",
       "      <td>c0a28c79fe8ad5810da49de47b3fb491</td>\n",
       "      <td>Mrs.</td>\n",
       "      <td>CA</td>\n",
       "      <td>2016-04-27 01:10:09</td>\n",
       "      <td>Grades 3-5</td>\n",
       "      <td>Breakout Box to Ignite Engagement!</td>\n",
       "      <td>It's the end of the school year. Routines have...</td>\n",
       "      <td>My students desire challenges, movement, and c...</td>\n",
       "      <td>I will design different clues using specific c...</td>\n",
       "      <td>Donations to this project will immediately imp...</td>\n",
       "      <td>My students need items from a \\\"Breakout Box\\\"...</td>\n",
       "      <td>6</td>\n",
       "      <td>1</td>\n",
       "      <td>Math_Science History_Civics</td>\n",
       "      <td>Mathematics SocialSciences</td>\n",
       "      <td>It's the end of the school year. Routines have...</td>\n",
       "    </tr>\n",
       "  </tbody>\n",
       "</table>\n",
       "</div>"
      ],
      "text/plain": [
       "       Unnamed: 0  ...                                              essay\n",
       "473        100660  ...  I recently read an article about giving studen...\n",
       "29891      146723  ...  It's the end of the school year. Routines have...\n",
       "\n",
       "[2 rows x 18 columns]"
      ]
     },
     "execution_count": 116,
     "metadata": {
      "tags": []
     },
     "output_type": "execute_result"
    }
   ],
   "source": [
    "project_data.head(2)"
   ]
  },
  {
   "cell_type": "code",
   "execution_count": 117,
   "metadata": {
    "colab": {},
    "colab_type": "code",
    "executionInfo": {
     "elapsed": 11159,
     "status": "ok",
     "timestamp": 1594367014212,
     "user": {
      "displayName": "Venkatesh Gupta",
      "photoUrl": "https://lh3.googleusercontent.com/a-/AOh14Gg8U_KUdnX4JWp6we7eGz6jpyKj3zYYWCk4s2LqwQ=s64",
      "userId": "13664137025209273415"
     },
     "user_tz": -330
    },
    "id": "2ou8qSzkCyna"
   },
   "outputs": [],
   "source": [
    "#### 1.4.2.3 Using Pretrained Models: TFIDF weighted W2V"
   ]
  },
  {
   "cell_type": "code",
   "execution_count": 118,
   "metadata": {
    "colab": {
     "base_uri": "https://localhost:8080/",
     "height": 149
    },
    "colab_type": "code",
    "executionInfo": {
     "elapsed": 11151,
     "status": "ok",
     "timestamp": 1594367014213,
     "user": {
      "displayName": "Venkatesh Gupta",
      "photoUrl": "https://lh3.googleusercontent.com/a-/AOh14Gg8U_KUdnX4JWp6we7eGz6jpyKj3zYYWCk4s2LqwQ=s64",
      "userId": "13664137025209273415"
     },
     "user_tz": -330
    },
    "id": "TCl7L1DhCyne",
    "outputId": "c5e888d2-7740-4169-fba2-69595e5b9590"
   },
   "outputs": [
    {
     "name": "stdout",
     "output_type": "stream",
     "text": [
      "I recently read an article about giving students a choice about how they learn. We already set goals; why not let them choose where to sit, and give them options of what to sit on?I teach at a low-income (Title 1) school. Every year, I have a class with a range of abilities, yet they are all the same age. They learn differently, and they have different interests. Some have ADHD, and some are fast learners. Yet they are eager and active learners that want and need to be able to move around the room, yet have a place that they can be comfortable to complete their work.We need a classroom rug that we can use as a class for reading time, and students can use during other learning times. I have also requested four Kore Kids wobble chairs and four Back Jack padded portable chairs so that students can still move during whole group lessons without disrupting the class. Having these areas will provide these little ones with a way to wiggle while working.Benjamin Franklin once said, \\\"Tell me and I forget, teach me and I may remember, involve me and I learn.\\\" I want these children to be involved in their learning by having a choice on where to sit and how to learn, all by giving them options for comfortable flexible seating.\n",
      "==================================================\n",
      "Do you remember working hard towards that special incentive or reward?  Remember how great it felt and how proud you were when you finally earned it?  I have the opportunity to work with a large variety of students who struggle with academic and behavioral challenges in my elementary school.My students are diverse in their grade levels as well as backgrounds, who attend a primarily military school.  It is a transitional environment, therefore many of my students have difficulties with making good choices due to deployments, moving, and family struggles.As the School Behavior Health Specialist, I work with students from kindergarten to 5th grade.  These students come me with a gamut of challenges, both academic, behavioral, emotional and social.  I work with the students and their teacher to develop behavioral plans to maximize success in the classroom. These rewards are essential to motivate students to make good choices.These incentive materials will help to impact behavioral in these students which leads to positive changes in their live. Many students are able to feel proud when they reach their goals and learn that they too can be successful.  However, without gracious donations, the high reward incentives are very limited.  Any donations are greatly appreciated! Mahalo!\n",
      "==================================================\n",
      "“Attitude is everything!” This quote best describes my classroom. My students have learning disabilities in reading fluency and/or comprehension. They have significant struggles in reading. Our goal in class is to improve reading levels, and build confidence in their reading skills.I teach at a Title I middle school in an urban neighborhood. 74% of our students qualify for free or reduced, rate lunch and many come from very technology-poor homes.  My students struggle with grade level learning, as all of them have some type of learning disability. My students learn better when they can move around or stand, they become more focused on the task at hand. I have seen great focus in my students when they are given the opportunity to work with a clipboard while standing against the wall. My goal is to create a classroom environment where students can continue to work at their desks, while given the opportunity to learn the way that best motivates them.\\r\\nStudents will be using the Stability Balls to promote an active learning environment. Most of my students have a hard time sitting still for any amount of time, and the Stability Balls will give them the opportunity to stand at their desks while getting the materials they need to learn to be successful. Students will use the Stability Balls for individual assignments, partner work, and small group work. My students will never feel like they are glued to their desks, but have freedom to move without distracting others around them.My students struggle with sitting still for long periods at a time (15 minutes or more), the Stability Balls will give them the opportunity to move freely at their desks by rocking back and forth while they learn. Students will no longer have to ask permission to stand in the back or off to the side while they listen, as they can just quietly move freely around and work without the distractions. Students will be more focused if given the opportunity to freely move at their desks.\n",
      "==================================================\n"
     ]
    }
   ],
   "source": [
    "# printing some random reviews\n",
    "print(project_data['essay'].values[0])\n",
    "print(\"=\"*50)\n",
    "print(project_data['essay'].values[150])\n",
    "print(\"=\"*50)\n",
    "print(project_data['essay'].values[1000])\n",
    "print(\"=\"*50)\n",
    "#print(project_data['essay'].values[20000])\n",
    "#print(\"=\"*50)\n",
    "#print(project_data['essay'].values[99999])\n",
    "#print(\"=\"*50)"
   ]
  },
  {
   "cell_type": "code",
   "execution_count": 119,
   "metadata": {
    "colab": {},
    "colab_type": "code",
    "executionInfo": {
     "elapsed": 11144,
     "status": "ok",
     "timestamp": 1594367014214,
     "user": {
      "displayName": "Venkatesh Gupta",
      "photoUrl": "https://lh3.googleusercontent.com/a-/AOh14Gg8U_KUdnX4JWp6we7eGz6jpyKj3zYYWCk4s2LqwQ=s64",
      "userId": "13664137025209273415"
     },
     "user_tz": -330
    },
    "id": "Yqj4vGVoCynh"
   },
   "outputs": [],
   "source": [
    "# https://stackoverflow.com/a/47091490/4084039\n",
    "import re\n",
    "\n",
    "def decontracted(phrase):\n",
    "    # specific\n",
    "    phrase = re.sub(r\"won't\", \"will not\", phrase)\n",
    "    phrase = re.sub(r\"can\\'t\", \"can not\", phrase)\n",
    "\n",
    "    # general\n",
    "    phrase = re.sub(r\"n\\'t\", \" not\", phrase)\n",
    "    phrase = re.sub(r\"\\'re\", \" are\", phrase)\n",
    "    phrase = re.sub(r\"\\'s\", \" is\", phrase)\n",
    "    phrase = re.sub(r\"\\'d\", \" would\", phrase)\n",
    "    phrase = re.sub(r\"\\'ll\", \" will\", phrase)\n",
    "    phrase = re.sub(r\"\\'t\", \" not\", phrase)\n",
    "    phrase = re.sub(r\"\\'ve\", \" have\", phrase)\n",
    "    phrase = re.sub(r\"\\'m\", \" am\", phrase)\n",
    "    return phrase"
   ]
  },
  {
   "cell_type": "code",
   "execution_count": 120,
   "metadata": {
    "colab": {
     "base_uri": "https://localhost:8080/",
     "height": 74
    },
    "colab_type": "code",
    "executionInfo": {
     "elapsed": 11135,
     "status": "ok",
     "timestamp": 1594367014214,
     "user": {
      "displayName": "Venkatesh Gupta",
      "photoUrl": "https://lh3.googleusercontent.com/a-/AOh14Gg8U_KUdnX4JWp6we7eGz6jpyKj3zYYWCk4s2LqwQ=s64",
      "userId": "13664137025209273415"
     },
     "user_tz": -330
    },
    "id": "aDUbe9piCynj",
    "outputId": "96c71a03-5204-4f36-b5e0-769cc7f2a831"
   },
   "outputs": [
    {
     "name": "stdout",
     "output_type": "stream",
     "text": [
      "I have 63 students in three different math classes in a high poverty school. Many of these students come from single family homes and often stay with grandparents while their parent/parents work. \\r\\n\\r\\nEven though my students face many challenges, they are eager to learn new math concepts. I want to continue to give them the opportunity to learn their math concepts that will help them achieve a foundation to be successful in their future math journey. \\r\\n\\r\\nThank you for helping our future mathematicians succeed!Math is challenging. Students learn from making mistakes but with paper and pencils students at times erase so hard that they tear their paper. With the use of white boards and dry erase markers students can erase over and over  without having to worry about tearing their paper. \\r\\n\\r\\nWhite boards are a great tool to use in the classroom that will allow students to show their work from their seat and allow for some individualization and group work. \\r\\n\\r\\nStudents enjoy writing with a variety of writing tools and with the use of white boards and dry erase markers, I feel that my students will have a new excitement in learning math.nannan\n",
      "==================================================\n"
     ]
    }
   ],
   "source": [
    "sent = decontracted(project_data['essay'].values[20000])\n",
    "print(sent)\n",
    "print(\"=\"*50)"
   ]
  },
  {
   "cell_type": "code",
   "execution_count": 121,
   "metadata": {
    "colab": {
     "base_uri": "https://localhost:8080/",
     "height": 56
    },
    "colab_type": "code",
    "executionInfo": {
     "elapsed": 11125,
     "status": "ok",
     "timestamp": 1594367014216,
     "user": {
      "displayName": "Venkatesh Gupta",
      "photoUrl": "https://lh3.googleusercontent.com/a-/AOh14Gg8U_KUdnX4JWp6we7eGz6jpyKj3zYYWCk4s2LqwQ=s64",
      "userId": "13664137025209273415"
     },
     "user_tz": -330
    },
    "id": "vXSbHYJ4Cynp",
    "outputId": "681c1244-4e7f-48d1-97d4-5b4a5db84501"
   },
   "outputs": [
    {
     "name": "stdout",
     "output_type": "stream",
     "text": [
      "I have 63 students in three different math classes in a high poverty school. Many of these students come from single family homes and often stay with grandparents while their parent/parents work.     Even though my students face many challenges, they are eager to learn new math concepts. I want to continue to give them the opportunity to learn their math concepts that will help them achieve a foundation to be successful in their future math journey.     Thank you for helping our future mathematicians succeed!Math is challenging. Students learn from making mistakes but with paper and pencils students at times erase so hard that they tear their paper. With the use of white boards and dry erase markers students can erase over and over  without having to worry about tearing their paper.     White boards are a great tool to use in the classroom that will allow students to show their work from their seat and allow for some individualization and group work.     Students enjoy writing with a variety of writing tools and with the use of white boards and dry erase markers, I feel that my students will have a new excitement in learning math.nannan\n"
     ]
    }
   ],
   "source": [
    "# \\r \\n \\t remove from string python: http://texthandler.com/info/remove-line-breaks-python/\n",
    "sent = sent.replace('\\\\r', ' ')\n",
    "sent = sent.replace('\\\\\"', ' ')\n",
    "sent = sent.replace('\\\\n', ' ')\n",
    "print(sent)"
   ]
  },
  {
   "cell_type": "code",
   "execution_count": 122,
   "metadata": {
    "colab": {
     "base_uri": "https://localhost:8080/",
     "height": 56
    },
    "colab_type": "code",
    "executionInfo": {
     "elapsed": 11115,
     "status": "ok",
     "timestamp": 1594367014216,
     "user": {
      "displayName": "Venkatesh Gupta",
      "photoUrl": "https://lh3.googleusercontent.com/a-/AOh14Gg8U_KUdnX4JWp6we7eGz6jpyKj3zYYWCk4s2LqwQ=s64",
      "userId": "13664137025209273415"
     },
     "user_tz": -330
    },
    "id": "67Agrz_YCynt",
    "outputId": "bc9ea78f-8663-43dd-cbde-25353ce3ca49"
   },
   "outputs": [
    {
     "name": "stdout",
     "output_type": "stream",
     "text": [
      "I have 63 students in three different math classes in a high poverty school Many of these students come from single family homes and often stay with grandparents while their parent parents work Even though my students face many challenges they are eager to learn new math concepts I want to continue to give them the opportunity to learn their math concepts that will help them achieve a foundation to be successful in their future math journey Thank you for helping our future mathematicians succeed Math is challenging Students learn from making mistakes but with paper and pencils students at times erase so hard that they tear their paper With the use of white boards and dry erase markers students can erase over and over without having to worry about tearing their paper White boards are a great tool to use in the classroom that will allow students to show their work from their seat and allow for some individualization and group work Students enjoy writing with a variety of writing tools and with the use of white boards and dry erase markers I feel that my students will have a new excitement in learning math nannan\n"
     ]
    }
   ],
   "source": [
    "#remove spacial character: https://stackoverflow.com/a/5843547/4084039\n",
    "sent = re.sub('[^A-Za-z0-9]+', ' ', sent)\n",
    "print(sent)"
   ]
  },
  {
   "cell_type": "code",
   "execution_count": 123,
   "metadata": {
    "colab": {},
    "colab_type": "code",
    "executionInfo": {
     "elapsed": 11109,
     "status": "ok",
     "timestamp": 1594367014218,
     "user": {
      "displayName": "Venkatesh Gupta",
      "photoUrl": "https://lh3.googleusercontent.com/a-/AOh14Gg8U_KUdnX4JWp6we7eGz6jpyKj3zYYWCk4s2LqwQ=s64",
      "userId": "13664137025209273415"
     },
     "user_tz": -330
    },
    "id": "hhyPw-8wCyny"
   },
   "outputs": [],
   "source": [
    "# https://gist.github.com/sebleier/554280\n",
    "# we are removing the words from the stop words list: 'no', 'nor', 'not'\n",
    "stopwords= ['i', 'me', 'my', 'myself', 'we', 'our', 'ours', 'ourselves', 'you', \"you're\", \"you've\",\\\n",
    "            \"you'll\", \"you'd\", 'your', 'yours', 'yourself', 'yourselves', 'he', 'him', 'his', 'himself', \\\n",
    "            'she', \"she's\", 'her', 'hers', 'herself', 'it', \"it's\", 'its', 'itself', 'they', 'them', 'their',\\\n",
    "            'theirs', 'themselves', 'what', 'which', 'who', 'whom', 'this', 'that', \"that'll\", 'these', 'those', \\\n",
    "            'am', 'is', 'are', 'was', 'were', 'be', 'been', 'being', 'have', 'has', 'had', 'having', 'do', 'does', \\\n",
    "            'did', 'doing', 'a', 'an', 'the', 'and', 'but', 'if', 'or', 'because', 'as', 'until', 'while', 'of', \\\n",
    "            'at', 'by', 'for', 'with', 'about', 'against', 'between', 'into', 'through', 'during', 'before', 'after',\\\n",
    "            'above', 'below', 'to', 'from', 'up', 'down', 'in', 'out', 'on', 'off', 'over', 'under', 'again', 'further',\\\n",
    "            'then', 'once', 'here', 'there', 'when', 'where', 'why', 'how', 'all', 'any', 'both', 'each', 'few', 'more',\\\n",
    "            'most', 'other', 'some', 'such', 'only', 'own', 'same', 'so', 'than', 'too', 'very', \\\n",
    "            's', 't', 'can', 'will', 'just', 'don', \"don't\", 'should', \"should've\", 'now', 'd', 'll', 'm', 'o', 're', \\\n",
    "            've', 'y', 'ain', 'aren', \"aren't\", 'couldn', \"couldn't\", 'didn', \"didn't\", 'doesn', \"doesn't\", 'hadn',\\\n",
    "            \"hadn't\", 'hasn', \"hasn't\", 'haven', \"haven't\", 'isn', \"isn't\", 'ma', 'mightn', \"mightn't\", 'mustn',\\\n",
    "            \"mustn't\", 'needn', \"needn't\", 'shan', \"shan't\", 'shouldn', \"shouldn't\", 'wasn', \"wasn't\", 'weren', \"weren't\", \\\n",
    "            'won', \"won't\", 'wouldn', \"wouldn't\"]"
   ]
  },
  {
   "cell_type": "code",
   "execution_count": 124,
   "metadata": {
    "colab": {
     "base_uri": "https://localhost:8080/",
     "height": 1000
    },
    "colab_type": "code",
    "executionInfo": {
     "elapsed": 27319,
     "status": "ok",
     "timestamp": 1594367030440,
     "user": {
      "displayName": "Venkatesh Gupta",
      "photoUrl": "https://lh3.googleusercontent.com/a-/AOh14Gg8U_KUdnX4JWp6we7eGz6jpyKj3zYYWCk4s2LqwQ=s64",
      "userId": "13664137025209273415"
     },
     "user_tz": -330
    },
    "id": "d6RCdphRCyn0",
    "outputId": "46aadc57-0f3d-4f64-942f-889ba912cd15"
   },
   "outputs": [
    {
     "name": "stderr",
     "output_type": "stream",
     "text": [
      "\n",
      "  0%|          | 0/30000 [00:00<?, ?it/s]\u001b[A\n",
      "  1%|          | 164/30000 [00:00<00:18, 1637.96it/s]\u001b[A\n",
      "  1%|          | 331/30000 [00:00<00:18, 1645.75it/s]\u001b[A\n",
      "  2%|▏         | 486/30000 [00:00<00:18, 1614.21it/s]\u001b[A\n",
      "  2%|▏         | 648/30000 [00:00<00:18, 1613.79it/s]\u001b[A\n",
      "  3%|▎         | 795/30000 [00:00<00:18, 1567.73it/s]\u001b[A\n",
      "  3%|▎         | 957/30000 [00:00<00:18, 1581.22it/s]\u001b[A\n",
      "  4%|▍         | 1130/30000 [00:00<00:17, 1619.88it/s]\u001b[A\n",
      "  4%|▍         | 1318/30000 [00:00<00:16, 1690.03it/s]\u001b[A\n",
      "  5%|▌         | 1514/30000 [00:00<00:16, 1761.52it/s]\u001b[A\n",
      "  6%|▌         | 1686/30000 [00:01<00:16, 1726.81it/s]\u001b[A\n",
      "  6%|▌         | 1871/30000 [00:01<00:15, 1761.27it/s]\u001b[A\n",
      "  7%|▋         | 2053/30000 [00:01<00:15, 1777.72it/s]\u001b[A\n",
      "  7%|▋         | 2230/30000 [00:01<00:15, 1756.21it/s]\u001b[A\n",
      "  8%|▊         | 2418/30000 [00:01<00:15, 1790.58it/s]\u001b[A\n",
      "  9%|▊         | 2601/30000 [00:01<00:15, 1798.77it/s]\u001b[A\n",
      "  9%|▉         | 2781/30000 [00:01<00:15, 1787.28it/s]\u001b[A\n",
      " 10%|▉         | 2967/30000 [00:01<00:14, 1807.23it/s]\u001b[A\n",
      " 11%|█         | 3153/30000 [00:01<00:14, 1820.73it/s]\u001b[A\n",
      " 11%|█         | 3336/30000 [00:01<00:14, 1795.70it/s]\u001b[A\n",
      " 12%|█▏        | 3516/30000 [00:02<00:15, 1762.00it/s]\u001b[A\n",
      " 12%|█▏        | 3693/30000 [00:02<00:14, 1763.63it/s]\u001b[A\n",
      " 13%|█▎        | 3880/30000 [00:02<00:14, 1793.71it/s]\u001b[A\n",
      " 14%|█▎        | 4060/30000 [00:02<00:14, 1784.88it/s]\u001b[A\n",
      " 14%|█▍        | 4245/30000 [00:02<00:14, 1802.94it/s]\u001b[A\n",
      " 15%|█▍        | 4429/30000 [00:02<00:14, 1813.39it/s]\u001b[A\n",
      " 15%|█▌        | 4611/30000 [00:02<00:14, 1805.34it/s]\u001b[A\n",
      " 16%|█▌        | 4802/30000 [00:02<00:13, 1834.95it/s]\u001b[A\n",
      " 17%|█▋        | 4991/30000 [00:02<00:13, 1850.55it/s]\u001b[A\n",
      " 17%|█▋        | 5184/30000 [00:02<00:13, 1873.36it/s]\u001b[A\n",
      " 18%|█▊        | 5372/30000 [00:03<00:13, 1867.54it/s]\u001b[A\n",
      " 19%|█▊        | 5559/30000 [00:03<00:13, 1833.46it/s]\u001b[A\n",
      " 19%|█▉        | 5743/30000 [00:03<00:13, 1805.86it/s]\u001b[A\n",
      " 20%|█▉        | 5924/30000 [00:03<00:13, 1803.06it/s]\u001b[A\n",
      " 20%|██        | 6105/30000 [00:03<00:13, 1772.89it/s]\u001b[A\n",
      " 21%|██        | 6286/30000 [00:03<00:13, 1782.18it/s]\u001b[A\n",
      " 22%|██▏       | 6471/30000 [00:03<00:13, 1799.52it/s]\u001b[A\n",
      " 22%|██▏       | 6652/30000 [00:03<00:13, 1789.82it/s]\u001b[A\n",
      " 23%|██▎       | 6838/30000 [00:03<00:12, 1809.40it/s]\u001b[A\n",
      " 23%|██▎       | 7020/30000 [00:03<00:12, 1794.15it/s]\u001b[A\n",
      " 24%|██▍       | 7200/30000 [00:04<00:12, 1760.34it/s]\u001b[A\n",
      " 25%|██▍       | 7377/30000 [00:04<00:13, 1736.86it/s]\u001b[A\n",
      " 25%|██▌       | 7554/30000 [00:04<00:12, 1746.11it/s]\u001b[A\n",
      " 26%|██▌       | 7738/30000 [00:04<00:12, 1771.38it/s]\u001b[A\n",
      " 26%|██▋       | 7923/30000 [00:04<00:12, 1793.04it/s]\u001b[A\n",
      " 27%|██▋       | 8103/30000 [00:04<00:12, 1740.50it/s]\u001b[A\n",
      " 28%|██▊       | 8281/30000 [00:04<00:12, 1748.35it/s]\u001b[A\n",
      " 28%|██▊       | 8458/30000 [00:04<00:12, 1754.78it/s]\u001b[A\n",
      " 29%|██▉       | 8644/30000 [00:04<00:11, 1784.70it/s]\u001b[A\n",
      " 29%|██▉       | 8835/30000 [00:04<00:11, 1818.53it/s]\u001b[A\n",
      " 30%|███       | 9018/30000 [00:05<00:11, 1804.02it/s]\u001b[A\n",
      " 31%|███       | 9199/30000 [00:05<00:11, 1770.64it/s]\u001b[A\n",
      " 31%|███▏      | 9378/30000 [00:05<00:11, 1775.70it/s]\u001b[A\n",
      " 32%|███▏      | 9556/30000 [00:05<00:11, 1768.91it/s]\u001b[A\n",
      " 32%|███▏      | 9734/30000 [00:05<00:11, 1767.33it/s]\u001b[A\n",
      " 33%|███▎      | 9911/30000 [00:05<00:11, 1701.43it/s]\u001b[A\n",
      " 34%|███▎      | 10101/30000 [00:05<00:11, 1754.61it/s]\u001b[A\n",
      " 34%|███▍      | 10282/30000 [00:05<00:11, 1768.92it/s]\u001b[A\n",
      " 35%|███▍      | 10467/30000 [00:05<00:10, 1791.10it/s]\u001b[A\n",
      " 36%|███▌      | 10651/30000 [00:06<00:10, 1804.06it/s]\u001b[A\n",
      " 36%|███▌      | 10832/30000 [00:06<00:10, 1791.88it/s]\u001b[A\n",
      " 37%|███▋      | 11018/30000 [00:06<00:10, 1809.85it/s]\u001b[A\n",
      " 37%|███▋      | 11200/30000 [00:06<00:10, 1773.75it/s]\u001b[A\n",
      " 38%|███▊      | 11380/30000 [00:06<00:10, 1780.82it/s]\u001b[A\n",
      " 39%|███▊      | 11561/30000 [00:06<00:10, 1787.83it/s]\u001b[A\n",
      " 39%|███▉      | 11750/30000 [00:06<00:10, 1814.25it/s]\u001b[A\n",
      " 40%|███▉      | 11936/30000 [00:06<00:09, 1827.56it/s]\u001b[A\n",
      " 40%|████      | 12119/30000 [00:06<00:09, 1827.63it/s]\u001b[A\n",
      " 41%|████      | 12310/30000 [00:06<00:09, 1849.83it/s]\u001b[A\n",
      " 42%|████▏     | 12496/30000 [00:07<00:09, 1826.07it/s]\u001b[A\n",
      " 42%|████▏     | 12679/30000 [00:07<00:09, 1803.22it/s]\u001b[A\n",
      " 43%|████▎     | 12860/30000 [00:07<00:09, 1802.35it/s]\u001b[A\n",
      " 43%|████▎     | 13041/30000 [00:07<00:09, 1799.64it/s]\u001b[A\n",
      " 44%|████▍     | 13236/30000 [00:07<00:09, 1840.02it/s]\u001b[A\n",
      " 45%|████▍     | 13424/30000 [00:07<00:08, 1851.78it/s]\u001b[A\n",
      " 45%|████▌     | 13618/30000 [00:07<00:08, 1876.21it/s]\u001b[A\n",
      " 46%|████▌     | 13806/30000 [00:07<00:08, 1827.94it/s]\u001b[A\n",
      " 47%|████▋     | 13990/30000 [00:07<00:08, 1813.23it/s]\u001b[A\n",
      " 47%|████▋     | 14172/30000 [00:07<00:08, 1808.65it/s]\u001b[A\n",
      " 48%|████▊     | 14354/30000 [00:08<00:08, 1794.71it/s]\u001b[A\n",
      " 48%|████▊     | 14539/30000 [00:08<00:08, 1809.87it/s]\u001b[A\n",
      " 49%|████▉     | 14721/30000 [00:08<00:08, 1802.82it/s]\u001b[A\n",
      " 50%|████▉     | 14902/30000 [00:08<00:08, 1786.46it/s]\u001b[A\n",
      " 50%|█████     | 15083/30000 [00:08<00:08, 1793.15it/s]\u001b[A\n",
      " 51%|█████     | 15271/30000 [00:08<00:08, 1817.29it/s]\u001b[A\n",
      " 52%|█████▏    | 15456/30000 [00:08<00:07, 1825.64it/s]\u001b[A\n",
      " 52%|█████▏    | 15639/30000 [00:08<00:07, 1817.44it/s]\u001b[A\n",
      " 53%|█████▎    | 15834/30000 [00:08<00:07, 1853.64it/s]\u001b[A\n",
      " 53%|█████▎    | 16020/30000 [00:08<00:07, 1853.75it/s]\u001b[A\n",
      " 54%|█████▍    | 16206/30000 [00:09<00:07, 1854.66it/s]\u001b[A\n",
      " 55%|█████▍    | 16398/30000 [00:09<00:07, 1872.14it/s]\u001b[A\n",
      " 55%|█████▌    | 16586/30000 [00:09<00:07, 1826.23it/s]\u001b[A\n",
      " 56%|█████▌    | 16769/30000 [00:09<00:07, 1817.92it/s]\u001b[A\n",
      " 57%|█████▋    | 16952/30000 [00:09<00:07, 1818.68it/s]\u001b[A\n",
      " 57%|█████▋    | 17137/30000 [00:09<00:07, 1826.99it/s]\u001b[A\n",
      " 58%|█████▊    | 17324/30000 [00:09<00:06, 1838.96it/s]\u001b[A\n",
      " 58%|█████▊    | 17515/30000 [00:09<00:06, 1857.61it/s]\u001b[A\n",
      " 59%|█████▉    | 17704/30000 [00:09<00:06, 1866.72it/s]\u001b[A\n",
      " 60%|█████▉    | 17895/30000 [00:09<00:06, 1875.68it/s]\u001b[A\n",
      " 60%|██████    | 18089/30000 [00:10<00:06, 1892.29it/s]\u001b[A\n",
      " 61%|██████    | 18279/30000 [00:10<00:06, 1871.44it/s]\u001b[A\n",
      " 62%|██████▏   | 18470/30000 [00:10<00:06, 1881.28it/s]\u001b[A\n",
      " 62%|██████▏   | 18664/30000 [00:10<00:05, 1896.62it/s]\u001b[A\n",
      " 63%|██████▎   | 18854/30000 [00:10<00:05, 1881.86it/s]\u001b[A\n",
      " 63%|██████▎   | 19043/30000 [00:10<00:05, 1862.83it/s]\u001b[A\n",
      " 64%|██████▍   | 19230/30000 [00:10<00:05, 1845.50it/s]\u001b[A\n",
      " 65%|██████▍   | 19415/30000 [00:10<00:05, 1835.39it/s]\u001b[A\n",
      " 65%|██████▌   | 19599/30000 [00:10<00:05, 1830.52it/s]\u001b[A\n",
      " 66%|██████▌   | 19783/30000 [00:10<00:05, 1831.05it/s]\u001b[A\n",
      " 67%|██████▋   | 19968/30000 [00:11<00:05, 1834.24it/s]\u001b[A\n",
      " 67%|██████▋   | 20152/30000 [00:11<00:05, 1820.29it/s]\u001b[A\n",
      " 68%|██████▊   | 20339/30000 [00:11<00:05, 1832.52it/s]\u001b[A\n",
      " 68%|██████▊   | 20528/30000 [00:11<00:05, 1848.19it/s]\u001b[A\n",
      " 69%|██████▉   | 20714/30000 [00:11<00:05, 1850.41it/s]\u001b[A\n",
      " 70%|██████▉   | 20900/30000 [00:11<00:04, 1842.64it/s]\u001b[A\n",
      " 70%|███████   | 21085/30000 [00:11<00:04, 1837.44it/s]\u001b[A\n",
      " 71%|███████   | 21272/30000 [00:11<00:04, 1844.20it/s]\u001b[A\n",
      " 72%|███████▏  | 21457/30000 [00:11<00:04, 1820.07it/s]\u001b[A\n",
      " 72%|███████▏  | 21640/30000 [00:12<00:04, 1791.88it/s]\u001b[A\n",
      " 73%|███████▎  | 21820/30000 [00:12<00:04, 1732.48it/s]\u001b[A\n",
      " 73%|███████▎  | 22011/30000 [00:12<00:04, 1781.66it/s]\u001b[A\n",
      " 74%|███████▍  | 22198/30000 [00:12<00:04, 1806.55it/s]\u001b[A\n",
      " 75%|███████▍  | 22380/30000 [00:12<00:04, 1809.71it/s]\u001b[A\n",
      " 75%|███████▌  | 22562/30000 [00:12<00:04, 1810.84it/s]\u001b[A\n",
      " 76%|███████▌  | 22750/30000 [00:12<00:03, 1829.89it/s]\u001b[A\n",
      " 76%|███████▋  | 22934/30000 [00:12<00:03, 1829.11it/s]\u001b[A\n",
      " 77%|███████▋  | 23118/30000 [00:12<00:03, 1800.43it/s]\u001b[A\n",
      " 78%|███████▊  | 23307/30000 [00:12<00:03, 1824.78it/s]\u001b[A\n",
      " 78%|███████▊  | 23493/30000 [00:13<00:03, 1832.39it/s]\u001b[A\n",
      " 79%|███████▉  | 23677/30000 [00:13<00:03, 1832.56it/s]\u001b[A\n",
      " 80%|███████▉  | 23863/30000 [00:13<00:03, 1838.36it/s]\u001b[A\n",
      " 80%|████████  | 24047/30000 [00:13<00:03, 1818.16it/s]\u001b[A\n",
      " 81%|████████  | 24233/30000 [00:13<00:03, 1828.42it/s]\u001b[A\n",
      " 81%|████████▏ | 24416/30000 [00:13<00:03, 1814.87it/s]\u001b[A\n",
      " 82%|████████▏ | 24604/30000 [00:13<00:02, 1831.47it/s]\u001b[A\n",
      " 83%|████████▎ | 24790/30000 [00:13<00:02, 1839.06it/s]\u001b[A\n",
      " 83%|████████▎ | 24974/30000 [00:13<00:02, 1839.26it/s]\u001b[A\n",
      " 84%|████████▍ | 25162/30000 [00:13<00:02, 1848.38it/s]\u001b[A\n",
      " 85%|████████▍ | 25351/30000 [00:14<00:02, 1860.18it/s]\u001b[A\n",
      " 85%|████████▌ | 25538/30000 [00:14<00:02, 1815.08it/s]\u001b[A\n",
      " 86%|████████▌ | 25720/30000 [00:14<00:02, 1815.37it/s]\u001b[A\n",
      " 86%|████████▋ | 25907/30000 [00:14<00:02, 1830.40it/s]\u001b[A\n",
      " 87%|████████▋ | 26091/30000 [00:14<00:02, 1805.68it/s]\u001b[A\n",
      " 88%|████████▊ | 26274/30000 [00:14<00:02, 1811.65it/s]\u001b[A\n",
      " 88%|████████▊ | 26463/30000 [00:14<00:01, 1833.14it/s]\u001b[A\n",
      " 89%|████████▉ | 26647/30000 [00:14<00:01, 1810.61it/s]\u001b[A\n",
      " 89%|████████▉ | 26836/30000 [00:14<00:01, 1832.70it/s]\u001b[A\n",
      " 90%|█████████ | 27024/30000 [00:14<00:01, 1842.39it/s]\u001b[A\n",
      " 91%|█████████ | 27212/30000 [00:15<00:01, 1852.11it/s]\u001b[A\n",
      " 91%|█████████▏| 27398/30000 [00:15<00:01, 1823.34it/s]\u001b[A\n",
      " 92%|█████████▏| 27582/30000 [00:15<00:01, 1823.66it/s]\u001b[A\n",
      " 93%|█████████▎| 27765/30000 [00:15<00:01, 1794.85it/s]\u001b[A\n",
      " 93%|█████████▎| 27953/30000 [00:15<00:01, 1819.28it/s]\u001b[A\n",
      " 94%|█████████▍| 28136/30000 [00:15<00:01, 1807.01it/s]\u001b[A\n",
      " 94%|█████████▍| 28328/30000 [00:15<00:00, 1839.09it/s]\u001b[A\n",
      " 95%|█████████▌| 28513/30000 [00:15<00:00, 1816.20it/s]\u001b[A\n",
      " 96%|█████████▌| 28701/30000 [00:15<00:00, 1834.48it/s]\u001b[A\n",
      " 96%|█████████▋| 28890/30000 [00:15<00:00, 1848.85it/s]\u001b[A\n",
      " 97%|█████████▋| 29076/30000 [00:16<00:00, 1763.28it/s]\u001b[A\n",
      " 98%|█████████▊| 29254/30000 [00:16<00:00, 1762.03it/s]\u001b[A\n",
      " 98%|█████████▊| 29444/30000 [00:16<00:00, 1801.07it/s]\u001b[A\n",
      " 99%|█████████▉| 29635/30000 [00:16<00:00, 1831.62it/s]\u001b[A\n",
      "100%|██████████| 30000/30000 [00:16<00:00, 1807.28it/s]\n"
     ]
    }
   ],
   "source": [
    "# Combining all the above stundents \n",
    "from tqdm import tqdm\n",
    "preprocessed_essays = []\n",
    "# tqdm is for printing the status bar\n",
    "for sentance in tqdm(project_data['essay'].values):\n",
    "    sent = decontracted(sentance)\n",
    "    sent = sent.replace('\\\\r', ' ')\n",
    "    sent = sent.replace('\\\\\"', ' ')\n",
    "    sent = sent.replace('\\\\n', ' ')\n",
    "    sent = re.sub('[^A-Za-z0-9]+', ' ', sent)\n",
    "    # https://gist.github.com/sebleier/554280\n",
    "    sent = ' '.join(e for e in sent.split() if e.lower() not in stopwords)\n",
    "    preprocessed_essays.append(sent.lower().strip())"
   ]
  },
  {
   "cell_type": "code",
   "execution_count": 125,
   "metadata": {
    "colab": {
     "base_uri": "https://localhost:8080/",
     "height": 167
    },
    "colab_type": "code",
    "executionInfo": {
     "elapsed": 27971,
     "status": "ok",
     "timestamp": 1594367031105,
     "user": {
      "displayName": "Venkatesh Gupta",
      "photoUrl": "https://lh3.googleusercontent.com/a-/AOh14Gg8U_KUdnX4JWp6we7eGz6jpyKj3zYYWCk4s2LqwQ=s64",
      "userId": "13664137025209273415"
     },
     "user_tz": -330
    },
    "id": "rPo9cLvNCyn3",
    "outputId": "4cdb880e-7fac-41bf-8db4-a9a716c57db6"
   },
   "outputs": [
    {
     "data": {
      "application/vnd.google.colaboratory.intrinsic": {
       "type": "string"
      },
      "text/plain": [
       "'63 students three different math classes high poverty school many students come single family homes often stay grandparents parent parents work even though students face many challenges eager learn new math concepts want continue give opportunity learn math concepts help achieve foundation successful future math journey thank helping future mathematicians succeed math challenging students learn making mistakes paper pencils students times erase hard tear paper use white boards dry erase markers students erase without worry tearing paper white boards great tool use classroom allow students show work seat allow individualization group work students enjoy writing variety writing tools use white boards dry erase markers feel students new excitement learning math nannan'"
      ]
     },
     "execution_count": 125,
     "metadata": {
      "tags": []
     },
     "output_type": "execute_result"
    }
   ],
   "source": [
    "# after preprocesing\n",
    "#creating a new column with the preprocessed essays and replacing it with the original columns\n",
    "project_data['preprocessed_essays'] = preprocessed_essays\n",
    "project_data.drop(['project_essay_1'], axis=1, inplace=True)\n",
    "project_data.drop(['project_essay_2'], axis=1, inplace=True)\n",
    "project_data.drop(['project_essay_3'], axis=1, inplace=True)\n",
    "project_data.drop(['project_essay_4'], axis=1, inplace=True)\n",
    "preprocessed_essays[20000]"
   ]
  },
  {
   "cell_type": "markdown",
   "metadata": {
    "colab_type": "text",
    "id": "QeUw6WMKCyn7"
   },
   "source": [
    "<h2><font color='red'> 1.4 Preprocessing of `project_title`</font></h2>"
   ]
  },
  {
   "cell_type": "code",
   "execution_count": 126,
   "metadata": {
    "colab": {
     "base_uri": "https://localhost:8080/",
     "height": 204
    },
    "colab_type": "code",
    "executionInfo": {
     "elapsed": 29135,
     "status": "ok",
     "timestamp": 1594367032281,
     "user": {
      "displayName": "Venkatesh Gupta",
      "photoUrl": "https://lh3.googleusercontent.com/a-/AOh14Gg8U_KUdnX4JWp6we7eGz6jpyKj3zYYWCk4s2LqwQ=s64",
      "userId": "13664137025209273415"
     },
     "user_tz": -330
    },
    "id": "Ql9ttfW3Cyn7",
    "outputId": "2defb46d-5776-46f4-ca5b-a14e51d40a72"
   },
   "outputs": [
    {
     "name": "stderr",
     "output_type": "stream",
     "text": [
      "\n",
      "  0%|          | 0/30000 [00:00<?, ?it/s]\u001b[A\n",
      " 13%|█▎        | 3851/30000 [00:00<00:00, 38508.75it/s]\u001b[A\n",
      " 25%|██▌       | 7552/30000 [00:00<00:00, 38046.07it/s]\u001b[A\n",
      " 37%|███▋      | 11242/30000 [00:00<00:00, 37694.61it/s]\u001b[A\n",
      " 50%|████▉     | 14859/30000 [00:00<00:00, 37223.52it/s]\u001b[A\n",
      " 62%|██████▏   | 18493/30000 [00:00<00:00, 36951.20it/s]\u001b[A\n",
      " 74%|███████▎  | 22098/30000 [00:00<00:00, 36673.33it/s]\u001b[A\n",
      " 86%|████████▋ | 25912/30000 [00:00<00:00, 37100.27it/s]\u001b[A\n",
      "100%|██████████| 30000/30000 [00:00<00:00, 37082.48it/s]\n"
     ]
    }
   ],
   "source": [
    "# Combining all the above statemennts \n",
    "from tqdm import tqdm\n",
    "preprocessed_titles = []\n",
    "# tqdm is for printing the status bar\n",
    "for sentance in tqdm(project_data['project_title'].values):\n",
    "    sent = decontracted(sentance)\n",
    "    sent = sent.replace('\\\\r', ' ')\n",
    "    sent = sent.replace('\\\\\"', ' ')\n",
    "    sent = sent.replace('\\\\n', ' ')\n",
    "    sent = re.sub('[^A-Za-z0-9]+', ' ', sent)\n",
    "    # https://gist.github.com/sebleier/554280\n",
    "    sent = ' '.join(e for e in sent.split() if e not in stopwords)\n",
    "    preprocessed_titles.append(sent.lower().strip())"
   ]
  },
  {
   "cell_type": "code",
   "execution_count": 127,
   "metadata": {
    "colab": {},
    "colab_type": "code",
    "executionInfo": {
     "elapsed": 29130,
     "status": "ok",
     "timestamp": 1594367032284,
     "user": {
      "displayName": "Venkatesh Gupta",
      "photoUrl": "https://lh3.googleusercontent.com/a-/AOh14Gg8U_KUdnX4JWp6we7eGz6jpyKj3zYYWCk4s2LqwQ=s64",
      "userId": "13664137025209273415"
     },
     "user_tz": -330
    },
    "id": "YQw-NlL6r2u7"
   },
   "outputs": [],
   "source": [
    "#creating a new column with the preprocessed titles,useful for analysis\n",
    "project_data['preprocessed_titles'] = preprocessed_titles"
   ]
  },
  {
   "cell_type": "code",
   "execution_count": 128,
   "metadata": {
    "colab": {
     "base_uri": "https://localhost:8080/",
     "height": 298
    },
    "colab_type": "code",
    "executionInfo": {
     "elapsed": 29125,
     "status": "ok",
     "timestamp": 1594367032286,
     "user": {
      "displayName": "Venkatesh Gupta",
      "photoUrl": "https://lh3.googleusercontent.com/a-/AOh14Gg8U_KUdnX4JWp6we7eGz6jpyKj3zYYWCk4s2LqwQ=s64",
      "userId": "13664137025209273415"
     },
     "user_tz": -330
    },
    "id": "ROllAS8Wr2vC",
    "outputId": "747032c8-f67d-4ae9-ae8e-ab5c404884f7"
   },
   "outputs": [
    {
     "name": "stdout",
     "output_type": "stream",
     "text": [
      "Mrs.       15682\n",
      "Ms.        10779\n",
      "Mr.         2895\n",
      "Teacher      643\n",
      "Name: teacher_prefix, dtype: int64\n",
      "====================================================================================================\n",
      "7820    NaN\n",
      "Name: teacher_prefix, dtype: object\n",
      "====================================================================================================\n",
      "Mrs.       15683\n",
      "Ms.        10779\n",
      "Mr.         2895\n",
      "Teacher      643\n",
      "Name: teacher_prefix, dtype: int64\n",
      "====================================================================================================\n"
     ]
    }
   ],
   "source": [
    "#---------------------------------------------------------------------------------------\n",
    "# Preprocessing Categorical Features: teacher_prefix\n",
    "print(project_data['teacher_prefix'].value_counts())\n",
    "print(\"=\"*100)\n",
    "\n",
    "print(project_data[project_data['teacher_prefix'].isnull()]['teacher_prefix'])\n",
    "\n",
    "print(\"=\"*100)\n",
    "project_data['teacher_prefix']=project_data['teacher_prefix'].fillna('Mrs.')\n",
    "print(project_data['teacher_prefix'].value_counts())\n",
    "\n",
    "print(\"=\"*100)\n",
    "#---------------------------------------------------------------------------------------"
   ]
  },
  {
   "cell_type": "code",
   "execution_count": 129,
   "metadata": {
    "colab": {},
    "colab_type": "code",
    "executionInfo": {
     "elapsed": 29119,
     "status": "ok",
     "timestamp": 1594367032288,
     "user": {
      "displayName": "Venkatesh Gupta",
      "photoUrl": "https://lh3.googleusercontent.com/a-/AOh14Gg8U_KUdnX4JWp6we7eGz6jpyKj3zYYWCk4s2LqwQ=s64",
      "userId": "13664137025209273415"
     },
     "user_tz": -330
    },
    "id": "pW33H4jJr2vJ"
   },
   "outputs": [],
   "source": [
    "#-------------------------------------------------------------------------------------------------------\n",
    "# Preprocessing Categorical Features: project_grade_category\n",
    "project_data['project_grade_category'] = project_data['project_grade_category'].str.replace(' ', '_')\n",
    "project_data['project_grade_category'] = project_data['project_grade_category'].str.replace('-', '_')\n",
    "project_data['project_grade_category'] = project_data['project_grade_category'].str.lower()\n",
    "#-------------------------------------------------------------------------------------------------------"
   ]
  },
  {
   "cell_type": "markdown",
   "metadata": {
    "colab_type": "text",
    "id": "RRN9Tu1nr2vR"
   },
   "source": [
    "# Splitting data into Train, cross validation and test: Stratified Sampling"
   ]
  },
  {
   "cell_type": "code",
   "execution_count": 130,
   "metadata": {
    "colab": {
     "base_uri": "https://localhost:8080/",
     "height": 241
    },
    "colab_type": "code",
    "executionInfo": {
     "elapsed": 29115,
     "status": "ok",
     "timestamp": 1594367032291,
     "user": {
      "displayName": "Venkatesh Gupta",
      "photoUrl": "https://lh3.googleusercontent.com/a-/AOh14Gg8U_KUdnX4JWp6we7eGz6jpyKj3zYYWCk4s2LqwQ=s64",
      "userId": "13664137025209273415"
     },
     "user_tz": -330
    },
    "id": "pql8rmG6r2vS",
    "outputId": "c0c7bd12-482b-4c9b-a0b1-a6bafad87677",
    "scrolled": false
   },
   "outputs": [
    {
     "name": "stdout",
     "output_type": "stream",
     "text": [
      "(13467, 16) (6633, 16) (13467,) 21576    1\n",
      "1549     1\n",
      "26045    1\n",
      "3823     1\n",
      "8340     1\n",
      "        ..\n",
      "18487    1\n",
      "11139    1\n",
      "28997    1\n",
      "18595    1\n",
      "20629    0\n",
      "Name: project_is_approved, Length: 6633, dtype: int64\n"
     ]
    }
   ],
   "source": [
    "from sklearn.model_selection import train_test_split\n",
    "#How to split whole dataset into Train,CV and test\n",
    "#https://scikit-learn.org/stable/modules/generated/sklearn.model_selection.train_test_split.html#sklearn.model_selection.train_test_split\n",
    "project_data_train, project_data_test, y_train, y_test = train_test_split(project_data, project_data['project_is_approved'], test_size=0.33, stratify = project_data['project_is_approved'])\n",
    "project_data_train, project_data_cv, y_train, y_cv = train_test_split(project_data_train, y_train, test_size=0.33, stratify=y_train)\n",
    "print(project_data_train.shape, project_data_cv.shape, y_train.shape, y_cv)"
   ]
  },
  {
   "cell_type": "code",
   "execution_count": 131,
   "metadata": {
    "colab": {
     "base_uri": "https://localhost:8080/",
     "height": 167
    },
    "colab_type": "code",
    "executionInfo": {
     "elapsed": 29105,
     "status": "ok",
     "timestamp": 1594367032292,
     "user": {
      "displayName": "Venkatesh Gupta",
      "photoUrl": "https://lh3.googleusercontent.com/a-/AOh14Gg8U_KUdnX4JWp6we7eGz6jpyKj3zYYWCk4s2LqwQ=s64",
      "userId": "13664137025209273415"
     },
     "user_tz": -330
    },
    "id": "5JW_5ANIr2va",
    "outputId": "47241f0b-f393-4256-c533-60ff80ea28aa"
   },
   "outputs": [
    {
     "name": "stdout",
     "output_type": "stream",
     "text": [
      "Split ratio\n",
      "--------------------------------------------------\n",
      "Train dataset: 44.89 %\n",
      " size: 13467\n",
      "Cross validation dataset: 22.11 %\n",
      " size: 6633\n",
      "Test dataset: 33.0 %\n",
      " size: 9900\n"
     ]
    }
   ],
   "source": [
    "print(\"Split ratio\")\n",
    "print('-'*50)\n",
    "print('Train dataset:',len(project_data_train)/len(project_data)*100,'%\\n','size:',len(project_data_train))\n",
    "print('Cross validation dataset:',len(project_data_cv)/len(project_data)*100,'%\\n','size:',len(project_data_cv))\n",
    "print('Test dataset:',len(project_data_test)/len(project_data)*100,'%\\n','size:',len(project_data_test))"
   ]
  },
  {
   "cell_type": "code",
   "execution_count": 132,
   "metadata": {
    "colab": {},
    "colab_type": "code",
    "executionInfo": {
     "elapsed": 29100,
     "status": "ok",
     "timestamp": 1594367032294,
     "user": {
      "displayName": "Venkatesh Gupta",
      "photoUrl": "https://lh3.googleusercontent.com/a-/AOh14Gg8U_KUdnX4JWp6we7eGz6jpyKj3zYYWCk4s2LqwQ=s64",
      "userId": "13664137025209273415"
     },
     "user_tz": -330
    },
    "id": "CPBUZg5Vr2vh"
   },
   "outputs": [],
   "source": [
    "#Features\n",
    "project_data_train.drop(['project_is_approved'], axis=1, inplace=True)\n",
    "project_data_cv.drop(['project_is_approved'], axis=1, inplace=True)\n",
    "project_data_test.drop(['project_is_approved'], axis=1, inplace=True)"
   ]
  },
  {
   "cell_type": "markdown",
   "metadata": {
    "colab_type": "text",
    "id": "NQg4ZfFtCyn9"
   },
   "source": [
    "## 1.5 Preparing data for models"
   ]
  },
  {
   "cell_type": "code",
   "execution_count": 133,
   "metadata": {
    "colab": {
     "base_uri": "https://localhost:8080/",
     "height": 148
    },
    "colab_type": "code",
    "executionInfo": {
     "elapsed": 29094,
     "status": "ok",
     "timestamp": 1594367032295,
     "user": {
      "displayName": "Venkatesh Gupta",
      "photoUrl": "https://lh3.googleusercontent.com/a-/AOh14Gg8U_KUdnX4JWp6we7eGz6jpyKj3zYYWCk4s2LqwQ=s64",
      "userId": "13664137025209273415"
     },
     "user_tz": -330
    },
    "id": "V4GS54ZTCyn-",
    "outputId": "278e13c2-ca8f-45f5-9da4-6cba0ad680c5"
   },
   "outputs": [
    {
     "data": {
      "text/plain": [
       "Index(['Unnamed: 0', 'id', 'teacher_id', 'teacher_prefix', 'school_state',\n",
       "       'Date', 'project_grade_category', 'project_title',\n",
       "       'project_resource_summary',\n",
       "       'teacher_number_of_previously_posted_projects', 'project_is_approved',\n",
       "       'clean_categories', 'clean_subcategories', 'essay',\n",
       "       'preprocessed_essays', 'preprocessed_titles'],\n",
       "      dtype='object')"
      ]
     },
     "execution_count": 133,
     "metadata": {
      "tags": []
     },
     "output_type": "execute_result"
    }
   ],
   "source": [
    "project_data.columns"
   ]
  },
  {
   "cell_type": "markdown",
   "metadata": {
    "colab_type": "text",
    "id": "6FDsc1epCyoD"
   },
   "source": [
    "we are going to consider\n",
    "\n",
    "       - school_state : categorical data\n",
    "       - clean_categories : categorical data\n",
    "       - clean_subcategories : categorical data\n",
    "       - project_grade_category : categorical data\n",
    "       - teacher_prefix : categorical data\n",
    "       \n",
    "       - project_title : text data\n",
    "       - text : text data\n",
    "       - project_resource_summary: text data (optinal)\n",
    "       \n",
    "       - quantity : numerical (optinal)\n",
    "       - teacher_number_of_previously_posted_projects : numerical\n",
    "       - price : numerical"
   ]
  },
  {
   "cell_type": "markdown",
   "metadata": {
    "colab_type": "text",
    "id": "0d0QeeQ-CyoD"
   },
   "source": [
    "### 1.5.1 Vectorizing Categorical data"
   ]
  },
  {
   "cell_type": "markdown",
   "metadata": {
    "colab_type": "text",
    "id": "kFZFSOirCyoD"
   },
   "source": [
    "- https://www.appliedaicourse.com/course/applied-ai-course-online/lessons/handling-categorical-and-numerical-features/"
   ]
  },
  {
   "cell_type": "code",
   "execution_count": 134,
   "metadata": {
    "colab": {},
    "colab_type": "code",
    "executionInfo": {
     "elapsed": 29087,
     "status": "ok",
     "timestamp": 1594367032296,
     "user": {
      "displayName": "Venkatesh Gupta",
      "photoUrl": "https://lh3.googleusercontent.com/a-/AOh14Gg8U_KUdnX4JWp6we7eGz6jpyKj3zYYWCk4s2LqwQ=s64",
      "userId": "13664137025209273415"
     },
     "user_tz": -330
    },
    "id": "mQgvTY45r2vx"
   },
   "outputs": [],
   "source": [
    "def VectorizingData(sFeature, project_data_fitting,project_data_transform):\n",
    "    from sklearn.feature_extraction.text import CountVectorizer\n",
    "    vectorizer_feature = CountVectorizer(lowercase=False, binary=True)\n",
    "    vectorizer_feature.fit(project_data_fitting[sFeature].values) #fitting has to be on Train data\n",
    "\n",
    "    transform_one_hot = vectorizer_feature.transform(project_data_transform[sFeature].values)\n",
    "    #print(vectorizer_cat.get_feature_names())\n",
    "    return(transform_one_hot)\n",
    "    "
   ]
  },
  {
   "cell_type": "code",
   "execution_count": 135,
   "metadata": {
    "colab": {
     "base_uri": "https://localhost:8080/",
     "height": 73
    },
    "colab_type": "code",
    "executionInfo": {
     "elapsed": 29733,
     "status": "ok",
     "timestamp": 1594367032949,
     "user": {
      "displayName": "Venkatesh Gupta",
      "photoUrl": "https://lh3.googleusercontent.com/a-/AOh14Gg8U_KUdnX4JWp6we7eGz6jpyKj3zYYWCk4s2LqwQ=s64",
      "userId": "13664137025209273415"
     },
     "user_tz": -330
    },
    "id": "JSDTVxswr2v4",
    "outputId": "749283ed-e9f1-41a4-b3ee-e4cf16f6d9cb"
   },
   "outputs": [
    {
     "name": "stdout",
     "output_type": "stream",
     "text": [
      "Shape of training data matrix after one hot encoding  (13467, 9)\n",
      "Shape of cross validation data matrix after one hot encoding  (6633, 9)\n",
      "Shape of test data matrix after one hot encoding  (9900, 9)\n"
     ]
    }
   ],
   "source": [
    "train_categories_one_hot = VectorizingData(\"clean_categories\", project_data_train, project_data_train)\n",
    "cv_categories_one_hot = VectorizingData(\"clean_categories\", project_data_train, project_data_cv)\n",
    "test_categories_one_hot = VectorizingData(\"clean_categories\", project_data_train, project_data_test)\n",
    "\n",
    "print(\"Shape of training data matrix after one hot encoding \",train_categories_one_hot.shape)\n",
    "print(\"Shape of cross validation data matrix after one hot encoding \",cv_categories_one_hot.shape)\n",
    "print(\"Shape of test data matrix after one hot encoding \",test_categories_one_hot.shape)"
   ]
  },
  {
   "cell_type": "code",
   "execution_count": 136,
   "metadata": {
    "colab": {
     "base_uri": "https://localhost:8080/",
     "height": 73
    },
    "colab_type": "code",
    "executionInfo": {
     "elapsed": 29724,
     "status": "ok",
     "timestamp": 1594367032950,
     "user": {
      "displayName": "Venkatesh Gupta",
      "photoUrl": "https://lh3.googleusercontent.com/a-/AOh14Gg8U_KUdnX4JWp6we7eGz6jpyKj3zYYWCk4s2LqwQ=s64",
      "userId": "13664137025209273415"
     },
     "user_tz": -330
    },
    "id": "npr7SzACCyoH",
    "outputId": "57be2b10-a089-4c1b-9249-aa217111d3cc"
   },
   "outputs": [
    {
     "name": "stdout",
     "output_type": "stream",
     "text": [
      "Shape of train data matrix after one hot encoding  (13467, 30)\n",
      "Shape of cross validation data matrix after one hot encoding  (6633, 30)\n",
      "Shape of test data matrix after one hot encoding  (9900, 30)\n"
     ]
    }
   ],
   "source": [
    "train_subcategories_one_hot = VectorizingData('clean_subcategories', project_data_train, project_data_train)\n",
    "cv_subcategories_one_hot = VectorizingData('clean_subcategories', project_data_train, project_data_cv)\n",
    "test_subcategories_one_hot = VectorizingData('clean_subcategories', project_data_train, project_data_test)\n",
    "\n",
    "print(\"Shape of train data matrix after one hot encoding \",train_subcategories_one_hot.shape)\n",
    "print(\"Shape of cross validation data matrix after one hot encoding \",cv_subcategories_one_hot.shape)\n",
    "print(\"Shape of test data matrix after one hot encoding \",test_subcategories_one_hot.shape)"
   ]
  },
  {
   "cell_type": "code",
   "execution_count": 137,
   "metadata": {
    "colab": {
     "base_uri": "https://localhost:8080/",
     "height": 73
    },
    "colab_type": "code",
    "executionInfo": {
     "elapsed": 29711,
     "status": "ok",
     "timestamp": 1594367032951,
     "user": {
      "displayName": "Venkatesh Gupta",
      "photoUrl": "https://lh3.googleusercontent.com/a-/AOh14Gg8U_KUdnX4JWp6we7eGz6jpyKj3zYYWCk4s2LqwQ=s64",
      "userId": "13664137025209273415"
     },
     "user_tz": -330
    },
    "id": "RaOKOqd4r2wD",
    "outputId": "2aca9376-c113-4c88-c20b-295fd57b8add"
   },
   "outputs": [
    {
     "name": "stdout",
     "output_type": "stream",
     "text": [
      "Shape of train data matrix after one hot encoding  (13467, 51)\n",
      "Shape of cross validation data matrix after one hot encoding  (6633, 51)\n",
      "Shape of test data matrix after one hot encoding  (9900, 51)\n"
     ]
    }
   ],
   "source": [
    "train_school_state_category_one_hot = VectorizingData('school_state', project_data_train, project_data_train)\n",
    "cv_school_state_category_one_hot = VectorizingData('school_state', project_data_train, project_data_cv)\n",
    "test_school_state_category_one_hot = VectorizingData('school_state', project_data_train, project_data_test)\n",
    "\n",
    "\n",
    "print(\"Shape of train data matrix after one hot encoding \",train_school_state_category_one_hot.shape)\n",
    "print(\"Shape of cross validation data matrix after one hot encoding \",cv_school_state_category_one_hot.shape)\n",
    "print(\"Shape of test data matrix after one hot encoding \",test_school_state_category_one_hot.shape)"
   ]
  },
  {
   "cell_type": "code",
   "execution_count": 138,
   "metadata": {
    "colab": {
     "base_uri": "https://localhost:8080/",
     "height": 73
    },
    "colab_type": "code",
    "executionInfo": {
     "elapsed": 29702,
     "status": "ok",
     "timestamp": 1594367032953,
     "user": {
      "displayName": "Venkatesh Gupta",
      "photoUrl": "https://lh3.googleusercontent.com/a-/AOh14Gg8U_KUdnX4JWp6we7eGz6jpyKj3zYYWCk4s2LqwQ=s64",
      "userId": "13664137025209273415"
     },
     "user_tz": -330
    },
    "id": "MCXKAqHCr2wJ",
    "outputId": "1a1d7c83-b550-4b28-da80-99d99167cc94"
   },
   "outputs": [
    {
     "name": "stdout",
     "output_type": "stream",
     "text": [
      "Shape of train data matrix after one hot encoding  (13467, 4)\n",
      "Shape of cross validation data matrix after one hot encoding  (6633, 4)\n",
      "Shape of test data matrix after one hot encoding  (9900, 4)\n"
     ]
    }
   ],
   "source": [
    "train_project_grade_category_one_hot = VectorizingData('project_grade_category', project_data_train, project_data_train)\n",
    "cv_project_grade_category_one_hot = VectorizingData('project_grade_category', project_data_train, project_data_cv)\n",
    "test_project_grade_category_one_hot = VectorizingData('project_grade_category', project_data_train, project_data_test)\n",
    "\n",
    "\n",
    "print(\"Shape of train data matrix after one hot encoding \",train_project_grade_category_one_hot.shape)\n",
    "print(\"Shape of cross validation data matrix after one hot encoding \",cv_project_grade_category_one_hot.shape)\n",
    "print(\"Shape of test data matrix after one hot encoding \",test_project_grade_category_one_hot.shape)"
   ]
  },
  {
   "cell_type": "code",
   "execution_count": 139,
   "metadata": {
    "colab": {
     "base_uri": "https://localhost:8080/",
     "height": 73
    },
    "colab_type": "code",
    "executionInfo": {
     "elapsed": 29692,
     "status": "ok",
     "timestamp": 1594367032953,
     "user": {
      "displayName": "Venkatesh Gupta",
      "photoUrl": "https://lh3.googleusercontent.com/a-/AOh14Gg8U_KUdnX4JWp6we7eGz6jpyKj3zYYWCk4s2LqwQ=s64",
      "userId": "13664137025209273415"
     },
     "user_tz": -330
    },
    "id": "rmCDkGD4r2wP",
    "outputId": "1984c38d-e480-420a-908d-f652d331ce4c"
   },
   "outputs": [
    {
     "name": "stdout",
     "output_type": "stream",
     "text": [
      "Shape of train data matrix after one hot encoding  (13467, 4)\n",
      "Shape of cross validation data matrix after one hot encoding  (6633, 4)\n",
      "Shape of test data matrix after one hot encoding  (9900, 4)\n"
     ]
    }
   ],
   "source": [
    "train_teacher_prefix_categories_one_hot = VectorizingData('teacher_prefix', project_data_train, project_data_train)\n",
    "cv_teacher_prefix_categories_one_hot = VectorizingData('teacher_prefix', project_data_train, project_data_cv)\n",
    "test_teacher_prefix_categories_one_hot = VectorizingData('teacher_prefix', project_data_train, project_data_test)\n",
    "\n",
    "print(\"Shape of train data matrix after one hot encoding \",train_teacher_prefix_categories_one_hot.shape)\n",
    "print(\"Shape of cross validation data matrix after one hot encoding \",cv_teacher_prefix_categories_one_hot.shape)\n",
    "print(\"Shape of test data matrix after one hot encoding \",test_teacher_prefix_categories_one_hot.shape)"
   ]
  },
  {
   "cell_type": "markdown",
   "metadata": {
    "colab_type": "text",
    "id": "5YnkzKnmCyoN"
   },
   "source": [
    "### 1.5.2 Vectorizing Text data"
   ]
  },
  {
   "cell_type": "markdown",
   "metadata": {
    "colab_type": "text",
    "id": "W544CoFtCyoN"
   },
   "source": [
    "#### 1.5.2.1 Bag of words"
   ]
  },
  {
   "cell_type": "code",
   "execution_count": 140,
   "metadata": {
    "colab": {
     "base_uri": "https://localhost:8080/",
     "height": 73
    },
    "colab_type": "code",
    "executionInfo": {
     "elapsed": 43693,
     "status": "ok",
     "timestamp": 1594367046966,
     "user": {
      "displayName": "Venkatesh Gupta",
      "photoUrl": "https://lh3.googleusercontent.com/a-/AOh14Gg8U_KUdnX4JWp6we7eGz6jpyKj3zYYWCk4s2LqwQ=s64",
      "userId": "13664137025209273415"
     },
     "user_tz": -330
    },
    "id": "2D93QosECyoP",
    "outputId": "bc9fb91c-08ab-4d5b-83e3-9592cdd93bb2"
   },
   "outputs": [
    {
     "name": "stdout",
     "output_type": "stream",
     "text": [
      "Shape of train data matrix after one hot encoding  (13467, 32793)\n",
      "Shape of cross validation data matrix after one hot encoding  (6633, 32793)\n",
      "Shape of test data matrix after one hot encoding  (9900, 32793)\n"
     ]
    }
   ],
   "source": [
    "train_essay_bow = VectorizingData('essay', project_data_train, project_data_train)\n",
    "cv_essay_bow = VectorizingData('essay', project_data_train, project_data_cv)\n",
    "test_essay_bow = VectorizingData('essay', project_data_train, project_data_test)\n",
    "\n",
    "print(\"Shape of train data matrix after one hot encoding \",train_essay_bow.shape)\n",
    "print(\"Shape of cross validation data matrix after one hot encoding \",cv_essay_bow.shape)\n",
    "print(\"Shape of test data matrix after one hot encoding \",test_essay_bow.shape)"
   ]
  },
  {
   "cell_type": "code",
   "execution_count": 141,
   "metadata": {
    "colab": {
     "base_uri": "https://localhost:8080/",
     "height": 73
    },
    "colab_type": "code",
    "executionInfo": {
     "elapsed": 43682,
     "status": "ok",
     "timestamp": 1594367046970,
     "user": {
      "displayName": "Venkatesh Gupta",
      "photoUrl": "https://lh3.googleusercontent.com/a-/AOh14Gg8U_KUdnX4JWp6we7eGz6jpyKj3zYYWCk4s2LqwQ=s64",
      "userId": "13664137025209273415"
     },
     "user_tz": -330
    },
    "id": "rvPTRSkrCyoU",
    "outputId": "725f98d8-0a9a-456a-dd1a-cfbd7baccaff"
   },
   "outputs": [
    {
     "name": "stdout",
     "output_type": "stream",
     "text": [
      "Shape of train data matrix after one hot encoding  (13467, 6318)\n",
      "Shape of cross validation data matrix after one hot encoding  (6633, 6318)\n",
      "Shape of test data matrix after one hot encoding  (9900, 6318)\n"
     ]
    }
   ],
   "source": [
    "train_title_bow = VectorizingData('preprocessed_titles', project_data_train, project_data_train)\n",
    "cv_title_bow = VectorizingData('preprocessed_titles', project_data_train, project_data_cv)\n",
    "test_title_bow = VectorizingData('preprocessed_titles', project_data_train, project_data_test)\n",
    "\n",
    "print(\"Shape of train data matrix after one hot encoding \",train_title_bow.shape)\n",
    "print(\"Shape of cross validation data matrix after one hot encoding \",cv_title_bow.shape)\n",
    "print(\"Shape of test data matrix after one hot encoding \",test_title_bow.shape)"
   ]
  },
  {
   "cell_type": "markdown",
   "metadata": {
    "colab_type": "text",
    "id": "gK_SHRpTCyol"
   },
   "source": [
    "#### 1.5.2.2 tfidf"
   ]
  },
  {
   "cell_type": "code",
   "execution_count": 142,
   "metadata": {
    "colab": {},
    "colab_type": "code",
    "executionInfo": {
     "elapsed": 43677,
     "status": "ok",
     "timestamp": 1594367046973,
     "user": {
      "displayName": "Venkatesh Gupta",
      "photoUrl": "https://lh3.googleusercontent.com/a-/AOh14Gg8U_KUdnX4JWp6we7eGz6jpyKj3zYYWCk4s2LqwQ=s64",
      "userId": "13664137025209273415"
     },
     "user_tz": -330
    },
    "id": "LFsx6ujVr2wk"
   },
   "outputs": [],
   "source": [
    "def tfidf_Vectorizer(sFeature, project_data_fitting,project_data_transform):\n",
    "    from sklearn.feature_extraction.text import TfidfVectorizer\n",
    "    vectorizer_tfidf_feature = TfidfVectorizer(min_df=10)\n",
    "    vectorizer_tfidf_feature.fit(project_data_train[sFeature])      #Fitting has to be on Train data\n",
    "\n",
    "    tfidf_vect = vectorizer_tfidf_feature.transform(project_data_transform[sFeature].values)\n",
    "    return(tfidf_vect)"
   ]
  },
  {
   "cell_type": "code",
   "execution_count": 143,
   "metadata": {
    "colab": {
     "base_uri": "https://localhost:8080/",
     "height": 73
    },
    "colab_type": "code",
    "executionInfo": {
     "elapsed": 51998,
     "status": "ok",
     "timestamp": 1594367055305,
     "user": {
      "displayName": "Venkatesh Gupta",
      "photoUrl": "https://lh3.googleusercontent.com/a-/AOh14Gg8U_KUdnX4JWp6we7eGz6jpyKj3zYYWCk4s2LqwQ=s64",
      "userId": "13664137025209273415"
     },
     "user_tz": -330
    },
    "id": "l0gzc2iwCyoo",
    "outputId": "234d9f7d-a770-43a7-e0c1-f9c9b72ca1ef"
   },
   "outputs": [
    {
     "name": "stdout",
     "output_type": "stream",
     "text": [
      "Shape of train data matrix after one hot encoding  (13467, 6997)\n",
      "Shape of cross validation data matrix after one hot encoding  (6633, 6997)\n",
      "Shape of test data matrix after one hot encoding  (9900, 6997)\n"
     ]
    }
   ],
   "source": [
    "train_essay_tfidf = tfidf_Vectorizer('preprocessed_essays',  project_data_train, project_data_train)\n",
    "cv_essay_tfidf = tfidf_Vectorizer('preprocessed_essays',  project_data_train, project_data_cv)\n",
    "test_essay_tfidf = tfidf_Vectorizer('preprocessed_essays',  project_data_train, project_data_test)\n",
    "\n",
    "print(\"Shape of train data matrix after one hot encoding \",train_essay_tfidf.shape)\n",
    "print(\"Shape of cross validation data matrix after one hot encoding \",cv_essay_tfidf.shape)\n",
    "print(\"Shape of test data matrix after one hot encoding \",test_essay_tfidf.shape)"
   ]
  },
  {
   "cell_type": "code",
   "execution_count": 144,
   "metadata": {
    "colab": {
     "base_uri": "https://localhost:8080/",
     "height": 73
    },
    "colab_type": "code",
    "executionInfo": {
     "elapsed": 51989,
     "status": "ok",
     "timestamp": 1594367055307,
     "user": {
      "displayName": "Venkatesh Gupta",
      "photoUrl": "https://lh3.googleusercontent.com/a-/AOh14Gg8U_KUdnX4JWp6we7eGz6jpyKj3zYYWCk4s2LqwQ=s64",
      "userId": "13664137025209273415"
     },
     "user_tz": -330
    },
    "id": "BoECqgt0r2wx",
    "outputId": "5891f884-e07f-4c6b-80b4-f80638ec44fb"
   },
   "outputs": [
    {
     "name": "stdout",
     "output_type": "stream",
     "text": [
      "Shape of train data matrix after one hot encoding  (13467, 854)\n",
      "Shape of cross validation data matrix after one hot encoding  (6633, 854)\n",
      "Shape of test data matrix after one hot encoding  (9900, 854)\n"
     ]
    }
   ],
   "source": [
    "train_title_tfidf = tfidf_Vectorizer('preprocessed_titles',  project_data_train, project_data_train)\n",
    "cv_title_tfidf = tfidf_Vectorizer('preprocessed_titles',  project_data_train, project_data_cv)\n",
    "test_title_tfidf = tfidf_Vectorizer('preprocessed_titles',  project_data_train, project_data_test)\n",
    "\n",
    "print(\"Shape of train data matrix after one hot encoding \",train_title_tfidf.shape)\n",
    "print(\"Shape of cross validation data matrix after one hot encoding \",cv_title_tfidf.shape)\n",
    "print(\"Shape of test data matrix after one hot encoding \",test_title_tfidf.shape)"
   ]
  },
  {
   "cell_type": "markdown",
   "metadata": {
    "colab_type": "text",
    "id": "-olRrWcrr2w2"
   },
   "source": [
    "#### 1.5.2.3 Using Pretrained Models: TFIDF weighted W2V"
   ]
  },
  {
   "cell_type": "code",
   "execution_count": 145,
   "metadata": {
    "colab": {},
    "colab_type": "code",
    "executionInfo": {
     "elapsed": 52627,
     "status": "ok",
     "timestamp": 1594367055953,
     "user": {
      "displayName": "Venkatesh Gupta",
      "photoUrl": "https://lh3.googleusercontent.com/a-/AOh14Gg8U_KUdnX4JWp6we7eGz6jpyKj3zYYWCk4s2LqwQ=s64",
      "userId": "13664137025209273415"
     },
     "user_tz": -330
    },
    "id": "Gu0YB3p4Cyo8"
   },
   "outputs": [],
   "source": [
    "# stronging variables into pickle files python: http://www.jessicayung.com/how-to-use-pickle-to-save-and-load-variables-in-python/\n",
    "# make sure you have the glove_vectors file\n",
    "with open('glove_vectors', 'rb') as f:\n",
    "    model = pickle.load(f)\n",
    "    glove_words =  set(model.keys())"
   ]
  },
  {
   "cell_type": "code",
   "execution_count": 146,
   "metadata": {
    "colab": {
     "base_uri": "https://localhost:8080/",
     "height": 896
    },
    "colab_type": "code",
    "executionInfo": {
     "elapsed": 57442,
     "status": "ok",
     "timestamp": 1594367060777,
     "user": {
      "displayName": "Venkatesh Gupta",
      "photoUrl": "https://lh3.googleusercontent.com/a-/AOh14Gg8U_KUdnX4JWp6we7eGz6jpyKj3zYYWCk4s2LqwQ=s64",
      "userId": "13664137025209273415"
     },
     "user_tz": -330
    },
    "id": "TEKi0VqVCyo_",
    "outputId": "74309c82-08c7-491a-998c-10b2f7a099c5",
    "scrolled": true
   },
   "outputs": [
    {
     "name": "stderr",
     "output_type": "stream",
     "text": [
      "\n",
      "  0%|          | 0/13467 [00:00<?, ?it/s]\u001b[A\n",
      "  2%|▏         | 300/13467 [00:00<00:04, 2999.02it/s]\u001b[A\n",
      "  5%|▍         | 621/13467 [00:00<00:04, 3058.12it/s]\u001b[A\n",
      "  7%|▋         | 920/13467 [00:00<00:04, 3036.71it/s]\u001b[A\n",
      "  9%|▉         | 1196/13467 [00:00<00:04, 2944.49it/s]\u001b[A\n",
      " 11%|█         | 1442/13467 [00:00<00:04, 2778.05it/s]\u001b[A\n",
      " 13%|█▎        | 1766/13467 [00:00<00:04, 2901.07it/s]\u001b[A\n",
      " 16%|█▌        | 2106/13467 [00:00<00:03, 3033.43it/s]\u001b[A\n",
      " 18%|█▊        | 2440/13467 [00:00<00:03, 3118.09it/s]\u001b[A\n",
      " 20%|██        | 2746/13467 [00:00<00:03, 3099.58it/s]\u001b[A\n",
      " 23%|██▎       | 3047/13467 [00:01<00:03, 3037.84it/s]\u001b[A\n",
      " 25%|██▌       | 3383/13467 [00:01<00:03, 3127.25it/s]\u001b[A\n",
      " 27%|██▋       | 3692/13467 [00:01<00:03, 3029.84it/s]\u001b[A\n",
      " 30%|██▉       | 3993/13467 [00:01<00:03, 2969.93it/s]\u001b[A\n",
      " 32%|███▏      | 4289/13467 [00:01<00:03, 2923.78it/s]\u001b[A\n",
      " 34%|███▍      | 4608/13467 [00:01<00:02, 2997.17it/s]\u001b[A\n",
      " 36%|███▋      | 4909/13467 [00:01<00:02, 2999.44it/s]\u001b[A\n",
      " 39%|███▉      | 5246/13467 [00:01<00:02, 3100.34it/s]\u001b[A\n",
      " 41%|████▏     | 5557/13467 [00:01<00:02, 3092.73it/s]\u001b[A\n",
      " 44%|████▎     | 5867/13467 [00:01<00:02, 3056.25it/s]\u001b[A\n",
      " 46%|████▌     | 6174/13467 [00:02<00:02, 3011.79it/s]\u001b[A\n",
      " 48%|████▊     | 6476/13467 [00:02<00:02, 2903.68it/s]\u001b[A\n",
      " 50%|█████     | 6768/13467 [00:02<00:02, 2902.16it/s]\u001b[A\n",
      " 53%|█████▎    | 7097/13467 [00:02<00:02, 3007.14it/s]\u001b[A\n",
      " 55%|█████▍    | 7400/13467 [00:02<00:02, 2930.78it/s]\u001b[A\n",
      " 57%|█████▋    | 7715/13467 [00:02<00:01, 2993.27it/s]\u001b[A\n",
      " 60%|█████▉    | 8016/13467 [00:02<00:01, 2935.49it/s]\u001b[A\n",
      " 62%|██████▏   | 8311/13467 [00:02<00:01, 2927.96it/s]\u001b[A\n",
      " 64%|██████▍   | 8662/13467 [00:02<00:01, 3077.29it/s]\u001b[A\n",
      " 67%|██████▋   | 8977/13467 [00:02<00:01, 3098.05it/s]\u001b[A\n",
      " 69%|██████▉   | 9296/13467 [00:03<00:01, 3124.97it/s]\u001b[A\n",
      " 71%|███████▏  | 9610/13467 [00:03<00:01, 3103.69it/s]\u001b[A\n",
      " 74%|███████▎  | 9931/13467 [00:03<00:01, 3133.18it/s]\u001b[A\n",
      " 76%|███████▌  | 10246/13467 [00:03<00:01, 3076.48it/s]\u001b[A\n",
      " 78%|███████▊  | 10555/13467 [00:03<00:00, 3009.29it/s]\u001b[A\n",
      " 81%|████████  | 10857/13467 [00:03<00:00, 3005.53it/s]\u001b[A\n",
      " 83%|████████▎ | 11159/13467 [00:03<00:00, 2956.62it/s]\u001b[A\n",
      " 85%|████████▌ | 11456/13467 [00:03<00:00, 2928.84it/s]\u001b[A\n",
      " 87%|████████▋ | 11750/13467 [00:03<00:00, 2929.69it/s]\u001b[A\n",
      " 89%|████████▉ | 12048/13467 [00:04<00:00, 2942.94it/s]\u001b[A\n",
      " 92%|█████████▏| 12374/13467 [00:04<00:00, 3029.11it/s]\u001b[A\n",
      " 94%|█████████▍| 12678/13467 [00:04<00:00, 3020.21it/s]\u001b[A\n",
      " 97%|█████████▋| 13004/13467 [00:04<00:00, 3085.56it/s]\u001b[A\n",
      "100%|██████████| 13467/13467 [00:04<00:00, 3027.34it/s]"
     ]
    },
    {
     "name": "stdout",
     "output_type": "stream",
     "text": [
      "13467\n",
      "300\n"
     ]
    },
    {
     "name": "stderr",
     "output_type": "stream",
     "text": [
      "\n"
     ]
    }
   ],
   "source": [
    "\n",
    "# average Word2Vec\n",
    "# compute average word2vec for each review.\n",
    "train_avg_w2v_essays = []; # the avg-w2v for each sentence/review is stored in this list\n",
    "for sentence in tqdm(project_data_train['preprocessed_essays']): # for each review/sentence\n",
    "    vector = np.zeros(300) # as word vectors are of zero length\n",
    "    cnt_words =0; # num of words with a valid vector in the sentence/review\n",
    "    for word in sentence.split(): # for each word in a review/sentence\n",
    "        if word in glove_words:\n",
    "            vector += model[word]\n",
    "            cnt_words += 1\n",
    "    if cnt_words != 0:\n",
    "        vector /= cnt_words\n",
    "    train_avg_w2v_essays.append(vector)\n",
    "\n",
    "print(len(train_avg_w2v_essays))\n",
    "print(len(train_avg_w2v_essays[0]))"
   ]
  },
  {
   "cell_type": "code",
   "execution_count": 147,
   "metadata": {
    "colab": {
     "base_uri": "https://localhost:8080/",
     "height": 485
    },
    "colab_type": "code",
    "executionInfo": {
     "elapsed": 59767,
     "status": "ok",
     "timestamp": 1594367063112,
     "user": {
      "displayName": "Venkatesh Gupta",
      "photoUrl": "https://lh3.googleusercontent.com/a-/AOh14Gg8U_KUdnX4JWp6we7eGz6jpyKj3zYYWCk4s2LqwQ=s64",
      "userId": "13664137025209273415"
     },
     "user_tz": -330
    },
    "id": "W3y86BuVr2xB",
    "outputId": "8705ca88-ff69-4b54-d521-14346aa8a631"
   },
   "outputs": [
    {
     "name": "stderr",
     "output_type": "stream",
     "text": [
      "\n",
      "  0%|          | 0/6633 [00:00<?, ?it/s]\u001b[A\n",
      "  5%|▍         | 309/6633 [00:00<00:02, 3085.71it/s]\u001b[A\n",
      "  9%|▉         | 601/6633 [00:00<00:01, 3029.38it/s]\u001b[A\n",
      " 14%|█▎        | 902/6633 [00:00<00:01, 3022.83it/s]\u001b[A\n",
      " 18%|█▊        | 1203/6633 [00:00<00:01, 3018.66it/s]\u001b[A\n",
      " 23%|██▎       | 1512/6633 [00:00<00:01, 3036.39it/s]\u001b[A\n",
      " 27%|██▋       | 1808/6633 [00:00<00:01, 3011.63it/s]\u001b[A\n",
      " 32%|███▏      | 2097/6633 [00:00<00:01, 2971.68it/s]\u001b[A\n",
      " 37%|███▋      | 2424/6633 [00:00<00:01, 3054.57it/s]\u001b[A\n",
      " 41%|████      | 2713/6633 [00:00<00:01, 2990.06it/s]\u001b[A\n",
      " 45%|████▌     | 3001/6633 [00:01<00:01, 2936.81it/s]\u001b[A\n",
      " 50%|████▉     | 3287/6633 [00:01<00:01, 2833.76it/s]\u001b[A\n",
      " 54%|█████▍    | 3605/6633 [00:01<00:01, 2927.80it/s]\u001b[A\n",
      " 59%|█████▉    | 3937/6633 [00:01<00:00, 3033.88it/s]\u001b[A\n",
      " 64%|██████▍   | 4248/6633 [00:01<00:00, 3054.26it/s]\u001b[A\n",
      " 69%|██████▊   | 4553/6633 [00:01<00:00, 3040.86it/s]\u001b[A\n",
      " 73%|███████▎  | 4857/6633 [00:01<00:00, 2902.32it/s]\u001b[A\n",
      " 78%|███████▊  | 5149/6633 [00:01<00:00, 2868.30it/s]\u001b[A\n",
      " 82%|████████▏ | 5454/6633 [00:01<00:00, 2918.97it/s]\u001b[A\n",
      " 87%|████████▋ | 5756/6633 [00:01<00:00, 2948.32it/s]\u001b[A\n",
      " 91%|█████████ | 6052/6633 [00:02<00:00, 2939.66it/s]\u001b[A\n",
      "100%|██████████| 6633/6633 [00:02<00:00, 2976.05it/s]"
     ]
    },
    {
     "name": "stdout",
     "output_type": "stream",
     "text": [
      "6633\n",
      "300\n"
     ]
    },
    {
     "name": "stderr",
     "output_type": "stream",
     "text": [
      "\n"
     ]
    }
   ],
   "source": [
    "# average Word2Vec\n",
    "# compute average word2vec for each review.\n",
    "cv_avg_w2v_essays = []; # the avg-w2v for each sentence/review is stored in this list\n",
    "for sentence in tqdm(project_data_cv['preprocessed_essays']): # for each review/sentence\n",
    "    vector = np.zeros(300) # as word vectors are of zero length\n",
    "    cnt_words =0; # num of words with a valid vector in the sentence/review\n",
    "    for word in sentence.split(): # for each word in a review/sentence\n",
    "        if word in glove_words:\n",
    "            vector += model[word]\n",
    "            cnt_words += 1\n",
    "    if cnt_words != 0:\n",
    "        vector /= cnt_words\n",
    "    cv_avg_w2v_essays.append(vector)\n",
    "\n",
    "print(len(cv_avg_w2v_essays))\n",
    "print(len(cv_avg_w2v_essays[0]))"
   ]
  },
  {
   "cell_type": "code",
   "execution_count": 148,
   "metadata": {
    "colab": {
     "base_uri": "https://localhost:8080/",
     "height": 690
    },
    "colab_type": "code",
    "executionInfo": {
     "elapsed": 63141,
     "status": "ok",
     "timestamp": 1594367066499,
     "user": {
      "displayName": "Venkatesh Gupta",
      "photoUrl": "https://lh3.googleusercontent.com/a-/AOh14Gg8U_KUdnX4JWp6we7eGz6jpyKj3zYYWCk4s2LqwQ=s64",
      "userId": "13664137025209273415"
     },
     "user_tz": -330
    },
    "id": "ImnsXixxr2xG",
    "outputId": "d103d4eb-aa0e-4a82-e391-eafdf2e6b3f0"
   },
   "outputs": [
    {
     "name": "stderr",
     "output_type": "stream",
     "text": [
      "\n",
      "  0%|          | 0/9900 [00:00<?, ?it/s]\u001b[A\n",
      "  3%|▎         | 294/9900 [00:00<00:03, 2936.07it/s]\u001b[A\n",
      "  6%|▌         | 581/9900 [00:00<00:03, 2914.16it/s]\u001b[A\n",
      "  9%|▉         | 894/9900 [00:00<00:03, 2974.52it/s]\u001b[A\n",
      " 12%|█▏        | 1183/9900 [00:00<00:02, 2946.93it/s]\u001b[A\n",
      " 15%|█▍        | 1459/9900 [00:00<00:02, 2885.97it/s]\u001b[A\n",
      " 18%|█▊        | 1758/9900 [00:00<00:02, 2914.44it/s]\u001b[A\n",
      " 21%|██        | 2046/9900 [00:00<00:02, 2903.22it/s]\u001b[A\n",
      " 24%|██▎       | 2328/9900 [00:00<00:02, 2875.56it/s]\u001b[A\n",
      " 26%|██▋       | 2617/9900 [00:00<00:02, 2877.83it/s]\u001b[A\n",
      " 30%|██▉       | 2945/9900 [00:01<00:02, 2985.78it/s]\u001b[A\n",
      " 33%|███▎      | 3267/9900 [00:01<00:02, 3051.68it/s]\u001b[A\n",
      " 36%|███▌      | 3568/9900 [00:01<00:02, 3005.01it/s]\u001b[A\n",
      " 39%|███▉      | 3866/9900 [00:01<00:02, 2947.85it/s]\u001b[A\n",
      " 42%|████▏     | 4168/9900 [00:01<00:01, 2966.54it/s]\u001b[A\n",
      " 45%|████▌     | 4483/9900 [00:01<00:01, 3017.40it/s]\u001b[A\n",
      " 49%|████▊     | 4808/9900 [00:01<00:01, 3083.51it/s]\u001b[A\n",
      " 52%|█████▏    | 5117/9900 [00:01<00:01, 2974.34it/s]\u001b[A\n",
      " 55%|█████▍    | 5416/9900 [00:01<00:01, 2866.91it/s]\u001b[A\n",
      " 58%|█████▊    | 5725/9900 [00:01<00:01, 2930.01it/s]\u001b[A\n",
      " 61%|██████    | 6020/9900 [00:02<00:01, 2918.63it/s]\u001b[A\n",
      " 64%|██████▍   | 6331/9900 [00:02<00:01, 2972.95it/s]\u001b[A\n",
      " 67%|██████▋   | 6645/9900 [00:02<00:01, 3019.15it/s]\u001b[A\n",
      " 70%|███████   | 6951/9900 [00:02<00:00, 3029.12it/s]\u001b[A\n",
      " 73%|███████▎  | 7255/9900 [00:02<00:00, 2972.58it/s]\u001b[A\n",
      " 76%|███████▋  | 7553/9900 [00:02<00:00, 2944.94it/s]\u001b[A\n",
      " 79%|███████▉  | 7848/9900 [00:02<00:00, 2945.86it/s]\u001b[A\n",
      " 82%|████████▏ | 8143/9900 [00:02<00:00, 2855.48it/s]\u001b[A\n",
      " 85%|████████▌ | 8436/9900 [00:02<00:00, 2875.60it/s]\u001b[A\n",
      " 88%|████████▊ | 8734/9900 [00:02<00:00, 2904.52it/s]\u001b[A\n",
      " 91%|█████████ | 9025/9900 [00:03<00:00, 2897.95it/s]\u001b[A\n",
      " 94%|█████████▍| 9341/9900 [00:03<00:00, 2971.43it/s]\u001b[A\n",
      "100%|██████████| 9900/9900 [00:03<00:00, 2960.61it/s]"
     ]
    },
    {
     "name": "stdout",
     "output_type": "stream",
     "text": [
      "9900\n",
      "300\n"
     ]
    },
    {
     "name": "stderr",
     "output_type": "stream",
     "text": [
      "\n"
     ]
    }
   ],
   "source": [
    "# compute average word2vec for each review.\n",
    "test_avg_w2v_essays = []; # the avg-w2v for each sentence/review is stored in this list\n",
    "for sentence in tqdm(project_data_test['preprocessed_essays']): # for each review/sentence\n",
    "    vector = np.zeros(300) # as word vectors are of zero length\n",
    "    cnt_words =0; # num of words with a valid vector in the sentence/review\n",
    "    for word in sentence.split(): # for each word in a review/sentence\n",
    "        if word in glove_words:\n",
    "            vector += model[word]\n",
    "            cnt_words += 1\n",
    "    if cnt_words != 0:\n",
    "        vector /= cnt_words\n",
    "    test_avg_w2v_essays.append(vector)\n",
    "\n",
    "print(len(test_avg_w2v_essays))\n",
    "print(len(test_avg_w2v_essays[0]))"
   ]
  },
  {
   "cell_type": "code",
   "execution_count": 149,
   "metadata": {
    "colab": {
     "base_uri": "https://localhost:8080/",
     "height": 129
    },
    "colab_type": "code",
    "executionInfo": {
     "elapsed": 63818,
     "status": "ok",
     "timestamp": 1594367067186,
     "user": {
      "displayName": "Venkatesh Gupta",
      "photoUrl": "https://lh3.googleusercontent.com/a-/AOh14Gg8U_KUdnX4JWp6we7eGz6jpyKj3zYYWCk4s2LqwQ=s64",
      "userId": "13664137025209273415"
     },
     "user_tz": -330
    },
    "id": "YE6WXj1tr2xO",
    "outputId": "2bf75e29-d484-469b-9c45-c7bcf8abfe54"
   },
   "outputs": [
    {
     "name": "stderr",
     "output_type": "stream",
     "text": [
      "\n",
      "  0%|          | 0/13467 [00:00<?, ?it/s]\u001b[A\n",
      " 35%|███▍      | 4650/13467 [00:00<00:00, 46489.40it/s]\u001b[A\n",
      "100%|██████████| 13467/13467 [00:00<00:00, 50827.72it/s]"
     ]
    },
    {
     "name": "stdout",
     "output_type": "stream",
     "text": [
      "13467\n",
      "300\n"
     ]
    },
    {
     "name": "stderr",
     "output_type": "stream",
     "text": [
      "\n"
     ]
    }
   ],
   "source": [
    "# average Word2Vec\n",
    "# compute average word2vec for each review.\n",
    "train_avg_w2v_titles = []; # the avg-w2v for each sentence/review is stored in this list\n",
    "for sentence in tqdm(project_data_train['preprocessed_titles']): # for each review/sentence\n",
    "    vector = np.zeros(300) # as word vectors are of zero length\n",
    "    cnt_words =0; # num of words with a valid vector in the sentence/review\n",
    "    for word in sentence.split(): # for each word in a review/sentence\n",
    "        if word in glove_words:\n",
    "            vector += model[word]\n",
    "            cnt_words += 1\n",
    "    if cnt_words != 0:\n",
    "        vector /= cnt_words\n",
    "    train_avg_w2v_titles.append(vector)\n",
    "\n",
    "print(len(train_avg_w2v_titles))\n",
    "print(len(train_avg_w2v_titles[0]))"
   ]
  },
  {
   "cell_type": "code",
   "execution_count": 150,
   "metadata": {
    "colab": {
     "base_uri": "https://localhost:8080/",
     "height": 111
    },
    "colab_type": "code",
    "executionInfo": {
     "elapsed": 63808,
     "status": "ok",
     "timestamp": 1594367067187,
     "user": {
      "displayName": "Venkatesh Gupta",
      "photoUrl": "https://lh3.googleusercontent.com/a-/AOh14Gg8U_KUdnX4JWp6we7eGz6jpyKj3zYYWCk4s2LqwQ=s64",
      "userId": "13664137025209273415"
     },
     "user_tz": -330
    },
    "id": "ABN8TP6jr2xV",
    "outputId": "99dfcbfb-6baa-490f-e161-3926d1ab38f7"
   },
   "outputs": [
    {
     "name": "stderr",
     "output_type": "stream",
     "text": [
      "\n",
      "  0%|          | 0/6633 [00:00<?, ?it/s]\u001b[A\n",
      "100%|██████████| 6633/6633 [00:00<00:00, 50737.36it/s]"
     ]
    },
    {
     "name": "stdout",
     "output_type": "stream",
     "text": [
      "6633\n",
      "300\n"
     ]
    },
    {
     "name": "stderr",
     "output_type": "stream",
     "text": [
      "\n"
     ]
    }
   ],
   "source": [
    "# average Word2Vec\n",
    "# compute average word2vec for each review.\n",
    "cv_avg_w2v_titles = []; # the avg-w2v for each sentence/review is stored in this list\n",
    "for sentence in tqdm(project_data_cv['preprocessed_titles']): # for each review/sentence\n",
    "    vector = np.zeros(300) # as word vectors are of zero length\n",
    "    cnt_words =0; # num of words with a valid vector in the sentence/review\n",
    "    for word in sentence.split(): # for each word in a review/sentence\n",
    "        if word in glove_words:\n",
    "            vector += model[word]\n",
    "            cnt_words += 1\n",
    "    if cnt_words != 0:\n",
    "        vector /= cnt_words\n",
    "    cv_avg_w2v_titles.append(vector)\n",
    "\n",
    "print(len(cv_avg_w2v_titles))\n",
    "print(len(cv_avg_w2v_titles[0]))"
   ]
  },
  {
   "cell_type": "code",
   "execution_count": 151,
   "metadata": {
    "colab": {
     "base_uri": "https://localhost:8080/",
     "height": 111
    },
    "colab_type": "code",
    "executionInfo": {
     "elapsed": 63801,
     "status": "ok",
     "timestamp": 1594367067190,
     "user": {
      "displayName": "Venkatesh Gupta",
      "photoUrl": "https://lh3.googleusercontent.com/a-/AOh14Gg8U_KUdnX4JWp6we7eGz6jpyKj3zYYWCk4s2LqwQ=s64",
      "userId": "13664137025209273415"
     },
     "user_tz": -330
    },
    "id": "Np9RkpMBr2xZ",
    "outputId": "e2f051ba-cf28-4213-9d90-07b23f3e6d9d"
   },
   "outputs": [
    {
     "name": "stderr",
     "output_type": "stream",
     "text": [
      "\n",
      "  0%|          | 0/9900 [00:00<?, ?it/s]\u001b[A\n",
      "100%|██████████| 9900/9900 [00:00<00:00, 58174.65it/s]"
     ]
    },
    {
     "name": "stdout",
     "output_type": "stream",
     "text": [
      "9900\n",
      "300\n"
     ]
    },
    {
     "name": "stderr",
     "output_type": "stream",
     "text": [
      "\n"
     ]
    }
   ],
   "source": [
    "# average Word2Vec\n",
    "# compute average word2vec for each review.\n",
    "test_avg_w2v_titles = []; # the avg-w2v for each sentence/review is stored in this list\n",
    "for sentence in tqdm(project_data_test['preprocessed_titles']): # for each review/sentence\n",
    "    vector = np.zeros(300) # as word vectors are of zero length\n",
    "    cnt_words =0; # num of words with a valid vector in the sentence/review\n",
    "    for word in sentence.split(): # for each word in a review/sentence\n",
    "        if word in glove_words:\n",
    "            vector += model[word]\n",
    "            cnt_words += 1\n",
    "    if cnt_words != 0:\n",
    "        vector /= cnt_words\n",
    "    test_avg_w2v_titles.append(vector)\n",
    "\n",
    "print(len(test_avg_w2v_titles))\n",
    "print(len(test_avg_w2v_titles[0]))"
   ]
  },
  {
   "cell_type": "markdown",
   "metadata": {
    "colab_type": "text",
    "id": "_s3QN_ZNCypD"
   },
   "source": [
    "#### 1.5.2.3 Using Pretrained Models: TFIDF weighted W2V"
   ]
  },
  {
   "cell_type": "code",
   "execution_count": 152,
   "metadata": {
    "colab": {},
    "colab_type": "code",
    "executionInfo": {
     "elapsed": 63791,
     "status": "ok",
     "timestamp": 1594367067190,
     "user": {
      "displayName": "Venkatesh Gupta",
      "photoUrl": "https://lh3.googleusercontent.com/a-/AOh14Gg8U_KUdnX4JWp6we7eGz6jpyKj3zYYWCk4s2LqwQ=s64",
      "userId": "13664137025209273415"
     },
     "user_tz": -330
    },
    "id": "r0wLePgMr2xg"
   },
   "outputs": [],
   "source": [
    "# Similarly you can vectorize for title also\n",
    "tfidf_model = TfidfVectorizer()\n",
    "tfidf_model.fit(project_data_train['preprocessed_titles'])\n",
    "# we are converting a dictionary with word as a key, and the idf as a value\n",
    "dictionary = dict(zip(tfidf_model.get_feature_names(), list(tfidf_model.idf_)))\n",
    "tfidf_words = set(tfidf_model.get_feature_names())"
   ]
  },
  {
   "cell_type": "code",
   "execution_count": 153,
   "metadata": {
    "colab": {
     "base_uri": "https://localhost:8080/",
     "height": 223
    },
    "colab_type": "code",
    "executionInfo": {
     "elapsed": 65050,
     "status": "ok",
     "timestamp": 1594367068456,
     "user": {
      "displayName": "Venkatesh Gupta",
      "photoUrl": "https://lh3.googleusercontent.com/a-/AOh14Gg8U_KUdnX4JWp6we7eGz6jpyKj3zYYWCk4s2LqwQ=s64",
      "userId": "13664137025209273415"
     },
     "user_tz": -330
    },
    "id": "nD56bsiRCypE",
    "outputId": "45c125f3-e02b-4849-e3e3-2753c36e5297"
   },
   "outputs": [
    {
     "name": "stderr",
     "output_type": "stream",
     "text": [
      "\n",
      "  0%|          | 0/13467 [00:00<?, ?it/s]\u001b[A\n",
      " 12%|█▏        | 1562/13467 [00:00<00:00, 15619.87it/s]\u001b[A\n",
      " 22%|██▏       | 2967/13467 [00:00<00:00, 15111.43it/s]\u001b[A\n",
      " 33%|███▎      | 4428/13467 [00:00<00:00, 14955.90it/s]\u001b[A\n",
      " 44%|████▍     | 5982/13467 [00:00<00:00, 15125.81it/s]\u001b[A\n",
      " 62%|██████▏   | 8387/13467 [00:00<00:00, 17020.10it/s]\u001b[A\n",
      " 74%|███████▎  | 9907/13467 [00:00<00:00, 16292.95it/s]\u001b[A\n",
      "100%|██████████| 13467/13467 [00:00<00:00, 16936.49it/s]"
     ]
    },
    {
     "name": "stdout",
     "output_type": "stream",
     "text": [
      "13467\n",
      "300\n"
     ]
    },
    {
     "name": "stderr",
     "output_type": "stream",
     "text": [
      "\n"
     ]
    }
   ],
   "source": [
    "# average Word2Vec\n",
    "# compute average word2vec for each review.\n",
    "train_tfidf_w2v_titles = []; # the avg-w2v for each sentence/review is stored in this list\n",
    "for sentence in tqdm(project_data_train['preprocessed_titles']): # for each review/sentence\n",
    "    vector = np.zeros(300) # as word vectors are of zero length\n",
    "    tf_idf_weight =0; # num of words with a valid vector in the sentence/review\n",
    "    for word in sentence.split(): # for each word in a review/sentence\n",
    "        if (word in glove_words) and (word in tfidf_words):\n",
    "            vec = model[word] # getting the vector for each word\n",
    "            # here we are multiplying idf value(dictionary[word]) and the tf value((sentence.count(word)/len(sentence.split())))\n",
    "            tf_idf = dictionary[word]*(sentence.count(word)/len(sentence.split())) # getting the tfidf value for each word\n",
    "            vector += (vec * tf_idf) # calculating tfidf weighted w2v\n",
    "            tf_idf_weight += tf_idf\n",
    "    if tf_idf_weight != 0:\n",
    "        vector /= tf_idf_weight\n",
    "    train_tfidf_w2v_titles.append(vector)\n",
    "\n",
    "print(len(train_tfidf_w2v_titles))\n",
    "print(len(train_tfidf_w2v_titles[0]))"
   ]
  },
  {
   "cell_type": "code",
   "execution_count": 154,
   "metadata": {
    "colab": {
     "base_uri": "https://localhost:8080/",
     "height": 129
    },
    "colab_type": "code",
    "executionInfo": {
     "elapsed": 65042,
     "status": "ok",
     "timestamp": 1594367068459,
     "user": {
      "displayName": "Venkatesh Gupta",
      "photoUrl": "https://lh3.googleusercontent.com/a-/AOh14Gg8U_KUdnX4JWp6we7eGz6jpyKj3zYYWCk4s2LqwQ=s64",
      "userId": "13664137025209273415"
     },
     "user_tz": -330
    },
    "id": "8aB83HDUCypL",
    "outputId": "a620ead0-b2b5-494f-d388-0a871d7733bc",
    "scrolled": true
   },
   "outputs": [
    {
     "name": "stderr",
     "output_type": "stream",
     "text": [
      "\n",
      "  0%|          | 0/6633 [00:00<?, ?it/s]\u001b[A\n",
      " 38%|███▊      | 2543/6633 [00:00<00:00, 25426.93it/s]\u001b[A\n",
      "100%|██████████| 6633/6633 [00:00<00:00, 22833.65it/s]"
     ]
    },
    {
     "name": "stdout",
     "output_type": "stream",
     "text": [
      "6633\n",
      "300\n"
     ]
    },
    {
     "name": "stderr",
     "output_type": "stream",
     "text": [
      "\n"
     ]
    }
   ],
   "source": [
    "# average Word2Vec\n",
    "# compute average word2vec for each review.\n",
    "cv_tfidf_w2v_titles = []; # the avg-w2v for each sentence/review is stored in this list\n",
    "for sentence in tqdm(project_data_cv['preprocessed_titles']): # for each review/sentence\n",
    "    vector = np.zeros(300) # as word vectors are of zero length\n",
    "    tf_idf_weight =0; # num of words with a valid vector in the sentence/review\n",
    "    for word in sentence.split(): # for each word in a review/sentence\n",
    "        if (word in glove_words) and (word in tfidf_words):\n",
    "            vec = model[word] # getting the vector for each word\n",
    "            # here we are multiplying idf value(dictionary[word]) and the tf value((sentence.count(word)/len(sentence.split())))\n",
    "            tf_idf = dictionary[word]*(sentence.count(word)/len(sentence.split())) # getting the tfidf value for each word\n",
    "            vector += (vec * tf_idf) # calculating tfidf weighted w2v\n",
    "            tf_idf_weight += tf_idf\n",
    "    if tf_idf_weight != 0:\n",
    "        vector /= tf_idf_weight\n",
    "    cv_tfidf_w2v_titles.append(vector)\n",
    "\n",
    "print(len(cv_tfidf_w2v_titles))\n",
    "print(len(cv_tfidf_w2v_titles[0]))"
   ]
  },
  {
   "cell_type": "code",
   "execution_count": 155,
   "metadata": {
    "colab": {
     "base_uri": "https://localhost:8080/",
     "height": 167
    },
    "colab_type": "code",
    "executionInfo": {
     "elapsed": 65632,
     "status": "ok",
     "timestamp": 1594367069062,
     "user": {
      "displayName": "Venkatesh Gupta",
      "photoUrl": "https://lh3.googleusercontent.com/a-/AOh14Gg8U_KUdnX4JWp6we7eGz6jpyKj3zYYWCk4s2LqwQ=s64",
      "userId": "13664137025209273415"
     },
     "user_tz": -330
    },
    "id": "hTmVKnder2xw",
    "outputId": "d233ad42-45f0-413b-e0a7-6977eb0ce5c7"
   },
   "outputs": [
    {
     "name": "stderr",
     "output_type": "stream",
     "text": [
      "\n",
      "  0%|          | 0/9900 [00:00<?, ?it/s]\u001b[A\n",
      " 17%|█▋        | 1648/9900 [00:00<00:00, 16479.70it/s]\u001b[A\n",
      " 39%|███▉      | 3866/9900 [00:00<00:00, 17855.14it/s]\u001b[A\n",
      " 65%|██████▌   | 6442/9900 [00:00<00:00, 19663.69it/s]\u001b[A\n",
      "100%|██████████| 9900/9900 [00:00<00:00, 22151.86it/s]"
     ]
    },
    {
     "name": "stdout",
     "output_type": "stream",
     "text": [
      "9900\n",
      "300\n"
     ]
    },
    {
     "name": "stderr",
     "output_type": "stream",
     "text": [
      "\n"
     ]
    }
   ],
   "source": [
    "# compute average word2vec for each review.\n",
    "test_tfidf_w2v_titles = []; # the avg-w2v for each sentence/review is stored in this list\n",
    "for sentence in tqdm(project_data_test['preprocessed_titles']): # for each review/sentence\n",
    "    vector = np.zeros(300) # as word vectors are of zero length\n",
    "    tf_idf_weight =0; # num of words with a valid vector in the sentence/review\n",
    "    for word in sentence.split(): # for each word in a review/sentence\n",
    "        if (word in glove_words) and (word in tfidf_words):\n",
    "            vec = model[word] # getting the vector for each word\n",
    "            # here we are multiplying idf value(dictionary[word]) and the tf value((sentence.count(word)/len(sentence.split())))\n",
    "            tf_idf = dictionary[word]*(sentence.count(word)/len(sentence.split())) # getting the tfidf value for each word\n",
    "            vector += (vec * tf_idf) # calculating tfidf weighted w2v\n",
    "            tf_idf_weight += tf_idf\n",
    "    if tf_idf_weight != 0:\n",
    "        vector /= tf_idf_weight\n",
    "    test_tfidf_w2v_titles.append(vector)\n",
    "\n",
    "print(len(test_tfidf_w2v_titles))\n",
    "print(len(test_tfidf_w2v_titles[0]))"
   ]
  },
  {
   "cell_type": "code",
   "execution_count": 156,
   "metadata": {
    "colab": {},
    "colab_type": "code",
    "executionInfo": {
     "elapsed": 67550,
     "status": "ok",
     "timestamp": 1594367070987,
     "user": {
      "displayName": "Venkatesh Gupta",
      "photoUrl": "https://lh3.googleusercontent.com/a-/AOh14Gg8U_KUdnX4JWp6we7eGz6jpyKj3zYYWCk4s2LqwQ=s64",
      "userId": "13664137025209273415"
     },
     "user_tz": -330
    },
    "id": "Fxr8IxXkulxo"
   },
   "outputs": [],
   "source": [
    "# Similarly you can vectorize for title also\n",
    "tfidf_model = TfidfVectorizer()\n",
    "tfidf_model.fit(project_data_train['preprocessed_essays'])\n",
    "# we are converting a dictionary with word as a key, and the idf as a value\n",
    "dictionary = dict(zip(tfidf_model.get_feature_names(), list(tfidf_model.idf_)))\n",
    "tfidf_words = set(tfidf_model.get_feature_names())"
   ]
  },
  {
   "cell_type": "code",
   "execution_count": 157,
   "metadata": {
    "colab": {
     "base_uri": "https://localhost:8080/",
     "height": 1000
    },
    "colab_type": "code",
    "executionInfo": {
     "elapsed": 95840,
     "status": "ok",
     "timestamp": 1594367099284,
     "user": {
      "displayName": "Venkatesh Gupta",
      "photoUrl": "https://lh3.googleusercontent.com/a-/AOh14Gg8U_KUdnX4JWp6we7eGz6jpyKj3zYYWCk4s2LqwQ=s64",
      "userId": "13664137025209273415"
     },
     "user_tz": -330
    },
    "id": "7mbYjWfgu0Y5",
    "outputId": "6af3d358-bbcb-4995-b105-c35bd64bf90a"
   },
   "outputs": [
    {
     "name": "stderr",
     "output_type": "stream",
     "text": [
      "\n",
      "  0%|          | 0/13467 [00:00<?, ?it/s]\u001b[A\n",
      "  0%|          | 47/13467 [00:00<00:29, 462.43it/s]\u001b[A\n",
      "  1%|          | 97/13467 [00:00<00:28, 472.80it/s]\u001b[A\n",
      "  1%|          | 145/13467 [00:00<00:28, 474.83it/s]\u001b[A\n",
      "  1%|▏         | 196/13467 [00:00<00:27, 483.13it/s]\u001b[A\n",
      "  2%|▏         | 241/13467 [00:00<00:28, 470.28it/s]\u001b[A\n",
      "  2%|▏         | 287/13467 [00:00<00:28, 465.75it/s]\u001b[A\n",
      "  2%|▏         | 336/13467 [00:00<00:27, 471.30it/s]\u001b[A\n",
      "  3%|▎         | 386/13467 [00:00<00:27, 477.67it/s]\u001b[A\n",
      "  3%|▎         | 433/13467 [00:00<00:27, 474.06it/s]\u001b[A\n",
      "  4%|▎         | 484/13467 [00:01<00:26, 482.68it/s]\u001b[A\n",
      "  4%|▍         | 532/13467 [00:01<00:27, 473.65it/s]\u001b[A\n",
      "  4%|▍         | 579/13467 [00:01<00:28, 459.94it/s]\u001b[A\n",
      "  5%|▍         | 625/13467 [00:01<00:28, 455.54it/s]\u001b[A\n",
      "  5%|▍         | 671/13467 [00:01<00:29, 441.08it/s]\u001b[A\n",
      "  5%|▌         | 719/13467 [00:01<00:28, 449.34it/s]\u001b[A\n",
      "  6%|▌         | 764/13467 [00:01<00:28, 441.06it/s]\u001b[A\n",
      "  6%|▌         | 810/13467 [00:01<00:28, 446.12it/s]\u001b[A\n",
      "  6%|▋         | 855/13467 [00:01<00:28, 447.04it/s]\u001b[A\n",
      "  7%|▋         | 902/13467 [00:01<00:27, 452.72it/s]\u001b[A\n",
      "  7%|▋         | 948/13467 [00:02<00:27, 450.09it/s]\u001b[A\n",
      "  7%|▋         | 994/13467 [00:02<00:28, 441.61it/s]\u001b[A\n",
      "  8%|▊         | 1041/13467 [00:02<00:27, 448.13it/s]\u001b[A\n",
      "  8%|▊         | 1086/13467 [00:02<00:28, 438.85it/s]\u001b[A\n",
      "  8%|▊         | 1130/13467 [00:02<00:28, 429.30it/s]\u001b[A\n",
      "  9%|▉         | 1182/13467 [00:02<00:27, 450.35it/s]\u001b[A\n",
      "  9%|▉         | 1229/13467 [00:02<00:26, 454.87it/s]\u001b[A\n",
      " 10%|▉         | 1283/13467 [00:02<00:25, 477.23it/s]\u001b[A\n",
      " 10%|▉         | 1332/13467 [00:02<00:25, 480.63it/s]\u001b[A\n",
      " 10%|█         | 1381/13467 [00:02<00:25, 472.48it/s]\u001b[A\n",
      " 11%|█         | 1429/13467 [00:03<00:25, 468.02it/s]\u001b[A\n",
      " 11%|█         | 1476/13467 [00:03<00:27, 437.34it/s]\u001b[A\n",
      " 11%|█▏        | 1524/13467 [00:03<00:26, 448.11it/s]\u001b[A\n",
      " 12%|█▏        | 1570/13467 [00:03<00:26, 445.72it/s]\u001b[A\n",
      " 12%|█▏        | 1619/13467 [00:03<00:25, 456.68it/s]\u001b[A\n",
      " 12%|█▏        | 1665/13467 [00:03<00:26, 443.38it/s]\u001b[A\n",
      " 13%|█▎        | 1713/13467 [00:03<00:25, 453.62it/s]\u001b[A\n",
      " 13%|█▎        | 1763/13467 [00:03<00:25, 466.51it/s]\u001b[A\n",
      " 13%|█▎        | 1817/13467 [00:03<00:24, 482.21it/s]\u001b[A\n",
      " 14%|█▍        | 1866/13467 [00:04<00:24, 475.01it/s]\u001b[A\n",
      " 14%|█▍        | 1914/13467 [00:04<00:24, 464.40it/s]\u001b[A\n",
      " 15%|█▍        | 1961/13467 [00:04<00:24, 462.14it/s]\u001b[A\n",
      " 15%|█▍        | 2008/13467 [00:04<00:25, 454.49it/s]\u001b[A\n",
      " 15%|█▌        | 2059/13467 [00:04<00:24, 468.89it/s]\u001b[A\n",
      " 16%|█▌        | 2107/13467 [00:04<00:24, 464.25it/s]\u001b[A\n",
      " 16%|█▌        | 2154/13467 [00:04<00:24, 463.36it/s]\u001b[A\n",
      " 16%|█▋        | 2208/13467 [00:04<00:23, 483.00it/s]\u001b[A\n",
      " 17%|█▋        | 2260/13467 [00:04<00:22, 492.34it/s]\u001b[A\n",
      " 17%|█▋        | 2310/13467 [00:04<00:23, 480.50it/s]\u001b[A\n",
      " 18%|█▊        | 2359/13467 [00:05<00:23, 468.69it/s]\u001b[A\n",
      " 18%|█▊        | 2413/13467 [00:05<00:22, 486.87it/s]\u001b[A\n",
      " 18%|█▊        | 2463/13467 [00:05<00:22, 479.81it/s]\u001b[A\n",
      " 19%|█▊        | 2514/13467 [00:05<00:22, 488.39it/s]\u001b[A\n",
      " 19%|█▉        | 2564/13467 [00:05<00:22, 485.90it/s]\u001b[A\n",
      " 19%|█▉        | 2615/13467 [00:05<00:22, 492.07it/s]\u001b[A\n",
      " 20%|█▉        | 2665/13467 [00:05<00:22, 490.17it/s]\u001b[A\n",
      " 20%|██        | 2715/13467 [00:05<00:21, 490.36it/s]\u001b[A\n",
      " 21%|██        | 2765/13467 [00:05<00:22, 472.46it/s]\u001b[A\n",
      " 21%|██        | 2816/13467 [00:06<00:22, 483.05it/s]\u001b[A\n",
      " 21%|██▏       | 2865/13467 [00:06<00:22, 478.63it/s]\u001b[A\n",
      " 22%|██▏       | 2914/13467 [00:06<00:22, 465.83it/s]\u001b[A\n",
      " 22%|██▏       | 2965/13467 [00:06<00:22, 476.30it/s]\u001b[A\n",
      " 22%|██▏       | 3015/13467 [00:06<00:21, 481.58it/s]\u001b[A\n",
      " 23%|██▎       | 3064/13467 [00:06<00:21, 476.90it/s]\u001b[A\n",
      " 23%|██▎       | 3116/13467 [00:06<00:21, 485.87it/s]\u001b[A\n",
      " 24%|██▎       | 3165/13467 [00:06<00:21, 474.89it/s]\u001b[A\n",
      " 24%|██▍       | 3214/13467 [00:06<00:21, 478.40it/s]\u001b[A\n",
      " 24%|██▍       | 3263/13467 [00:06<00:21, 480.73it/s]\u001b[A\n",
      " 25%|██▍       | 3312/13467 [00:07<00:21, 478.26it/s]\u001b[A\n",
      " 25%|██▍       | 3361/13467 [00:07<00:21, 480.67it/s]\u001b[A\n",
      " 25%|██▌       | 3410/13467 [00:07<00:21, 465.74it/s]\u001b[A\n",
      " 26%|██▌       | 3457/13467 [00:07<00:22, 452.55it/s]\u001b[A\n",
      " 26%|██▌       | 3507/13467 [00:07<00:21, 465.55it/s]\u001b[A\n",
      " 26%|██▋       | 3556/13467 [00:07<00:20, 472.53it/s]\u001b[A\n",
      " 27%|██▋       | 3604/13467 [00:07<00:20, 470.90it/s]\u001b[A\n",
      " 27%|██▋       | 3652/13467 [00:07<00:20, 472.17it/s]\u001b[A\n",
      " 27%|██▋       | 3700/13467 [00:07<00:20, 467.24it/s]\u001b[A\n",
      " 28%|██▊       | 3747/13467 [00:08<00:20, 466.50it/s]\u001b[A\n",
      " 28%|██▊       | 3796/13467 [00:08<00:20, 468.05it/s]\u001b[A\n",
      " 29%|██▊       | 3843/13467 [00:08<00:20, 461.29it/s]\u001b[A\n",
      " 29%|██▉       | 3890/13467 [00:08<00:22, 432.89it/s]\u001b[A\n",
      " 29%|██▉       | 3939/13467 [00:08<00:21, 447.78it/s]\u001b[A\n",
      " 30%|██▉       | 3985/13467 [00:08<00:21, 444.41it/s]\u001b[A\n",
      " 30%|██▉       | 4037/13467 [00:08<00:20, 460.59it/s]\u001b[A\n",
      " 30%|███       | 4087/13467 [00:08<00:19, 471.38it/s]\u001b[A\n",
      " 31%|███       | 4136/13467 [00:08<00:19, 476.45it/s]\u001b[A\n",
      " 31%|███       | 4184/13467 [00:08<00:19, 467.15it/s]\u001b[A\n",
      " 31%|███▏      | 4231/13467 [00:09<00:19, 467.55it/s]\u001b[A\n",
      " 32%|███▏      | 4278/13467 [00:09<00:19, 466.79it/s]\u001b[A\n",
      " 32%|███▏      | 4326/13467 [00:09<00:19, 469.06it/s]\u001b[A\n",
      " 32%|███▏      | 4376/13467 [00:09<00:19, 477.06it/s]\u001b[A\n",
      " 33%|███▎      | 4424/13467 [00:09<00:19, 466.40it/s]\u001b[A\n",
      " 33%|███▎      | 4472/13467 [00:09<00:19, 470.25it/s]\u001b[A\n",
      " 34%|███▎      | 4525/13467 [00:09<00:18, 485.42it/s]\u001b[A\n",
      " 34%|███▍      | 4574/13467 [00:09<00:18, 483.53it/s]\u001b[A\n",
      " 34%|███▍      | 4623/13467 [00:09<00:18, 475.46it/s]\u001b[A\n",
      " 35%|███▍      | 4671/13467 [00:09<00:18, 470.42it/s]\u001b[A\n",
      " 35%|███▌      | 4719/13467 [00:10<00:19, 456.22it/s]\u001b[A\n",
      " 35%|███▌      | 4765/13467 [00:10<00:19, 451.90it/s]\u001b[A\n",
      " 36%|███▌      | 4811/13467 [00:10<00:19, 452.91it/s]\u001b[A\n",
      " 36%|███▌      | 4857/13467 [00:10<00:19, 441.92it/s]\u001b[A\n",
      " 36%|███▋      | 4907/13467 [00:10<00:18, 457.58it/s]\u001b[A\n",
      " 37%|███▋      | 4955/13467 [00:10<00:18, 460.51it/s]\u001b[A\n",
      " 37%|███▋      | 5004/13467 [00:10<00:18, 468.39it/s]\u001b[A\n",
      " 38%|███▊      | 5057/13467 [00:10<00:17, 483.70it/s]\u001b[A\n",
      " 38%|███▊      | 5108/13467 [00:10<00:17, 490.85it/s]\u001b[A\n",
      " 38%|███▊      | 5158/13467 [00:11<00:17, 486.63it/s]\u001b[A\n",
      " 39%|███▊      | 5207/13467 [00:11<00:17, 475.75it/s]\u001b[A\n",
      " 39%|███▉      | 5256/13467 [00:11<00:17, 479.67it/s]\u001b[A\n",
      " 39%|███▉      | 5305/13467 [00:11<00:17, 464.62it/s]\u001b[A\n",
      " 40%|███▉      | 5357/13467 [00:11<00:16, 479.41it/s]\u001b[A\n",
      " 40%|████      | 5406/13467 [00:11<00:16, 481.75it/s]\u001b[A\n",
      " 41%|████      | 5455/13467 [00:11<00:16, 473.55it/s]\u001b[A\n",
      " 41%|████      | 5503/13467 [00:11<00:17, 464.13it/s]\u001b[A\n",
      " 41%|████      | 5550/13467 [00:11<00:17, 455.49it/s]\u001b[A\n",
      " 42%|████▏     | 5599/13467 [00:11<00:17, 461.00it/s]\u001b[A\n",
      " 42%|████▏     | 5646/13467 [00:12<00:17, 447.86it/s]\u001b[A\n",
      " 42%|████▏     | 5695/13467 [00:12<00:16, 458.66it/s]\u001b[A\n",
      " 43%|████▎     | 5742/13467 [00:12<00:16, 458.68it/s]\u001b[A\n",
      " 43%|████▎     | 5791/13467 [00:12<00:16, 463.40it/s]\u001b[A\n",
      " 43%|████▎     | 5842/13467 [00:12<00:16, 474.98it/s]\u001b[A\n",
      " 44%|████▎     | 5890/13467 [00:12<00:15, 475.62it/s]\u001b[A\n",
      " 44%|████▍     | 5938/13467 [00:12<00:15, 472.78it/s]\u001b[A\n",
      " 44%|████▍     | 5990/13467 [00:12<00:15, 485.73it/s]\u001b[A\n",
      " 45%|████▍     | 6039/13467 [00:12<00:15, 485.23it/s]\u001b[A\n",
      " 45%|████▌     | 6088/13467 [00:12<00:15, 485.21it/s]\u001b[A\n",
      " 46%|████▌     | 6137/13467 [00:13<00:15, 470.26it/s]\u001b[A\n",
      " 46%|████▌     | 6185/13467 [00:13<00:16, 432.27it/s]\u001b[A\n",
      " 46%|████▋     | 6229/13467 [00:13<00:16, 429.87it/s]\u001b[A\n",
      " 47%|████▋     | 6276/13467 [00:13<00:16, 440.66it/s]\u001b[A\n",
      " 47%|████▋     | 6321/13467 [00:13<00:16, 435.66it/s]\u001b[A\n",
      " 47%|████▋     | 6366/13467 [00:13<00:16, 436.87it/s]\u001b[A\n",
      " 48%|████▊     | 6413/13467 [00:13<00:15, 445.70it/s]\u001b[A\n",
      " 48%|████▊     | 6461/13467 [00:13<00:15, 454.13it/s]\u001b[A\n",
      " 48%|████▊     | 6516/13467 [00:13<00:14, 476.25it/s]\u001b[A\n",
      " 49%|████▉     | 6566/13467 [00:14<00:14, 480.34it/s]\u001b[A\n",
      " 49%|████▉     | 6615/13467 [00:14<00:14, 465.44it/s]\u001b[A\n",
      " 49%|████▉     | 6663/13467 [00:14<00:14, 467.85it/s]\u001b[A\n",
      " 50%|████▉     | 6711/13467 [00:14<00:14, 462.21it/s]\u001b[A\n",
      " 50%|█████     | 6758/13467 [00:14<00:14, 461.92it/s]\u001b[A\n",
      " 51%|█████     | 6808/13467 [00:14<00:14, 471.74it/s]\u001b[A\n",
      " 51%|█████     | 6856/13467 [00:14<00:13, 473.26it/s]\u001b[A\n",
      " 51%|█████▏    | 6905/13467 [00:14<00:13, 476.30it/s]\u001b[A\n",
      " 52%|█████▏    | 6956/13467 [00:14<00:13, 484.77it/s]\u001b[A\n",
      " 52%|█████▏    | 7005/13467 [00:14<00:13, 480.57it/s]\u001b[A\n",
      " 52%|█████▏    | 7056/13467 [00:15<00:13, 486.44it/s]\u001b[A\n",
      " 53%|█████▎    | 7105/13467 [00:15<00:13, 480.19it/s]\u001b[A\n",
      " 53%|█████▎    | 7154/13467 [00:15<00:14, 448.78it/s]\u001b[A\n",
      " 53%|█████▎    | 7200/13467 [00:15<00:13, 451.91it/s]\u001b[A\n",
      " 54%|█████▍    | 7246/13467 [00:15<00:13, 451.11it/s]\u001b[A\n",
      " 54%|█████▍    | 7296/13467 [00:15<00:13, 463.37it/s]\u001b[A\n",
      " 55%|█████▍    | 7343/13467 [00:15<00:13, 456.55it/s]\u001b[A\n",
      " 55%|█████▍    | 7394/13467 [00:15<00:12, 469.80it/s]\u001b[A\n",
      " 55%|█████▌    | 7443/13467 [00:15<00:12, 471.60it/s]\u001b[A\n",
      " 56%|█████▌    | 7491/13467 [00:16<00:12, 469.10it/s]\u001b[A\n",
      " 56%|█████▌    | 7541/13467 [00:16<00:12, 477.07it/s]\u001b[A\n",
      " 56%|█████▋    | 7592/13467 [00:16<00:12, 485.58it/s]\u001b[A\n",
      " 57%|█████▋    | 7641/13467 [00:16<00:12, 469.15it/s]\u001b[A\n",
      " 57%|█████▋    | 7695/13467 [00:16<00:11, 486.90it/s]\u001b[A\n",
      " 58%|█████▊    | 7745/13467 [00:16<00:11, 484.17it/s]\u001b[A\n",
      " 58%|█████▊    | 7794/13467 [00:16<00:11, 474.11it/s]\u001b[A\n",
      " 58%|█████▊    | 7844/13467 [00:16<00:11, 480.57it/s]\u001b[A\n",
      " 59%|█████▊    | 7893/13467 [00:16<00:11, 481.00it/s]\u001b[A\n",
      " 59%|█████▉    | 7942/13467 [00:16<00:11, 479.27it/s]\u001b[A\n",
      " 59%|█████▉    | 7995/13467 [00:17<00:11, 490.24it/s]\u001b[A\n",
      " 60%|█████▉    | 8045/13467 [00:17<00:11, 470.60it/s]\u001b[A\n",
      " 60%|██████    | 8093/13467 [00:17<00:11, 471.26it/s]\u001b[A\n",
      " 60%|██████    | 8141/13467 [00:17<00:11, 470.73it/s]\u001b[A\n",
      " 61%|██████    | 8193/13467 [00:17<00:10, 483.65it/s]\u001b[A\n",
      " 61%|██████    | 8244/13467 [00:17<00:10, 489.08it/s]\u001b[A\n",
      " 62%|██████▏   | 8294/13467 [00:17<00:10, 475.82it/s]\u001b[A\n",
      " 62%|██████▏   | 8342/13467 [00:17<00:10, 472.08it/s]\u001b[A\n",
      " 62%|██████▏   | 8394/13467 [00:17<00:10, 485.10it/s]\u001b[A\n",
      " 63%|██████▎   | 8446/13467 [00:18<00:10, 494.45it/s]\u001b[A\n",
      " 63%|██████▎   | 8496/13467 [00:18<00:10, 486.07it/s]\u001b[A\n",
      " 63%|██████▎   | 8545/13467 [00:18<00:10, 479.30it/s]\u001b[A\n",
      " 64%|██████▍   | 8596/13467 [00:18<00:10, 486.40it/s]\u001b[A\n",
      " 64%|██████▍   | 8645/13467 [00:18<00:10, 472.42it/s]\u001b[A\n",
      " 65%|██████▍   | 8698/13467 [00:18<00:09, 487.75it/s]\u001b[A\n",
      " 65%|██████▍   | 8748/13467 [00:18<00:09, 479.38it/s]\u001b[A\n",
      " 65%|██████▌   | 8800/13467 [00:18<00:09, 490.69it/s]\u001b[A\n",
      " 66%|██████▌   | 8850/13467 [00:18<00:09, 473.40it/s]\u001b[A\n",
      " 66%|██████▌   | 8898/13467 [00:18<00:09, 474.81it/s]\u001b[A\n",
      " 66%|██████▋   | 8946/13467 [00:19<00:09, 471.09it/s]\u001b[A\n",
      " 67%|██████▋   | 8995/13467 [00:19<00:09, 475.40it/s]\u001b[A\n",
      " 67%|██████▋   | 9046/13467 [00:19<00:09, 483.59it/s]\u001b[A\n",
      " 68%|██████▊   | 9095/13467 [00:19<00:09, 482.48it/s]\u001b[A\n",
      " 68%|██████▊   | 9144/13467 [00:19<00:09, 469.43it/s]\u001b[A\n",
      " 68%|██████▊   | 9192/13467 [00:19<00:09, 457.65it/s]\u001b[A\n",
      " 69%|██████▊   | 9244/13467 [00:19<00:08, 473.49it/s]\u001b[A\n",
      " 69%|██████▉   | 9292/13467 [00:19<00:09, 460.18it/s]\u001b[A\n",
      " 69%|██████▉   | 9340/13467 [00:19<00:08, 465.68it/s]\u001b[A\n",
      " 70%|██████▉   | 9389/13467 [00:20<00:08, 470.40it/s]\u001b[A\n",
      " 70%|███████   | 9441/13467 [00:20<00:08, 484.05it/s]\u001b[A\n",
      " 70%|███████   | 9490/13467 [00:20<00:08, 473.63it/s]\u001b[A\n",
      " 71%|███████   | 9538/13467 [00:20<00:08, 464.59it/s]\u001b[A\n",
      " 71%|███████   | 9585/13467 [00:20<00:08, 445.56it/s]\u001b[A\n",
      " 72%|███████▏  | 9638/13467 [00:20<00:08, 466.49it/s]\u001b[A\n",
      " 72%|███████▏  | 9686/13467 [00:20<00:08, 470.08it/s]\u001b[A\n",
      " 72%|███████▏  | 9734/13467 [00:20<00:07, 468.68it/s]\u001b[A\n",
      " 73%|███████▎  | 9782/13467 [00:20<00:08, 459.02it/s]\u001b[A\n",
      " 73%|███████▎  | 9830/13467 [00:20<00:07, 462.67it/s]\u001b[A\n",
      " 73%|███████▎  | 9877/13467 [00:21<00:07, 455.82it/s]\u001b[A\n",
      " 74%|███████▎  | 9923/13467 [00:21<00:07, 445.08it/s]\u001b[A\n",
      " 74%|███████▍  | 9973/13467 [00:21<00:07, 459.17it/s]\u001b[A\n",
      " 74%|███████▍  | 10020/13467 [00:21<00:07, 447.00it/s]\u001b[A\n",
      " 75%|███████▍  | 10065/13467 [00:21<00:07, 428.91it/s]\u001b[A\n",
      " 75%|███████▌  | 10109/13467 [00:21<00:07, 432.09it/s]\u001b[A\n",
      " 75%|███████▌  | 10154/13467 [00:21<00:07, 436.89it/s]\u001b[A\n",
      " 76%|███████▌  | 10205/13467 [00:21<00:07, 453.29it/s]\u001b[A\n",
      " 76%|███████▌  | 10259/13467 [00:21<00:06, 472.56it/s]\u001b[A\n",
      " 77%|███████▋  | 10308/13467 [00:22<00:06, 474.22it/s]\u001b[A\n",
      " 77%|███████▋  | 10356/13467 [00:22<00:06, 461.51it/s]\u001b[A\n",
      " 77%|███████▋  | 10409/13467 [00:22<00:06, 477.61it/s]\u001b[A\n",
      " 78%|███████▊  | 10458/13467 [00:22<00:06, 466.56it/s]\u001b[A\n",
      " 78%|███████▊  | 10505/13467 [00:22<00:06, 467.38it/s]\u001b[A\n",
      " 78%|███████▊  | 10552/13467 [00:22<00:06, 467.82it/s]\u001b[A\n",
      " 79%|███████▊  | 10599/13467 [00:22<00:06, 459.31it/s]\u001b[A\n",
      " 79%|███████▉  | 10646/13467 [00:22<00:06, 455.96it/s]\u001b[A\n",
      " 79%|███████▉  | 10695/13467 [00:22<00:05, 464.14it/s]\u001b[A\n",
      " 80%|███████▉  | 10742/13467 [00:22<00:05, 460.34it/s]\u001b[A\n",
      " 80%|████████  | 10793/13467 [00:23<00:05, 472.92it/s]\u001b[A\n",
      " 81%|████████  | 10841/13467 [00:23<00:05, 461.33it/s]\u001b[A\n",
      " 81%|████████  | 10888/13467 [00:23<00:05, 461.80it/s]\u001b[A\n",
      " 81%|████████  | 10936/13467 [00:23<00:05, 464.14it/s]\u001b[A\n",
      " 82%|████████▏ | 10987/13467 [00:23<00:05, 475.66it/s]\u001b[A\n",
      " 82%|████████▏ | 11035/13467 [00:23<00:05, 451.38it/s]\u001b[A\n",
      " 82%|████████▏ | 11082/13467 [00:23<00:05, 455.84it/s]\u001b[A\n",
      " 83%|████████▎ | 11128/13467 [00:23<00:05, 415.89it/s]\u001b[A\n",
      " 83%|████████▎ | 11173/13467 [00:23<00:05, 424.92it/s]\u001b[A\n",
      " 83%|████████▎ | 11220/13467 [00:24<00:05, 435.31it/s]\u001b[A\n",
      " 84%|████████▎ | 11265/13467 [00:24<00:05, 436.62it/s]\u001b[A\n",
      " 84%|████████▍ | 11310/13467 [00:24<00:05, 430.65it/s]\u001b[A\n",
      " 84%|████████▍ | 11354/13467 [00:24<00:04, 424.38it/s]\u001b[A\n",
      " 85%|████████▍ | 11397/13467 [00:24<00:04, 416.17it/s]\u001b[A\n",
      " 85%|████████▌ | 11447/13467 [00:24<00:04, 437.99it/s]\u001b[A\n",
      " 85%|████████▌ | 11496/13467 [00:24<00:04, 451.23it/s]\u001b[A\n",
      " 86%|████████▌ | 11542/13467 [00:24<00:04, 452.71it/s]\u001b[A\n",
      " 86%|████████▌ | 11588/13467 [00:24<00:04, 441.34it/s]\u001b[A\n",
      " 86%|████████▋ | 11637/13467 [00:24<00:04, 453.95it/s]\u001b[A\n",
      " 87%|████████▋ | 11688/13467 [00:25<00:03, 467.94it/s]\u001b[A\n",
      " 87%|████████▋ | 11738/13467 [00:25<00:03, 474.55it/s]\u001b[A\n",
      " 88%|████████▊ | 11786/13467 [00:25<00:03, 471.43it/s]\u001b[A\n",
      " 88%|████████▊ | 11834/13467 [00:25<00:03, 465.31it/s]\u001b[A\n",
      " 88%|████████▊ | 11881/13467 [00:25<00:03, 462.66it/s]\u001b[A\n",
      " 89%|████████▊ | 11928/13467 [00:25<00:03, 459.60it/s]\u001b[A\n",
      " 89%|████████▉ | 11975/13467 [00:25<00:03, 459.61it/s]\u001b[A\n",
      " 89%|████████▉ | 12023/13467 [00:25<00:03, 463.30it/s]\u001b[A\n",
      " 90%|████████▉ | 12071/13467 [00:25<00:03, 464.78it/s]\u001b[A\n",
      " 90%|████████▉ | 12118/13467 [00:25<00:02, 466.21it/s]\u001b[A\n",
      " 90%|█████████ | 12169/13467 [00:26<00:02, 475.72it/s]\u001b[A\n",
      " 91%|█████████ | 12217/13467 [00:26<00:02, 464.65it/s]\u001b[A\n",
      " 91%|█████████ | 12270/13467 [00:26<00:02, 481.79it/s]\u001b[A\n",
      " 91%|█████████▏| 12319/13467 [00:26<00:02, 475.63it/s]\u001b[A\n",
      " 92%|█████████▏| 12367/13467 [00:26<00:02, 474.69it/s]\u001b[A\n",
      " 92%|█████████▏| 12415/13467 [00:26<00:02, 459.44it/s]\u001b[A\n",
      " 93%|█████████▎| 12462/13467 [00:26<00:02, 455.39it/s]\u001b[A\n",
      " 93%|█████████▎| 12510/13467 [00:26<00:02, 461.17it/s]\u001b[A\n",
      " 93%|█████████▎| 12557/13467 [00:26<00:01, 462.54it/s]\u001b[A\n",
      " 94%|█████████▎| 12604/13467 [00:27<00:01, 461.29it/s]\u001b[A\n",
      " 94%|█████████▍| 12651/13467 [00:27<00:01, 455.08it/s]\u001b[A\n",
      " 94%|█████████▍| 12699/13467 [00:27<00:01, 461.10it/s]\u001b[A\n",
      " 95%|█████████▍| 12752/13467 [00:27<00:01, 477.48it/s]\u001b[A\n",
      " 95%|█████████▌| 12802/13467 [00:27<00:01, 480.60it/s]\u001b[A\n",
      " 95%|█████████▌| 12851/13467 [00:27<00:01, 465.47it/s]\u001b[A\n",
      " 96%|█████████▌| 12898/13467 [00:27<00:01, 452.74it/s]\u001b[A\n",
      " 96%|█████████▌| 12944/13467 [00:27<00:01, 441.49it/s]\u001b[A\n",
      " 96%|█████████▋| 12993/13467 [00:27<00:01, 452.78it/s]\u001b[A\n",
      " 97%|█████████▋| 13049/13467 [00:27<00:00, 479.94it/s]\u001b[A\n",
      " 97%|█████████▋| 13098/13467 [00:28<00:00, 471.42it/s]\u001b[A\n",
      " 98%|█████████▊| 13149/13467 [00:28<00:00, 481.33it/s]\u001b[A\n",
      " 98%|█████████▊| 13198/13467 [00:28<00:00, 479.08it/s]\u001b[A\n",
      " 98%|█████████▊| 13247/13467 [00:28<00:00, 453.93it/s]\u001b[A\n",
      " 99%|█████████▉| 13299/13467 [00:28<00:00, 471.85it/s]\u001b[A\n",
      " 99%|█████████▉| 13347/13467 [00:28<00:00, 455.31it/s]\u001b[A\n",
      " 99%|█████████▉| 13394/13467 [00:28<00:00, 458.55it/s]\u001b[A\n",
      "100%|██████████| 13467/13467 [00:28<00:00, 466.55it/s]"
     ]
    },
    {
     "name": "stdout",
     "output_type": "stream",
     "text": [
      "13467\n",
      "300\n"
     ]
    },
    {
     "name": "stderr",
     "output_type": "stream",
     "text": [
      "\n"
     ]
    }
   ],
   "source": [
    "# average Word2Vec\n",
    "# compute average word2vec for each review.\n",
    "train_tfidf_w2v_essays = []; # the avg-w2v for each sentence/review is stored in this list\n",
    "for sentence in tqdm(project_data_train['preprocessed_essays']): # for each review/sentence\n",
    "    vector = np.zeros(300) # as word vectors are of zero length\n",
    "    tf_idf_weight =0; # num of words with a valid vector in the sentence/review\n",
    "    for word in sentence.split(): # for each word in a review/sentence\n",
    "        if (word in glove_words) and (word in tfidf_words):\n",
    "            vec = model[word] # getting the vector for each word\n",
    "            # here we are multiplying idf value(dictionary[word]) and the tf value((sentence.count(word)/len(sentence.split())))\n",
    "            tf_idf = dictionary[word]*(sentence.count(word)/len(sentence.split())) # getting the tfidf value for each word\n",
    "            vector += (vec * tf_idf) # calculating tfidf weighted w2v\n",
    "            tf_idf_weight += tf_idf\n",
    "    if tf_idf_weight != 0:\n",
    "        vector /= tf_idf_weight\n",
    "    train_tfidf_w2v_essays.append(vector)\n",
    "\n",
    "print(len(train_tfidf_w2v_essays))\n",
    "print(len(train_tfidf_w2v_essays[0]))"
   ]
  },
  {
   "cell_type": "code",
   "execution_count": 158,
   "metadata": {
    "colab": {
     "base_uri": "https://localhost:8080/",
     "height": 1000
    },
    "colab_type": "code",
    "executionInfo": {
     "elapsed": 110382,
     "status": "ok",
     "timestamp": 1594367113836,
     "user": {
      "displayName": "Venkatesh Gupta",
      "photoUrl": "https://lh3.googleusercontent.com/a-/AOh14Gg8U_KUdnX4JWp6we7eGz6jpyKj3zYYWCk4s2LqwQ=s64",
      "userId": "13664137025209273415"
     },
     "user_tz": -330
    },
    "id": "OPEMa-w-u6gM",
    "outputId": "683e012c-1016-4e4e-9b23-6a7c3059a8bf"
   },
   "outputs": [
    {
     "name": "stderr",
     "output_type": "stream",
     "text": [
      "\n",
      "  0%|          | 0/6633 [00:00<?, ?it/s]\u001b[A\n",
      "  1%|          | 49/6633 [00:00<00:13, 488.12it/s]\u001b[A\n",
      "  1%|▏         | 97/6633 [00:00<00:13, 484.71it/s]\u001b[A\n",
      "  2%|▏         | 143/6633 [00:00<00:13, 474.85it/s]\u001b[A\n",
      "  3%|▎         | 191/6633 [00:00<00:13, 474.35it/s]\u001b[A\n",
      "  3%|▎         | 228/6633 [00:00<00:14, 436.08it/s]\u001b[A\n",
      "  4%|▍         | 275/6633 [00:00<00:14, 443.80it/s]\u001b[A\n",
      "  5%|▍         | 320/6633 [00:00<00:14, 445.15it/s]\u001b[A\n",
      "  6%|▌         | 368/6633 [00:00<00:13, 453.62it/s]\u001b[A\n",
      "  6%|▋         | 419/6633 [00:00<00:13, 468.90it/s]\u001b[A\n",
      "  7%|▋         | 467/6633 [00:01<00:13, 471.59it/s]\u001b[A\n",
      "  8%|▊         | 514/6633 [00:01<00:13, 452.65it/s]\u001b[A\n",
      "  8%|▊         | 559/6633 [00:01<00:13, 450.53it/s]\u001b[A\n",
      "  9%|▉         | 604/6633 [00:01<00:13, 449.29it/s]\u001b[A\n",
      " 10%|▉         | 652/6633 [00:01<00:13, 457.09it/s]\u001b[A\n",
      " 11%|█         | 703/6633 [00:01<00:12, 470.86it/s]\u001b[A\n",
      " 11%|█▏        | 751/6633 [00:01<00:12, 458.99it/s]\u001b[A\n",
      " 12%|█▏        | 800/6633 [00:01<00:12, 466.46it/s]\u001b[A\n",
      " 13%|█▎        | 847/6633 [00:01<00:12, 463.74it/s]\u001b[A\n",
      " 14%|█▎        | 896/6633 [00:01<00:12, 470.68it/s]\u001b[A\n",
      " 14%|█▍        | 945/6633 [00:02<00:11, 475.73it/s]\u001b[A\n",
      " 15%|█▌        | 995/6633 [00:02<00:11, 481.03it/s]\u001b[A\n",
      " 16%|█▌        | 1044/6633 [00:02<00:12, 464.67it/s]\u001b[A\n",
      " 16%|█▋        | 1092/6633 [00:02<00:11, 468.15it/s]\u001b[A\n",
      " 17%|█▋        | 1139/6633 [00:02<00:11, 460.74it/s]\u001b[A\n",
      " 18%|█▊        | 1194/6633 [00:02<00:11, 483.27it/s]\u001b[A\n",
      " 19%|█▉        | 1245/6633 [00:02<00:11, 489.59it/s]\u001b[A\n",
      " 20%|█▉        | 1295/6633 [00:02<00:11, 473.45it/s]\u001b[A\n",
      " 20%|██        | 1343/6633 [00:02<00:11, 471.90it/s]\u001b[A\n",
      " 21%|██        | 1395/6633 [00:02<00:10, 483.48it/s]\u001b[A\n",
      " 22%|██▏       | 1447/6633 [00:03<00:10, 491.80it/s]\u001b[A\n",
      " 23%|██▎       | 1497/6633 [00:03<00:10, 492.07it/s]\u001b[A\n",
      " 23%|██▎       | 1549/6633 [00:03<00:10, 496.94it/s]\u001b[A\n",
      " 24%|██▍       | 1599/6633 [00:03<00:10, 487.90it/s]\u001b[A\n",
      " 25%|██▍       | 1651/6633 [00:03<00:10, 496.05it/s]\u001b[A\n",
      " 26%|██▌       | 1701/6633 [00:03<00:09, 493.20it/s]\u001b[A\n",
      " 26%|██▋       | 1751/6633 [00:03<00:10, 486.62it/s]\u001b[A\n",
      " 27%|██▋       | 1800/6633 [00:03<00:10, 474.39it/s]\u001b[A\n",
      " 28%|██▊       | 1848/6633 [00:03<00:10, 470.09it/s]\u001b[A\n",
      " 29%|██▊       | 1898/6633 [00:04<00:09, 478.31it/s]\u001b[A\n",
      " 29%|██▉       | 1946/6633 [00:04<00:09, 475.80it/s]\u001b[A\n",
      " 30%|███       | 1994/6633 [00:04<00:09, 472.47it/s]\u001b[A\n",
      " 31%|███       | 2042/6633 [00:04<00:10, 455.89it/s]\u001b[A\n",
      " 32%|███▏      | 2092/6633 [00:04<00:09, 466.26it/s]\u001b[A\n",
      " 32%|███▏      | 2140/6633 [00:04<00:09, 465.65it/s]\u001b[A\n",
      " 33%|███▎      | 2187/6633 [00:04<00:09, 447.03it/s]\u001b[A\n",
      " 34%|███▎      | 2236/6633 [00:04<00:09, 459.05it/s]\u001b[A\n",
      " 34%|███▍      | 2287/6633 [00:04<00:09, 471.42it/s]\u001b[A\n",
      " 35%|███▌      | 2338/6633 [00:04<00:08, 480.15it/s]\u001b[A\n",
      " 36%|███▌      | 2390/6633 [00:05<00:08, 491.06it/s]\u001b[A\n",
      " 37%|███▋      | 2440/6633 [00:05<00:08, 493.66it/s]\u001b[A\n",
      " 38%|███▊      | 2490/6633 [00:05<00:08, 488.75it/s]\u001b[A\n",
      " 38%|███▊      | 2539/6633 [00:05<00:08, 468.76it/s]\u001b[A\n",
      " 39%|███▉      | 2587/6633 [00:05<00:09, 448.90it/s]\u001b[A\n",
      " 40%|███▉      | 2639/6633 [00:05<00:08, 466.19it/s]\u001b[A\n",
      " 41%|████      | 2687/6633 [00:05<00:08, 464.08it/s]\u001b[A\n",
      " 41%|████      | 2735/6633 [00:05<00:08, 468.52it/s]\u001b[A\n",
      " 42%|████▏     | 2783/6633 [00:05<00:08, 463.66it/s]\u001b[A\n",
      " 43%|████▎     | 2832/6633 [00:06<00:08, 471.04it/s]\u001b[A\n",
      " 43%|████▎     | 2882/6633 [00:06<00:07, 477.37it/s]\u001b[A\n",
      " 44%|████▍     | 2930/6633 [00:06<00:08, 460.11it/s]\u001b[A\n",
      " 45%|████▌     | 2988/6633 [00:06<00:07, 487.12it/s]\u001b[A\n",
      " 46%|████▌     | 3038/6633 [00:06<00:07, 486.28it/s]\u001b[A\n",
      " 47%|████▋     | 3088/6633 [00:06<00:07, 479.60it/s]\u001b[A\n",
      " 47%|████▋     | 3138/6633 [00:06<00:07, 483.87it/s]\u001b[A\n",
      " 48%|████▊     | 3187/6633 [00:06<00:07, 469.81it/s]\u001b[A\n",
      " 49%|████▉     | 3235/6633 [00:06<00:07, 470.44it/s]\u001b[A\n",
      " 49%|████▉     | 3283/6633 [00:06<00:07, 468.48it/s]\u001b[A\n",
      " 50%|█████     | 3333/6633 [00:07<00:06, 475.71it/s]\u001b[A\n",
      " 51%|█████     | 3381/6633 [00:07<00:06, 474.29it/s]\u001b[A\n",
      " 52%|█████▏    | 3429/6633 [00:07<00:06, 471.17it/s]\u001b[A\n",
      " 52%|█████▏    | 3478/6633 [00:07<00:06, 476.61it/s]\u001b[A\n",
      " 53%|█████▎    | 3528/6633 [00:07<00:06, 482.85it/s]\u001b[A\n",
      " 54%|█████▍    | 3577/6633 [00:07<00:06, 480.70it/s]\u001b[A\n",
      " 55%|█████▍    | 3626/6633 [00:07<00:06, 480.01it/s]\u001b[A\n",
      " 55%|█████▌    | 3677/6633 [00:07<00:06, 486.53it/s]\u001b[A\n",
      " 56%|█████▌    | 3728/6633 [00:07<00:05, 490.31it/s]\u001b[A\n",
      " 57%|█████▋    | 3778/6633 [00:07<00:05, 493.03it/s]\u001b[A\n",
      " 58%|█████▊    | 3829/6633 [00:08<00:05, 496.03it/s]\u001b[A\n",
      " 58%|█████▊    | 3879/6633 [00:08<00:05, 487.84it/s]\u001b[A\n",
      " 59%|█████▉    | 3933/6633 [00:08<00:05, 502.04it/s]\u001b[A\n",
      " 60%|██████    | 3988/6633 [00:08<00:05, 515.46it/s]\u001b[A\n",
      " 61%|██████    | 4043/6633 [00:08<00:04, 521.66it/s]\u001b[A\n",
      " 62%|██████▏   | 4096/6633 [00:08<00:05, 506.30it/s]\u001b[A\n",
      " 63%|██████▎   | 4147/6633 [00:08<00:05, 487.23it/s]\u001b[A\n",
      " 63%|██████▎   | 4197/6633 [00:08<00:05, 468.91it/s]\u001b[A\n",
      " 64%|██████▍   | 4249/6633 [00:08<00:04, 482.54it/s]\u001b[A\n",
      " 65%|██████▍   | 4298/6633 [00:09<00:04, 481.32it/s]\u001b[A\n",
      " 66%|██████▌   | 4347/6633 [00:09<00:04, 469.08it/s]\u001b[A\n",
      " 66%|██████▋   | 4395/6633 [00:09<00:04, 467.51it/s]\u001b[A\n",
      " 67%|██████▋   | 4442/6633 [00:09<00:04, 460.59it/s]\u001b[A\n",
      " 68%|██████▊   | 4490/6633 [00:09<00:04, 464.67it/s]\u001b[A\n",
      " 68%|██████▊   | 4537/6633 [00:09<00:04, 457.73it/s]\u001b[A\n",
      " 69%|██████▉   | 4586/6633 [00:09<00:04, 465.69it/s]\u001b[A\n",
      " 70%|██████▉   | 4633/6633 [00:09<00:04, 453.85it/s]\u001b[A\n",
      " 71%|███████   | 4684/6633 [00:09<00:04, 469.21it/s]\u001b[A\n",
      " 71%|███████▏  | 4734/6633 [00:09<00:03, 476.50it/s]\u001b[A\n",
      " 72%|███████▏  | 4782/6633 [00:10<00:03, 477.39it/s]\u001b[A\n",
      " 73%|███████▎  | 4830/6633 [00:10<00:03, 474.04it/s]\u001b[A\n",
      " 74%|███████▎  | 4878/6633 [00:10<00:03, 463.97it/s]\u001b[A\n",
      " 74%|███████▍  | 4925/6633 [00:10<00:03, 453.40it/s]\u001b[A\n",
      " 75%|███████▌  | 4976/6633 [00:10<00:03, 468.43it/s]\u001b[A\n",
      " 76%|███████▌  | 5024/6633 [00:10<00:03, 463.68it/s]\u001b[A\n",
      " 76%|███████▋  | 5071/6633 [00:10<00:03, 458.47it/s]\u001b[A\n",
      " 77%|███████▋  | 5123/6633 [00:10<00:03, 473.27it/s]\u001b[A\n",
      " 78%|███████▊  | 5171/6633 [00:10<00:03, 460.59it/s]\u001b[A\n",
      " 79%|███████▊  | 5218/6633 [00:11<00:03, 457.25it/s]\u001b[A\n",
      " 79%|███████▉  | 5267/6633 [00:11<00:02, 464.89it/s]\u001b[A\n",
      " 80%|████████  | 5315/6633 [00:11<00:02, 469.12it/s]\u001b[A\n",
      " 81%|████████  | 5366/6633 [00:11<00:02, 475.90it/s]\u001b[A\n",
      " 82%|████████▏ | 5415/6633 [00:11<00:02, 478.26it/s]\u001b[A\n",
      " 82%|████████▏ | 5463/6633 [00:11<00:02, 473.12it/s]\u001b[A\n",
      " 83%|████████▎ | 5511/6633 [00:11<00:02, 466.18it/s]\u001b[A\n",
      " 84%|████████▍ | 5558/6633 [00:11<00:02, 457.77it/s]\u001b[A\n",
      " 85%|████████▍ | 5605/6633 [00:11<00:02, 460.39it/s]\u001b[A\n",
      " 85%|████████▌ | 5659/6633 [00:11<00:02, 480.64it/s]\u001b[A\n",
      " 86%|████████▌ | 5710/6633 [00:12<00:01, 485.56it/s]\u001b[A\n",
      " 87%|████████▋ | 5759/6633 [00:12<00:01, 475.34it/s]\u001b[A\n",
      " 88%|████████▊ | 5807/6633 [00:12<00:01, 466.49it/s]\u001b[A\n",
      " 88%|████████▊ | 5854/6633 [00:12<00:01, 454.66it/s]\u001b[A\n",
      " 89%|████████▉ | 5900/6633 [00:12<00:01, 449.35it/s]\u001b[A\n",
      " 90%|████████▉ | 5946/6633 [00:12<00:01, 450.90it/s]\u001b[A\n",
      " 90%|█████████ | 5994/6633 [00:12<00:01, 459.20it/s]\u001b[A\n",
      " 91%|█████████ | 6043/6633 [00:12<00:01, 467.27it/s]\u001b[A\n",
      " 92%|█████████▏| 6090/6633 [00:12<00:01, 462.28it/s]\u001b[A\n",
      " 93%|█████████▎| 6138/6633 [00:12<00:01, 465.44it/s]\u001b[A\n",
      " 93%|█████████▎| 6185/6633 [00:13<00:00, 461.53it/s]\u001b[A\n",
      " 94%|█████████▍| 6234/6633 [00:13<00:00, 468.52it/s]\u001b[A\n",
      " 95%|█████████▍| 6281/6633 [00:13<00:00, 466.59it/s]\u001b[A\n",
      " 95%|█████████▌| 6331/6633 [00:13<00:00, 475.09it/s]\u001b[A\n",
      " 96%|█████████▌| 6379/6633 [00:13<00:00, 470.06it/s]\u001b[A\n",
      " 97%|█████████▋| 6429/6633 [00:13<00:00, 477.98it/s]\u001b[A\n",
      " 98%|█████████▊| 6477/6633 [00:13<00:00, 474.82it/s]\u001b[A\n",
      " 98%|█████████▊| 6525/6633 [00:13<00:00, 466.65it/s]\u001b[A\n",
      " 99%|█████████▉| 6572/6633 [00:13<00:00, 456.26it/s]\u001b[A\n",
      "100%|██████████| 6633/6633 [00:14<00:00, 472.30it/s]"
     ]
    },
    {
     "name": "stdout",
     "output_type": "stream",
     "text": [
      "6633\n",
      "300\n"
     ]
    },
    {
     "name": "stderr",
     "output_type": "stream",
     "text": [
      "\n"
     ]
    }
   ],
   "source": [
    "# average Word2Vec\n",
    "# compute average word2vec for each review.\n",
    "cv_tfidf_w2v_essays = []; # the avg-w2v for each sentence/review is stored in this list\n",
    "for sentence in tqdm(project_data_cv['preprocessed_essays']): # for each review/sentence\n",
    "    vector = np.zeros(300) # as word vectors are of zero length\n",
    "    tf_idf_weight =0; # num of words with a valid vector in the sentence/review\n",
    "    for word in sentence.split(): # for each word in a review/sentence\n",
    "        if (word in glove_words) and (word in tfidf_words):\n",
    "            vec = model[word] # getting the vector for each word\n",
    "            # here we are multiplying idf value(dictionary[word]) and the tf value((sentence.count(word)/len(sentence.split())))\n",
    "            tf_idf = dictionary[word]*(sentence.count(word)/len(sentence.split())) # getting the tfidf value for each word\n",
    "            vector += (vec * tf_idf) # calculating tfidf weighted w2v\n",
    "            tf_idf_weight += tf_idf\n",
    "    if tf_idf_weight != 0:\n",
    "        vector /= tf_idf_weight\n",
    "    cv_tfidf_w2v_essays.append(vector)\n",
    "\n",
    "print(len(cv_tfidf_w2v_essays))\n",
    "print(len(cv_tfidf_w2v_essays[0]))"
   ]
  },
  {
   "cell_type": "code",
   "execution_count": 159,
   "metadata": {
    "colab": {
     "base_uri": "https://localhost:8080/",
     "height": 1000
    },
    "colab_type": "code",
    "executionInfo": {
     "elapsed": 131571,
     "status": "ok",
     "timestamp": 1594367135035,
     "user": {
      "displayName": "Venkatesh Gupta",
      "photoUrl": "https://lh3.googleusercontent.com/a-/AOh14Gg8U_KUdnX4JWp6we7eGz6jpyKj3zYYWCk4s2LqwQ=s64",
      "userId": "13664137025209273415"
     },
     "user_tz": -330
    },
    "id": "NRQ7bjfou-i4",
    "outputId": "1dc59bdd-75b2-46e6-f6b8-1b2a387e2ccf"
   },
   "outputs": [
    {
     "name": "stderr",
     "output_type": "stream",
     "text": [
      "\n",
      "  0%|          | 0/9900 [00:00<?, ?it/s]\u001b[A\n",
      "  0%|          | 45/9900 [00:00<00:22, 445.09it/s]\u001b[A\n",
      "  1%|          | 89/9900 [00:00<00:22, 442.45it/s]\u001b[A\n",
      "  1%|▏         | 142/9900 [00:00<00:21, 462.39it/s]\u001b[A\n",
      "  2%|▏         | 186/9900 [00:00<00:21, 449.52it/s]\u001b[A\n",
      "  2%|▏         | 235/9900 [00:00<00:21, 458.74it/s]\u001b[A\n",
      "  3%|▎         | 281/9900 [00:00<00:20, 458.75it/s]\u001b[A\n",
      "  3%|▎         | 328/9900 [00:00<00:20, 460.31it/s]\u001b[A\n",
      "  4%|▍         | 375/9900 [00:00<00:20, 461.39it/s]\u001b[A\n",
      "  4%|▍         | 424/9900 [00:00<00:20, 468.56it/s]\u001b[A\n",
      "  5%|▍         | 473/9900 [00:01<00:19, 474.67it/s]\u001b[A\n",
      "  5%|▌         | 521/9900 [00:01<00:19, 472.37it/s]\u001b[A\n",
      "  6%|▌         | 573/9900 [00:01<00:19, 485.56it/s]\u001b[A\n",
      "  6%|▋         | 622/9900 [00:01<00:19, 470.24it/s]\u001b[A\n",
      "  7%|▋         | 669/9900 [00:01<00:19, 464.52it/s]\u001b[A\n",
      "  7%|▋         | 719/9900 [00:01<00:19, 472.31it/s]\u001b[A\n",
      "  8%|▊         | 767/9900 [00:01<00:19, 459.47it/s]\u001b[A\n",
      "  8%|▊         | 813/9900 [00:01<00:20, 445.34it/s]\u001b[A\n",
      "  9%|▊         | 860/9900 [00:01<00:20, 450.82it/s]\u001b[A\n",
      "  9%|▉         | 906/9900 [00:01<00:20, 449.16it/s]\u001b[A\n",
      " 10%|▉         | 951/9900 [00:02<00:19, 448.46it/s]\u001b[A\n",
      " 10%|█         | 1000/9900 [00:02<00:19, 459.10it/s]\u001b[A\n",
      " 11%|█         | 1047/9900 [00:02<00:19, 453.97it/s]\u001b[A\n",
      " 11%|█         | 1093/9900 [00:02<00:21, 419.04it/s]\u001b[A\n",
      " 12%|█▏        | 1139/9900 [00:02<00:20, 429.00it/s]\u001b[A\n",
      " 12%|█▏        | 1183/9900 [00:02<00:20, 427.80it/s]\u001b[A\n",
      " 12%|█▏        | 1227/9900 [00:02<00:20, 419.98it/s]\u001b[A\n",
      " 13%|█▎        | 1278/9900 [00:02<00:19, 442.80it/s]\u001b[A\n",
      " 13%|█▎        | 1325/9900 [00:02<00:19, 446.11it/s]\u001b[A\n",
      " 14%|█▍        | 1374/9900 [00:03<00:18, 456.44it/s]\u001b[A\n",
      " 14%|█▍        | 1424/9900 [00:03<00:18, 465.33it/s]\u001b[A\n",
      " 15%|█▍        | 1471/9900 [00:03<00:18, 452.18it/s]\u001b[A\n",
      " 15%|█▌        | 1526/9900 [00:03<00:17, 474.74it/s]\u001b[A\n",
      " 16%|█▌        | 1582/9900 [00:03<00:16, 496.33it/s]\u001b[A\n",
      " 16%|█▋        | 1633/9900 [00:03<00:16, 494.84it/s]\u001b[A\n",
      " 17%|█▋        | 1683/9900 [00:03<00:16, 485.22it/s]\u001b[A\n",
      " 17%|█▋        | 1732/9900 [00:03<00:17, 467.73it/s]\u001b[A\n",
      " 18%|█▊        | 1780/9900 [00:03<00:17, 462.23it/s]\u001b[A\n",
      " 18%|█▊        | 1829/9900 [00:03<00:17, 468.57it/s]\u001b[A\n",
      " 19%|█▉        | 1879/9900 [00:04<00:16, 476.45it/s]\u001b[A\n",
      " 19%|█▉        | 1930/9900 [00:04<00:16, 485.53it/s]\u001b[A\n",
      " 20%|██        | 1980/9900 [00:04<00:16, 488.38it/s]\u001b[A\n",
      " 21%|██        | 2032/9900 [00:04<00:15, 495.31it/s]\u001b[A\n",
      " 21%|██        | 2082/9900 [00:04<00:16, 487.43it/s]\u001b[A\n",
      " 22%|██▏       | 2134/9900 [00:04<00:15, 492.68it/s]\u001b[A\n",
      " 22%|██▏       | 2184/9900 [00:04<00:16, 468.84it/s]\u001b[A\n",
      " 23%|██▎       | 2232/9900 [00:04<00:16, 464.69it/s]\u001b[A\n",
      " 23%|██▎       | 2279/9900 [00:04<00:16, 458.03it/s]\u001b[A\n",
      " 24%|██▎       | 2329/9900 [00:05<00:16, 469.54it/s]\u001b[A\n",
      " 24%|██▍       | 2377/9900 [00:05<00:16, 461.27it/s]\u001b[A\n",
      " 24%|██▍       | 2424/9900 [00:05<00:16, 459.21it/s]\u001b[A\n",
      " 25%|██▍       | 2471/9900 [00:05<00:16, 457.73it/s]\u001b[A\n",
      " 25%|██▌       | 2517/9900 [00:05<00:16, 451.85it/s]\u001b[A\n",
      " 26%|██▌       | 2567/9900 [00:05<00:15, 465.24it/s]\u001b[A\n",
      " 26%|██▋       | 2620/9900 [00:05<00:15, 481.20it/s]\u001b[A\n",
      " 27%|██▋       | 2669/9900 [00:05<00:15, 463.20it/s]\u001b[A\n",
      " 27%|██▋       | 2716/9900 [00:05<00:16, 447.24it/s]\u001b[A\n",
      " 28%|██▊       | 2764/9900 [00:05<00:15, 456.14it/s]\u001b[A\n",
      " 28%|██▊       | 2810/9900 [00:06<00:15, 454.35it/s]\u001b[A\n",
      " 29%|██▉       | 2858/9900 [00:06<00:15, 460.77it/s]\u001b[A\n",
      " 29%|██▉       | 2905/9900 [00:06<00:15, 462.38it/s]\u001b[A\n",
      " 30%|██▉       | 2952/9900 [00:06<00:15, 460.04it/s]\u001b[A\n",
      " 30%|███       | 3001/9900 [00:06<00:14, 466.69it/s]\u001b[A\n",
      " 31%|███       | 3055/9900 [00:06<00:14, 486.10it/s]\u001b[A\n",
      " 31%|███▏      | 3106/9900 [00:06<00:13, 491.53it/s]\u001b[A\n",
      " 32%|███▏      | 3156/9900 [00:06<00:13, 483.15it/s]\u001b[A\n",
      " 32%|███▏      | 3205/9900 [00:06<00:13, 484.46it/s]\u001b[A\n",
      " 33%|███▎      | 3254/9900 [00:06<00:14, 461.52it/s]\u001b[A\n",
      " 33%|███▎      | 3301/9900 [00:07<00:14, 454.42it/s]\u001b[A\n",
      " 34%|███▍      | 3348/9900 [00:07<00:14, 458.11it/s]\u001b[A\n",
      " 34%|███▍      | 3396/9900 [00:07<00:14, 461.62it/s]\u001b[A\n",
      " 35%|███▍      | 3445/9900 [00:07<00:13, 468.43it/s]\u001b[A\n",
      " 35%|███▌      | 3492/9900 [00:07<00:13, 467.16it/s]\u001b[A\n",
      " 36%|███▌      | 3541/9900 [00:07<00:13, 472.47it/s]\u001b[A\n",
      " 36%|███▋      | 3589/9900 [00:07<00:13, 469.88it/s]\u001b[A\n",
      " 37%|███▋      | 3638/9900 [00:07<00:13, 474.70it/s]\u001b[A\n",
      " 37%|███▋      | 3686/9900 [00:07<00:13, 462.59it/s]\u001b[A\n",
      " 38%|███▊      | 3742/9900 [00:08<00:12, 486.06it/s]\u001b[A\n",
      " 38%|███▊      | 3791/9900 [00:08<00:12, 479.57it/s]\u001b[A\n",
      " 39%|███▉      | 3843/9900 [00:08<00:12, 489.64it/s]\u001b[A\n",
      " 39%|███▉      | 3893/9900 [00:08<00:12, 482.13it/s]\u001b[A\n",
      " 40%|███▉      | 3942/9900 [00:08<00:12, 483.92it/s]\u001b[A\n",
      " 40%|████      | 3991/9900 [00:08<00:12, 474.67it/s]\u001b[A\n",
      " 41%|████      | 4040/9900 [00:08<00:12, 478.73it/s]\u001b[A\n",
      " 41%|████▏     | 4089/9900 [00:08<00:12, 481.35it/s]\u001b[A\n",
      " 42%|████▏     | 4138/9900 [00:08<00:11, 480.74it/s]\u001b[A\n",
      " 42%|████▏     | 4187/9900 [00:08<00:12, 469.89it/s]\u001b[A\n",
      " 43%|████▎     | 4236/9900 [00:09<00:11, 474.77it/s]\u001b[A\n",
      " 43%|████▎     | 4288/9900 [00:09<00:11, 483.64it/s]\u001b[A\n",
      " 44%|████▍     | 4339/9900 [00:09<00:11, 488.38it/s]\u001b[A\n",
      " 44%|████▍     | 4388/9900 [00:09<00:11, 484.87it/s]\u001b[A\n",
      " 45%|████▍     | 4438/9900 [00:09<00:11, 489.29it/s]\u001b[A\n",
      " 45%|████▌     | 4487/9900 [00:09<00:11, 482.50it/s]\u001b[A\n",
      " 46%|████▌     | 4542/9900 [00:09<00:10, 500.27it/s]\u001b[A\n",
      " 46%|████▋     | 4593/9900 [00:09<00:10, 484.39it/s]\u001b[A\n",
      " 47%|████▋     | 4647/9900 [00:09<00:10, 499.39it/s]\u001b[A\n",
      " 47%|████▋     | 4698/9900 [00:09<00:10, 499.36it/s]\u001b[A\n",
      " 48%|████▊     | 4750/9900 [00:10<00:10, 498.81it/s]\u001b[A\n",
      " 48%|████▊     | 4801/9900 [00:10<00:10, 492.29it/s]\u001b[A\n",
      " 49%|████▉     | 4851/9900 [00:10<00:10, 474.54it/s]\u001b[A\n",
      " 49%|████▉     | 4899/9900 [00:10<00:10, 467.51it/s]\u001b[A\n",
      " 50%|████▉     | 4947/9900 [00:10<00:10, 469.55it/s]\u001b[A\n",
      " 50%|█████     | 4995/9900 [00:10<00:10, 463.58it/s]\u001b[A\n",
      " 51%|█████     | 5042/9900 [00:10<00:10, 463.98it/s]\u001b[A\n",
      " 51%|█████▏    | 5089/9900 [00:10<00:10, 464.65it/s]\u001b[A\n",
      " 52%|█████▏    | 5137/9900 [00:10<00:10, 467.06it/s]\u001b[A\n",
      " 52%|█████▏    | 5184/9900 [00:11<00:10, 466.14it/s]\u001b[A\n",
      " 53%|█████▎    | 5236/9900 [00:11<00:09, 481.07it/s]\u001b[A\n",
      " 53%|█████▎    | 5285/9900 [00:11<00:09, 474.34it/s]\u001b[A\n",
      " 54%|█████▍    | 5333/9900 [00:11<00:10, 452.10it/s]\u001b[A\n",
      " 54%|█████▍    | 5379/9900 [00:11<00:10, 450.22it/s]\u001b[A\n",
      " 55%|█████▍    | 5427/9900 [00:11<00:09, 457.65it/s]\u001b[A\n",
      " 55%|█████▌    | 5473/9900 [00:11<00:09, 451.39it/s]\u001b[A\n",
      " 56%|█████▌    | 5521/9900 [00:11<00:09, 456.09it/s]\u001b[A\n",
      " 56%|█████▌    | 5567/9900 [00:11<00:09, 450.43it/s]\u001b[A\n",
      " 57%|█████▋    | 5614/9900 [00:11<00:09, 452.29it/s]\u001b[A\n",
      " 57%|█████▋    | 5660/9900 [00:12<00:09, 450.39it/s]\u001b[A\n",
      " 58%|█████▊    | 5706/9900 [00:12<00:09, 445.22it/s]\u001b[A\n",
      " 58%|█████▊    | 5753/9900 [00:12<00:09, 452.14it/s]\u001b[A\n",
      " 59%|█████▊    | 5801/9900 [00:12<00:08, 457.16it/s]\u001b[A\n",
      " 59%|█████▉    | 5851/9900 [00:12<00:08, 466.56it/s]\u001b[A\n",
      " 60%|█████▉    | 5901/9900 [00:12<00:08, 475.54it/s]\u001b[A\n",
      " 60%|██████    | 5952/9900 [00:12<00:08, 485.38it/s]\u001b[A\n",
      " 61%|██████    | 6001/9900 [00:12<00:08, 477.59it/s]\u001b[A\n",
      " 61%|██████    | 6049/9900 [00:12<00:08, 453.00it/s]\u001b[A\n",
      " 62%|██████▏   | 6095/9900 [00:13<00:08, 437.58it/s]\u001b[A\n",
      " 62%|██████▏   | 6142/9900 [00:13<00:08, 442.94it/s]\u001b[A\n",
      " 63%|██████▎   | 6189/9900 [00:13<00:08, 449.23it/s]\u001b[A\n",
      " 63%|██████▎   | 6235/9900 [00:13<00:08, 448.49it/s]\u001b[A\n",
      " 63%|██████▎   | 6285/9900 [00:13<00:07, 462.06it/s]\u001b[A\n",
      " 64%|██████▍   | 6335/9900 [00:13<00:07, 470.59it/s]\u001b[A\n",
      " 64%|██████▍   | 6383/9900 [00:13<00:07, 466.33it/s]\u001b[A\n",
      " 65%|██████▍   | 6430/9900 [00:13<00:07, 464.71it/s]\u001b[A\n",
      " 65%|██████▌   | 6477/9900 [00:13<00:07, 464.59it/s]\u001b[A\n",
      " 66%|██████▌   | 6524/9900 [00:13<00:07, 462.59it/s]\u001b[A\n",
      " 66%|██████▋   | 6571/9900 [00:14<00:07, 463.52it/s]\u001b[A\n",
      " 67%|██████▋   | 6618/9900 [00:14<00:07, 463.54it/s]\u001b[A\n",
      " 67%|██████▋   | 6665/9900 [00:14<00:07, 459.53it/s]\u001b[A\n",
      " 68%|██████▊   | 6711/9900 [00:14<00:06, 455.93it/s]\u001b[A\n",
      " 68%|██████▊   | 6757/9900 [00:14<00:06, 454.20it/s]\u001b[A\n",
      " 69%|██████▊   | 6803/9900 [00:14<00:06, 452.04it/s]\u001b[A\n",
      " 69%|██████▉   | 6852/9900 [00:14<00:06, 461.52it/s]\u001b[A\n",
      " 70%|██████▉   | 6899/9900 [00:14<00:06, 444.20it/s]\u001b[A\n",
      " 70%|███████   | 6948/9900 [00:14<00:06, 456.08it/s]\u001b[A\n",
      " 71%|███████   | 6996/9900 [00:14<00:06, 461.66it/s]\u001b[A\n",
      " 71%|███████   | 7044/9900 [00:15<00:06, 465.48it/s]\u001b[A\n",
      " 72%|███████▏  | 7091/9900 [00:15<00:06, 455.06it/s]\u001b[A\n",
      " 72%|███████▏  | 7137/9900 [00:15<00:06, 451.09it/s]\u001b[A\n",
      " 73%|███████▎  | 7183/9900 [00:15<00:06, 449.51it/s]\u001b[A\n",
      " 73%|███████▎  | 7236/9900 [00:15<00:05, 468.97it/s]\u001b[A\n",
      " 74%|███████▎  | 7284/9900 [00:15<00:05, 467.99it/s]\u001b[A\n",
      " 74%|███████▍  | 7335/9900 [00:15<00:05, 477.02it/s]\u001b[A\n",
      " 75%|███████▍  | 7384/9900 [00:15<00:05, 480.18it/s]\u001b[A\n",
      " 75%|███████▌  | 7433/9900 [00:15<00:05, 469.97it/s]\u001b[A\n",
      " 76%|███████▌  | 7482/9900 [00:16<00:05, 473.58it/s]\u001b[A\n",
      " 76%|███████▌  | 7530/9900 [00:16<00:05, 466.71it/s]\u001b[A\n",
      " 77%|███████▋  | 7578/9900 [00:16<00:04, 469.76it/s]\u001b[A\n",
      " 77%|███████▋  | 7626/9900 [00:16<00:04, 466.33it/s]\u001b[A\n",
      " 78%|███████▊  | 7673/9900 [00:16<00:04, 456.31it/s]\u001b[A\n",
      " 78%|███████▊  | 7720/9900 [00:16<00:04, 459.10it/s]\u001b[A\n",
      " 78%|███████▊  | 7767/9900 [00:16<00:04, 461.84it/s]\u001b[A\n",
      " 79%|███████▉  | 7818/9900 [00:16<00:04, 475.14it/s]\u001b[A\n",
      " 79%|███████▉  | 7866/9900 [00:16<00:04, 460.48it/s]\u001b[A\n",
      " 80%|███████▉  | 7917/9900 [00:16<00:04, 473.60it/s]\u001b[A\n",
      " 80%|████████  | 7965/9900 [00:17<00:04, 456.57it/s]\u001b[A\n",
      " 81%|████████  | 8019/9900 [00:17<00:03, 475.89it/s]\u001b[A\n",
      " 82%|████████▏ | 8069/9900 [00:17<00:03, 482.72it/s]\u001b[A\n",
      " 82%|████████▏ | 8118/9900 [00:17<00:03, 471.13it/s]\u001b[A\n",
      " 82%|████████▏ | 8166/9900 [00:17<00:03, 469.18it/s]\u001b[A\n",
      " 83%|████████▎ | 8214/9900 [00:17<00:03, 465.45it/s]\u001b[A\n",
      " 83%|████████▎ | 8261/9900 [00:17<00:03, 454.69it/s]\u001b[A\n",
      " 84%|████████▍ | 8312/9900 [00:17<00:03, 467.83it/s]\u001b[A\n",
      " 84%|████████▍ | 8359/9900 [00:17<00:03, 465.75it/s]\u001b[A\n",
      " 85%|████████▍ | 8406/9900 [00:18<00:03, 442.55it/s]\u001b[A\n",
      " 85%|████████▌ | 8455/9900 [00:18<00:03, 449.57it/s]\u001b[A\n",
      " 86%|████████▌ | 8508/9900 [00:18<00:02, 470.97it/s]\u001b[A\n",
      " 86%|████████▋ | 8559/9900 [00:18<00:02, 481.29it/s]\u001b[A\n",
      " 87%|████████▋ | 8608/9900 [00:18<00:02, 477.48it/s]\u001b[A\n",
      " 87%|████████▋ | 8657/9900 [00:18<00:02, 473.64it/s]\u001b[A\n",
      " 88%|████████▊ | 8705/9900 [00:18<00:02, 469.70it/s]\u001b[A\n",
      " 88%|████████▊ | 8753/9900 [00:18<00:02, 468.34it/s]\u001b[A\n",
      " 89%|████████▉ | 8802/9900 [00:18<00:02, 473.09it/s]\u001b[A\n",
      " 89%|████████▉ | 8850/9900 [00:18<00:02, 453.58it/s]\u001b[A\n",
      " 90%|████████▉ | 8900/9900 [00:19<00:02, 465.78it/s]\u001b[A\n",
      " 90%|█████████ | 8947/9900 [00:19<00:02, 464.86it/s]\u001b[A\n",
      " 91%|█████████ | 8994/9900 [00:19<00:01, 463.62it/s]\u001b[A\n",
      " 91%|█████████▏| 9046/9900 [00:19<00:01, 476.86it/s]\u001b[A\n",
      " 92%|█████████▏| 9097/9900 [00:19<00:01, 485.58it/s]\u001b[A\n",
      " 92%|█████████▏| 9146/9900 [00:19<00:01, 483.99it/s]\u001b[A\n",
      " 93%|█████████▎| 9195/9900 [00:19<00:01, 477.93it/s]\u001b[A\n",
      " 93%|█████████▎| 9246/9900 [00:19<00:01, 487.05it/s]\u001b[A\n",
      " 94%|█████████▍| 9295/9900 [00:19<00:01, 477.16it/s]\u001b[A\n",
      " 94%|█████████▍| 9347/9900 [00:19<00:01, 488.50it/s]\u001b[A\n",
      " 95%|█████████▍| 9397/9900 [00:20<00:01, 476.80it/s]\u001b[A\n",
      " 95%|█████████▌| 9445/9900 [00:20<00:00, 471.37it/s]\u001b[A\n",
      " 96%|█████████▌| 9493/9900 [00:20<00:00, 468.34it/s]\u001b[A\n",
      " 96%|█████████▋| 9540/9900 [00:20<00:00, 465.46it/s]\u001b[A\n",
      " 97%|█████████▋| 9592/9900 [00:20<00:00, 479.65it/s]\u001b[A\n",
      " 97%|█████████▋| 9641/9900 [00:20<00:00, 461.37it/s]\u001b[A\n",
      " 98%|█████████▊| 9690/9900 [00:20<00:00, 468.19it/s]\u001b[A\n",
      " 98%|█████████▊| 9738/9900 [00:20<00:00, 463.43it/s]\u001b[A\n",
      " 99%|█████████▉| 9785/9900 [00:20<00:00, 458.57it/s]\u001b[A\n",
      " 99%|█████████▉| 9831/9900 [00:21<00:00, 444.03it/s]\u001b[A\n",
      "100%|██████████| 9900/9900 [00:21<00:00, 467.14it/s]"
     ]
    },
    {
     "name": "stdout",
     "output_type": "stream",
     "text": [
      "9900\n",
      "300\n"
     ]
    },
    {
     "name": "stderr",
     "output_type": "stream",
     "text": [
      "\n"
     ]
    }
   ],
   "source": [
    "# compute average word2vec for each review.\n",
    "test_tfidf_w2v_essays = []; # the avg-w2v for each sentence/review is stored in this list\n",
    "for sentence in tqdm(project_data_test['preprocessed_essays']): # for each review/sentence\n",
    "    vector = np.zeros(300) # as word vectors are of zero length\n",
    "    tf_idf_weight =0; # num of words with a valid vector in the sentence/review\n",
    "    for word in sentence.split(): # for each word in a review/sentence\n",
    "        if (word in glove_words) and (word in tfidf_words):\n",
    "            vec = model[word] # getting the vector for each word\n",
    "            # here we are multiplying idf value(dictionary[word]) and the tf value((sentence.count(word)/len(sentence.split())))\n",
    "            tf_idf = dictionary[word]*(sentence.count(word)/len(sentence.split())) # getting the tfidf value for each word\n",
    "            vector += (vec * tf_idf) # calculating tfidf weighted w2v\n",
    "            tf_idf_weight += tf_idf\n",
    "    if tf_idf_weight != 0:\n",
    "        vector /= tf_idf_weight\n",
    "    test_tfidf_w2v_essays.append(vector)\n",
    "\n",
    "print(len(test_tfidf_w2v_essays))\n",
    "print(len(test_tfidf_w2v_essays[0]))"
   ]
  },
  {
   "cell_type": "markdown",
   "metadata": {
    "colab_type": "text",
    "id": "6Em6Kb2-CypR"
   },
   "source": [
    "### 1.5.3 Vectorizing Numerical features"
   ]
  },
  {
   "cell_type": "code",
   "execution_count": 160,
   "metadata": {
    "colab": {},
    "colab_type": "code",
    "executionInfo": {
     "elapsed": 132839,
     "status": "ok",
     "timestamp": 1594367136311,
     "user": {
      "displayName": "Venkatesh Gupta",
      "photoUrl": "https://lh3.googleusercontent.com/a-/AOh14Gg8U_KUdnX4JWp6we7eGz6jpyKj3zYYWCk4s2LqwQ=s64",
      "userId": "13664137025209273415"
     },
     "user_tz": -330
    },
    "id": "dQunmy9FCypT"
   },
   "outputs": [],
   "source": [
    "price_data = resource_data.groupby('id').agg({'price':'sum', 'quantity':'sum'}).reset_index()\n",
    "\n",
    "project_data_train = pd.merge(project_data_train, price_data, on='id', how='left')\n",
    "project_data_cv = pd.merge(project_data_cv, price_data, on='id', how='left')\n",
    "project_data_test = pd.merge(project_data_test, price_data, on='id', how='left')"
   ]
  },
  {
   "cell_type": "code",
   "execution_count": 161,
   "metadata": {
    "colab": {
     "base_uri": "https://localhost:8080/",
     "height": 92
    },
    "colab_type": "code",
    "executionInfo": {
     "elapsed": 132835,
     "status": "ok",
     "timestamp": 1594367136314,
     "user": {
      "displayName": "Venkatesh Gupta",
      "photoUrl": "https://lh3.googleusercontent.com/a-/AOh14Gg8U_KUdnX4JWp6we7eGz6jpyKj3zYYWCk4s2LqwQ=s64",
      "userId": "13664137025209273415"
     },
     "user_tz": -330
    },
    "id": "owkbYbowCypV",
    "outputId": "94035ceb-2e5b-497c-b2db-b81eaddc05d4"
   },
   "outputs": [
    {
     "name": "stdout",
     "output_type": "stream",
     "text": [
      "After normalization\n",
      "(13467, 1)\n",
      "(6633, 1)\n",
      "(9900, 1)\n"
     ]
    }
   ],
   "source": [
    "from sklearn.preprocessing import Normalizer\n",
    "# normalizer.fit(X_train['price'].values)\n",
    "# this will rise an error Expected 2D array, got 1D array instead: \n",
    "# array.reshape(-1, 1) if your data has a single feature \n",
    "# array.reshape(1, -1)  if it contains a single sample.\n",
    "\n",
    "normalizer = Normalizer()\n",
    "normalizer.fit(project_data_train['price'].values.reshape(-1,1)) \n",
    "\n",
    "\n",
    "price_normalized_train = normalizer.transform(project_data_train['price'].values.reshape(-1, 1))\n",
    "price_normalized_cv = normalizer.transform(project_data_cv['price'].values.reshape(-1, 1))\n",
    "price_normalized_test = normalizer.transform(project_data_test['price'].values.reshape(-1, 1))\n",
    "\n",
    "\n",
    "print('After normalization')\n",
    "print(price_normalized_train.shape)\n",
    "print(price_normalized_cv.shape)\n",
    "print(price_normalized_test.shape)"
   ]
  },
  {
   "cell_type": "code",
   "execution_count": 162,
   "metadata": {
    "colab": {
     "base_uri": "https://localhost:8080/",
     "height": 92
    },
    "colab_type": "code",
    "executionInfo": {
     "elapsed": 132827,
     "status": "ok",
     "timestamp": 1594367136316,
     "user": {
      "displayName": "Venkatesh Gupta",
      "photoUrl": "https://lh3.googleusercontent.com/a-/AOh14Gg8U_KUdnX4JWp6we7eGz6jpyKj3zYYWCk4s2LqwQ=s64",
      "userId": "13664137025209273415"
     },
     "user_tz": -330
    },
    "id": "nDDZIfdhCypY",
    "outputId": "ddd7dc50-4f99-45c8-c613-044a0279634d"
   },
   "outputs": [
    {
     "name": "stdout",
     "output_type": "stream",
     "text": [
      "After normalization\n",
      "(13467, 1)\n",
      "(6633, 1)\n",
      "(9900, 1)\n"
     ]
    }
   ],
   "source": [
    "normalizer = Normalizer()\n",
    "normalizer.fit(project_data_train['teacher_number_of_previously_posted_projects'].values.reshape(-1,1)) \n",
    "\n",
    "\n",
    "# Now standardize the data with above maen and variance.\n",
    "previously_posted_projects_normalized_train = normalizer.transform(project_data_train['teacher_number_of_previously_posted_projects'].values.reshape(-1, 1))\n",
    "previously_posted_projects_normalized_cv = normalizer.transform(project_data_cv['teacher_number_of_previously_posted_projects'].values.reshape(-1, 1))\n",
    "previously_posted_projects_normalized_test = normalizer.transform(project_data_test['teacher_number_of_previously_posted_projects'].values.reshape(-1, 1))\n",
    "\n",
    "\n",
    "print('After normalization')\n",
    "print(previously_posted_projects_normalized_train.shape)\n",
    "print(previously_posted_projects_normalized_cv.shape)\n",
    "print(previously_posted_projects_normalized_test.shape)"
   ]
  },
  {
   "cell_type": "markdown",
   "metadata": {
    "colab_type": "text",
    "id": "V3vrK7BSCypi"
   },
   "source": [
    "# Assignment 3: Apply KNN"
   ]
  },
  {
   "cell_type": "markdown",
   "metadata": {
    "colab_type": "text",
    "id": "WFI1ug-gCypi"
   },
   "source": [
    "<ol>\n",
    "    <li><strong>[Task-1] Apply KNN(brute force version) on these feature sets</strong>\n",
    "        <ul>\n",
    "            <li><font color='red'>Set 1</font>: categorical, numerical features + project_title(BOW) + preprocessed_essay (BOW)</li>\n",
    "            <li><font color='red'>Set 2</font>: categorical, numerical features + project_title(TFIDF)+  preprocessed_essay (TFIDF)</li>\n",
    "            <li><font color='red'>Set 3</font>: categorical, numerical features + project_title(AVG W2V)+  preprocessed_essay (AVG W2V)</li>\n",
    "            <li><font color='red'>Set 4</font>: categorical, numerical features + project_title(TFIDF W2V)+  preprocessed_essay (TFIDF W2V)</li>\n",
    "        </ul>\n",
    "    </li>\n",
    "    <br>\n",
    "    <li><strong>Hyper paramter tuning to find best K</strong>\n",
    "        <ul>\n",
    "    <li>Find the best hyper parameter which results in the maximum <a href='https://www.appliedaicourse.com/course/applied-ai-course-online/lessons/receiver-operating-characteristic-curve-roc-curve-and-auc-1/'>AUC</a> value</li>\n",
    "    <li>Find the best hyper paramter using k-fold cross validation (or) simple cross validation data</li>\n",
    "    <li>Use gridsearch-cv or randomsearch-cv or  write your own for loops to do this task</li>\n",
    "        </ul>\n",
    "    </li>\n",
    "    <br>\n",
    "    <li>\n",
    "    <strong>Representation of results</strong>\n",
    "        <ul>\n",
    "    <li>You need to plot the performance of model both on train data and cross validation data for each hyper parameter, as shown in the figure\n",
    "    <img src='train_cv_auc.JPG' width=300px></li>\n",
    "    <li>Once you find the best hyper parameter, you need to train your model-M using the best hyper-param. Now, find the AUC on test data and plot the ROC curve on both train and test using model-M.\n",
    "    <img src='train_test_auc.JPG' width=300px></li>\n",
    "    <li>Along with plotting ROC curve, you need to print the <a href='https://www.appliedaicourse.com/course/applied-ai-course-online/lessons/confusion-matrix-tpr-fpr-fnr-tnr-1/'>confusion matrix</a> with predicted and original labels of test data points\n",
    "    <img src='confusion_matrix.png' width=300px></li>\n",
    "        </ul>\n",
    "    </li>\n",
    "    <li><strong> [Task-2] </strong>\n",
    "        <ul>\n",
    "            <li>Select top 2000 features from feature <font color='red'>Set 2</font> using <a href='https://scikit-learn.org/stable/modules/generated/sklearn.feature_selection.SelectKBest.html'>`SelectKBest`</a>\n",
    "and then apply KNN on top of these features</li>\n",
    "            <li>\n",
    "                <pre>\n",
    "                from sklearn.datasets import load_digits\n",
    "                from sklearn.feature_selection import SelectKBest, chi2\n",
    "                X, y = load_digits(return_X_y=True)\n",
    "                X.shape\n",
    "                X_new = SelectKBest(chi2, k=20).fit_transform(X, y)\n",
    "                X_new.shape\n",
    "                ========\n",
    "                output:\n",
    "                (1797, 64)\n",
    "                (1797, 20)\n",
    "                </pre>\n",
    "            </li>\n",
    "            <li>Repeat the steps 2 and 3 on the data matrix after feature selection</li>\n",
    "        </ul>\n",
    "    </li>\n",
    "    <br>\n",
    "    <li><strong>Conclusion</strong>\n",
    "        <ul>\n",
    "    <li>You need to summarize the results at the end of the notebook, summarize it in the table format. To print out a table please refer to this prettytable library<a href='http://zetcode.com/python/prettytable/'> link</a> \n",
    "        <img src='summary.JPG' width=400px>\n",
    "    </li>\n",
    "        </ul>\n",
    "</ol>"
   ]
  },
  {
   "cell_type": "markdown",
   "metadata": {
    "colab_type": "text",
    "id": "vNcsOaPrCypk"
   },
   "source": [
    "<h4><font color='red'>Note: Data Leakage</font></h4>\n",
    "\n",
    "1. There will be an issue of data-leakage if you vectorize the entire data and then split it into train/cv/test.\n",
    "2. To avoid the issue of data-leakag, make sure to split your data first and then vectorize it. \n",
    "3. While vectorizing your data, apply the method fit_transform() on you train data, and apply the method transform() on cv/test data.\n",
    "4. For more details please go through this <a href='https://soundcloud.com/applied-ai-course/leakage-bow-and-tfidf'>link.</a>"
   ]
  },
  {
   "cell_type": "markdown",
   "metadata": {
    "colab_type": "text",
    "id": "u7svGNyWCypl"
   },
   "source": [
    "<h1>2. K Nearest Neighbor</h1>"
   ]
  },
  {
   "cell_type": "markdown",
   "metadata": {
    "colab_type": "text",
    "id": "W6fBRNBMCypl"
   },
   "source": [
    "<h2>2.1 Set 1: categorical, numerical features + project_title(BOW) + preprocessed_essay (BOW)</h2>"
   ]
  },
  {
   "cell_type": "code",
   "execution_count": 163,
   "metadata": {
    "colab": {
     "base_uri": "https://localhost:8080/",
     "height": 73
    },
    "colab_type": "code",
    "executionInfo": {
     "elapsed": 132821,
     "status": "ok",
     "timestamp": 1594367136317,
     "user": {
      "displayName": "Venkatesh Gupta",
      "photoUrl": "https://lh3.googleusercontent.com/a-/AOh14Gg8U_KUdnX4JWp6we7eGz6jpyKj3zYYWCk4s2LqwQ=s64",
      "userId": "13664137025209273415"
     },
     "user_tz": -330
    },
    "id": "WACKQWT_Cypl",
    "outputId": "6c018f2d-5597-4095-c7fb-4a90ebb7d259"
   },
   "outputs": [
    {
     "name": "stdout",
     "output_type": "stream",
     "text": [
      "(13467, 39211)\n",
      "(6633, 39211)\n",
      "(9900, 39211)\n"
     ]
    }
   ],
   "source": [
    "# merge two sparse matrices: https://stackoverflow.com/a/19710648/4084039\n",
    "from scipy.sparse import hstack\n",
    "# with the same hstack function we are concatinating a sparse matrix and a dense matirx :)\n",
    "X_train = hstack((train_categories_one_hot, train_subcategories_one_hot, train_essay_bow, train_title_bow, train_school_state_category_one_hot,train_teacher_prefix_categories_one_hot, previously_posted_projects_normalized_train, train_project_grade_category_one_hot, price_normalized_train)).tocsr()\n",
    "X_cv = hstack((cv_categories_one_hot, cv_subcategories_one_hot, cv_essay_bow, cv_title_bow, cv_school_state_category_one_hot, cv_teacher_prefix_categories_one_hot, previously_posted_projects_normalized_cv, cv_project_grade_category_one_hot, price_normalized_cv)).tocsr()\n",
    "X_test = hstack((test_categories_one_hot, test_subcategories_one_hot, test_essay_bow, test_title_bow, test_school_state_category_one_hot, test_teacher_prefix_categories_one_hot, previously_posted_projects_normalized_test, test_project_grade_category_one_hot, price_normalized_test)).tocsr()\n",
    "\n",
    "print(X_train.shape)\n",
    "print(X_cv.shape)\n",
    "print(X_test.shape)"
   ]
  },
  {
   "cell_type": "markdown",
   "metadata": {
    "colab_type": "text",
    "id": "C3nDB3jwr2yb"
   },
   "source": [
    "### 2.1.1 Without using function:GridSearchCV"
   ]
  },
  {
   "cell_type": "code",
   "execution_count": 167,
   "metadata": {
    "colab": {
     "base_uri": "https://localhost:8080/",
     "height": 557
    },
    "colab_type": "code",
    "executionInfo": {
     "elapsed": 554518,
     "status": "ok",
     "timestamp": 1594368164520,
     "user": {
      "displayName": "Venkatesh Gupta",
      "photoUrl": "https://lh3.googleusercontent.com/a-/AOh14Gg8U_KUdnX4JWp6we7eGz6jpyKj3zYYWCk4s2LqwQ=s64",
      "userId": "13664137025209273415"
     },
     "user_tz": -330
    },
    "id": "80xeXRmor2yc",
    "outputId": "23649542-9eea-451c-e316-049bd9124eb2"
   },
   "outputs": [
    {
     "name": "stderr",
     "output_type": "stream",
     "text": [
      "\n",
      "  0%|          | 0/12 [00:00<?, ?it/s]\u001b[A\n",
      "  8%|▊         | 1/12 [00:43<07:59, 43.61s/it]\u001b[A\n",
      " 17%|█▋        | 2/12 [01:29<07:23, 44.38s/it]\u001b[A\n",
      " 25%|██▌       | 3/12 [02:16<06:44, 44.93s/it]\u001b[A\n",
      " 33%|███▎      | 4/12 [03:02<06:02, 45.32s/it]\u001b[A\n",
      " 42%|████▏     | 5/12 [03:48<05:19, 45.62s/it]\u001b[A\n",
      " 50%|█████     | 6/12 [04:35<04:35, 45.95s/it]\u001b[A\n",
      " 58%|█████▊    | 7/12 [05:21<03:49, 45.92s/it]\u001b[A\n",
      " 67%|██████▋   | 8/12 [06:08<03:04, 46.23s/it]\u001b[A\n",
      " 75%|███████▌  | 9/12 [06:54<02:18, 46.21s/it]\u001b[A\n",
      " 83%|████████▎ | 10/12 [07:40<01:32, 46.20s/it]\u001b[A\n",
      " 92%|█████████▏| 11/12 [08:26<00:46, 46.15s/it]\u001b[A\n",
      "100%|██████████| 12/12 [09:12<00:00, 46.08s/it]\n"
     ]
    },
    {
     "data": {
      "image/png": "[encoded data removed]",
      "text/plain": [
       "<Figure size 432x288 with 1 Axes>"
      ]
     },
     "metadata": {
      "needs_background": "light",
      "tags": []
     },
     "output_type": "display_data"
    }
   ],
   "source": [
    "from sklearn.neighbors import KNeighborsClassifier\n",
    "from sklearn.metrics import roc_auc_score\n",
    "\n",
    "import matplotlib.pyplot as plt\n",
    "train_auc = []\n",
    "cv_auc = [] \n",
    "K = [1, 5, 10, 15, 21, 31, 41, 51, 65, 71, 85, 91]# min k causes overfitting, max k causes underfitting\n",
    "#K = range(1,50,2)\n",
    "for i in  tqdm(K):\n",
    "  \n",
    "    neigh1 = KNeighborsClassifier(n_neighbors=i,algorithm='brute')# takes the k from the  i th list value\n",
    "    neigh1.fit(X_train, y_train)# fit the model\n",
    "    \n",
    "    # roc_auc_score(y_true, y_score) the 2nd parameter should be probability estimates of the positive class\n",
    "    # not the predicted outputs\n",
    "    y_train_pred =  neigh1.predict_proba(X_train)[:,1]#Return probability estimates for the  set1x ,for the class label 1 or +ve.\n",
    "    y_cv_pred =  neigh1.predict_proba(X_cv)[:,1]#Return probability estimates for the setcvx,for the class label 1 or +ve .\n",
    "    \n",
    "    # roc curve\n",
    "    #Compute Area Under the Receiver Operating Characteristic Curve (ROC AUC) from prediction scores.\n",
    "    train_auc.append(roc_auc_score(y_train,y_train_pred))\n",
    "    cv_auc.append(roc_auc_score(y_cv, y_cv_pred))\n",
    "\n",
    "plt.plot(K, train_auc, label='Train AUC')\n",
    "plt.plot(K, cv_auc, label='CV AUC')\n",
    "\n",
    "\n",
    "plt.scatter(K, train_auc, label='Train AUC points')\n",
    "plt.scatter(K, cv_auc, label='CV AUC points')\n",
    "\n",
    "plt.legend()\n",
    "plt.xlabel(\"K: hyperparameter\")\n",
    "plt.ylabel(\"AUC\")\n",
    "plt.title(\"ERROR PLOTS\")\n",
    "plt.show()                "
   ]
  },
  {
   "cell_type": "code",
   "execution_count": 195,
   "metadata": {
    "colab": {
     "base_uri": "https://localhost:8080/",
     "height": 36
    },
    "colab_type": "code",
    "executionInfo": {
     "elapsed": 1840,
     "status": "ok",
     "timestamp": 1594372672468,
     "user": {
      "displayName": "Venkatesh Gupta",
      "photoUrl": "https://lh3.googleusercontent.com/a-/AOh14Gg8U_KUdnX4JWp6we7eGz6jpyKj3zYYWCk4s2LqwQ=s64",
      "userId": "13664137025209273415"
     },
     "user_tz": -330
    },
    "id": "6a0Vrnssr2yh",
    "outputId": "b30c5f3b-230b-408f-89aa-7372979a056e"
   },
   "outputs": [
    {
     "name": "stdout",
     "output_type": "stream",
     "text": [
      "91\n"
     ]
    }
   ],
   "source": [
    "score_t_train = [x for x in train_auc]\n",
    "score_t_cv = [x for x in cv_auc]\n",
    "\n",
    "diff_score_train_cv = list(set(score_t_train) - set(score_t_cv))\n",
    "opt_t_cv = K[diff_score_train_cv.index(min(diff_score_train_cv))]\n",
    "best_k=opt_t_cv\n",
    "print(best_k)"
   ]
  },
  {
   "cell_type": "markdown",
   "metadata": {
    "colab_type": "text",
    "id": "0R9cvORcr2yn"
   },
   "source": [
    "### Train the model using the best hyperparameter that will maximise AUC score"
   ]
  },
  {
   "cell_type": "code",
   "execution_count": 196,
   "metadata": {
    "colab": {
     "base_uri": "https://localhost:8080/",
     "height": 295
    },
    "colab_type": "code",
    "executionInfo": {
     "elapsed": 110298,
     "status": "ok",
     "timestamp": 1594372780939,
     "user": {
      "displayName": "Venkatesh Gupta",
      "photoUrl": "https://lh3.googleusercontent.com/a-/AOh14Gg8U_KUdnX4JWp6we7eGz6jpyKj3zYYWCk4s2LqwQ=s64",
      "userId": "13664137025209273415"
     },
     "user_tz": -330
    },
    "id": "ZKovuM7ar2yp",
    "outputId": "d8f16492-5e78-4822-9b3e-9286e5ba189b"
   },
   "outputs": [
    {
     "data": {
      "image/png": "[encoded data removed]",
      "text/plain": [
       "<Figure size 432x288 with 1 Axes>"
      ]
     },
     "metadata": {
      "needs_background": "light",
      "tags": []
     },
     "output_type": "display_data"
    }
   ],
   "source": [
    "# https://scikit-learn.org/stable/modules/generated/sklearn.metrics.roc_curve.html#sklearn.metrics.roc_curve\n",
    "from sklearn.metrics import roc_curve, auc\n",
    "\n",
    "\n",
    "neigh1 = KNeighborsClassifier(n_neighbors=best_k,algorithm='brute')\n",
    "neigh1.fit(X_train ,y_train)\n",
    "# roc_auc_score(y_true, y_score) the 2nd parameter should be probability estimates of the positive class\n",
    "# not the predicted outputs\n",
    "\n",
    "y_train_pred =  neigh1.predict_proba(X_train)[:,1]#Return probability estimates for the  set1x ,for the class label 1 or +ve.\n",
    "y_test_pred =  neigh1.predict_proba(X_test)[:,1]#Return probability estimates for the setcvx,for the class label 1 or +ve .\n",
    "\n",
    "train_fpr, train_tpr, thresholds = roc_curve(y_train, neigh1.predict_proba(X_train)[:,1])\n",
    "test_fpr, test_tpr, thresholds = roc_curve(y_test, neigh1.predict_proba(X_test)[:,1])\n",
    "\n",
    "plt.plot(train_fpr, train_tpr, label=\"train AUC =\"+str(auc(train_fpr, train_tpr)))\n",
    "plt.plot(test_fpr, test_tpr, label=\"test AUC =\"+str(auc(test_fpr, test_tpr)))\n",
    "plt.legend()\n",
    "plt.xlabel(\"False Positive Rate(FPR)\")\n",
    "plt.ylabel(\"True Positive Rate(TPR)\")\n",
    "plt.title(\"ROC PLOTS\")\n",
    "plt.show()"
   ]
  },
  {
   "cell_type": "markdown",
   "metadata": {
    "colab_type": "text",
    "id": "_zT070pKr2yv"
   },
   "source": [
    "### 2.1.2 Using function:GridSearchCV"
   ]
  },
  {
   "cell_type": "code",
   "execution_count": 197,
   "metadata": {
    "colab": {},
    "colab_type": "code",
    "executionInfo": {
     "elapsed": 110293,
     "status": "ok",
     "timestamp": 1594372780944,
     "user": {
      "displayName": "Venkatesh Gupta",
      "photoUrl": "https://lh3.googleusercontent.com/a-/AOh14Gg8U_KUdnX4JWp6we7eGz6jpyKj3zYYWCk4s2LqwQ=s64",
      "userId": "13664137025209273415"
     },
     "user_tz": -330
    },
    "id": "raRQHx5ir2yx"
   },
   "outputs": [],
   "source": [
    "# # https://scikit-learn.org/stable/modules/generated/sklearn.model_selection.GridSearchCV.html\n",
    "# from sklearn.model_selection import GridSearchCV\n",
    "# from sklearn.neighbors import KNeighborsClassifier\n",
    "# neigh = KNeighborsClassifier()\n",
    "\n",
    "# parameters = {'n_neighbors':[1, 5, 10, 15, 21, 31, 41, 51, 65, 71, 85, 91]}\n",
    "\n",
    "# clf = GridSearchCV(neigh, parameters, cv= 5, scoring='roc_auc')\n",
    "\n",
    "# clf.fit(X_train, y_train)\n",
    "\n",
    "# train_auc= clf.cv_results_['mean_train_score']\n",
    "# train_auc_std= clf.cv_results_['std_train_score']\n",
    "# cv_auc = clf.cv_results_['mean_test_score']\n",
    "# cv_auc_std= clf.cv_results_['std_test_score']\n",
    "# print()\n",
    "\n",
    "# plt.plot(parameters['n_neighbors'], train_auc, label='Train AUC')\n",
    "# # this code is copied from here: https://stackoverflow.com/a/48803361/4084039\n",
    "# plt.gca().fill_between(parameters['n_neighbors'],train_auc - train_auc_std,train_auc + train_auc_std,alpha=0.3,color='darkblue')\n",
    "\n",
    "# plt.plot(parameters['n_neighbors'], cv_auc, label='CV AUC')\n",
    "# # this code is copied from here: https://stackoverflow.com/a/48803361/4084039\n",
    "# plt.gca().fill_between(parameters['n_neighbors'],cv_auc - cv_auc_std,cv_auc + cv_auc_std,alpha=0.3,color='darkorange')\n",
    "\n",
    "# plt.scatter(parameters['n_neighbors'], train_auc, label='Train AUC points')\n",
    "# plt.scatter(parameters['n_neighbors'], cv_auc, label='CV AUC points')\n",
    "\n",
    "\n",
    "# plt.legend()\n",
    "# plt.xlabel(\"K: hyperparameter\")\n",
    "# plt.ylabel(\"AUC\")\n",
    "# plt.title(\"ERROR PLOTS\")\n",
    "# plt.grid()\n",
    "# plt.show()"
   ]
  },
  {
   "cell_type": "code",
   "execution_count": 198,
   "metadata": {
    "colab": {},
    "colab_type": "code",
    "executionInfo": {
     "elapsed": 110297,
     "status": "ok",
     "timestamp": 1594372780954,
     "user": {
      "displayName": "Venkatesh Gupta",
      "photoUrl": "https://lh3.googleusercontent.com/a-/AOh14Gg8U_KUdnX4JWp6we7eGz6jpyKj3zYYWCk4s2LqwQ=s64",
      "userId": "13664137025209273415"
     },
     "user_tz": -330
    },
    "id": "IlBv4ol2r2y2"
   },
   "outputs": [],
   "source": [
    "#https://datascience.stackexchange.com/questions/21877/how-to-use-the-output-of-gridsearch\n",
    "#choosing the best hyperparameter\n",
    "#clf.best_params_"
   ]
  },
  {
   "cell_type": "markdown",
   "metadata": {
    "colab_type": "text",
    "id": "zZ_W-DM4r2y5"
   },
   "source": [
    "### Train the model using the best hyperparameter that will maximise AUC score using GridSearchCV"
   ]
  },
  {
   "cell_type": "code",
   "execution_count": 199,
   "metadata": {
    "colab": {},
    "colab_type": "code",
    "executionInfo": {
     "elapsed": 110295,
     "status": "ok",
     "timestamp": 1594372780957,
     "user": {
      "displayName": "Venkatesh Gupta",
      "photoUrl": "https://lh3.googleusercontent.com/a-/AOh14Gg8U_KUdnX4JWp6we7eGz6jpyKj3zYYWCk4s2LqwQ=s64",
      "userId": "13664137025209273415"
     },
     "user_tz": -330
    },
    "id": "wEH-6AjZr2y6"
   },
   "outputs": [],
   "source": [
    "#best_k1 = clf.best_params_['n_neighbors']"
   ]
  },
  {
   "cell_type": "code",
   "execution_count": 200,
   "metadata": {
    "colab": {},
    "colab_type": "code",
    "executionInfo": {
     "elapsed": 110291,
     "status": "ok",
     "timestamp": 1594372780959,
     "user": {
      "displayName": "Venkatesh Gupta",
      "photoUrl": "https://lh3.googleusercontent.com/a-/AOh14Gg8U_KUdnX4JWp6we7eGz6jpyKj3zYYWCk4s2LqwQ=s64",
      "userId": "13664137025209273415"
     },
     "user_tz": -330
    },
    "id": "cTlBv2kmCypo"
   },
   "outputs": [],
   "source": [
    "# def batch_predict(clf, data):\n",
    "#     # roc_auc_score(y_true, y_score) the 2nd parameter should be probability estimates of the positive class\n",
    "#     # not the predicted outputs\n",
    "\n",
    "#     y_data_pred = []\n",
    "#     tr_loop = data.shape[0] - data.shape[0]%1000\n",
    "#     # consider you X_tr shape is 49041, then your cr_loop will be 49041 - 49041%1000 = 49000\n",
    "#     # in this for loop we will iterate unti the last 1000 multiplier\n",
    "#     for i in range(0, tr_loop, 1000):\n",
    "#         y_data_pred.extend(clf.predict_proba(data[i:i+1000])[:,1])\n",
    "#     # we will be predicting for the last data points\n",
    "#     y_data_pred.extend(clf.predict_proba(data[tr_loop:])[:,1])\n",
    "    \n",
    "#     return y_data_pred"
   ]
  },
  {
   "cell_type": "code",
   "execution_count": 201,
   "metadata": {
    "colab": {},
    "colab_type": "code",
    "executionInfo": {
     "elapsed": 110286,
     "status": "ok",
     "timestamp": 1594372780961,
     "user": {
      "displayName": "Venkatesh Gupta",
      "photoUrl": "https://lh3.googleusercontent.com/a-/AOh14Gg8U_KUdnX4JWp6we7eGz6jpyKj3zYYWCk4s2LqwQ=s64",
      "userId": "13664137025209273415"
     },
     "user_tz": -330
    },
    "id": "j8acqFPwr2y_"
   },
   "outputs": [],
   "source": [
    "# # https://scikit-learn.org/stable/modules/generated/sklearn.metrics.roc_curve.html#sklearn.metrics.roc_curve\n",
    "# from sklearn.metrics import roc_curve, auc\n",
    "# from sklearn.neighbors import KNeighborsClassifier\n",
    "\n",
    "# neigh = KNeighborsClassifier(n_neighbors=best_k1)\n",
    "# neigh.fit(X_train, y_train)\n",
    "# # roc_auc_score(y_true, y_score) the 2nd parameter should be probability estimates of the positive class\n",
    "# # not the predicted outputs\n",
    "\n",
    "# y_train_pred = batch_predict(neigh, X_train)    \n",
    "# y_test_pred = batch_predict(neigh, X_test)\n",
    "\n",
    "# train_fpr, train_tpr, train_thresholds = roc_curve(y_train, y_train_pred)\n",
    "# test_fpr, test_tpr, test_thresholds = roc_curve(y_test, y_test_pred)\n",
    "\n",
    "# plt.plot(train_fpr, train_tpr, label=\"Train AUC =\"+str(auc(train_fpr, train_tpr)))\n",
    "# plt.plot(test_fpr, test_tpr, label=\"Test AUC =\"+str(auc(test_fpr, test_tpr)))\n",
    "# plt.legend()\n",
    "# plt.xlabel(\"True Positive Rate(TPR)\")\n",
    "# plt.ylabel(\"False Positive Rate(FPR)\")\n",
    "# plt.title(\"AUC\")\n",
    "# plt.grid()\n",
    "# plt.show()"
   ]
  },
  {
   "cell_type": "markdown",
   "metadata": {
    "colab_type": "text",
    "id": "gjGXlcLyr2zC"
   },
   "source": [
    "### Confusion Matrix of Train and Test Data"
   ]
  },
  {
   "cell_type": "code",
   "execution_count": 202,
   "metadata": {
    "colab": {
     "base_uri": "https://localhost:8080/",
     "height": 185
    },
    "colab_type": "code",
    "executionInfo": {
     "elapsed": 141867,
     "status": "ok",
     "timestamp": 1594372812547,
     "user": {
      "displayName": "Venkatesh Gupta",
      "photoUrl": "https://lh3.googleusercontent.com/a-/AOh14Gg8U_KUdnX4JWp6we7eGz6jpyKj3zYYWCk4s2LqwQ=s64",
      "userId": "13664137025209273415"
     },
     "user_tz": -330
    },
    "id": "VktGFZHwr2zF",
    "outputId": "01a9f5f2-a785-4d6d-eb95-db775a06a238"
   },
   "outputs": [
    {
     "name": "stdout",
     "output_type": "stream",
     "text": [
      "              precision    recall  f1-score   support\n",
      "\n",
      "           0       0.00      0.00      0.00      2074\n",
      "           1       0.85      1.00      0.92     11393\n",
      "\n",
      "    accuracy                           0.85     13467\n",
      "   macro avg       0.42      0.50      0.46     13467\n",
      "weighted avg       0.72      0.85      0.78     13467\n",
      "\n"
     ]
    }
   ],
   "source": [
    "from sklearn.metrics import classification_report\n",
    "\n",
    "print(classification_report(y_train,neigh1.predict(X_train) ))"
   ]
  },
  {
   "cell_type": "code",
   "execution_count": 203,
   "metadata": {
    "colab": {},
    "colab_type": "code",
    "executionInfo": {
     "elapsed": 141860,
     "status": "ok",
     "timestamp": 1594372812547,
     "user": {
      "displayName": "Venkatesh Gupta",
      "photoUrl": "https://lh3.googleusercontent.com/a-/AOh14Gg8U_KUdnX4JWp6we7eGz6jpyKj3zYYWCk4s2LqwQ=s64",
      "userId": "13664137025209273415"
     },
     "user_tz": -330
    },
    "id": "o-ROnbGUQP9e"
   },
   "outputs": [],
   "source": [
    "# we are writing our own function for predict, with defined thresould\n",
    "# we will pick a threshold that will give the least fpr\n",
    "def find_best_threshold(threshould, fpr, tpr):\n",
    "    t = threshould[np.argmax(tpr*(1-fpr))]\n",
    "    # (tpr*(1-fpr)) will be maximum if your fpr is very low and tpr is very high\n",
    "    print(\"the maximum value of tpr*(1-fpr)\", max(tpr*(1-fpr)), \"for threshold\", np.round(t,3))\n",
    "    return t\n",
    "\n",
    "def predict_with_best_t(proba, threshould):\n",
    "    predictions = []\n",
    "    for i in proba:\n",
    "        if i>=threshould:\n",
    "            predictions.append(1)\n",
    "        else:\n",
    "            predictions.append(0)\n",
    "    return predictions"
   ]
  },
  {
   "cell_type": "code",
   "execution_count": 204,
   "metadata": {
    "colab": {
     "base_uri": "https://localhost:8080/",
     "height": 148
    },
    "colab_type": "code",
    "executionInfo": {
     "elapsed": 141855,
     "status": "ok",
     "timestamp": 1594372812549,
     "user": {
      "displayName": "Venkatesh Gupta",
      "photoUrl": "https://lh3.googleusercontent.com/a-/AOh14Gg8U_KUdnX4JWp6we7eGz6jpyKj3zYYWCk4s2LqwQ=s64",
      "userId": "13664137025209273415"
     },
     "user_tz": -330
    },
    "id": "KcmmPdBZQaMJ",
    "outputId": "97b542c2-c3b2-4844-f42c-e25b2fd14a67"
   },
   "outputs": [
    {
     "name": "stdout",
     "output_type": "stream",
     "text": [
      "the maximum value of tpr*(1-fpr) 0.3720965968969933 for threshold 0.769\n",
      "Train confusion matrix\n",
      "[[1253  821]\n",
      " [4376 7017]]\n",
      "Test confusion matrix\n",
      "[[ 851  674]\n",
      " [3386 4989]]\n"
     ]
    }
   ],
   "source": [
    "from sklearn.metrics import confusion_matrix\n",
    "best_t = find_best_threshold(thresholds, train_fpr, train_tpr)\n",
    "print(\"Train confusion matrix\")\n",
    "print(confusion_matrix(y_train, predict_with_best_t(y_train_pred, best_t)))\n",
    "print(\"Test confusion matrix\")\n",
    "print(confusion_matrix(y_test, predict_with_best_t(y_test_pred, best_t)))"
   ]
  },
  {
   "cell_type": "code",
   "execution_count": 205,
   "metadata": {
    "colab": {
     "base_uri": "https://localhost:8080/",
     "height": 295
    },
    "colab_type": "code",
    "executionInfo": {
     "elapsed": 141848,
     "status": "ok",
     "timestamp": 1594372812550,
     "user": {
      "displayName": "Venkatesh Gupta",
      "photoUrl": "https://lh3.googleusercontent.com/a-/AOh14Gg8U_KUdnX4JWp6we7eGz6jpyKj3zYYWCk4s2LqwQ=s64",
      "userId": "13664137025209273415"
     },
     "user_tz": -330
    },
    "id": "EC4DVJHWr2zH",
    "outputId": "f2cea042-f828-415c-afde-2974672b9af0"
   },
   "outputs": [
    {
     "data": {
      "image/png": "[encoded data removed]",
      "text/plain": [
       "<Figure size 432x288 with 2 Axes>"
      ]
     },
     "metadata": {
      "needs_background": "light",
      "tags": []
     },
     "output_type": "display_data"
    }
   ],
   "source": [
    "import seaborn as sns\n",
    "import matplotlib.pyplot as plt   \n",
    "\n",
    "ax= plt.subplot()\n",
    "sns.heatmap(confusion_matrix(y_train, predict_with_best_t(y_train_pred, best_t)), annot=True, ax = ax,fmt='g');\n",
    "ax.set_xlabel('Predicted labels');\n",
    "ax.set_ylabel('True labels'); \n",
    "ax.set_title('Confusion Matrix');\n"
   ]
  },
  {
   "cell_type": "code",
   "execution_count": 206,
   "metadata": {
    "colab": {
     "base_uri": "https://localhost:8080/",
     "height": 295
    },
    "colab_type": "code",
    "executionInfo": {
     "elapsed": 142806,
     "status": "ok",
     "timestamp": 1594372813514,
     "user": {
      "displayName": "Venkatesh Gupta",
      "photoUrl": "https://lh3.googleusercontent.com/a-/AOh14Gg8U_KUdnX4JWp6we7eGz6jpyKj3zYYWCk4s2LqwQ=s64",
      "userId": "13664137025209273415"
     },
     "user_tz": -330
    },
    "id": "S2Dpomi-T0OC",
    "outputId": "1af6ef23-2d7b-430d-ba8f-6ca9006ab3e7"
   },
   "outputs": [
    {
     "data": {
      "image/png": "[encoded data removed]",
      "text/plain": [
       "<Figure size 432x288 with 2 Axes>"
      ]
     },
     "metadata": {
      "needs_background": "light",
      "tags": []
     },
     "output_type": "display_data"
    }
   ],
   "source": [
    "ax= plt.subplot()\n",
    "sns.heatmap(confusion_matrix(y_test, predict_with_best_t(y_test_pred, best_t)), annot=True, ax = ax,fmt='g');\n",
    "ax.set_xlabel('Predicted labels');\n",
    "ax.set_ylabel('True labels'); \n",
    "ax.set_title('Confusion Matrix');"
   ]
  },
  {
   "cell_type": "markdown",
   "metadata": {
    "colab_type": "text",
    "id": "V8pUeQFiCypq"
   },
   "source": [
    "### 2.2 Set 2: categorical, numerical features + project_title(TFIDF)+ preprocessed_essay (TFIDF)"
   ]
  },
  {
   "cell_type": "code",
   "execution_count": 207,
   "metadata": {
    "colab": {},
    "colab_type": "code",
    "executionInfo": {
     "elapsed": 142802,
     "status": "ok",
     "timestamp": 1594372813515,
     "user": {
      "displayName": "Venkatesh Gupta",
      "photoUrl": "https://lh3.googleusercontent.com/a-/AOh14Gg8U_KUdnX4JWp6we7eGz6jpyKj3zYYWCk4s2LqwQ=s64",
      "userId": "13664137025209273415"
     },
     "user_tz": -330
    },
    "id": "7L7e-_EfCypq"
   },
   "outputs": [],
   "source": [
    "# Please write all the code with proper documentation\n",
    "\n",
    "X_train = hstack((train_categories_one_hot, train_subcategories_one_hot, train_essay_tfidf, train_title_tfidf, train_school_state_category_one_hot,train_teacher_prefix_categories_one_hot, previously_posted_projects_normalized_train, train_project_grade_category_one_hot, price_normalized_train)).tocsr()\n",
    "X_cv = hstack((cv_categories_one_hot, cv_subcategories_one_hot, cv_essay_tfidf, cv_title_tfidf, cv_school_state_category_one_hot, cv_teacher_prefix_categories_one_hot, previously_posted_projects_normalized_cv, cv_project_grade_category_one_hot, price_normalized_cv)).tocsr()\n",
    "X_test = hstack((test_categories_one_hot, test_subcategories_one_hot, test_essay_tfidf, test_title_tfidf, test_school_state_category_one_hot, test_teacher_prefix_categories_one_hot, previously_posted_projects_normalized_test, test_project_grade_category_one_hot, price_normalized_test)).tocsr()"
   ]
  },
  {
   "cell_type": "code",
   "execution_count": 208,
   "metadata": {
    "colab": {
     "base_uri": "https://localhost:8080/",
     "height": 73
    },
    "colab_type": "code",
    "executionInfo": {
     "elapsed": 142799,
     "status": "ok",
     "timestamp": 1594372813517,
     "user": {
      "displayName": "Venkatesh Gupta",
      "photoUrl": "https://lh3.googleusercontent.com/a-/AOh14Gg8U_KUdnX4JWp6we7eGz6jpyKj3zYYWCk4s2LqwQ=s64",
      "userId": "13664137025209273415"
     },
     "user_tz": -330
    },
    "id": "ALZSR5L2r2zP",
    "outputId": "7d7c93b5-719b-4570-9168-777bc8bdb21a"
   },
   "outputs": [
    {
     "name": "stdout",
     "output_type": "stream",
     "text": [
      "(13467, 7951)\n",
      "(6633, 7951)\n",
      "(9900, 7951)\n"
     ]
    }
   ],
   "source": [
    "print(X_train.shape)\n",
    "print(X_cv.shape)\n",
    "print(X_test.shape)"
   ]
  },
  {
   "cell_type": "code",
   "execution_count": 209,
   "metadata": {
    "colab": {
     "base_uri": "https://localhost:8080/",
     "height": 557
    },
    "colab_type": "code",
    "executionInfo": {
     "elapsed": 468900,
     "status": "ok",
     "timestamp": 1594373139622,
     "user": {
      "displayName": "Venkatesh Gupta",
      "photoUrl": "https://lh3.googleusercontent.com/a-/AOh14Gg8U_KUdnX4JWp6we7eGz6jpyKj3zYYWCk4s2LqwQ=s64",
      "userId": "13664137025209273415"
     },
     "user_tz": -330
    },
    "id": "VbD7rVcZr2zS",
    "outputId": "7023ae3c-fad8-4257-cfee-99fe768f85d4"
   },
   "outputs": [
    {
     "name": "stderr",
     "output_type": "stream",
     "text": [
      "\n",
      "  0%|          | 0/12 [00:00<?, ?it/s]\u001b[A\n",
      "  8%|▊         | 1/12 [00:24<04:25, 24.10s/it]\u001b[A\n",
      " 17%|█▋        | 2/12 [00:51<04:11, 25.15s/it]\u001b[A\n",
      " 25%|██▌       | 3/12 [01:18<03:51, 25.77s/it]\u001b[A\n",
      " 33%|███▎      | 4/12 [01:46<03:30, 26.28s/it]\u001b[A\n",
      " 42%|████▏     | 5/12 [02:13<03:06, 26.59s/it]\u001b[A\n",
      " 50%|█████     | 6/12 [02:41<02:41, 26.85s/it]\u001b[A\n",
      " 58%|█████▊    | 7/12 [03:08<02:15, 27.03s/it]\u001b[A\n",
      " 67%|██████▋   | 8/12 [03:36<01:48, 27.16s/it]\u001b[A\n",
      " 75%|███████▌  | 9/12 [04:03<01:21, 27.25s/it]\u001b[A\n",
      " 83%|████████▎ | 10/12 [04:31<00:54, 27.34s/it]\u001b[A\n",
      " 92%|█████████▏| 11/12 [04:58<00:27, 27.41s/it]\u001b[A\n",
      "100%|██████████| 12/12 [05:26<00:00, 27.19s/it]\n"
     ]
    },
    {
     "data": {
      "image/png": "[encoded data removed]",
      "text/plain": [
       "<Figure size 432x288 with 1 Axes>"
      ]
     },
     "metadata": {
      "needs_background": "light",
      "tags": []
     },
     "output_type": "display_data"
    }
   ],
   "source": [
    "from sklearn.neighbors import KNeighborsClassifier\n",
    "from sklearn.metrics import roc_auc_score\n",
    "\n",
    "import matplotlib.pyplot as plt\n",
    "train_auc = []\n",
    "cv_auc = [] \n",
    "K = [1, 5, 10, 15, 21, 31, 41, 51, 65, 71, 85, 91]# min k causes overfitting, max k causes underfitting\n",
    "#K = range(1,50,2)\n",
    "for i in  tqdm(K):\n",
    "  \n",
    "    neigh2 = KNeighborsClassifier(n_neighbors=i,algorithm='brute')# takes the k from the  i th list value\n",
    "    neigh2.fit(X_train, y_train)# fit the model\n",
    "    \n",
    "    # roc_auc_score(y_true, y_score) the 2nd parameter should be probability estimates of the positive class\n",
    "    # not the predicted outputs\n",
    "    y_train_pred =  neigh2.predict_proba(X_train)[:,1]#Return probability estimates for the  set1x ,for the class label 1 or +ve.\n",
    "    y_cv_pred =  neigh2.predict_proba(X_cv)[:,1]#Return probability estimates for the setcvx,for the class label 1 or +ve .\n",
    "    \n",
    "    # roc curve\n",
    "    #Compute Area Under the Receiver Operating Characteristic Curve (ROC AUC) from prediction scores.\n",
    "    train_auc.append(roc_auc_score(y_train,y_train_pred))\n",
    "    cv_auc.append(roc_auc_score(y_cv, y_cv_pred))\n",
    "\n",
    "plt.plot(K, train_auc, label='Train AUC')\n",
    "plt.plot(K, cv_auc, label='CV AUC')\n",
    "\n",
    "\n",
    "plt.scatter(K, train_auc, label='Train AUC points')\n",
    "plt.scatter(K, cv_auc, label='CV AUC points')\n",
    "\n",
    "plt.legend()\n",
    "plt.xlabel(\"K: hyperparameter\")\n",
    "plt.ylabel(\"AUC\")\n",
    "plt.title(\"ERROR PLOTS\")\n",
    "plt.show()                "
   ]
  },
  {
   "cell_type": "code",
   "execution_count": 210,
   "metadata": {
    "colab": {
     "base_uri": "https://localhost:8080/",
     "height": 36
    },
    "colab_type": "code",
    "executionInfo": {
     "elapsed": 468905,
     "status": "ok",
     "timestamp": 1594373139632,
     "user": {
      "displayName": "Venkatesh Gupta",
      "photoUrl": "https://lh3.googleusercontent.com/a-/AOh14Gg8U_KUdnX4JWp6we7eGz6jpyKj3zYYWCk4s2LqwQ=s64",
      "userId": "13664137025209273415"
     },
     "user_tz": -330
    },
    "id": "aHLZjyOUr2zU",
    "outputId": "a481d4a0-53ff-41f3-e06e-8fa9a48b88dd"
   },
   "outputs": [
    {
     "name": "stdout",
     "output_type": "stream",
     "text": [
      "85\n"
     ]
    }
   ],
   "source": [
    "score_t_train = [x for x in train_auc]\n",
    "score_t_cv = [x for x in cv_auc]\n",
    "\n",
    "diff_score_train_cv = list(set(score_t_train) - set(score_t_cv))\n",
    "opt_t_cv = K[diff_score_train_cv.index(min(diff_score_train_cv))]\n",
    "best_k=opt_t_cv\n",
    "print(best_k)"
   ]
  },
  {
   "cell_type": "markdown",
   "metadata": {
    "colab_type": "text",
    "id": "zOmJXc4Yr2zX"
   },
   "source": [
    "### Train the model using the best hyperparameter that will maximise AUC score"
   ]
  },
  {
   "cell_type": "code",
   "execution_count": 211,
   "metadata": {
    "colab": {
     "base_uri": "https://localhost:8080/",
     "height": 295
    },
    "colab_type": "code",
    "executionInfo": {
     "elapsed": 533138,
     "status": "ok",
     "timestamp": 1594373203870,
     "user": {
      "displayName": "Venkatesh Gupta",
      "photoUrl": "https://lh3.googleusercontent.com/a-/AOh14Gg8U_KUdnX4JWp6we7eGz6jpyKj3zYYWCk4s2LqwQ=s64",
      "userId": "13664137025209273415"
     },
     "user_tz": -330
    },
    "id": "Nuh3Gl7or2zX",
    "outputId": "70688204-110b-48ce-d54f-642308cc60cb"
   },
   "outputs": [
    {
     "data": {
      "image/png": "[encoded data removed]",
      "text/plain": [
       "<Figure size 432x288 with 1 Axes>"
      ]
     },
     "metadata": {
      "needs_background": "light",
      "tags": []
     },
     "output_type": "display_data"
    }
   ],
   "source": [
    "# https://scikit-learn.org/stable/modules/generated/sklearn.metrics.roc_curve.html#sklearn.metrics.roc_curve\n",
    "from sklearn.metrics import roc_curve, auc\n",
    "\n",
    "\n",
    "neigh2 = KNeighborsClassifier(n_neighbors=best_k,algorithm='brute')\n",
    "neigh2.fit(X_train ,y_train)\n",
    "# roc_auc_score(y_true, y_score) the 2nd parameter should be probability estimates of the positive class\n",
    "# not the predicted outputs\n",
    "\n",
    "y_train_pred =  neigh2.predict_proba(X_train)[:,1]#Return probability estimates for the  set1x ,for the class label 1 or +ve.\n",
    "y_test_pred =  neigh2.predict_proba(X_test)[:,1]#Return probability estimates for the setcvx,for the class label 1 or +ve .\n",
    "\n",
    "train_fpr, train_tpr, thresholds = roc_curve(y_train, neigh2.predict_proba(X_train)[:,1])\n",
    "test_fpr, test_tpr, thresholds = roc_curve(y_test, neigh2.predict_proba(X_test)[:,1])\n",
    "\n",
    "plt.plot(train_fpr, train_tpr, label=\"train AUC =\"+str(auc(train_fpr, train_tpr)))\n",
    "plt.plot(test_fpr, test_tpr, label=\"test AUC =\"+str(auc(test_fpr, test_tpr)))\n",
    "plt.legend()\n",
    "plt.xlabel(\"False Positive Rate(FPR)\")\n",
    "plt.ylabel(\"True Positive Rate(TPR)\")\n",
    "plt.title(\"ROC PLOTS\")\n",
    "plt.show()"
   ]
  },
  {
   "cell_type": "markdown",
   "metadata": {
    "colab_type": "text",
    "id": "kYxU9AKPr2zZ"
   },
   "source": [
    "### Confusion Matrix of Train and Test Data"
   ]
  },
  {
   "cell_type": "code",
   "execution_count": 212,
   "metadata": {
    "colab": {
     "base_uri": "https://localhost:8080/",
     "height": 185
    },
    "colab_type": "code",
    "executionInfo": {
     "elapsed": 552462,
     "status": "ok",
     "timestamp": 1594373223197,
     "user": {
      "displayName": "Venkatesh Gupta",
      "photoUrl": "https://lh3.googleusercontent.com/a-/AOh14Gg8U_KUdnX4JWp6we7eGz6jpyKj3zYYWCk4s2LqwQ=s64",
      "userId": "13664137025209273415"
     },
     "user_tz": -330
    },
    "id": "narrOsXRr2zb",
    "outputId": "af2ee4e5-9b22-4d04-b92e-3c66d586e5ef"
   },
   "outputs": [
    {
     "name": "stdout",
     "output_type": "stream",
     "text": [
      "              precision    recall  f1-score   support\n",
      "\n",
      "           0       0.00      0.00      0.00      2074\n",
      "           1       0.85      1.00      0.92     11393\n",
      "\n",
      "    accuracy                           0.85     13467\n",
      "   macro avg       0.42      0.50      0.46     13467\n",
      "weighted avg       0.72      0.85      0.78     13467\n",
      "\n"
     ]
    }
   ],
   "source": [
    "from sklearn.metrics import classification_report\n",
    "\n",
    "print(classification_report(y_train,neigh2.predict(X_train) ))"
   ]
  },
  {
   "cell_type": "code",
   "execution_count": 213,
   "metadata": {
    "colab": {
     "base_uri": "https://localhost:8080/",
     "height": 148
    },
    "colab_type": "code",
    "executionInfo": {
     "elapsed": 552467,
     "status": "ok",
     "timestamp": 1594373223207,
     "user": {
      "displayName": "Venkatesh Gupta",
      "photoUrl": "https://lh3.googleusercontent.com/a-/AOh14Gg8U_KUdnX4JWp6we7eGz6jpyKj3zYYWCk4s2LqwQ=s64",
      "userId": "13664137025209273415"
     },
     "user_tz": -330
    },
    "id": "55pWQQxZr2zZ",
    "outputId": "2e1ce57e-d4ca-426e-ea75-1221ce9a7fe4"
   },
   "outputs": [
    {
     "name": "stdout",
     "output_type": "stream",
     "text": [
      "the maximum value of tpr*(1-fpr) 0.34546509254993485 for threshold 0.859\n",
      "Train confusion matrix\n",
      "[[1331  743]\n",
      " [5260 6133]]\n",
      "Test confusion matrix\n",
      "[[ 864  661]\n",
      " [4001 4374]]\n"
     ]
    }
   ],
   "source": [
    "from sklearn.metrics import confusion_matrix\n",
    "best_t = find_best_threshold(thresholds, train_fpr, train_tpr)\n",
    "print(\"Train confusion matrix\")\n",
    "print(confusion_matrix(y_train, predict_with_best_t(y_train_pred, best_t)))\n",
    "print(\"Test confusion matrix\")\n",
    "print(confusion_matrix(y_test, predict_with_best_t(y_test_pred, best_t)))"
   ]
  },
  {
   "cell_type": "code",
   "execution_count": 214,
   "metadata": {
    "colab": {
     "base_uri": "https://localhost:8080/",
     "height": 295
    },
    "colab_type": "code",
    "executionInfo": {
     "elapsed": 552468,
     "status": "ok",
     "timestamp": 1594373223213,
     "user": {
      "displayName": "Venkatesh Gupta",
      "photoUrl": "https://lh3.googleusercontent.com/a-/AOh14Gg8U_KUdnX4JWp6we7eGz6jpyKj3zYYWCk4s2LqwQ=s64",
      "userId": "13664137025209273415"
     },
     "user_tz": -330
    },
    "id": "dj13OaLBr2zd",
    "outputId": "cab5f319-8371-4bad-b1ae-b273acca40f7"
   },
   "outputs": [
    {
     "data": {
      "image/png": "[encoded data removed]",
      "text/plain": [
       "<Figure size 432x288 with 2 Axes>"
      ]
     },
     "metadata": {
      "needs_background": "light",
      "tags": []
     },
     "output_type": "display_data"
    }
   ],
   "source": [
    "ax= plt.subplot()\n",
    "sns.heatmap(confusion_matrix(y_train, predict_with_best_t(y_train_pred, best_t)), annot=True, ax = ax,fmt='g');\n",
    "ax.set_xlabel('Predicted labels');\n",
    "ax.set_ylabel('True labels'); \n",
    "ax.set_title('Confusion Matrix');"
   ]
  },
  {
   "cell_type": "code",
   "execution_count": 215,
   "metadata": {
    "colab": {
     "base_uri": "https://localhost:8080/",
     "height": 295
    },
    "colab_type": "code",
    "executionInfo": {
     "elapsed": 552468,
     "status": "ok",
     "timestamp": 1594373223218,
     "user": {
      "displayName": "Venkatesh Gupta",
      "photoUrl": "https://lh3.googleusercontent.com/a-/AOh14Gg8U_KUdnX4JWp6we7eGz6jpyKj3zYYWCk4s2LqwQ=s64",
      "userId": "13664137025209273415"
     },
     "user_tz": -330
    },
    "id": "rcQBjqMVr2zf",
    "outputId": "d16fa792-9dc4-43af-982c-2f7fa5364106"
   },
   "outputs": [
    {
     "data": {
      "image/png": "[encoded data removed]",
      "text/plain": [
       "<Figure size 432x288 with 2 Axes>"
      ]
     },
     "metadata": {
      "needs_background": "light",
      "tags": []
     },
     "output_type": "display_data"
    }
   ],
   "source": [
    "ax= plt.subplot()\n",
    "sns.heatmap(confusion_matrix(y_test, predict_with_best_t(y_test_pred, best_t)), annot=True, ax = ax,fmt='g');\n",
    "ax.set_xlabel('Predicted labels');\n",
    "ax.set_ylabel('True labels'); \n",
    "ax.set_title('Confusion Matrix');"
   ]
  },
  {
   "cell_type": "markdown",
   "metadata": {
    "colab_type": "text",
    "id": "UL8bHrflCyps"
   },
   "source": [
    "### 2.3 Set 3: categorical, numerical features + project_title(AVG W2V)+ preprocessed_essay (AVG W2V)"
   ]
  },
  {
   "cell_type": "code",
   "execution_count": 216,
   "metadata": {
    "colab": {},
    "colab_type": "code",
    "executionInfo": {
     "elapsed": 553281,
     "status": "ok",
     "timestamp": 1594373224035,
     "user": {
      "displayName": "Venkatesh Gupta",
      "photoUrl": "https://lh3.googleusercontent.com/a-/AOh14Gg8U_KUdnX4JWp6we7eGz6jpyKj3zYYWCk4s2LqwQ=s64",
      "userId": "13664137025209273415"
     },
     "user_tz": -330
    },
    "id": "Tsay467cCypt"
   },
   "outputs": [],
   "source": [
    "# merge two sparse matrices: https://stackoverflow.com/a/19710648/4084039\n",
    "from scipy.sparse import hstack\n",
    "# with the same hstack function we are concatinating a sparse matrix and a dense matirx :)\n",
    "X_train = hstack((train_categories_one_hot, train_subcategories_one_hot, train_avg_w2v_essays, train_avg_w2v_titles, train_school_state_category_one_hot,train_teacher_prefix_categories_one_hot, previously_posted_projects_normalized_train, train_project_grade_category_one_hot, price_normalized_train)).tocsr()\n",
    "X_cv = hstack((cv_categories_one_hot, cv_subcategories_one_hot, cv_avg_w2v_essays, cv_avg_w2v_titles, cv_school_state_category_one_hot, cv_teacher_prefix_categories_one_hot, previously_posted_projects_normalized_cv, cv_project_grade_category_one_hot, price_normalized_cv)).tocsr()\n",
    "X_test = hstack((test_categories_one_hot, test_subcategories_one_hot, test_avg_w2v_essays, test_avg_w2v_titles, test_school_state_category_one_hot, test_teacher_prefix_categories_one_hot, previously_posted_projects_normalized_test, test_project_grade_category_one_hot, price_normalized_test)).tocsr()"
   ]
  },
  {
   "cell_type": "code",
   "execution_count": 217,
   "metadata": {
    "colab": {
     "base_uri": "https://localhost:8080/",
     "height": 73
    },
    "colab_type": "code",
    "executionInfo": {
     "elapsed": 553284,
     "status": "ok",
     "timestamp": 1594373224042,
     "user": {
      "displayName": "Venkatesh Gupta",
      "photoUrl": "https://lh3.googleusercontent.com/a-/AOh14Gg8U_KUdnX4JWp6we7eGz6jpyKj3zYYWCk4s2LqwQ=s64",
      "userId": "13664137025209273415"
     },
     "user_tz": -330
    },
    "id": "14z25kwBr2zj",
    "outputId": "992a093f-1a62-4a17-a581-08a2c1967fdd"
   },
   "outputs": [
    {
     "name": "stdout",
     "output_type": "stream",
     "text": [
      "(13467, 700)\n",
      "(6633, 700)\n",
      "(9900, 700)\n"
     ]
    }
   ],
   "source": [
    "print(X_train.shape)\n",
    "print(X_cv.shape)\n",
    "print(X_test.shape)"
   ]
  },
  {
   "cell_type": "code",
   "execution_count": 218,
   "metadata": {
    "colab": {
     "base_uri": "https://localhost:8080/",
     "height": 557
    },
    "colab_type": "code",
    "executionInfo": {
     "elapsed": 6637384,
     "status": "ok",
     "timestamp": 1594379308147,
     "user": {
      "displayName": "Venkatesh Gupta",
      "photoUrl": "https://lh3.googleusercontent.com/a-/AOh14Gg8U_KUdnX4JWp6we7eGz6jpyKj3zYYWCk4s2LqwQ=s64",
      "userId": "13664137025209273415"
     },
     "user_tz": -330
    },
    "id": "d3uWHVfsDdQ4",
    "outputId": "653f2bcf-1fa8-4564-dddf-8b9c57082e6c"
   },
   "outputs": [
    {
     "name": "stderr",
     "output_type": "stream",
     "text": [
      "\n",
      "  0%|          | 0/12 [00:00<?, ?it/s]\u001b[A\n",
      "  8%|▊         | 1/12 [08:26<1:32:53, 506.65s/it]\u001b[A\n",
      " 17%|█▋        | 2/12 [16:53<1:24:26, 506.64s/it]\u001b[A\n",
      " 25%|██▌       | 3/12 [25:19<1:15:57, 506.38s/it]\u001b[A\n",
      " 33%|███▎      | 4/12 [33:43<1:07:27, 505.90s/it]\u001b[A\n",
      " 42%|████▏     | 5/12 [42:06<58:55, 505.07s/it]  \u001b[A\n",
      " 50%|█████     | 6/12 [50:34<50:35, 505.94s/it]\u001b[A\n",
      " 58%|█████▊    | 7/12 [59:01<42:10, 506.05s/it]\u001b[A\n",
      " 67%|██████▋   | 8/12 [1:07:25<33:42, 505.62s/it]\u001b[A\n",
      " 75%|███████▌  | 9/12 [1:15:59<25:24, 508.05s/it]\u001b[A\n",
      " 83%|████████▎ | 10/12 [1:24:27<16:55, 507.87s/it]\u001b[A\n",
      " 92%|█████████▏| 11/12 [1:32:50<08:26, 506.49s/it]\u001b[A\n",
      "100%|██████████| 12/12 [1:41:23<00:00, 506.99s/it]\n"
     ]
    },
    {
     "data": {
      "image/png": "[encoded data removed]",
      "text/plain": [
       "<Figure size 432x288 with 1 Axes>"
      ]
     },
     "metadata": {
      "needs_background": "light",
      "tags": []
     },
     "output_type": "display_data"
    }
   ],
   "source": [
    "from sklearn.neighbors import KNeighborsClassifier\n",
    "from sklearn.metrics import roc_auc_score\n",
    "\n",
    "import matplotlib.pyplot as plt\n",
    "train_auc = []\n",
    "cv_auc = [] \n",
    "K = [1, 5, 10, 15, 21, 31, 41, 51, 65, 71, 85, 91]# min k causes overfitting, max k causes underfitting\n",
    "#K = range(1,50,2)\n",
    "for i in  tqdm(K):\n",
    "  \n",
    "    neigh3 = KNeighborsClassifier(n_neighbors=i,algorithm='brute')# takes the k from the  i th list value\n",
    "    neigh3.fit(X_train, y_train)# fit the model\n",
    "    \n",
    "    # roc_auc_score(y_true, y_score) the 2nd parameter should be probability estimates of the positive class\n",
    "    # not the predicted outputs\n",
    "    y_train_pred =  neigh3.predict_proba(X_train)[:,1]#Return probability estimates for the  set1x ,for the class label 1 or +ve.\n",
    "    y_cv_pred =  neigh3.predict_proba(X_cv)[:,1]#Return probability estimates for the setcvx,for the class label 1 or +ve .\n",
    "    \n",
    "    # roc curve\n",
    "    #Compute Area Under the Receiver Operating Characteristic Curve (ROC AUC) from prediction scores.\n",
    "    train_auc.append(roc_auc_score(y_train,y_train_pred))\n",
    "    cv_auc.append(roc_auc_score(y_cv, y_cv_pred))\n",
    "\n",
    "plt.plot(K, train_auc, label='Train AUC')\n",
    "plt.plot(K, cv_auc, label='CV AUC')\n",
    "\n",
    "\n",
    "plt.scatter(K, train_auc, label='Train AUC points')\n",
    "plt.scatter(K, cv_auc, label='CV AUC points')\n",
    "\n",
    "plt.legend()\n",
    "plt.xlabel(\"K: hyperparameter\")\n",
    "plt.ylabel(\"AUC\")\n",
    "plt.title(\"ERROR PLOTS\")\n",
    "plt.show()                "
   ]
  },
  {
   "cell_type": "code",
   "execution_count": 219,
   "metadata": {
    "colab": {
     "base_uri": "https://localhost:8080/",
     "height": 36
    },
    "colab_type": "code",
    "executionInfo": {
     "elapsed": 6637398,
     "status": "ok",
     "timestamp": 1594379308165,
     "user": {
      "displayName": "Venkatesh Gupta",
      "photoUrl": "https://lh3.googleusercontent.com/a-/AOh14Gg8U_KUdnX4JWp6we7eGz6jpyKj3zYYWCk4s2LqwQ=s64",
      "userId": "13664137025209273415"
     },
     "user_tz": -330
    },
    "id": "5mi0fOJgr2zq",
    "outputId": "61d49944-3763-41fc-c6b0-c27653833afe"
   },
   "outputs": [
    {
     "name": "stdout",
     "output_type": "stream",
     "text": [
      "91\n"
     ]
    }
   ],
   "source": [
    "score_t_train = [x for x in train_auc]\n",
    "score_t_cv = [x for x in cv_auc]\n",
    "\n",
    "diff_score_train_cv = list(set(score_t_train) - set(score_t_cv))\n",
    "opt_t_cv = K[diff_score_train_cv.index(min(diff_score_train_cv))]\n",
    "best_k=opt_t_cv\n",
    "print(best_k)"
   ]
  },
  {
   "cell_type": "markdown",
   "metadata": {
    "colab_type": "text",
    "id": "mhvyGy6hr2zs"
   },
   "source": [
    "### Train the model using the best hyperparameter that will maximise AUC score"
   ]
  },
  {
   "cell_type": "code",
   "execution_count": 222,
   "metadata": {
    "colab": {
     "base_uri": "https://localhost:8080/",
     "height": 295
    },
    "colab_type": "code",
    "executionInfo": {
     "elapsed": 69037,
     "status": "ok",
     "timestamp": 1594379972519,
     "user": {
      "displayName": "Venkatesh Gupta",
      "photoUrl": "https://lh3.googleusercontent.com/a-/AOh14Gg8U_KUdnX4JWp6we7eGz6jpyKj3zYYWCk4s2LqwQ=s64",
      "userId": "13664137025209273415"
     },
     "user_tz": -330
    },
    "id": "mAjhLuQOr2zs",
    "outputId": "a57e34ed-a14b-4e7a-cc85-41fcf67bcba0"
   },
   "outputs": [
    {
     "data": {
      "image/png": "[encoded data removed]",
      "text/plain": [
       "<Figure size 432x288 with 1 Axes>"
      ]
     },
     "metadata": {
      "needs_background": "light",
      "tags": []
     },
     "output_type": "display_data"
    }
   ],
   "source": [
    "# https://scikit-learn.org/stable/modules/generated/sklearn.metrics.roc_curve.html#sklearn.metrics.roc_curve\n",
    "from sklearn.metrics import roc_curve, auc\n",
    "\n",
    "\n",
    "neigh3 = KNeighborsClassifier(n_neighbors=best_k,algorithm='brute')\n",
    "neigh3.fit(X_train ,y_train)\n",
    "# roc_auc_score(y_true, y_score) the 2nd parameter should be probability estimates of the positive class\n",
    "# not the predicted outputs\n",
    "\n",
    "y_train_pred =  neigh3.predict_proba(X_train)[:,1]#Return probability estimates for the  set1x ,for the class label 1 or +ve.\n",
    "y_test_pred =  neigh3.predict_proba(X_test)[:,1]#Return probability estimates for the setcvx,for the class label 1 or +ve .\n",
    "\n",
    "train_fpr, train_tpr, thresholds = roc_curve(y_train, neigh3.predict_proba(X_train)[:,1])\n",
    "test_fpr, test_tpr, thresholds = roc_curve(y_test, neigh3.predict_proba(X_test)[:,1])\n",
    "\n",
    "plt.plot(train_fpr, train_tpr, label=\"train AUC =\"+str(auc(train_fpr, train_tpr)))\n",
    "plt.plot(test_fpr, test_tpr, label=\"test AUC =\"+str(auc(test_fpr, test_tpr)))\n",
    "plt.legend()\n",
    "plt.xlabel(\"False Positive Rate(FPR)\")\n",
    "plt.ylabel(\"True Positive Rate(TPR)\")\n",
    "plt.title(\"ROC PLOTS\")\n",
    "plt.show()"
   ]
  },
  {
   "cell_type": "markdown",
   "metadata": {
    "colab_type": "text",
    "id": "haer_bGVr2zv"
   },
   "source": [
    "### Confusion Matrix of Train and Test Data"
   ]
  },
  {
   "cell_type": "code",
   "execution_count": 223,
   "metadata": {
    "colab": {
     "base_uri": "https://localhost:8080/",
     "height": 185
    },
    "colab_type": "code",
    "executionInfo": {
     "elapsed": 21475,
     "status": "ok",
     "timestamp": 1594379994071,
     "user": {
      "displayName": "Venkatesh Gupta",
      "photoUrl": "https://lh3.googleusercontent.com/a-/AOh14Gg8U_KUdnX4JWp6we7eGz6jpyKj3zYYWCk4s2LqwQ=s64",
      "userId": "13664137025209273415"
     },
     "user_tz": -330
    },
    "id": "xAgUejb5r2zx",
    "outputId": "32fcbd3e-0d22-4679-c9e3-bfe65a6107cd"
   },
   "outputs": [
    {
     "name": "stdout",
     "output_type": "stream",
     "text": [
      "              precision    recall  f1-score   support\n",
      "\n",
      "           0       0.00      0.00      0.00      2074\n",
      "           1       0.85      1.00      0.92     11393\n",
      "\n",
      "    accuracy                           0.85     13467\n",
      "   macro avg       0.42      0.50      0.46     13467\n",
      "weighted avg       0.72      0.85      0.78     13467\n",
      "\n"
     ]
    }
   ],
   "source": [
    "from sklearn.metrics import classification_report\n",
    "\n",
    "print(classification_report(y_train,neigh3.predict(X_train) ))"
   ]
  },
  {
   "cell_type": "code",
   "execution_count": 224,
   "metadata": {
    "colab": {
     "base_uri": "https://localhost:8080/",
     "height": 148
    },
    "colab_type": "code",
    "executionInfo": {
     "elapsed": 21459,
     "status": "ok",
     "timestamp": 1594379994085,
     "user": {
      "displayName": "Venkatesh Gupta",
      "photoUrl": "https://lh3.googleusercontent.com/a-/AOh14Gg8U_KUdnX4JWp6we7eGz6jpyKj3zYYWCk4s2LqwQ=s64",
      "userId": "13664137025209273415"
     },
     "user_tz": -330
    },
    "id": "yNlSgObKr2zv",
    "outputId": "62ce47be-7e18-4b57-eb1e-221ee6922aee"
   },
   "outputs": [
    {
     "name": "stdout",
     "output_type": "stream",
     "text": [
      "the maximum value of tpr*(1-fpr) 0.3407106547770243 for threshold 0.857\n",
      "Train confusion matrix\n",
      "[[1284  790]\n",
      " [5123 6270]]\n",
      "Test confusion matrix\n",
      "[[ 853  672]\n",
      " [3908 4467]]\n"
     ]
    }
   ],
   "source": [
    "from sklearn.metrics import confusion_matrix\n",
    "best_t = find_best_threshold(thresholds, train_fpr, train_tpr)\n",
    "print(\"Train confusion matrix\")\n",
    "print(confusion_matrix(y_train, predict_with_best_t(y_train_pred, best_t)))\n",
    "print(\"Test confusion matrix\")\n",
    "print(confusion_matrix(y_test, predict_with_best_t(y_test_pred, best_t)))"
   ]
  },
  {
   "cell_type": "code",
   "execution_count": 225,
   "metadata": {
    "colab": {
     "base_uri": "https://localhost:8080/",
     "height": 295
    },
    "colab_type": "code",
    "executionInfo": {
     "elapsed": 21437,
     "status": "ok",
     "timestamp": 1594379994094,
     "user": {
      "displayName": "Venkatesh Gupta",
      "photoUrl": "https://lh3.googleusercontent.com/a-/AOh14Gg8U_KUdnX4JWp6we7eGz6jpyKj3zYYWCk4s2LqwQ=s64",
      "userId": "13664137025209273415"
     },
     "user_tz": -330
    },
    "id": "U-QPeCRNr2zz",
    "outputId": "73440a97-0852-4e63-9ee5-ebda4bc0c931"
   },
   "outputs": [
    {
     "data": {
      "image/png": "[encoded data removed]",
      "text/plain": [
       "<Figure size 432x288 with 2 Axes>"
      ]
     },
     "metadata": {
      "needs_background": "light",
      "tags": []
     },
     "output_type": "display_data"
    }
   ],
   "source": [
    "ax= plt.subplot()\n",
    "sns.heatmap(confusion_matrix(y_train, predict_with_best_t(y_train_pred, best_t)), annot=True, ax = ax,fmt='g');\n",
    "ax.set_xlabel('Predicted labels');\n",
    "ax.set_ylabel('True labels'); \n",
    "ax.set_title('Confusion Matrix');"
   ]
  },
  {
   "cell_type": "code",
   "execution_count": 226,
   "metadata": {
    "colab": {
     "base_uri": "https://localhost:8080/",
     "height": 295
    },
    "colab_type": "code",
    "executionInfo": {
     "elapsed": 21417,
     "status": "ok",
     "timestamp": 1594379994103,
     "user": {
      "displayName": "Venkatesh Gupta",
      "photoUrl": "https://lh3.googleusercontent.com/a-/AOh14Gg8U_KUdnX4JWp6we7eGz6jpyKj3zYYWCk4s2LqwQ=s64",
      "userId": "13664137025209273415"
     },
     "user_tz": -330
    },
    "id": "wisgnoQNr2z1",
    "outputId": "1de9c77d-20c2-4089-cb18-9df5b3844f7a"
   },
   "outputs": [
    {
     "data": {
      "image/png": "[encoded data removed]",
      "text/plain": [
       "<Figure size 432x288 with 2 Axes>"
      ]
     },
     "metadata": {
      "needs_background": "light",
      "tags": []
     },
     "output_type": "display_data"
    }
   ],
   "source": [
    "ax= plt.subplot()\n",
    "sns.heatmap(confusion_matrix(y_test, predict_with_best_t(y_test_pred, best_t)), annot=True, ax = ax,fmt='g');\n",
    "ax.set_xlabel('Predicted labels');\n",
    "ax.set_ylabel('True labels'); \n",
    "ax.set_title('Confusion Matrix');\n"
   ]
  },
  {
   "cell_type": "markdown",
   "metadata": {
    "colab_type": "text",
    "id": "B1dIm8PiCypw"
   },
   "source": [
    "### 2.4 Set 4: categorical, numerical features + project_title(TFIDF W2V)+ preprocessed_essay (TFIDF W2V)"
   ]
  },
  {
   "cell_type": "code",
   "execution_count": 242,
   "metadata": {
    "colab": {},
    "colab_type": "code",
    "executionInfo": {
     "elapsed": 2873,
     "status": "ok",
     "timestamp": 1594383814428,
     "user": {
      "displayName": "Venkatesh Gupta",
      "photoUrl": "https://lh3.googleusercontent.com/a-/AOh14Gg8U_KUdnX4JWp6we7eGz6jpyKj3zYYWCk4s2LqwQ=s64",
      "userId": "13664137025209273415"
     },
     "user_tz": -330
    },
    "id": "5VCLzbIoCypy"
   },
   "outputs": [],
   "source": [
    "X_train = hstack((train_categories_one_hot, train_subcategories_one_hot, train_school_state_category_one_hot, train_project_grade_category_one_hot, train_teacher_prefix_categories_one_hot, price_normalized_train ,  previously_posted_projects_normalized_train, train_tfidf_w2v_essays, train_tfidf_w2v_titles)).tocsr()\n",
    "X_test = hstack((test_categories_one_hot, test_subcategories_one_hot, test_school_state_category_one_hot, test_project_grade_category_one_hot, test_teacher_prefix_categories_one_hot, price_normalized_test,  previously_posted_projects_normalized_test, test_tfidf_w2v_essays, test_tfidf_w2v_titles)).tocsr()\n",
    "X_cv = hstack((cv_categories_one_hot, cv_subcategories_one_hot, cv_school_state_category_one_hot, cv_project_grade_category_one_hot, cv_teacher_prefix_categories_one_hot, price_normalized_cv,previously_posted_projects_normalized_cv,  cv_tfidf_w2v_essays, cv_tfidf_w2v_titles)).tocsr()"
   ]
  },
  {
   "cell_type": "code",
   "execution_count": 243,
   "metadata": {
    "colab": {
     "base_uri": "https://localhost:8080/",
     "height": 73
    },
    "colab_type": "code",
    "executionInfo": {
     "elapsed": 1578,
     "status": "ok",
     "timestamp": 1594383814437,
     "user": {
      "displayName": "Venkatesh Gupta",
      "photoUrl": "https://lh3.googleusercontent.com/a-/AOh14Gg8U_KUdnX4JWp6we7eGz6jpyKj3zYYWCk4s2LqwQ=s64",
      "userId": "13664137025209273415"
     },
     "user_tz": -330
    },
    "id": "_n8Xsny4r2z5",
    "outputId": "968f595c-3cef-44d3-f5d7-64d4f10afd14"
   },
   "outputs": [
    {
     "name": "stdout",
     "output_type": "stream",
     "text": [
      "(13467, 700)\n",
      "(6633, 700)\n",
      "(9900, 700)\n"
     ]
    }
   ],
   "source": [
    "print(X_train.shape)\n",
    "print(X_cv.shape)\n",
    "print(X_test.shape)"
   ]
  },
  {
   "cell_type": "code",
   "execution_count": 244,
   "metadata": {
    "colab": {
     "base_uri": "https://localhost:8080/",
     "height": 557
    },
    "colab_type": "code",
    "executionInfo": {
     "elapsed": 345024,
     "status": "ok",
     "timestamp": 1594389922194,
     "user": {
      "displayName": "Venkatesh Gupta",
      "photoUrl": "https://lh3.googleusercontent.com/a-/AOh14Gg8U_KUdnX4JWp6we7eGz6jpyKj3zYYWCk4s2LqwQ=s64",
      "userId": "13664137025209273415"
     },
     "user_tz": -330
    },
    "id": "XiBlWr4_Di1a",
    "outputId": "aac9935f-571d-468d-be4a-871a09ad0141"
   },
   "outputs": [
    {
     "name": "stderr",
     "output_type": "stream",
     "text": [
      "\n",
      "  0%|          | 0/12 [00:00<?, ?it/s]\u001b[A\n",
      "  8%|▊         | 1/12 [08:28<1:33:14, 508.59s/it]\u001b[A\n",
      " 17%|█▋        | 2/12 [16:54<1:24:37, 507.73s/it]\u001b[A\n",
      " 25%|██▌       | 3/12 [25:25<1:16:19, 508.87s/it]\u001b[A\n",
      " 33%|███▎      | 4/12 [33:59<1:08:02, 510.35s/it]\u001b[A\n",
      " 42%|████▏     | 5/12 [42:28<59:28, 509.82s/it]  \u001b[A\n",
      " 50%|█████     | 6/12 [50:54<50:51, 508.63s/it]\u001b[A\n",
      " 58%|█████▊    | 7/12 [59:26<42:29, 509.86s/it]\u001b[A\n",
      " 67%|██████▋   | 8/12 [1:07:51<33:52, 508.23s/it]\u001b[A\n",
      " 75%|███████▌  | 9/12 [1:16:20<25:25, 508.46s/it]\u001b[A\n",
      " 83%|████████▎ | 10/12 [1:24:49<16:57, 508.58s/it]\u001b[A\n",
      " 92%|█████████▏| 11/12 [1:33:15<08:27, 507.80s/it]\u001b[A\n",
      "100%|██████████| 12/12 [1:41:42<00:00, 508.57s/it]\n"
     ]
    },
    {
     "data": {
      "image/png": "[encoded data removed]",
      "text/plain": [
       "<Figure size 432x288 with 1 Axes>"
      ]
     },
     "metadata": {
      "needs_background": "light",
      "tags": []
     },
     "output_type": "display_data"
    }
   ],
   "source": [
    "from sklearn.neighbors import KNeighborsClassifier\n",
    "from sklearn.metrics import roc_auc_score\n",
    "\n",
    "import matplotlib.pyplot as plt\n",
    "train_auc = []\n",
    "cv_auc = [] \n",
    "K = [1, 5, 10, 15, 21, 31, 41, 51, 65, 71, 85, 91]# min k causes overfitting, max k causes underfitting\n",
    "#K = range(1,50,2)\n",
    "for i in  tqdm(K):\n",
    "  \n",
    "    neigh4 = KNeighborsClassifier(n_neighbors=i,algorithm='brute')# takes the k from the  i th list value\n",
    "    neigh4.fit(X_train, y_train)# fit the model\n",
    "    \n",
    "    # roc_auc_score(y_true, y_score) the 2nd parameter should be probability estimates of the positive class\n",
    "    # not the predicted outputs\n",
    "    y_train_pred =  neigh4.predict_proba(X_train)[:,1]#Return probability estimates for the  set1x ,for the class label 1 or +ve.\n",
    "    y_cv_pred =  neigh4.predict_proba(X_cv)[:,1]#Return probability estimates for the setcvx,for the class label 1 or +ve .\n",
    "    \n",
    "    # roc curve\n",
    "    #Compute Area Under the Receiver Operating Characteristic Curve (ROC AUC) from prediction scores.\n",
    "    train_auc.append(roc_auc_score(y_train,y_train_pred))\n",
    "    cv_auc.append(roc_auc_score(y_cv, y_cv_pred))\n",
    "\n",
    "plt.plot(K, train_auc, label='Train AUC')\n",
    "plt.plot(K, cv_auc, label='CV AUC')\n",
    "\n",
    "\n",
    "plt.scatter(K, train_auc, label='Train AUC points')\n",
    "plt.scatter(K, cv_auc, label='CV AUC points')\n",
    "\n",
    "plt.legend()\n",
    "plt.xlabel(\"K: hyperparameter\")\n",
    "plt.ylabel(\"AUC\")\n",
    "plt.title(\"ERROR PLOTS\")\n",
    "plt.show()                "
   ]
  },
  {
   "cell_type": "code",
   "execution_count": 251,
   "metadata": {
    "colab": {
     "base_uri": "https://localhost:8080/",
     "height": 54
    },
    "colab_type": "code",
    "executionInfo": {
     "elapsed": 1540154,
     "status": "ok",
     "timestamp": 1594391468016,
     "user": {
      "displayName": "Venkatesh Gupta",
      "photoUrl": "https://lh3.googleusercontent.com/a-/AOh14Gg8U_KUdnX4JWp6we7eGz6jpyKj3zYYWCk4s2LqwQ=s64",
      "userId": "13664137025209273415"
     },
     "user_tz": -330
    },
    "id": "m8k38mEAr2z_",
    "outputId": "70a2eadd-21b4-4e51-a462-4a6564145cdf"
   },
   "outputs": [
    {
     "name": "stdout",
     "output_type": "stream",
     "text": [
      "85\n",
      "85\n"
     ]
    }
   ],
   "source": [
    "score_t_train = [x for x in train_auc]\n",
    "score_t_cv = [x for x in cv_auc]\n",
    "\n",
    "diff_score_train_cv = list(set(score_t_train) - set(score_t_cv))\n",
    "opt_t_cv = K[diff_score_train_cv.index(min(diff_score_train_cv))]\n",
    "best_k=opt_t_cv\n",
    "print(best_k)"
   ]
  },
  {
   "cell_type": "markdown",
   "metadata": {
    "colab_type": "text",
    "id": "7u5pngN3r20B"
   },
   "source": [
    "### Train the model using the best hyperparameter that will maximise AUC score"
   ]
  },
  {
   "cell_type": "code",
   "execution_count": null,
   "metadata": {
    "colab": {},
    "colab_type": "code",
    "id": "dwosVbMxr20B"
   },
   "outputs": [],
   "source": [
    "# https://scikit-learn.org/stable/modules/generated/sklearn.metrics.roc_curve.html#sklearn.metrics.roc_curve\n",
    "from sklearn.metrics import roc_curve, auc\n",
    "\n",
    "\n",
    "neigh4 = KNeighborsClassifier(n_neighbors=best_k,algorithm='brute')\n",
    "neigh4.fit(X_train ,y_train)\n",
    "# roc_auc_score(y_true, y_score) the 2nd parameter should be probability estimates of the positive class\n",
    "# not the predicted outputs\n",
    "\n",
    "y_train_pred =  neigh4.predict_proba(X_train)[:,1]#Return probability estimates for the  set1x ,for the class label 1 or +ve.\n",
    "y_test_pred =  neigh4.predict_proba(X_test)[:,1]#Return probability estimates for the setcvx,for the class label 1 or +ve .\n",
    "\n",
    "train_fpr, train_tpr, thresholds = roc_curve(y_train, neigh4.predict_proba(X_train)[:,1])\n",
    "test_fpr, test_tpr, thresholds = roc_curve(y_test, neigh4.predict_proba(X_test)[:,1])\n",
    "\n",
    "plt.plot(train_fpr, train_tpr, label=\"train AUC =\"+str(auc(train_fpr, train_tpr)))\n",
    "plt.plot(test_fpr, test_tpr, label=\"test AUC =\"+str(auc(test_fpr, test_tpr)))\n",
    "plt.legend()\n",
    "plt.xlabel(\"False Positive Rate(FPR)\")\n",
    "plt.ylabel(\"True Positive Rate(TPR)\")\n",
    "plt.title(\"ROC PLOTS\")\n",
    "plt.show()"
   ]
  },
  {
   "cell_type": "markdown",
   "metadata": {
    "colab_type": "text",
    "id": "OsvwErlor20D"
   },
   "source": [
    "### Confusion Matrix of Train and Test Data"
   ]
  },
  {
   "cell_type": "code",
   "execution_count": null,
   "metadata": {
    "colab": {
     "base_uri": "https://localhost:8080/",
     "height": 185
    },
    "colab_type": "code",
    "executionInfo": {
     "elapsed": 2571682,
     "status": "aborted",
     "timestamp": 1594392499601,
     "user": {
      "displayName": "Venkatesh Gupta",
      "photoUrl": "https://lh3.googleusercontent.com/a-/AOh14Gg8U_KUdnX4JWp6we7eGz6jpyKj3zYYWCk4s2LqwQ=s64",
      "userId": "13664137025209273415"
     },
     "user_tz": -330
    },
    "id": "-5ineyb9r20G",
    "outputId": "a61a7ff9-4a65-40f8-f010-3073b5fdbd22"
   },
   "outputs": [
    {
     "name": "stdout",
     "output_type": "stream",
     "text": [
      "              precision    recall  f1-score   support\n",
      "\n",
      "           0       0.00      0.00      0.00      2074\n",
      "           1       0.85      1.00      0.92     11393\n",
      "\n",
      "    accuracy                           0.85     13467\n",
      "   macro avg       0.42      0.50      0.46     13467\n",
      "weighted avg       0.72      0.85      0.78     13467\n",
      "\n"
     ]
    }
   ],
   "source": [
    "from sklearn.metrics import classification_report\n",
    "print(classification_report(y_train,neigh4.predict(X_train) ))"
   ]
  },
  {
   "cell_type": "code",
   "execution_count": null,
   "metadata": {
    "colab": {
     "base_uri": "https://localhost:8080/",
     "height": 148
    },
    "colab_type": "code",
    "executionInfo": {
     "elapsed": 2571657,
     "status": "aborted",
     "timestamp": 1594392499605,
     "user": {
      "displayName": "Venkatesh Gupta",
      "photoUrl": "https://lh3.googleusercontent.com/a-/AOh14Gg8U_KUdnX4JWp6we7eGz6jpyKj3zYYWCk4s2LqwQ=s64",
      "userId": "13664137025209273415"
     },
     "user_tz": -330
    },
    "id": "DIrgMJ3jr20E",
    "outputId": "30f42761-61c6-47fb-8c2f-2cec300c28cb"
   },
   "outputs": [
    {
     "name": "stdout",
     "output_type": "stream",
     "text": [
      "the maximum value of tpr*(1-fpr) 0.3738724170494647 for threshold 0.847\n",
      "Train confusion matrix\n",
      "[[1116  958]\n",
      " [3606 7787]]\n",
      "Test confusion matrix\n",
      "[[ 714  811]\n",
      " [2870 5505]]\n"
     ]
    }
   ],
   "source": [
    "from sklearn.metrics import confusion_matrix\n",
    "best_t = find_best_threshold(thresholds, train_fpr, train_tpr)\n",
    "print(\"Train confusion matrix\")\n",
    "print(confusion_matrix(y_train, predict_with_best_t(y_train_pred, best_t)))\n",
    "print(\"Test confusion matrix\")\n",
    "print(confusion_matrix(y_test, predict_with_best_t(y_test_pred, best_t)))"
   ]
  },
  {
   "cell_type": "code",
   "execution_count": null,
   "metadata": {
    "colab": {
     "base_uri": "https://localhost:8080/",
     "height": 295
    },
    "colab_type": "code",
    "executionInfo": {
     "elapsed": 2571639,
     "status": "aborted",
     "timestamp": 1594392499607,
     "user": {
      "displayName": "Venkatesh Gupta",
      "photoUrl": "https://lh3.googleusercontent.com/a-/AOh14Gg8U_KUdnX4JWp6we7eGz6jpyKj3zYYWCk4s2LqwQ=s64",
      "userId": "13664137025209273415"
     },
     "user_tz": -330
    },
    "id": "xdDjQdWIr20K",
    "outputId": "d32926b6-bc94-425a-fc55-83c9a9a66b9f"
   },
   "outputs": [
    {
     "data": {
      "image/png": "[encoded data removed]",
      "text/plain": [
       "<Figure size 432x288 with 2 Axes>"
      ]
     },
     "metadata": {
      "needs_background": "light",
      "tags": []
     },
     "output_type": "display_data"
    }
   ],
   "source": [
    "ax= plt.subplot()\n",
    "sns.heatmap(confusion_matrix(y_train, predict_with_best_t(y_train_pred, best_t)), annot=True, ax = ax,fmt='g');\n",
    "ax.set_xlabel('Predicted labels');\n",
    "ax.set_ylabel('True labels'); \n",
    "ax.set_title('Confusion Matrix');"
   ]
  },
  {
   "cell_type": "code",
   "execution_count": null,
   "metadata": {
    "colab": {
     "base_uri": "https://localhost:8080/",
     "height": 295
    },
    "colab_type": "code",
    "executionInfo": {
     "elapsed": 2571619,
     "status": "aborted",
     "timestamp": 1594392499608,
     "user": {
      "displayName": "Venkatesh Gupta",
      "photoUrl": "https://lh3.googleusercontent.com/a-/AOh14Gg8U_KUdnX4JWp6we7eGz6jpyKj3zYYWCk4s2LqwQ=s64",
      "userId": "13664137025209273415"
     },
     "user_tz": -330
    },
    "id": "zaem1Sair20N",
    "outputId": "65527aad-48fa-4af2-aa6c-3f0d0c0cda7a"
   },
   "outputs": [
    {
     "data": {
      "image/png": "[encoded data removed]",
      "text/plain": [
       "<Figure size 432x288 with 2 Axes>"
      ]
     },
     "metadata": {
      "needs_background": "light",
      "tags": []
     },
     "output_type": "display_data"
    }
   ],
   "source": [
    "ax= plt.subplot()\n",
    "sns.heatmap(confusion_matrix(y_test, predict_with_best_t(y_test_pred, best_t)), annot=True, ax = ax,fmt='g');\n",
    "ax.set_xlabel('Predicted labels');\n",
    "ax.set_ylabel('True labels'); \n",
    "ax.set_title('Confusion Matrix');"
   ]
  },
  {
   "cell_type": "markdown",
   "metadata": {
    "colab_type": "text",
    "id": "QjOocLVVKEF6"
   },
   "source": [
    "### 2.5 Feature selection with `SelectKBest` \n",
    "\n",
    "---\n",
    "\n"
   ]
  },
  {
   "cell_type": "code",
   "execution_count": 227,
   "metadata": {
    "colab": {},
    "colab_type": "code",
    "executionInfo": {
     "elapsed": 1765,
     "status": "ok",
     "timestamp": 1594380014066,
     "user": {
      "displayName": "Venkatesh Gupta",
      "photoUrl": "https://lh3.googleusercontent.com/a-/AOh14Gg8U_KUdnX4JWp6we7eGz6jpyKj3zYYWCk4s2LqwQ=s64",
      "userId": "13664137025209273415"
     },
     "user_tz": -330
    },
    "id": "zM2_PoczKqsb"
   },
   "outputs": [],
   "source": [
    "X_train = hstack((train_categories_one_hot, train_subcategories_one_hot, train_essay_tfidf, train_title_tfidf, train_school_state_category_one_hot,train_teacher_prefix_categories_one_hot, previously_posted_projects_normalized_train, train_project_grade_category_one_hot, price_normalized_train)).tocsr()\n",
    "X_cv = hstack((cv_categories_one_hot, cv_subcategories_one_hot, cv_essay_tfidf, cv_title_tfidf, cv_school_state_category_one_hot, cv_teacher_prefix_categories_one_hot, previously_posted_projects_normalized_cv, cv_project_grade_category_one_hot, price_normalized_cv)).tocsr()\n",
    "X_test = hstack((test_categories_one_hot, test_subcategories_one_hot, test_essay_tfidf, test_title_tfidf, test_school_state_category_one_hot, test_teacher_prefix_categories_one_hot, previously_posted_projects_normalized_test, test_project_grade_category_one_hot, price_normalized_test)).tocsr()"
   ]
  },
  {
   "cell_type": "code",
   "execution_count": 228,
   "metadata": {
    "colab": {
     "base_uri": "https://localhost:8080/",
     "height": 73
    },
    "colab_type": "code",
    "executionInfo": {
     "elapsed": 1419,
     "status": "ok",
     "timestamp": 1594380057483,
     "user": {
      "displayName": "Venkatesh Gupta",
      "photoUrl": "https://lh3.googleusercontent.com/a-/AOh14Gg8U_KUdnX4JWp6we7eGz6jpyKj3zYYWCk4s2LqwQ=s64",
      "userId": "13664137025209273415"
     },
     "user_tz": -330
    },
    "id": "p5lYeUTSKDO6",
    "outputId": "0fe75403-c720-4747-8e47-c8a076d0bc76"
   },
   "outputs": [
    {
     "name": "stdout",
     "output_type": "stream",
     "text": [
      "(13467, 2000)\n",
      "(6633, 2000)\n",
      "(9900, 2000)\n"
     ]
    }
   ],
   "source": [
    "from sklearn.feature_extraction.text import TfidfVectorizer\n",
    "from sklearn.feature_selection import SelectKBest, chi2\n",
    "\n",
    "#Selecting top 2000 best features from the generated tfidf features\n",
    "selector = SelectKBest(chi2, k = 2000 )\n",
    "selector.fit(X_train,y_train)\n",
    "X_train_2000 = selector.transform(X_train)\n",
    "X_cv_2000 = selector.transform(X_cv)\n",
    "X_test_2000 = selector.transform(X_test)\n",
    "print(X_train_2000.shape)\n",
    "print(X_cv_2000.shape)\n",
    "print(X_test_2000.shape)"
   ]
  },
  {
   "cell_type": "code",
   "execution_count": 230,
   "metadata": {
    "colab": {
     "base_uri": "https://localhost:8080/",
     "height": 557
    },
    "colab_type": "code",
    "executionInfo": {
     "elapsed": 202599,
     "status": "ok",
     "timestamp": 1594380869249,
     "user": {
      "displayName": "Venkatesh Gupta",
      "photoUrl": "https://lh3.googleusercontent.com/a-/AOh14Gg8U_KUdnX4JWp6we7eGz6jpyKj3zYYWCk4s2LqwQ=s64",
      "userId": "13664137025209273415"
     },
     "user_tz": -330
    },
    "id": "Wj2qQ1MJSym7",
    "outputId": "c9f65a17-0c3e-453f-fb20-58a899ce9c49"
   },
   "outputs": [
    {
     "name": "stderr",
     "output_type": "stream",
     "text": [
      "\n",
      "  0%|          | 0/12 [00:00<?, ?it/s]\u001b[A\n",
      "  8%|▊         | 1/12 [00:14<02:43, 14.91s/it]\u001b[A\n",
      " 17%|█▋        | 2/12 [00:31<02:34, 15.46s/it]\u001b[A\n",
      " 25%|██▌       | 3/12 [00:48<02:22, 15.82s/it]\u001b[A\n",
      " 33%|███▎      | 4/12 [01:05<02:08, 16.09s/it]\u001b[A\n",
      " 42%|████▏     | 5/12 [01:21<01:53, 16.28s/it]\u001b[A\n",
      " 50%|█████     | 6/12 [01:38<01:38, 16.44s/it]\u001b[A\n",
      " 58%|█████▊    | 7/12 [01:55<01:23, 16.61s/it]\u001b[A\n",
      " 67%|██████▋   | 8/12 [02:12<01:06, 16.69s/it]\u001b[A\n",
      " 75%|███████▌  | 9/12 [02:29<00:50, 16.75s/it]\u001b[A\n",
      " 83%|████████▎ | 10/12 [02:46<00:33, 16.79s/it]\u001b[A\n",
      " 92%|█████████▏| 11/12 [03:03<00:16, 16.87s/it]\u001b[A\n",
      "100%|██████████| 12/12 [03:20<00:00, 16.69s/it]\n"
     ]
    },
    {
     "data": {
      "image/png": "[encoded data removed]",
      "text/plain": [
       "<Figure size 432x288 with 1 Axes>"
      ]
     },
     "metadata": {
      "needs_background": "light",
      "tags": []
     },
     "output_type": "display_data"
    }
   ],
   "source": [
    "from sklearn.neighbors import KNeighborsClassifier\n",
    "from sklearn.metrics import roc_auc_score\n",
    "\n",
    "import matplotlib.pyplot as plt\n",
    "train_auc = []\n",
    "cv_auc = [] \n",
    "K = [1, 5, 10, 15, 21, 31, 41, 51, 65, 71, 85, 91]# min k causes overfitting, max k causes underfitting\n",
    "#K = range(1,50,2)\n",
    "for i in  tqdm(K):\n",
    "  \n",
    "    neigh5 = KNeighborsClassifier(n_neighbors=i,algorithm='brute')# takes the k from the  i th list value\n",
    "    neigh5.fit(X_train_2000, y_train)# fit the model\n",
    "    \n",
    "    # roc_auc_score(y_true, y_score) the 2nd parameter should be probability estimates of the positive class\n",
    "    # not the predicted outputs\n",
    "    y_train_pred =  neigh5.predict_proba(X_train_2000)[:,1]#Return probability estimates for the  set1x ,for the class label 1 or +ve.\n",
    "    y_cv_pred =  neigh5.predict_proba(X_cv_2000)[:,1]#Return probability estimates for the setcvx,for the class label 1 or +ve .\n",
    "    \n",
    "    # roc curve\n",
    "    #Compute Area Under the Receiver Operating Characteristic Curve (ROC AUC) from prediction scores.\n",
    "    train_auc.append(roc_auc_score(y_train,y_train_pred))\n",
    "    cv_auc.append(roc_auc_score(y_cv, y_cv_pred))\n",
    "\n",
    "plt.plot(K, train_auc, label='Train AUC')\n",
    "plt.plot(K, cv_auc, label='CV AUC')\n",
    "\n",
    "\n",
    "plt.scatter(K, train_auc, label='Train AUC points')\n",
    "plt.scatter(K, cv_auc, label='CV AUC points')\n",
    "\n",
    "plt.legend()\n",
    "plt.xlabel(\"K: hyperparameter\")\n",
    "plt.ylabel(\"AUC\")\n",
    "plt.title(\"ERROR PLOTS\")\n",
    "plt.show()                "
   ]
  },
  {
   "cell_type": "code",
   "execution_count": 232,
   "metadata": {
    "colab": {
     "base_uri": "https://localhost:8080/",
     "height": 36
    },
    "colab_type": "code",
    "executionInfo": {
     "elapsed": 1154,
     "status": "ok",
     "timestamp": 1594381169236,
     "user": {
      "displayName": "Venkatesh Gupta",
      "photoUrl": "https://lh3.googleusercontent.com/a-/AOh14Gg8U_KUdnX4JWp6we7eGz6jpyKj3zYYWCk4s2LqwQ=s64",
      "userId": "13664137025209273415"
     },
     "user_tz": -330
    },
    "id": "LrudksiATfKJ",
    "outputId": "7993d5c6-f8e1-4512-e01d-0de56cd1049f"
   },
   "outputs": [
    {
     "name": "stdout",
     "output_type": "stream",
     "text": [
      "91\n"
     ]
    }
   ],
   "source": [
    "score_t_train = [x for x in train_auc]\n",
    "score_t_cv = [x for x in cv_auc]\n",
    "\n",
    "diff_score_train_cv = list(set(score_t_train) - set(score_t_cv))\n",
    "opt_t_cv = K[diff_score_train_cv.index(min(diff_score_train_cv))]\n",
    "best_k=opt_t_cv\n",
    "print(best_k)"
   ]
  },
  {
   "cell_type": "code",
   "execution_count": 233,
   "metadata": {
    "colab": {
     "base_uri": "https://localhost:8080/",
     "height": 295
    },
    "colab_type": "code",
    "executionInfo": {
     "elapsed": 40888,
     "status": "ok",
     "timestamp": 1594381215106,
     "user": {
      "displayName": "Venkatesh Gupta",
      "photoUrl": "https://lh3.googleusercontent.com/a-/AOh14Gg8U_KUdnX4JWp6we7eGz6jpyKj3zYYWCk4s2LqwQ=s64",
      "userId": "13664137025209273415"
     },
     "user_tz": -330
    },
    "id": "7n6Nt96iTKVo",
    "outputId": "b73d65ec-4f2e-4508-dc1f-aa0cf3131551"
   },
   "outputs": [
    {
     "data": {
      "image/png": "[encoded data removed]",
      "text/plain": [
       "<Figure size 432x288 with 1 Axes>"
      ]
     },
     "metadata": {
      "needs_background": "light",
      "tags": []
     },
     "output_type": "display_data"
    }
   ],
   "source": [
    "# https://scikit-learn.org/stable/modules/generated/sklearn.metrics.roc_curve.html#sklearn.metrics.roc_curve\n",
    "from sklearn.metrics import roc_curve, auc\n",
    "\n",
    "\n",
    "neigh5 = KNeighborsClassifier(n_neighbors=best_k,algorithm='brute')\n",
    "neigh5.fit(X_train_2000 ,y_train)\n",
    "# roc_auc_score(y_true, y_score) the 2nd parameter should be probability estimates of the positive class\n",
    "# not the predicted outputs\n",
    "\n",
    "y_train_pred =  neigh5.predict_proba(X_train_2000)[:,1]#Return probability estimates for the  set1x ,for the class label 1 or +ve.\n",
    "y_test_pred =  neigh5.predict_proba(X_test_2000)[:,1]#Return probability estimates for the setcvx,for the class label 1 or +ve .\n",
    "\n",
    "train_fpr, train_tpr, thresholds = roc_curve(y_train, neigh5.predict_proba(X_train_2000)[:,1])\n",
    "test_fpr, test_tpr, thresholds = roc_curve(y_test, neigh5.predict_proba(X_test_2000)[:,1])\n",
    "\n",
    "plt.plot(train_fpr, train_tpr, label=\"train AUC =\"+str(auc(train_fpr, train_tpr)))\n",
    "plt.plot(test_fpr, test_tpr, label=\"test AUC =\"+str(auc(test_fpr, test_tpr)))\n",
    "plt.legend()\n",
    "plt.xlabel(\"False Positive Rate(FPR)\")\n",
    "plt.ylabel(\"True Positive Rate(TPR)\")\n",
    "plt.title(\"ROC PLOTS\")\n",
    "plt.show()"
   ]
  },
  {
   "cell_type": "code",
   "execution_count": 240,
   "metadata": {
    "colab": {
     "base_uri": "https://localhost:8080/",
     "height": 185
    },
    "colab_type": "code",
    "executionInfo": {
     "elapsed": 14130,
     "status": "ok",
     "timestamp": 1594383764260,
     "user": {
      "displayName": "Venkatesh Gupta",
      "photoUrl": "https://lh3.googleusercontent.com/a-/AOh14Gg8U_KUdnX4JWp6we7eGz6jpyKj3zYYWCk4s2LqwQ=s64",
      "userId": "13664137025209273415"
     },
     "user_tz": -330
    },
    "id": "FrPgc2MDhhSi",
    "outputId": "af7e81c5-d229-4be4-b232-1bfb05565684"
   },
   "outputs": [
    {
     "name": "stdout",
     "output_type": "stream",
     "text": [
      "              precision    recall  f1-score   support\n",
      "\n",
      "           0       0.00      0.00      0.00      2074\n",
      "           1       0.85      1.00      0.92     11393\n",
      "\n",
      "    accuracy                           0.85     13467\n",
      "   macro avg       0.42      0.50      0.46     13467\n",
      "weighted avg       0.72      0.85      0.78     13467\n",
      "\n"
     ]
    }
   ],
   "source": [
    "from sklearn.metrics import classification_report\n",
    "print(classification_report(y_train,neigh5.predict(X_train_2000) ))"
   ]
  },
  {
   "cell_type": "code",
   "execution_count": 241,
   "metadata": {
    "colab": {
     "base_uri": "https://localhost:8080/",
     "height": 148
    },
    "colab_type": "code",
    "executionInfo": {
     "elapsed": 1273,
     "status": "ok",
     "timestamp": 1594383772260,
     "user": {
      "displayName": "Venkatesh Gupta",
      "photoUrl": "https://lh3.googleusercontent.com/a-/AOh14Gg8U_KUdnX4JWp6we7eGz6jpyKj3zYYWCk4s2LqwQ=s64",
      "userId": "13664137025209273415"
     },
     "user_tz": -330
    },
    "id": "5Ap6FVvVhmcO",
    "outputId": "dd387ae3-dde0-4283-ae4a-a2c4ef721170"
   },
   "outputs": [
    {
     "name": "stdout",
     "output_type": "stream",
     "text": [
      "the maximum value of tpr*(1-fpr) 0.3409217082576463 for threshold 0.857\n",
      "Train confusion matrix\n",
      "[[1297  777]\n",
      " [5182 6211]]\n",
      "Test confusion matrix\n",
      "[[ 814  711]\n",
      " [3952 4423]]\n"
     ]
    }
   ],
   "source": [
    "from sklearn.metrics import confusion_matrix\n",
    "best_t = find_best_threshold(thresholds, train_fpr, train_tpr)\n",
    "print(\"Train confusion matrix\")\n",
    "print(confusion_matrix(y_train, predict_with_best_t(y_train_pred, best_t)))\n",
    "print(\"Test confusion matrix\")\n",
    "print(confusion_matrix(y_test, predict_with_best_t(y_test_pred, best_t)))"
   ]
  },
  {
   "cell_type": "code",
   "execution_count": 236,
   "metadata": {
    "colab": {
     "base_uri": "https://localhost:8080/",
     "height": 295
    },
    "colab_type": "code",
    "executionInfo": {
     "elapsed": 1474,
     "status": "ok",
     "timestamp": 1594381266466,
     "user": {
      "displayName": "Venkatesh Gupta",
      "photoUrl": "https://lh3.googleusercontent.com/a-/AOh14Gg8U_KUdnX4JWp6we7eGz6jpyKj3zYYWCk4s2LqwQ=s64",
      "userId": "13664137025209273415"
     },
     "user_tz": -330
    },
    "id": "dMvY0wGehvUz",
    "outputId": "d8cca170-5a11-42eb-b387-7467353b95e0"
   },
   "outputs": [
    {
     "data": {
      "image/png": "[encoded data removed]",
      "text/plain": [
       "<Figure size 432x288 with 2 Axes>"
      ]
     },
     "metadata": {
      "needs_background": "light",
      "tags": []
     },
     "output_type": "display_data"
    }
   ],
   "source": [
    "ax= plt.subplot()\n",
    "sns.heatmap(confusion_matrix(y_train, predict_with_best_t(y_train_pred, best_t)), annot=True, ax = ax,fmt='g');\n",
    "ax.set_xlabel('Predicted labels');\n",
    "ax.set_ylabel('True labels'); \n",
    "ax.set_title('Confusion Matrix');"
   ]
  },
  {
   "cell_type": "code",
   "execution_count": 237,
   "metadata": {
    "colab": {
     "base_uri": "https://localhost:8080/",
     "height": 295
    },
    "colab_type": "code",
    "executionInfo": {
     "elapsed": 1689,
     "status": "ok",
     "timestamp": 1594381267981,
     "user": {
      "displayName": "Venkatesh Gupta",
      "photoUrl": "https://lh3.googleusercontent.com/a-/AOh14Gg8U_KUdnX4JWp6we7eGz6jpyKj3zYYWCk4s2LqwQ=s64",
      "userId": "13664137025209273415"
     },
     "user_tz": -330
    },
    "id": "7EpcKJcUhyIg",
    "outputId": "96d31b03-dda0-4cc1-9921-b375da852692"
   },
   "outputs": [
    {
     "data": {
      "image/png": "[encoded data removed]",
      "text/plain": [
       "<Figure size 432x288 with 2 Axes>"
      ]
     },
     "metadata": {
      "needs_background": "light",
      "tags": []
     },
     "output_type": "display_data"
    }
   ],
   "source": [
    "ax= plt.subplot()\n",
    "sns.heatmap(confusion_matrix(y_test, predict_with_best_t(y_test_pred, best_t)), annot=True, ax = ax,fmt='g');\n",
    "ax.set_xlabel('Predicted labels');\n",
    "ax.set_ylabel('True labels'); \n",
    "ax.set_title('Confusion Matrix');"
   ]
  },
  {
   "cell_type": "markdown",
   "metadata": {
    "colab_type": "text",
    "id": "bemispVtCyp-"
   },
   "source": [
    "<h1>3. Conclusions</h1>"
   ]
  },
  {
   "cell_type": "code",
   "execution_count": 1,
   "metadata": {
    "colab": {},
    "colab_type": "code",
    "executionInfo": {
     "elapsed": 63,
     "status": "aborted",
     "timestamp": 1594379895734,
     "user": {
      "displayName": "Venkatesh Gupta",
      "photoUrl": "https://lh3.googleusercontent.com/a-/AOh14Gg8U_KUdnX4JWp6we7eGz6jpyKj3zYYWCk4s2LqwQ=s64",
      "userId": "13664137025209273415"
     },
     "user_tz": -330
    },
    "id": "VThRCDvZCyp9"
   },
   "outputs": [
    {
     "name": "stdout",
     "output_type": "stream",
     "text": [
      "+-------------------+-------+----------------+-------------------+------------------+\n",
      "|     Vectorizer    | Model | HyperParameter | AUC on train data | AUC on test data |\n",
      "+-------------------+-------+----------------+-------------------+------------------+\n",
      "|        BOW        |  Auto |       91       |      65.54943     |     59.94678     |\n",
      "|       Tf-Idf      |  Auto |       85       |      62.59604     |     55.83209     |\n",
      "|      AVG-W2v      |  Auto |       91       |      62.12013     |     55.75453     |\n",
      "|     Tf-Idf W2v    |  Auto |       85       |      65.30118     |     59.52364     |\n",
      "| Top 2000 features |  Auto |       91       |      61.67593     |     54.14026     |\n",
      "+-------------------+-------+----------------+-------------------+------------------+\n"
     ]
    }
   ],
   "source": [
    "# Please compare all your models using Prettytable library\n",
    "# Please compare all your models using Prettytable library\n",
    "#how to use pretty table http://zetcode.com/python/prettytable/\n",
    "from prettytable import PrettyTable\n",
    "\n",
    "tb = PrettyTable()\n",
    "tb.field_names= (\"Vectorizer\", \"Model\",\"HyperParameter\" ,\"AUC on train data\",\"AUC on test data\")\n",
    "tb.add_row([\"BOW\", \"Auto\", 91, 65.54943, 59.94678])\n",
    "tb.add_row([\"Tf-Idf\", \"Auto\", 85, 62.59604, 55.83209])\n",
    "tb.add_row([\"AVG-W2v\", \"Auto\", 91, 62.12013, 55.75453])\n",
    "tb.add_row([\"Tf-Idf W2v\", \"Auto\", 85, 65.30118, 59.52364])\n",
    "tb.add_row([\"Top 2000 features\", \"Auto\", 91, 61.67593, 54.14026])\n",
    "print(tb.get_string(titles = \"KNN - Observations\"))\n",
    "#print(tb)"
   ]
  },
  {
   "cell_type": "code",
   "execution_count": null,
   "metadata": {},
   "outputs": [],
   "source": []
  }
 ],
 "metadata": {
  "accelerator": "TPU",
  "colab": {
   "collapsed_sections": [],
   "name": "3_DonorsChoose_KNN.ipynb",
   "provenance": []
  },
  "kernelspec": {
   "display_name": "Python 3",
   "language": "python",
   "name": "python3"
  },
  "language_info": {
   "codemirror_mode": {
    "name": "ipython",
    "version": 3
   },
   "file_extension": ".py",
   "mimetype": "text/x-python",
   "name": "python",
   "nbconvert_exporter": "python",
   "pygments_lexer": "ipython3",
   "version": "3.6.5"
  }
 },
 "nbformat": 4,
 "nbformat_minor": 1
}
