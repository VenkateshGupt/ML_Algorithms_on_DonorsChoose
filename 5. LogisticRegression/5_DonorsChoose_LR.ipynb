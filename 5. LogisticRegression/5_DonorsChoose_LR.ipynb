{
 "cells": [
  {
   "cell_type": "markdown",
   "metadata": {
    "colab_type": "text",
    "id": "-Ab-X-IrCyl0"
   },
   "source": [
    "# DonorsChoose"
   ]
  },
  {
   "cell_type": "markdown",
   "metadata": {
    "colab_type": "text",
    "id": "etNpzy7rCyl2"
   },
   "source": [
    "<p>\n",
    "DonorsChoose.org receives hundreds of thousands of project proposals each year for classroom projects in need of funding. Right now, a large number of volunteers is needed to manually screen each submission before it's approved to be posted on the DonorsChoose.org website.\n",
    "</p>\n",
    "<p>\n",
    "    Next year, DonorsChoose.org expects to receive close to 500,000 project proposals. As a result, there are three main problems they need to solve:\n",
    "<ul>\n",
    "<li>\n",
    "    How to scale current manual processes and resources to screen 500,000 projects so that they can be posted as quickly and as efficiently as possible</li>\n",
    "    <li>How to increase the consistency of project vetting across different volunteers to improve the experience for teachers</li>\n",
    "    <li>How to focus volunteer time on the applications that need the most assistance</li>\n",
    "    </ul>\n",
    "</p>    \n",
    "<p>\n",
    "The goal of the competition is to predict whether or not a DonorsChoose.org project proposal submitted by a teacher will be approved, using the text of project descriptions as well as additional metadata about the project, teacher, and school. DonorsChoose.org can then use this information to identify projects most likely to need further review before approval.\n",
    "</p>"
   ]
  },
  {
   "cell_type": "markdown",
   "metadata": {
    "colab_type": "text",
    "id": "kO2Kg7TgCyl4"
   },
   "source": [
    "## About the DonorsChoose Data Set\n",
    "\n",
    "The `train.csv` data set provided by DonorsChoose contains the following features:\n",
    "\n",
    "Feature | Description \n",
    "----------|---------------\n",
    "**`project_id`** | A unique identifier for the proposed project. **Example:** `p036502`   \n",
    "**`project_title`**    | Title of the project. **Examples:**<br><ul><li><code>Art Will Make You Happy!</code></li><li><code>First Grade Fun</code></li></ul> \n",
    "**`project_grade_category`** | Grade level of students for which the project is targeted. One of the following enumerated values: <br/><ul><li><code>Grades PreK-2</code></li><li><code>Grades 3-5</code></li><li><code>Grades 6-8</code></li><li><code>Grades 9-12</code></li></ul>  \n",
    " **`project_subject_categories`** | One or more (comma-separated) subject categories for the project from the following enumerated list of values:  <br/><ul><li><code>Applied Learning</code></li><li><code>Care &amp; Hunger</code></li><li><code>Health &amp; Sports</code></li><li><code>History &amp; Civics</code></li><li><code>Literacy &amp; Language</code></li><li><code>Math &amp; Science</code></li><li><code>Music &amp; The Arts</code></li><li><code>Special Needs</code></li><li><code>Warmth</code></li></ul><br/> **Examples:** <br/><ul><li><code>Music &amp; The Arts</code></li><li><code>Literacy &amp; Language, Math &amp; Science</code></li>  \n",
    "  **`school_state`** | State where school is located ([Two-letter U.S. postal code](https://en.wikipedia.org/wiki/List_of_U.S._state_abbreviations#Postal_codes)). **Example:** `WY`\n",
    "**`project_subject_subcategories`** | One or more (comma-separated) subject subcategories for the project. **Examples:** <br/><ul><li><code>Literacy</code></li><li><code>Literature &amp; Writing, Social Sciences</code></li></ul> \n",
    "**`project_resource_summary`** | An explanation of the resources needed for the project. **Example:** <br/><ul><li><code>My students need hands on literacy materials to manage sensory needs!</code</li></ul> \n",
    "**`project_essay_1`**    | First application essay<sup>*</sup>  \n",
    "**`project_essay_2`**    | Second application essay<sup>*</sup> \n",
    "**`project_essay_3`**    | Third application essay<sup>*</sup> \n",
    "**`project_essay_4`**    | Fourth application essay<sup>*</sup> \n",
    "**`project_submitted_datetime`** | Datetime when project application was submitted. **Example:** `2016-04-28 12:43:56.245`   \n",
    "**`teacher_id`** | A unique identifier for the teacher of the proposed project. **Example:** `bdf8baa8fedef6bfeec7ae4ff1c15c56`  \n",
    "**`teacher_prefix`** | Teacher's title. One of the following enumerated values: <br/><ul><li><code>nan</code></li><li><code>Dr.</code></li><li><code>Mr.</code></li><li><code>Mrs.</code></li><li><code>Ms.</code></li><li><code>Teacher.</code></li></ul>  \n",
    "**`teacher_number_of_previously_posted_projects`** | Number of project applications previously submitted by the same teacher. **Example:** `2` \n",
    "\n",
    "<sup>*</sup> See the section <b>Notes on the Essay Data</b> for more details about these features.\n",
    "\n",
    "Additionally, the `resources.csv` data set provides more data about the resources required for each project. Each line in this file represents a resource required by a project:\n",
    "\n",
    "Feature | Description \n",
    "----------|---------------\n",
    "**`id`** | A `project_id` value from the `train.csv` file.  **Example:** `p036502`   \n",
    "**`description`** | Desciption of the resource. **Example:** `Tenor Saxophone Reeds, Box of 25`   \n",
    "**`quantity`** | Quantity of the resource required. **Example:** `3`   \n",
    "**`price`** | Price of the resource required. **Example:** `9.95`   \n",
    "\n",
    "**Note:** Many projects require multiple resources. The `id` value corresponds to a `project_id` in train.csv, so you use it as a key to retrieve all resources needed for a project:\n",
    "\n",
    "The data set contains the following label (the value you will attempt to predict):\n",
    "\n",
    "Label | Description\n",
    "----------|---------------\n",
    "`project_is_approved` | A binary flag indicating whether DonorsChoose approved the project. A value of `0` indicates the project was not approved, and a value of `1` indicates the project was approved."
   ]
  },
  {
   "cell_type": "markdown",
   "metadata": {
    "colab_type": "text",
    "id": "dBGA_YStCyl6"
   },
   "source": [
    "### Notes on the Essay Data\n",
    "\n",
    "<ul>\n",
    "Prior to May 17, 2016, the prompts for the essays were as follows:\n",
    "<li>__project_essay_1:__ \"Introduce us to your classroom\"</li>\n",
    "<li>__project_essay_2:__ \"Tell us more about your students\"</li>\n",
    "<li>__project_essay_3:__ \"Describe how your students will use the materials you're requesting\"</li>\n",
    "<li>__project_essay_3:__ \"Close by sharing why your project will make a difference\"</li>\n",
    "</ul>\n",
    "\n",
    "\n",
    "<ul>\n",
    "Starting on May 17, 2016, the number of essays was reduced from 4 to 2, and the prompts for the first 2 essays were changed to the following:<br>\n",
    "<li>__project_essay_1:__ \"Describe your students: What makes your students special? Specific details about their background, your neighborhood, and your school are all helpful.\"</li>\n",
    "<li>__project_essay_2:__ \"About your project: How will these materials make a difference in your students' learning and improve their school lives?\"</li>\n",
    "<br>For all projects with project_submitted_datetime of 2016-05-17 and later, the values of project_essay_3 and project_essay_4 will be NaN.\n",
    "</ul>\n"
   ]
  },
  {
   "cell_type": "code",
   "execution_count": 1,
   "metadata": {
    "colab": {},
    "colab_type": "code",
    "executionInfo": {
     "elapsed": 7220,
     "status": "ok",
     "timestamp": 1594367010177,
     "user": {
      "displayName": "Venkatesh Gupta",
      "photoUrl": "https://lh3.googleusercontent.com/a-/AOh14Gg8U_KUdnX4JWp6we7eGz6jpyKj3zYYWCk4s2LqwQ=s64",
      "userId": "13664137025209273415"
     },
     "user_tz": -330
    },
    "id": "XTrCJ5p9Cyl7"
   },
   "outputs": [],
   "source": [
    "%matplotlib inline\n",
    "import warnings\n",
    "warnings.filterwarnings(\"ignore\")\n",
    "\n",
    "import sqlite3\n",
    "import pandas as pd\n",
    "import numpy as np\n",
    "import nltk\n",
    "import string\n",
    "import matplotlib.pyplot as plt\n",
    "import seaborn as sns\n",
    "from sklearn.feature_extraction.text import TfidfTransformer\n",
    "from sklearn.feature_extraction.text import TfidfVectorizer\n",
    "\n",
    "from sklearn.feature_extraction.text import CountVectorizer\n",
    "from sklearn.metrics import confusion_matrix\n",
    "from sklearn import metrics\n",
    "from sklearn.metrics import roc_curve, auc\n",
    "from nltk.stem.porter import PorterStemmer\n",
    "\n",
    "import re\n",
    "# Tutorial about Python regular expressions: https://pymotw.com/2/re/\n",
    "import string\n",
    "from nltk.corpus import stopwords\n",
    "from nltk.stem import PorterStemmer\n",
    "from nltk.stem.wordnet import WordNetLemmatizer\n",
    "\n",
    "from gensim.models import Word2Vec\n",
    "from gensim.models import KeyedVectors\n",
    "import pickle\n",
    "\n",
    "from tqdm import tqdm\n",
    "import os\n",
    "\n",
    "import chart_studio.plotly as py\n",
    "import plotly.graph_objs as go\n",
    "from collections import Counter"
   ]
  },
  {
   "cell_type": "markdown",
   "metadata": {
    "colab_type": "text",
    "id": "MjknLZQqCymQ"
   },
   "source": [
    "## 1.1 Reading Data"
   ]
  },
  {
   "cell_type": "code",
   "execution_count": 2,
   "metadata": {
    "colab": {},
    "colab_type": "code",
    "executionInfo": {
     "elapsed": 10516,
     "status": "ok",
     "timestamp": 1594367013480,
     "user": {
      "displayName": "Venkatesh Gupta",
      "photoUrl": "https://lh3.googleusercontent.com/a-/AOh14Gg8U_KUdnX4JWp6we7eGz6jpyKj3zYYWCk4s2LqwQ=s64",
      "userId": "13664137025209273415"
     },
     "user_tz": -330
    },
    "id": "abtcqBS8CymT"
   },
   "outputs": [],
   "source": [
    "project_data = pd.read_csv('train_data.csv',nrows=40000)\n",
    "resource_data = pd.read_csv('resources.csv')"
   ]
  },
  {
   "cell_type": "code",
   "execution_count": 3,
   "metadata": {
    "colab": {
     "base_uri": "https://localhost:8080/",
     "height": 167
    },
    "colab_type": "code",
    "executionInfo": {
     "elapsed": 10510,
     "status": "ok",
     "timestamp": 1594367013483,
     "user": {
      "displayName": "Venkatesh Gupta",
      "photoUrl": "https://lh3.googleusercontent.com/a-/AOh14Gg8U_KUdnX4JWp6we7eGz6jpyKj3zYYWCk4s2LqwQ=s64",
      "userId": "13664137025209273415"
     },
     "user_tz": -330
    },
    "id": "Prf2ghjDCymX",
    "outputId": "9bdb9fe7-d44f-4f75-ffb7-f879478806be"
   },
   "outputs": [
    {
     "name": "stdout",
     "output_type": "stream",
     "text": [
      "Number of data points in train data (40000, 17)\n",
      "--------------------------------------------------\n",
      "The attributes of data : ['Unnamed: 0' 'id' 'teacher_id' 'teacher_prefix' 'school_state'\n",
      " 'project_submitted_datetime' 'project_grade_category'\n",
      " 'project_subject_categories' 'project_subject_subcategories'\n",
      " 'project_title' 'project_essay_1' 'project_essay_2' 'project_essay_3'\n",
      " 'project_essay_4' 'project_resource_summary'\n",
      " 'teacher_number_of_previously_posted_projects' 'project_is_approved']\n"
     ]
    }
   ],
   "source": [
    "print(\"Number of data points in train data\", project_data.shape)\n",
    "print('-'*50)\n",
    "print(\"The attributes of data :\", project_data.columns.values)"
   ]
  },
  {
   "cell_type": "code",
   "execution_count": 4,
   "metadata": {
    "colab": {
     "base_uri": "https://localhost:8080/",
     "height": 73
    },
    "colab_type": "code",
    "executionInfo": {
     "elapsed": 10501,
     "status": "ok",
     "timestamp": 1594367013486,
     "user": {
      "displayName": "Venkatesh Gupta",
      "photoUrl": "https://lh3.googleusercontent.com/a-/AOh14Gg8U_KUdnX4JWp6we7eGz6jpyKj3zYYWCk4s2LqwQ=s64",
      "userId": "13664137025209273415"
     },
     "user_tz": -330
    },
    "id": "JBmamwoZjPay",
    "outputId": "58b39269-59e7-4434-ac6f-dbd6acb961cd"
   },
   "outputs": [
    {
     "data": {
      "text/plain": [
       "1    33826\n",
       "0     6174\n",
       "Name: project_is_approved, dtype: int64"
      ]
     },
     "execution_count": 4,
     "metadata": {},
     "output_type": "execute_result"
    }
   ],
   "source": [
    "project_data[\"project_is_approved\"].value_counts()"
   ]
  },
  {
   "cell_type": "code",
   "execution_count": 5,
   "metadata": {
    "colab": {
     "base_uri": "https://localhost:8080/",
     "height": 219
    },
    "colab_type": "code",
    "executionInfo": {
     "elapsed": 10489,
     "status": "ok",
     "timestamp": 1594367013487,
     "user": {
      "displayName": "Venkatesh Gupta",
      "photoUrl": "https://lh3.googleusercontent.com/a-/AOh14Gg8U_KUdnX4JWp6we7eGz6jpyKj3zYYWCk4s2LqwQ=s64",
      "userId": "13664137025209273415"
     },
     "user_tz": -330
    },
    "id": "BTGMDQoPCymc",
    "outputId": "d3097342-7d77-4fd7-b480-2007e3cc7751"
   },
   "outputs": [
    {
     "data": {
      "text/html": [
       "<div>\n",
       "<style scoped>\n",
       "    .dataframe tbody tr th:only-of-type {\n",
       "        vertical-align: middle;\n",
       "    }\n",
       "\n",
       "    .dataframe tbody tr th {\n",
       "        vertical-align: top;\n",
       "    }\n",
       "\n",
       "    .dataframe thead th {\n",
       "        text-align: right;\n",
       "    }\n",
       "</style>\n",
       "<table border=\"1\" class=\"dataframe\">\n",
       "  <thead>\n",
       "    <tr style=\"text-align: right;\">\n",
       "      <th></th>\n",
       "      <th>Unnamed: 0</th>\n",
       "      <th>id</th>\n",
       "      <th>teacher_id</th>\n",
       "      <th>teacher_prefix</th>\n",
       "      <th>school_state</th>\n",
       "      <th>Date</th>\n",
       "      <th>project_grade_category</th>\n",
       "      <th>project_subject_categories</th>\n",
       "      <th>project_subject_subcategories</th>\n",
       "      <th>project_title</th>\n",
       "      <th>project_essay_1</th>\n",
       "      <th>project_essay_2</th>\n",
       "      <th>project_essay_3</th>\n",
       "      <th>project_essay_4</th>\n",
       "      <th>project_resource_summary</th>\n",
       "      <th>teacher_number_of_previously_posted_projects</th>\n",
       "      <th>project_is_approved</th>\n",
       "    </tr>\n",
       "  </thead>\n",
       "  <tbody>\n",
       "    <tr>\n",
       "      <th>473</th>\n",
       "      <td>100660</td>\n",
       "      <td>p234804</td>\n",
       "      <td>cbc0e38f522143b86d372f8b43d4cff3</td>\n",
       "      <td>Mrs.</td>\n",
       "      <td>GA</td>\n",
       "      <td>2016-04-27 00:53:00</td>\n",
       "      <td>Grades PreK-2</td>\n",
       "      <td>Applied Learning</td>\n",
       "      <td>Early Development</td>\n",
       "      <td>Flexible Seating for Flexible Learning</td>\n",
       "      <td>I recently read an article about giving studen...</td>\n",
       "      <td>I teach at a low-income (Title 1) school. Ever...</td>\n",
       "      <td>We need a classroom rug that we can use as a c...</td>\n",
       "      <td>Benjamin Franklin once said, \\\"Tell me and I f...</td>\n",
       "      <td>My students need flexible seating in the class...</td>\n",
       "      <td>2</td>\n",
       "      <td>1</td>\n",
       "    </tr>\n",
       "    <tr>\n",
       "      <th>29891</th>\n",
       "      <td>146723</td>\n",
       "      <td>p099708</td>\n",
       "      <td>c0a28c79fe8ad5810da49de47b3fb491</td>\n",
       "      <td>Mrs.</td>\n",
       "      <td>CA</td>\n",
       "      <td>2016-04-27 01:10:09</td>\n",
       "      <td>Grades 3-5</td>\n",
       "      <td>Math &amp; Science, History &amp; Civics</td>\n",
       "      <td>Mathematics, Social Sciences</td>\n",
       "      <td>Breakout Box to Ignite Engagement!</td>\n",
       "      <td>It's the end of the school year. Routines have...</td>\n",
       "      <td>My students desire challenges, movement, and c...</td>\n",
       "      <td>I will design different clues using specific c...</td>\n",
       "      <td>Donations to this project will immediately imp...</td>\n",
       "      <td>My students need items from a \\\"Breakout Box\\\"...</td>\n",
       "      <td>6</td>\n",
       "      <td>1</td>\n",
       "    </tr>\n",
       "  </tbody>\n",
       "</table>\n",
       "</div>"
      ],
      "text/plain": [
       "       Unnamed: 0       id                        teacher_id teacher_prefix  \\\n",
       "473        100660  p234804  cbc0e38f522143b86d372f8b43d4cff3           Mrs.   \n",
       "29891      146723  p099708  c0a28c79fe8ad5810da49de47b3fb491           Mrs.   \n",
       "\n",
       "      school_state                Date project_grade_category  \\\n",
       "473             GA 2016-04-27 00:53:00          Grades PreK-2   \n",
       "29891           CA 2016-04-27 01:10:09             Grades 3-5   \n",
       "\n",
       "             project_subject_categories project_subject_subcategories  \\\n",
       "473                    Applied Learning             Early Development   \n",
       "29891  Math & Science, History & Civics  Mathematics, Social Sciences   \n",
       "\n",
       "                                project_title  \\\n",
       "473    Flexible Seating for Flexible Learning   \n",
       "29891      Breakout Box to Ignite Engagement!   \n",
       "\n",
       "                                         project_essay_1  \\\n",
       "473    I recently read an article about giving studen...   \n",
       "29891  It's the end of the school year. Routines have...   \n",
       "\n",
       "                                         project_essay_2  \\\n",
       "473    I teach at a low-income (Title 1) school. Ever...   \n",
       "29891  My students desire challenges, movement, and c...   \n",
       "\n",
       "                                         project_essay_3  \\\n",
       "473    We need a classroom rug that we can use as a c...   \n",
       "29891  I will design different clues using specific c...   \n",
       "\n",
       "                                         project_essay_4  \\\n",
       "473    Benjamin Franklin once said, \\\"Tell me and I f...   \n",
       "29891  Donations to this project will immediately imp...   \n",
       "\n",
       "                                project_resource_summary  \\\n",
       "473    My students need flexible seating in the class...   \n",
       "29891  My students need items from a \\\"Breakout Box\\\"...   \n",
       "\n",
       "       teacher_number_of_previously_posted_projects  project_is_approved  \n",
       "473                                               2                    1  \n",
       "29891                                             6                    1  "
      ]
     },
     "execution_count": 5,
     "metadata": {},
     "output_type": "execute_result"
    }
   ],
   "source": [
    "# how to replace elements in list python: https://stackoverflow.com/a/2582163/4084039\n",
    "cols = ['Date' if x=='project_submitted_datetime' else x for x in list(project_data.columns)]\n",
    "\n",
    "\n",
    "#sort dataframe based on time pandas python: https://stackoverflow.com/a/49702492/4084039\n",
    "project_data['Date'] = pd.to_datetime(project_data['project_submitted_datetime'])\n",
    "project_data.drop('project_submitted_datetime', axis=1, inplace=True)\n",
    "project_data.sort_values(by=['Date'], inplace=True)\n",
    "\n",
    "\n",
    "# how to reorder columns pandas python: https://stackoverflow.com/a/13148611/4084039\n",
    "project_data = project_data[cols]\n",
    "\n",
    "\n",
    "project_data.head(2)"
   ]
  },
  {
   "cell_type": "code",
   "execution_count": 6,
   "metadata": {
    "colab": {
     "base_uri": "https://localhost:8080/",
     "height": 149
    },
    "colab_type": "code",
    "executionInfo": {
     "elapsed": 10478,
     "status": "ok",
     "timestamp": 1594367013488,
     "user": {
      "displayName": "Venkatesh Gupta",
      "photoUrl": "https://lh3.googleusercontent.com/a-/AOh14Gg8U_KUdnX4JWp6we7eGz6jpyKj3zYYWCk4s2LqwQ=s64",
      "userId": "13664137025209273415"
     },
     "user_tz": -330
    },
    "id": "ntdWuRoUCymj",
    "outputId": "e024bd1d-364b-40d2-c8cd-7003be9725f5"
   },
   "outputs": [
    {
     "name": "stdout",
     "output_type": "stream",
     "text": [
      "Number of data points in train data (1541272, 4)\n",
      "['id' 'description' 'quantity' 'price']\n"
     ]
    },
    {
     "data": {
      "text/html": [
       "<div>\n",
       "<style scoped>\n",
       "    .dataframe tbody tr th:only-of-type {\n",
       "        vertical-align: middle;\n",
       "    }\n",
       "\n",
       "    .dataframe tbody tr th {\n",
       "        vertical-align: top;\n",
       "    }\n",
       "\n",
       "    .dataframe thead th {\n",
       "        text-align: right;\n",
       "    }\n",
       "</style>\n",
       "<table border=\"1\" class=\"dataframe\">\n",
       "  <thead>\n",
       "    <tr style=\"text-align: right;\">\n",
       "      <th></th>\n",
       "      <th>id</th>\n",
       "      <th>description</th>\n",
       "      <th>quantity</th>\n",
       "      <th>price</th>\n",
       "    </tr>\n",
       "  </thead>\n",
       "  <tbody>\n",
       "    <tr>\n",
       "      <th>0</th>\n",
       "      <td>p233245</td>\n",
       "      <td>LC652 - Lakeshore Double-Space Mobile Drying Rack</td>\n",
       "      <td>1</td>\n",
       "      <td>149.00</td>\n",
       "    </tr>\n",
       "    <tr>\n",
       "      <th>1</th>\n",
       "      <td>p069063</td>\n",
       "      <td>Bouncy Bands for Desks (Blue support pipes)</td>\n",
       "      <td>3</td>\n",
       "      <td>14.95</td>\n",
       "    </tr>\n",
       "  </tbody>\n",
       "</table>\n",
       "</div>"
      ],
      "text/plain": [
       "        id                                        description  quantity  \\\n",
       "0  p233245  LC652 - Lakeshore Double-Space Mobile Drying Rack         1   \n",
       "1  p069063        Bouncy Bands for Desks (Blue support pipes)         3   \n",
       "\n",
       "    price  \n",
       "0  149.00  \n",
       "1   14.95  "
      ]
     },
     "execution_count": 6,
     "metadata": {},
     "output_type": "execute_result"
    }
   ],
   "source": [
    "print(\"Number of data points in train data\", resource_data.shape)\n",
    "print(resource_data.columns.values)\n",
    "resource_data.head(2)"
   ]
  },
  {
   "cell_type": "markdown",
   "metadata": {
    "colab_type": "text",
    "id": "6WZaYhwJCymp"
   },
   "source": [
    "## 1.2 preprocessing of `project_subject_categories`"
   ]
  },
  {
   "cell_type": "code",
   "execution_count": 7,
   "metadata": {
    "colab": {},
    "colab_type": "code",
    "executionInfo": {
     "elapsed": 10473,
     "status": "ok",
     "timestamp": 1594367013491,
     "user": {
      "displayName": "Venkatesh Gupta",
      "photoUrl": "https://lh3.googleusercontent.com/a-/AOh14Gg8U_KUdnX4JWp6we7eGz6jpyKj3zYYWCk4s2LqwQ=s64",
      "userId": "13664137025209273415"
     },
     "user_tz": -330
    },
    "id": "Mdkhq7PRCymr"
   },
   "outputs": [],
   "source": [
    "catogories = list(project_data['project_subject_categories'].values)\n",
    "# remove special characters from list of strings python: https://stackoverflow.com/a/47301924/4084039\n",
    "\n",
    "# https://www.geeksforgeeks.org/removing-stop-words-nltk-python/\n",
    "# https://stackoverflow.com/questions/23669024/how-to-strip-a-specific-word-from-a-string\n",
    "# https://stackoverflow.com/questions/8270092/remove-all-whitespace-in-a-string-in-python\n",
    "cat_list = []\n",
    "for i in catogories:\n",
    "    temp = \"\"\n",
    "    # consider we have text like this \"Math & Science, Warmth, Care & Hunger\"\n",
    "    for j in i.split(','): # it will split it in three parts [\"Math & Science\", \"Warmth\", \"Care & Hunger\"]\n",
    "        if 'The' in j.split(): # this will split each of the catogory based on space \"Math & Science\"=> \"Math\",\"&\", \"Science\"\n",
    "            j=j.replace('The','') # if we have the words \"The\" we are going to replace it with ''(i.e removing 'The')\n",
    "        j = j.replace(' ','') # we are placeing all the ' '(space) with ''(empty) ex:\"Math & Science\"=>\"Math&Science\"\n",
    "        temp+=j.strip()+\" \" #\" abc \".strip() will return \"abc\", remove the trailing spaces\n",
    "        temp = temp.replace('&','_') # we are replacing the & value into \n",
    "    cat_list.append(temp.strip())\n",
    "    \n",
    "project_data['clean_categories'] = cat_list\n",
    "project_data.drop(['project_subject_categories'], axis=1, inplace=True)\n",
    "\n",
    "from collections import Counter\n",
    "my_counter = Counter()\n",
    "for word in project_data['clean_categories'].values:\n",
    "    my_counter.update(word.split())\n",
    "\n",
    "cat_dict = dict(my_counter)\n",
    "sorted_cat_dict = dict(sorted(cat_dict.items(), key=lambda kv: kv[1]))\n"
   ]
  },
  {
   "cell_type": "markdown",
   "metadata": {
    "colab_type": "text",
    "id": "386yx3T2Cymv"
   },
   "source": [
    "## 1.3 preprocessing of `project_subject_subcategories`"
   ]
  },
  {
   "cell_type": "code",
   "execution_count": 8,
   "metadata": {
    "colab": {},
    "colab_type": "code",
    "executionInfo": {
     "elapsed": 11183,
     "status": "ok",
     "timestamp": 1594367014208,
     "user": {
      "displayName": "Venkatesh Gupta",
      "photoUrl": "https://lh3.googleusercontent.com/a-/AOh14Gg8U_KUdnX4JWp6we7eGz6jpyKj3zYYWCk4s2LqwQ=s64",
      "userId": "13664137025209273415"
     },
     "user_tz": -330
    },
    "id": "4QSP0r8XCymw"
   },
   "outputs": [],
   "source": [
    "sub_catogories = list(project_data['project_subject_subcategories'].values)\n",
    "# remove special characters from list of strings python: https://stackoverflow.com/a/47301924/4084039\n",
    "\n",
    "# https://www.geeksforgeeks.org/removing-stop-words-nltk-python/\n",
    "# https://stackoverflow.com/questions/23669024/how-to-strip-a-specific-word-from-a-string\n",
    "# https://stackoverflow.com/questions/8270092/remove-all-whitespace-in-a-string-in-python\n",
    "\n",
    "sub_cat_list = []\n",
    "for i in sub_catogories:\n",
    "    temp = \"\"\n",
    "    # consider we have text like this \"Math & Science, Warmth, Care & Hunger\"\n",
    "    for j in i.split(','): # it will split it in three parts [\"Math & Science\", \"Warmth\", \"Care & Hunger\"]\n",
    "        if 'The' in j.split(): # this will split each of the catogory based on space \"Math & Science\"=> \"Math\",\"&\", \"Science\"\n",
    "            j=j.replace('The','') # if we have the words \"The\" we are going to replace it with ''(i.e removing 'The')\n",
    "        j = j.replace(' ','') # we are placeing all the ' '(space) with ''(empty) ex:\"Math & Science\"=>\"Math&Science\"\n",
    "        temp +=j.strip()+\" \"#\" abc \".strip() will return \"abc\", remove the trailing spaces\n",
    "        temp = temp.replace('&','_')\n",
    "    sub_cat_list.append(temp.strip())\n",
    "\n",
    "project_data['clean_subcategories'] = sub_cat_list\n",
    "project_data.drop(['project_subject_subcategories'], axis=1, inplace=True)\n",
    "\n",
    "# count of all the words in corpus python: https://stackoverflow.com/a/22898595/4084039\n",
    "my_counter = Counter()\n",
    "for word in project_data['clean_subcategories'].values:\n",
    "    my_counter.update(word.split())\n",
    "    \n",
    "sub_cat_dict = dict(my_counter)\n",
    "sorted_sub_cat_dict = dict(sorted(sub_cat_dict.items(), key=lambda kv: kv[1]))"
   ]
  },
  {
   "cell_type": "markdown",
   "metadata": {
    "colab_type": "text",
    "id": "NANzhWlLCynN"
   },
   "source": [
    "## 1.3 Text preprocessing"
   ]
  },
  {
   "cell_type": "code",
   "execution_count": 9,
   "metadata": {
    "colab": {},
    "colab_type": "code",
    "executionInfo": {
     "elapsed": 11178,
     "status": "ok",
     "timestamp": 1594367014209,
     "user": {
      "displayName": "Venkatesh Gupta",
      "photoUrl": "https://lh3.googleusercontent.com/a-/AOh14Gg8U_KUdnX4JWp6we7eGz6jpyKj3zYYWCk4s2LqwQ=s64",
      "userId": "13664137025209273415"
     },
     "user_tz": -330
    },
    "id": "yqsmu-BTCynQ"
   },
   "outputs": [],
   "source": [
    "# merge two column text dataframe: \n",
    "project_data[\"essay\"] = project_data[\"project_essay_1\"].map(str) +\\\n",
    "                        project_data[\"project_essay_2\"].map(str) + \\\n",
    "                        project_data[\"project_essay_3\"].map(str) + \\\n",
    "                        project_data[\"project_essay_4\"].map(str)"
   ]
  },
  {
   "cell_type": "code",
   "execution_count": 10,
   "metadata": {
    "colab": {
     "base_uri": "https://localhost:8080/",
     "height": 358
    },
    "colab_type": "code",
    "executionInfo": {
     "elapsed": 11171,
     "status": "ok",
     "timestamp": 1594367014211,
     "user": {
      "displayName": "Venkatesh Gupta",
      "photoUrl": "https://lh3.googleusercontent.com/a-/AOh14Gg8U_KUdnX4JWp6we7eGz6jpyKj3zYYWCk4s2LqwQ=s64",
      "userId": "13664137025209273415"
     },
     "user_tz": -330
    },
    "id": "xxtnd3maCynV",
    "outputId": "4fc01030-07d2-44dd-b078-5fc59c18d931"
   },
   "outputs": [
    {
     "data": {
      "text/html": [
       "<div>\n",
       "<style scoped>\n",
       "    .dataframe tbody tr th:only-of-type {\n",
       "        vertical-align: middle;\n",
       "    }\n",
       "\n",
       "    .dataframe tbody tr th {\n",
       "        vertical-align: top;\n",
       "    }\n",
       "\n",
       "    .dataframe thead th {\n",
       "        text-align: right;\n",
       "    }\n",
       "</style>\n",
       "<table border=\"1\" class=\"dataframe\">\n",
       "  <thead>\n",
       "    <tr style=\"text-align: right;\">\n",
       "      <th></th>\n",
       "      <th>Unnamed: 0</th>\n",
       "      <th>id</th>\n",
       "      <th>teacher_id</th>\n",
       "      <th>teacher_prefix</th>\n",
       "      <th>school_state</th>\n",
       "      <th>Date</th>\n",
       "      <th>project_grade_category</th>\n",
       "      <th>project_title</th>\n",
       "      <th>project_essay_1</th>\n",
       "      <th>project_essay_2</th>\n",
       "      <th>project_essay_3</th>\n",
       "      <th>project_essay_4</th>\n",
       "      <th>project_resource_summary</th>\n",
       "      <th>teacher_number_of_previously_posted_projects</th>\n",
       "      <th>project_is_approved</th>\n",
       "      <th>clean_categories</th>\n",
       "      <th>clean_subcategories</th>\n",
       "      <th>essay</th>\n",
       "    </tr>\n",
       "  </thead>\n",
       "  <tbody>\n",
       "    <tr>\n",
       "      <th>473</th>\n",
       "      <td>100660</td>\n",
       "      <td>p234804</td>\n",
       "      <td>cbc0e38f522143b86d372f8b43d4cff3</td>\n",
       "      <td>Mrs.</td>\n",
       "      <td>GA</td>\n",
       "      <td>2016-04-27 00:53:00</td>\n",
       "      <td>Grades PreK-2</td>\n",
       "      <td>Flexible Seating for Flexible Learning</td>\n",
       "      <td>I recently read an article about giving studen...</td>\n",
       "      <td>I teach at a low-income (Title 1) school. Ever...</td>\n",
       "      <td>We need a classroom rug that we can use as a c...</td>\n",
       "      <td>Benjamin Franklin once said, \\\"Tell me and I f...</td>\n",
       "      <td>My students need flexible seating in the class...</td>\n",
       "      <td>2</td>\n",
       "      <td>1</td>\n",
       "      <td>AppliedLearning</td>\n",
       "      <td>EarlyDevelopment</td>\n",
       "      <td>I recently read an article about giving studen...</td>\n",
       "    </tr>\n",
       "    <tr>\n",
       "      <th>29891</th>\n",
       "      <td>146723</td>\n",
       "      <td>p099708</td>\n",
       "      <td>c0a28c79fe8ad5810da49de47b3fb491</td>\n",
       "      <td>Mrs.</td>\n",
       "      <td>CA</td>\n",
       "      <td>2016-04-27 01:10:09</td>\n",
       "      <td>Grades 3-5</td>\n",
       "      <td>Breakout Box to Ignite Engagement!</td>\n",
       "      <td>It's the end of the school year. Routines have...</td>\n",
       "      <td>My students desire challenges, movement, and c...</td>\n",
       "      <td>I will design different clues using specific c...</td>\n",
       "      <td>Donations to this project will immediately imp...</td>\n",
       "      <td>My students need items from a \\\"Breakout Box\\\"...</td>\n",
       "      <td>6</td>\n",
       "      <td>1</td>\n",
       "      <td>Math_Science History_Civics</td>\n",
       "      <td>Mathematics SocialSciences</td>\n",
       "      <td>It's the end of the school year. Routines have...</td>\n",
       "    </tr>\n",
       "  </tbody>\n",
       "</table>\n",
       "</div>"
      ],
      "text/plain": [
       "       Unnamed: 0       id                        teacher_id teacher_prefix  \\\n",
       "473        100660  p234804  cbc0e38f522143b86d372f8b43d4cff3           Mrs.   \n",
       "29891      146723  p099708  c0a28c79fe8ad5810da49de47b3fb491           Mrs.   \n",
       "\n",
       "      school_state                Date project_grade_category  \\\n",
       "473             GA 2016-04-27 00:53:00          Grades PreK-2   \n",
       "29891           CA 2016-04-27 01:10:09             Grades 3-5   \n",
       "\n",
       "                                project_title  \\\n",
       "473    Flexible Seating for Flexible Learning   \n",
       "29891      Breakout Box to Ignite Engagement!   \n",
       "\n",
       "                                         project_essay_1  \\\n",
       "473    I recently read an article about giving studen...   \n",
       "29891  It's the end of the school year. Routines have...   \n",
       "\n",
       "                                         project_essay_2  \\\n",
       "473    I teach at a low-income (Title 1) school. Ever...   \n",
       "29891  My students desire challenges, movement, and c...   \n",
       "\n",
       "                                         project_essay_3  \\\n",
       "473    We need a classroom rug that we can use as a c...   \n",
       "29891  I will design different clues using specific c...   \n",
       "\n",
       "                                         project_essay_4  \\\n",
       "473    Benjamin Franklin once said, \\\"Tell me and I f...   \n",
       "29891  Donations to this project will immediately imp...   \n",
       "\n",
       "                                project_resource_summary  \\\n",
       "473    My students need flexible seating in the class...   \n",
       "29891  My students need items from a \\\"Breakout Box\\\"...   \n",
       "\n",
       "       teacher_number_of_previously_posted_projects  project_is_approved  \\\n",
       "473                                               2                    1   \n",
       "29891                                             6                    1   \n",
       "\n",
       "                  clean_categories         clean_subcategories  \\\n",
       "473                AppliedLearning            EarlyDevelopment   \n",
       "29891  Math_Science History_Civics  Mathematics SocialSciences   \n",
       "\n",
       "                                                   essay  \n",
       "473    I recently read an article about giving studen...  \n",
       "29891  It's the end of the school year. Routines have...  "
      ]
     },
     "execution_count": 10,
     "metadata": {},
     "output_type": "execute_result"
    }
   ],
   "source": [
    "project_data.head(2)"
   ]
  },
  {
   "cell_type": "code",
   "execution_count": 11,
   "metadata": {
    "colab": {},
    "colab_type": "code",
    "executionInfo": {
     "elapsed": 11159,
     "status": "ok",
     "timestamp": 1594367014212,
     "user": {
      "displayName": "Venkatesh Gupta",
      "photoUrl": "https://lh3.googleusercontent.com/a-/AOh14Gg8U_KUdnX4JWp6we7eGz6jpyKj3zYYWCk4s2LqwQ=s64",
      "userId": "13664137025209273415"
     },
     "user_tz": -330
    },
    "id": "2ou8qSzkCyna"
   },
   "outputs": [],
   "source": [
    "#### 1.4.2.3 Using Pretrained Models: TFIDF weighted W2V"
   ]
  },
  {
   "cell_type": "code",
   "execution_count": 12,
   "metadata": {
    "colab": {
     "base_uri": "https://localhost:8080/",
     "height": 149
    },
    "colab_type": "code",
    "executionInfo": {
     "elapsed": 11151,
     "status": "ok",
     "timestamp": 1594367014213,
     "user": {
      "displayName": "Venkatesh Gupta",
      "photoUrl": "https://lh3.googleusercontent.com/a-/AOh14Gg8U_KUdnX4JWp6we7eGz6jpyKj3zYYWCk4s2LqwQ=s64",
      "userId": "13664137025209273415"
     },
     "user_tz": -330
    },
    "id": "TCl7L1DhCyne",
    "outputId": "c5e888d2-7740-4169-fba2-69595e5b9590"
   },
   "outputs": [
    {
     "name": "stdout",
     "output_type": "stream",
     "text": [
      "I recently read an article about giving students a choice about how they learn. We already set goals; why not let them choose where to sit, and give them options of what to sit on?I teach at a low-income (Title 1) school. Every year, I have a class with a range of abilities, yet they are all the same age. They learn differently, and they have different interests. Some have ADHD, and some are fast learners. Yet they are eager and active learners that want and need to be able to move around the room, yet have a place that they can be comfortable to complete their work.We need a classroom rug that we can use as a class for reading time, and students can use during other learning times. I have also requested four Kore Kids wobble chairs and four Back Jack padded portable chairs so that students can still move during whole group lessons without disrupting the class. Having these areas will provide these little ones with a way to wiggle while working.Benjamin Franklin once said, \\\"Tell me and I forget, teach me and I may remember, involve me and I learn.\\\" I want these children to be involved in their learning by having a choice on where to sit and how to learn, all by giving them options for comfortable flexible seating.\n",
      "==================================================\n",
      "How many of you remember playing in the school band? So many of my students are eager to play instruments. why not help make their dreams come true?Presently, I teach elementary/middle school music (4-8) at a high needs public school in Illinois. Due to budget cuts, the school is unable to fund a music program for the school. Music, being an interdisciplinary subject, encompasses all subjects students encounter during their education. The students at this school are very enthusiastic about music and should have a top-notch music program. This can only be possible with your help!Having a band at the school will allow the my students a chance to explore music, experience the fulfillment of learning and completing a new task, and greatly inspire them to be the best instrumentalists they can be.\\r\\nThe students will learn how to work together in an ensemble which encourages team work. They will also receive the satisfaction of learning how to play a musical instrument.  Music is very entertaining and allows for freedom of expression. My students deserve the opportunity to express themselves through music, and playing the flute will provide that foundation.Music is the universal language and provides an experience that will allow the students to appreciate the creative process and develop a commitment to excellence. Your donations will help the students to experience music on a greater level through their performance.\n",
      "==================================================\n",
      "The classroom is a dynamic place where students can experience science and not just hear about it. The class offers hands on experimentation, CGI to show processes in the body on a cellular level, and many real world examples to help the students make a connection to the material.The students here at the school are personable, energetic, and excited to be at school. Attendance is usually between 90%-95%. The students show respect for themselves, for each other, and for their school. We promote acceptance and do not tolerate bullying or any other disruptive/negative behavior. The students have a great rapport with the staff and are aware of our expectations for behavior and work ethic.The materials will be used to reinforce content learned in the classroom. The articulated skeleton can be used to study the skeleton as a whole system or individual parts can be removed for closer studying of its function in that system. It can also be used as an assessment tool and the students can visit and revisit stations and answer questions about that bone.Your donations to this project will provide the students with materials that they can explore in further detail. It will provide them with learning tools that could increase their learning in the classroom. It may also stimulate a passion for this area and possibly create a new career path. This class is newly developed so we do not have an abundance of materials. This would greatly contribute to our curriculum.\n",
      "==================================================\n"
     ]
    }
   ],
   "source": [
    "# printing some random reviews\n",
    "print(project_data['essay'].values[0])\n",
    "print(\"=\"*50)\n",
    "print(project_data['essay'].values[150])\n",
    "print(\"=\"*50)\n",
    "print(project_data['essay'].values[1000])\n",
    "print(\"=\"*50)\n",
    "#print(project_data['essay'].values[20000])\n",
    "#print(\"=\"*50)\n",
    "#print(project_data['essay'].values[99999])\n",
    "#print(\"=\"*50)"
   ]
  },
  {
   "cell_type": "code",
   "execution_count": 13,
   "metadata": {
    "colab": {},
    "colab_type": "code",
    "executionInfo": {
     "elapsed": 11144,
     "status": "ok",
     "timestamp": 1594367014214,
     "user": {
      "displayName": "Venkatesh Gupta",
      "photoUrl": "https://lh3.googleusercontent.com/a-/AOh14Gg8U_KUdnX4JWp6we7eGz6jpyKj3zYYWCk4s2LqwQ=s64",
      "userId": "13664137025209273415"
     },
     "user_tz": -330
    },
    "id": "Yqj4vGVoCynh"
   },
   "outputs": [],
   "source": [
    "# https://stackoverflow.com/a/47091490/4084039\n",
    "import re\n",
    "\n",
    "def decontracted(phrase):\n",
    "    # specific\n",
    "    phrase = re.sub(r\"won't\", \"will not\", phrase)\n",
    "    phrase = re.sub(r\"can\\'t\", \"can not\", phrase)\n",
    "\n",
    "    # general\n",
    "    phrase = re.sub(r\"n\\'t\", \" not\", phrase)\n",
    "    phrase = re.sub(r\"\\'re\", \" are\", phrase)\n",
    "    phrase = re.sub(r\"\\'s\", \" is\", phrase)\n",
    "    phrase = re.sub(r\"\\'d\", \" would\", phrase)\n",
    "    phrase = re.sub(r\"\\'ll\", \" will\", phrase)\n",
    "    phrase = re.sub(r\"\\'t\", \" not\", phrase)\n",
    "    phrase = re.sub(r\"\\'ve\", \" have\", phrase)\n",
    "    phrase = re.sub(r\"\\'m\", \" am\", phrase)\n",
    "    return phrase"
   ]
  },
  {
   "cell_type": "code",
   "execution_count": 14,
   "metadata": {
    "colab": {
     "base_uri": "https://localhost:8080/",
     "height": 74
    },
    "colab_type": "code",
    "executionInfo": {
     "elapsed": 11135,
     "status": "ok",
     "timestamp": 1594367014214,
     "user": {
      "displayName": "Venkatesh Gupta",
      "photoUrl": "https://lh3.googleusercontent.com/a-/AOh14Gg8U_KUdnX4JWp6we7eGz6jpyKj3zYYWCk4s2LqwQ=s64",
      "userId": "13664137025209273415"
     },
     "user_tz": -330
    },
    "id": "aDUbe9piCynj",
    "outputId": "96c71a03-5204-4f36-b5e0-769cc7f2a831"
   },
   "outputs": [
    {
     "name": "stdout",
     "output_type": "stream",
     "text": [
      "I work in an inclusive, mainstream, kindergarten classroom.  I have 23 students about which half have never been to preschool.  These are great children ready to learn.\\r\\n\\r\\nI am happy to say that I work with the most enthusiastic, amazing group of children.  They come to school every day with smiles on their faces and excitement in their souls.\\r\\n\\r\\nBeing an inner city school many of these children lack the experiences that they need to be successful in the common core curriculum.  I want to change this!\\r\\n\\r\\nCurrently we have three boogie boards in my classroom and the children absolutely love them.  They use them as rewards for finishing their work, we use them as a small center, and we use them just for fun!  \\r\\n\\r\\nBoogie boards are great learning tools that make learning to write much more exciting.  Children are engaged and enthusiastic about writing when presented with a boogie board.\\r\\n\\r\\nBoogie boards are also a great incentive for children with behavioral issues or the SPED children within the classroom.  They are truly a tool for all!  I look forward to adding some more to my classroom.\\r\\nnannan\n",
      "==================================================\n"
     ]
    }
   ],
   "source": [
    "sent = decontracted(project_data['essay'].values[20000])\n",
    "print(sent)\n",
    "print(\"=\"*50)"
   ]
  },
  {
   "cell_type": "code",
   "execution_count": 15,
   "metadata": {
    "colab": {
     "base_uri": "https://localhost:8080/",
     "height": 56
    },
    "colab_type": "code",
    "executionInfo": {
     "elapsed": 11125,
     "status": "ok",
     "timestamp": 1594367014216,
     "user": {
      "displayName": "Venkatesh Gupta",
      "photoUrl": "https://lh3.googleusercontent.com/a-/AOh14Gg8U_KUdnX4JWp6we7eGz6jpyKj3zYYWCk4s2LqwQ=s64",
      "userId": "13664137025209273415"
     },
     "user_tz": -330
    },
    "id": "vXSbHYJ4Cynp",
    "outputId": "681c1244-4e7f-48d1-97d4-5b4a5db84501"
   },
   "outputs": [
    {
     "name": "stdout",
     "output_type": "stream",
     "text": [
      "I work in an inclusive, mainstream, kindergarten classroom.  I have 23 students about which half have never been to preschool.  These are great children ready to learn.    I am happy to say that I work with the most enthusiastic, amazing group of children.  They come to school every day with smiles on their faces and excitement in their souls.    Being an inner city school many of these children lack the experiences that they need to be successful in the common core curriculum.  I want to change this!    Currently we have three boogie boards in my classroom and the children absolutely love them.  They use them as rewards for finishing their work, we use them as a small center, and we use them just for fun!      Boogie boards are great learning tools that make learning to write much more exciting.  Children are engaged and enthusiastic about writing when presented with a boogie board.    Boogie boards are also a great incentive for children with behavioral issues or the SPED children within the classroom.  They are truly a tool for all!  I look forward to adding some more to my classroom.  nannan\n"
     ]
    }
   ],
   "source": [
    "# \\r \\n \\t remove from string python: http://texthandler.com/info/remove-line-breaks-python/\n",
    "sent = sent.replace('\\\\r', ' ')\n",
    "sent = sent.replace('\\\\\"', ' ')\n",
    "sent = sent.replace('\\\\n', ' ')\n",
    "print(sent)"
   ]
  },
  {
   "cell_type": "code",
   "execution_count": 16,
   "metadata": {
    "colab": {
     "base_uri": "https://localhost:8080/",
     "height": 56
    },
    "colab_type": "code",
    "executionInfo": {
     "elapsed": 11115,
     "status": "ok",
     "timestamp": 1594367014216,
     "user": {
      "displayName": "Venkatesh Gupta",
      "photoUrl": "https://lh3.googleusercontent.com/a-/AOh14Gg8U_KUdnX4JWp6we7eGz6jpyKj3zYYWCk4s2LqwQ=s64",
      "userId": "13664137025209273415"
     },
     "user_tz": -330
    },
    "id": "67Agrz_YCynt",
    "outputId": "bc9ea78f-8663-43dd-cbde-25353ce3ca49"
   },
   "outputs": [
    {
     "name": "stdout",
     "output_type": "stream",
     "text": [
      "I work in an inclusive mainstream kindergarten classroom I have 23 students about which half have never been to preschool These are great children ready to learn I am happy to say that I work with the most enthusiastic amazing group of children They come to school every day with smiles on their faces and excitement in their souls Being an inner city school many of these children lack the experiences that they need to be successful in the common core curriculum I want to change this Currently we have three boogie boards in my classroom and the children absolutely love them They use them as rewards for finishing their work we use them as a small center and we use them just for fun Boogie boards are great learning tools that make learning to write much more exciting Children are engaged and enthusiastic about writing when presented with a boogie board Boogie boards are also a great incentive for children with behavioral issues or the SPED children within the classroom They are truly a tool for all I look forward to adding some more to my classroom nannan\n"
     ]
    }
   ],
   "source": [
    "#remove spacial character: https://stackoverflow.com/a/5843547/4084039\n",
    "sent = re.sub('[^A-Za-z0-9]+', ' ', sent)\n",
    "print(sent)"
   ]
  },
  {
   "cell_type": "code",
   "execution_count": 17,
   "metadata": {
    "colab": {},
    "colab_type": "code",
    "executionInfo": {
     "elapsed": 11109,
     "status": "ok",
     "timestamp": 1594367014218,
     "user": {
      "displayName": "Venkatesh Gupta",
      "photoUrl": "https://lh3.googleusercontent.com/a-/AOh14Gg8U_KUdnX4JWp6we7eGz6jpyKj3zYYWCk4s2LqwQ=s64",
      "userId": "13664137025209273415"
     },
     "user_tz": -330
    },
    "id": "hhyPw-8wCyny"
   },
   "outputs": [],
   "source": [
    "# https://gist.github.com/sebleier/554280\n",
    "# we are removing the words from the stop words list: 'no', 'nor', 'not'\n",
    "stopwords= ['i', 'me', 'my', 'myself', 'we', 'our', 'ours', 'ourselves', 'you', \"you're\", \"you've\",\\\n",
    "            \"you'll\", \"you'd\", 'your', 'yours', 'yourself', 'yourselves', 'he', 'him', 'his', 'himself', \\\n",
    "            'she', \"she's\", 'her', 'hers', 'herself', 'it', \"it's\", 'its', 'itself', 'they', 'them', 'their',\\\n",
    "            'theirs', 'themselves', 'what', 'which', 'who', 'whom', 'this', 'that', \"that'll\", 'these', 'those', \\\n",
    "            'am', 'is', 'are', 'was', 'were', 'be', 'been', 'being', 'have', 'has', 'had', 'having', 'do', 'does', \\\n",
    "            'did', 'doing', 'a', 'an', 'the', 'and', 'but', 'if', 'or', 'because', 'as', 'until', 'while', 'of', \\\n",
    "            'at', 'by', 'for', 'with', 'about', 'against', 'between', 'into', 'through', 'during', 'before', 'after',\\\n",
    "            'above', 'below', 'to', 'from', 'up', 'down', 'in', 'out', 'on', 'off', 'over', 'under', 'again', 'further',\\\n",
    "            'then', 'once', 'here', 'there', 'when', 'where', 'why', 'how', 'all', 'any', 'both', 'each', 'few', 'more',\\\n",
    "            'most', 'other', 'some', 'such', 'only', 'own', 'same', 'so', 'than', 'too', 'very', \\\n",
    "            's', 't', 'can', 'will', 'just', 'don', \"don't\", 'should', \"should've\", 'now', 'd', 'll', 'm', 'o', 're', \\\n",
    "            've', 'y', 'ain', 'aren', \"aren't\", 'couldn', \"couldn't\", 'didn', \"didn't\", 'doesn', \"doesn't\", 'hadn',\\\n",
    "            \"hadn't\", 'hasn', \"hasn't\", 'haven', \"haven't\", 'isn', \"isn't\", 'ma', 'mightn', \"mightn't\", 'mustn',\\\n",
    "            \"mustn't\", 'needn', \"needn't\", 'shan', \"shan't\", 'shouldn', \"shouldn't\", 'wasn', \"wasn't\", 'weren', \"weren't\", \\\n",
    "            'won', \"won't\", 'wouldn', \"wouldn't\"]"
   ]
  },
  {
   "cell_type": "code",
   "execution_count": 18,
   "metadata": {
    "colab": {
     "base_uri": "https://localhost:8080/",
     "height": 1000
    },
    "colab_type": "code",
    "executionInfo": {
     "elapsed": 27319,
     "status": "ok",
     "timestamp": 1594367030440,
     "user": {
      "displayName": "Venkatesh Gupta",
      "photoUrl": "https://lh3.googleusercontent.com/a-/AOh14Gg8U_KUdnX4JWp6we7eGz6jpyKj3zYYWCk4s2LqwQ=s64",
      "userId": "13664137025209273415"
     },
     "user_tz": -330
    },
    "id": "d6RCdphRCyn0",
    "outputId": "46aadc57-0f3d-4f64-942f-889ba912cd15"
   },
   "outputs": [
    {
     "name": "stderr",
     "output_type": "stream",
     "text": [
      "100%|██████████| 40000/40000 [01:06<00:00, 599.92it/s]\n"
     ]
    }
   ],
   "source": [
    "# Combining all the above stundents \n",
    "from tqdm import tqdm\n",
    "preprocessed_essays = []\n",
    "# tqdm is for printing the status bar\n",
    "for sentance in tqdm(project_data['essay'].values):\n",
    "    sent = decontracted(sentance)\n",
    "    sent = sent.replace('\\\\r', ' ')\n",
    "    sent = sent.replace('\\\\\"', ' ')\n",
    "    sent = sent.replace('\\\\n', ' ')\n",
    "    sent = re.sub('[^A-Za-z0-9]+', ' ', sent)\n",
    "    # https://gist.github.com/sebleier/554280\n",
    "    sent = ' '.join(e for e in sent.split() if e.lower() not in stopwords)\n",
    "    preprocessed_essays.append(sent.lower().strip())"
   ]
  },
  {
   "cell_type": "code",
   "execution_count": 19,
   "metadata": {
    "colab": {
     "base_uri": "https://localhost:8080/",
     "height": 167
    },
    "colab_type": "code",
    "executionInfo": {
     "elapsed": 27971,
     "status": "ok",
     "timestamp": 1594367031105,
     "user": {
      "displayName": "Venkatesh Gupta",
      "photoUrl": "https://lh3.googleusercontent.com/a-/AOh14Gg8U_KUdnX4JWp6we7eGz6jpyKj3zYYWCk4s2LqwQ=s64",
      "userId": "13664137025209273415"
     },
     "user_tz": -330
    },
    "id": "rPo9cLvNCyn3",
    "outputId": "4cdb880e-7fac-41bf-8db4-a9a716c57db6"
   },
   "outputs": [
    {
     "data": {
      "text/plain": [
       "'work inclusive mainstream kindergarten classroom 23 students half never preschool great children ready learn happy say work enthusiastic amazing group children come school every day smiles faces excitement souls inner city school many children lack experiences need successful common core curriculum want change currently three boogie boards classroom children absolutely love use rewards finishing work use small center use fun boogie boards great learning tools make learning write much exciting children engaged enthusiastic writing presented boogie board boogie boards also great incentive children behavioral issues sped children within classroom truly tool look forward adding classroom nannan'"
      ]
     },
     "execution_count": 19,
     "metadata": {},
     "output_type": "execute_result"
    }
   ],
   "source": [
    "# after preprocesing\n",
    "#creating a new column with the preprocessed essays and replacing it with the original columns\n",
    "project_data['preprocessed_essays'] = preprocessed_essays\n",
    "project_data.drop(['project_essay_1'], axis=1, inplace=True)\n",
    "project_data.drop(['project_essay_2'], axis=1, inplace=True)\n",
    "project_data.drop(['project_essay_3'], axis=1, inplace=True)\n",
    "project_data.drop(['project_essay_4'], axis=1, inplace=True)\n",
    "preprocessed_essays[20000]"
   ]
  },
  {
   "cell_type": "markdown",
   "metadata": {
    "colab_type": "text",
    "id": "QeUw6WMKCyn7"
   },
   "source": [
    "<h2><font color='red'> 1.4 Preprocessing of `project_title`</font></h2>"
   ]
  },
  {
   "cell_type": "code",
   "execution_count": 20,
   "metadata": {
    "colab": {
     "base_uri": "https://localhost:8080/",
     "height": 204
    },
    "colab_type": "code",
    "executionInfo": {
     "elapsed": 29135,
     "status": "ok",
     "timestamp": 1594367032281,
     "user": {
      "displayName": "Venkatesh Gupta",
      "photoUrl": "https://lh3.googleusercontent.com/a-/AOh14Gg8U_KUdnX4JWp6we7eGz6jpyKj3zYYWCk4s2LqwQ=s64",
      "userId": "13664137025209273415"
     },
     "user_tz": -330
    },
    "id": "Ql9ttfW3Cyn7",
    "outputId": "2defb46d-5776-46f4-ca5b-a14e51d40a72"
   },
   "outputs": [
    {
     "name": "stderr",
     "output_type": "stream",
     "text": [
      "100%|██████████| 40000/40000 [00:03<00:00, 12200.91it/s]\n"
     ]
    }
   ],
   "source": [
    "# Combining all the above statemennts \n",
    "from tqdm import tqdm\n",
    "preprocessed_titles = []\n",
    "# tqdm is for printing the status bar\n",
    "for sentance in tqdm(project_data['project_title'].values):\n",
    "    sent = decontracted(sentance)\n",
    "    sent = sent.replace('\\\\r', ' ')\n",
    "    sent = sent.replace('\\\\\"', ' ')\n",
    "    sent = sent.replace('\\\\n', ' ')\n",
    "    sent = re.sub('[^A-Za-z0-9]+', ' ', sent)\n",
    "    # https://gist.github.com/sebleier/554280\n",
    "    sent = ' '.join(e for e in sent.split() if e not in stopwords)\n",
    "    preprocessed_titles.append(sent.lower().strip())"
   ]
  },
  {
   "cell_type": "code",
   "execution_count": 21,
   "metadata": {
    "colab": {},
    "colab_type": "code",
    "executionInfo": {
     "elapsed": 29130,
     "status": "ok",
     "timestamp": 1594367032284,
     "user": {
      "displayName": "Venkatesh Gupta",
      "photoUrl": "https://lh3.googleusercontent.com/a-/AOh14Gg8U_KUdnX4JWp6we7eGz6jpyKj3zYYWCk4s2LqwQ=s64",
      "userId": "13664137025209273415"
     },
     "user_tz": -330
    },
    "id": "YQw-NlL6r2u7"
   },
   "outputs": [],
   "source": [
    "#creating a new column with the preprocessed titles,useful for analysis\n",
    "project_data['preprocessed_titles'] = preprocessed_titles"
   ]
  },
  {
   "cell_type": "code",
   "execution_count": 22,
   "metadata": {
    "colab": {
     "base_uri": "https://localhost:8080/",
     "height": 298
    },
    "colab_type": "code",
    "executionInfo": {
     "elapsed": 29125,
     "status": "ok",
     "timestamp": 1594367032286,
     "user": {
      "displayName": "Venkatesh Gupta",
      "photoUrl": "https://lh3.googleusercontent.com/a-/AOh14Gg8U_KUdnX4JWp6we7eGz6jpyKj3zYYWCk4s2LqwQ=s64",
      "userId": "13664137025209273415"
     },
     "user_tz": -330
    },
    "id": "ROllAS8Wr2vC",
    "outputId": "747032c8-f67d-4ae9-ae8e-ab5c404884f7"
   },
   "outputs": [
    {
     "name": "stdout",
     "output_type": "stream",
     "text": [
      "Mrs.       20907\n",
      "Ms.        14384\n",
      "Mr.         3851\n",
      "Teacher      854\n",
      "Dr.            2\n",
      "Name: teacher_prefix, dtype: int64\n",
      "====================================================================================================\n",
      "30368    NaN\n",
      "7820     NaN\n",
      "Name: teacher_prefix, dtype: object\n",
      "====================================================================================================\n",
      "Mrs.       20909\n",
      "Ms.        14384\n",
      "Mr.         3851\n",
      "Teacher      854\n",
      "Dr.            2\n",
      "Name: teacher_prefix, dtype: int64\n",
      "====================================================================================================\n"
     ]
    }
   ],
   "source": [
    "#---------------------------------------------------------------------------------------\n",
    "# Preprocessing Categorical Features: teacher_prefix\n",
    "print(project_data['teacher_prefix'].value_counts())\n",
    "print(\"=\"*100)\n",
    "\n",
    "print(project_data[project_data['teacher_prefix'].isnull()]['teacher_prefix'])\n",
    "\n",
    "print(\"=\"*100)\n",
    "project_data['teacher_prefix']=project_data['teacher_prefix'].fillna('Mrs.')\n",
    "print(project_data['teacher_prefix'].value_counts())\n",
    "\n",
    "print(\"=\"*100)\n",
    "#---------------------------------------------------------------------------------------"
   ]
  },
  {
   "cell_type": "code",
   "execution_count": 23,
   "metadata": {
    "colab": {},
    "colab_type": "code",
    "executionInfo": {
     "elapsed": 29119,
     "status": "ok",
     "timestamp": 1594367032288,
     "user": {
      "displayName": "Venkatesh Gupta",
      "photoUrl": "https://lh3.googleusercontent.com/a-/AOh14Gg8U_KUdnX4JWp6we7eGz6jpyKj3zYYWCk4s2LqwQ=s64",
      "userId": "13664137025209273415"
     },
     "user_tz": -330
    },
    "id": "pW33H4jJr2vJ"
   },
   "outputs": [],
   "source": [
    "#-------------------------------------------------------------------------------------------------------\n",
    "# Preprocessing Categorical Features: project_grade_category\n",
    "project_data['project_grade_category'] = project_data['project_grade_category'].str.replace(' ', '_')\n",
    "project_data['project_grade_category'] = project_data['project_grade_category'].str.replace('-', '_')\n",
    "project_data['project_grade_category'] = project_data['project_grade_category'].str.lower()\n",
    "#-------------------------------------------------------------------------------------------------------"
   ]
  },
  {
   "cell_type": "markdown",
   "metadata": {
    "colab_type": "text",
    "id": "RRN9Tu1nr2vR"
   },
   "source": [
    "# Splitting data into Train, cross validation and test: Stratified Sampling"
   ]
  },
  {
   "cell_type": "code",
   "execution_count": 24,
   "metadata": {
    "colab": {
     "base_uri": "https://localhost:8080/",
     "height": 241
    },
    "colab_type": "code",
    "executionInfo": {
     "elapsed": 29115,
     "status": "ok",
     "timestamp": 1594367032291,
     "user": {
      "displayName": "Venkatesh Gupta",
      "photoUrl": "https://lh3.googleusercontent.com/a-/AOh14Gg8U_KUdnX4JWp6we7eGz6jpyKj3zYYWCk4s2LqwQ=s64",
      "userId": "13664137025209273415"
     },
     "user_tz": -330
    },
    "id": "pql8rmG6r2vS",
    "outputId": "c0c7bd12-482b-4c9b-a0b1-a6bafad87677",
    "scrolled": false
   },
   "outputs": [
    {
     "name": "stdout",
     "output_type": "stream",
     "text": [
      "(17956, 16) (8844, 16) (17956,) 1687     1\n",
      "28523    1\n",
      "29396    1\n",
      "2897     0\n",
      "28457    0\n",
      "35209    1\n",
      "9960     0\n",
      "28033    1\n",
      "8957     1\n",
      "26524    1\n",
      "25548    1\n",
      "24297    1\n",
      "1161     1\n",
      "28400    1\n",
      "9992     1\n",
      "29757    1\n",
      "35527    1\n",
      "20016    1\n",
      "20385    1\n",
      "18483    1\n",
      "15289    1\n",
      "27332    1\n",
      "5929     1\n",
      "26638    1\n",
      "6420     1\n",
      "3918     1\n",
      "23396    1\n",
      "36504    0\n",
      "31715    1\n",
      "17917    1\n",
      "        ..\n",
      "18333    1\n",
      "24400    1\n",
      "27605    1\n",
      "5592     1\n",
      "27844    1\n",
      "29755    1\n",
      "10483    0\n",
      "35408    1\n",
      "35158    1\n",
      "18715    1\n",
      "24491    1\n",
      "15031    1\n",
      "22896    1\n",
      "12305    1\n",
      "22177    1\n",
      "10981    1\n",
      "7959     1\n",
      "11749    0\n",
      "25720    0\n",
      "33327    0\n",
      "24076    0\n",
      "10055    1\n",
      "15700    0\n",
      "33846    1\n",
      "28044    1\n",
      "39832    0\n",
      "35439    1\n",
      "1564     1\n",
      "3915     1\n",
      "6764     1\n",
      "Name: project_is_approved, Length: 8844, dtype: int64\n"
     ]
    }
   ],
   "source": [
    "from sklearn.model_selection import train_test_split\n",
    "#How to split whole dataset into Train,CV and test\n",
    "#https://scikit-learn.org/stable/modules/generated/sklearn.model_selection.train_test_split.html#sklearn.model_selection.train_test_split\n",
    "project_data_train, project_data_test, y_train, y_test = train_test_split(project_data, project_data['project_is_approved'], test_size=0.33, stratify = project_data['project_is_approved'])\n",
    "project_data_train, project_data_cv, y_train, y_cv = train_test_split(project_data_train, y_train, test_size=0.33, stratify=y_train)\n",
    "print(project_data_train.shape, project_data_cv.shape, y_train.shape, y_cv)"
   ]
  },
  {
   "cell_type": "code",
   "execution_count": 25,
   "metadata": {
    "colab": {
     "base_uri": "https://localhost:8080/",
     "height": 167
    },
    "colab_type": "code",
    "executionInfo": {
     "elapsed": 29105,
     "status": "ok",
     "timestamp": 1594367032292,
     "user": {
      "displayName": "Venkatesh Gupta",
      "photoUrl": "https://lh3.googleusercontent.com/a-/AOh14Gg8U_KUdnX4JWp6we7eGz6jpyKj3zYYWCk4s2LqwQ=s64",
      "userId": "13664137025209273415"
     },
     "user_tz": -330
    },
    "id": "5JW_5ANIr2va",
    "outputId": "47241f0b-f393-4256-c533-60ff80ea28aa"
   },
   "outputs": [
    {
     "name": "stdout",
     "output_type": "stream",
     "text": [
      "Split ratio\n",
      "--------------------------------------------------\n",
      "Train dataset: 44.89 %\n",
      " size: 17956\n",
      "Cross validation dataset: 22.11 %\n",
      " size: 8844\n",
      "Test dataset: 33.0 %\n",
      " size: 13200\n"
     ]
    }
   ],
   "source": [
    "print(\"Split ratio\")\n",
    "print('-'*50)\n",
    "print('Train dataset:',len(project_data_train)/len(project_data)*100,'%\\n','size:',len(project_data_train))\n",
    "print('Cross validation dataset:',len(project_data_cv)/len(project_data)*100,'%\\n','size:',len(project_data_cv))\n",
    "print('Test dataset:',len(project_data_test)/len(project_data)*100,'%\\n','size:',len(project_data_test))"
   ]
  },
  {
   "cell_type": "code",
   "execution_count": 26,
   "metadata": {
    "colab": {},
    "colab_type": "code",
    "executionInfo": {
     "elapsed": 29100,
     "status": "ok",
     "timestamp": 1594367032294,
     "user": {
      "displayName": "Venkatesh Gupta",
      "photoUrl": "https://lh3.googleusercontent.com/a-/AOh14Gg8U_KUdnX4JWp6we7eGz6jpyKj3zYYWCk4s2LqwQ=s64",
      "userId": "13664137025209273415"
     },
     "user_tz": -330
    },
    "id": "CPBUZg5Vr2vh"
   },
   "outputs": [],
   "source": [
    "#Features\n",
    "project_data_train.drop(['project_is_approved'], axis=1, inplace=True)\n",
    "project_data_cv.drop(['project_is_approved'], axis=1, inplace=True)\n",
    "project_data_test.drop(['project_is_approved'], axis=1, inplace=True)"
   ]
  },
  {
   "cell_type": "markdown",
   "metadata": {
    "colab_type": "text",
    "id": "NQg4ZfFtCyn9"
   },
   "source": [
    "## 1.5 Preparing data for models"
   ]
  },
  {
   "cell_type": "code",
   "execution_count": 27,
   "metadata": {
    "colab": {
     "base_uri": "https://localhost:8080/",
     "height": 148
    },
    "colab_type": "code",
    "executionInfo": {
     "elapsed": 29094,
     "status": "ok",
     "timestamp": 1594367032295,
     "user": {
      "displayName": "Venkatesh Gupta",
      "photoUrl": "https://lh3.googleusercontent.com/a-/AOh14Gg8U_KUdnX4JWp6we7eGz6jpyKj3zYYWCk4s2LqwQ=s64",
      "userId": "13664137025209273415"
     },
     "user_tz": -330
    },
    "id": "V4GS54ZTCyn-",
    "outputId": "278e13c2-ca8f-45f5-9da4-6cba0ad680c5"
   },
   "outputs": [
    {
     "data": {
      "text/plain": [
       "Index(['Unnamed: 0', 'id', 'teacher_id', 'teacher_prefix', 'school_state',\n",
       "       'Date', 'project_grade_category', 'project_title',\n",
       "       'project_resource_summary',\n",
       "       'teacher_number_of_previously_posted_projects', 'project_is_approved',\n",
       "       'clean_categories', 'clean_subcategories', 'essay',\n",
       "       'preprocessed_essays', 'preprocessed_titles'],\n",
       "      dtype='object')"
      ]
     },
     "execution_count": 27,
     "metadata": {},
     "output_type": "execute_result"
    }
   ],
   "source": [
    "project_data.columns"
   ]
  },
  {
   "cell_type": "markdown",
   "metadata": {
    "colab_type": "text",
    "id": "6FDsc1epCyoD"
   },
   "source": [
    "we are going to consider\n",
    "\n",
    "       - school_state : categorical data\n",
    "       - clean_categories : categorical data\n",
    "       - clean_subcategories : categorical data\n",
    "       - project_grade_category : categorical data\n",
    "       - teacher_prefix : categorical data\n",
    "       \n",
    "       - project_title : text data\n",
    "       - text : text data\n",
    "       - project_resource_summary: text data (optinal)\n",
    "       \n",
    "       - quantity : numerical (optinal)\n",
    "       - teacher_number_of_previously_posted_projects : numerical\n",
    "       - price : numerical"
   ]
  },
  {
   "cell_type": "markdown",
   "metadata": {
    "colab_type": "text",
    "id": "0d0QeeQ-CyoD"
   },
   "source": [
    "### 1.5.1 Vectorizing Categorical data"
   ]
  },
  {
   "cell_type": "markdown",
   "metadata": {
    "colab_type": "text",
    "id": "kFZFSOirCyoD"
   },
   "source": [
    "- https://www.appliedaicourse.com/course/applied-ai-course-online/lessons/handling-categorical-and-numerical-features/"
   ]
  },
  {
   "cell_type": "code",
   "execution_count": 28,
   "metadata": {
    "colab": {},
    "colab_type": "code",
    "executionInfo": {
     "elapsed": 29087,
     "status": "ok",
     "timestamp": 1594367032296,
     "user": {
      "displayName": "Venkatesh Gupta",
      "photoUrl": "https://lh3.googleusercontent.com/a-/AOh14Gg8U_KUdnX4JWp6we7eGz6jpyKj3zYYWCk4s2LqwQ=s64",
      "userId": "13664137025209273415"
     },
     "user_tz": -330
    },
    "id": "mQgvTY45r2vx"
   },
   "outputs": [],
   "source": [
    "def VectorizingData(sFeature, project_data_fitting, project_data_transform):\n",
    "    from sklearn.feature_extraction.text import CountVectorizer\n",
    "    vectorizer_feature = CountVectorizer(lowercase=False, binary=True)\n",
    "    vectorizer_feature.fit(project_data_fitting[sFeature].values) #fitting has to be on Train data\n",
    "    transform_one_hot = vectorizer_feature.transform(project_data_transform[sFeature].values)\n",
    "    #print(vectorizer_cat.get_feature_names())\n",
    "    return(transform_one_hot)\n",
    "    \n",
    "def fnGetFeatures(sFeature, project_data_fitting, project_data_transform):\n",
    "    from sklearn.feature_extraction.text import CountVectorizer\n",
    "    vectorizer_feature = CountVectorizer(lowercase=False, binary=True)\n",
    "    vectorizer_feature.fit(project_data_fitting[sFeature].values) #fitting has to be on Train data\n",
    "    return(vectorizer_feature.get_feature_names())"
   ]
  },
  {
   "cell_type": "code",
   "execution_count": 29,
   "metadata": {
    "colab": {
     "base_uri": "https://localhost:8080/",
     "height": 73
    },
    "colab_type": "code",
    "executionInfo": {
     "elapsed": 29733,
     "status": "ok",
     "timestamp": 1594367032949,
     "user": {
      "displayName": "Venkatesh Gupta",
      "photoUrl": "https://lh3.googleusercontent.com/a-/AOh14Gg8U_KUdnX4JWp6we7eGz6jpyKj3zYYWCk4s2LqwQ=s64",
      "userId": "13664137025209273415"
     },
     "user_tz": -330
    },
    "id": "JSDTVxswr2v4",
    "outputId": "749283ed-e9f1-41a4-b3ee-e4cf16f6d9cb"
   },
   "outputs": [
    {
     "name": "stdout",
     "output_type": "stream",
     "text": [
      "Shape of training data matrix after one hot encoding  (17956, 9)\n",
      "Shape of cross validation data matrix after one hot encoding  (8844, 9)\n",
      "Shape of test data matrix after one hot encoding  (13200, 9)\n",
      "['AppliedLearning', 'Care_Hunger', 'Health_Sports', 'History_Civics', 'Literacy_Language', 'Math_Science', 'Music_Arts', 'SpecialNeeds', 'Warmth']\n"
     ]
    }
   ],
   "source": [
    "train_categories_one_hot = VectorizingData(\"clean_categories\", project_data_train, project_data_train)\n",
    "cv_categories_one_hot = VectorizingData(\"clean_categories\", project_data_train, project_data_cv)\n",
    "test_categories_one_hot = VectorizingData(\"clean_categories\", project_data_train, project_data_test)\n",
    "\n",
    "print(\"Shape of training data matrix after one hot encoding \",train_categories_one_hot.shape)\n",
    "print(\"Shape of cross validation data matrix after one hot encoding \",cv_categories_one_hot.shape)\n",
    "print(\"Shape of test data matrix after one hot encoding \",test_categories_one_hot.shape)\n",
    "\n",
    "cat_features = fnGetFeatures(\"clean_categories\", project_data_train, project_data_train)\n",
    "print(cat_features)"
   ]
  },
  {
   "cell_type": "code",
   "execution_count": 30,
   "metadata": {
    "colab": {
     "base_uri": "https://localhost:8080/",
     "height": 73
    },
    "colab_type": "code",
    "executionInfo": {
     "elapsed": 29724,
     "status": "ok",
     "timestamp": 1594367032950,
     "user": {
      "displayName": "Venkatesh Gupta",
      "photoUrl": "https://lh3.googleusercontent.com/a-/AOh14Gg8U_KUdnX4JWp6we7eGz6jpyKj3zYYWCk4s2LqwQ=s64",
      "userId": "13664137025209273415"
     },
     "user_tz": -330
    },
    "id": "npr7SzACCyoH",
    "outputId": "57be2b10-a089-4c1b-9249-aa217111d3cc"
   },
   "outputs": [
    {
     "name": "stdout",
     "output_type": "stream",
     "text": [
      "Shape of train data matrix after one hot encoding  (17956, 30)\n",
      "Shape of cross validation data matrix after one hot encoding  (8844, 30)\n",
      "Shape of test data matrix after one hot encoding  (13200, 30)\n",
      "['AppliedSciences', 'Care_Hunger', 'CharacterEducation', 'Civics_Government', 'College_CareerPrep', 'CommunityService', 'ESL', 'EarlyDevelopment', 'Economics', 'EnvironmentalScience', 'Extracurricular', 'FinancialLiteracy', 'ForeignLanguages', 'Gym_Fitness', 'Health_LifeScience', 'Health_Wellness', 'History_Geography', 'Literacy', 'Literature_Writing', 'Mathematics', 'Music', 'NutritionEducation', 'Other', 'ParentInvolvement', 'PerformingArts', 'SocialSciences', 'SpecialNeeds', 'TeamSports', 'VisualArts', 'Warmth']\n"
     ]
    }
   ],
   "source": [
    "train_subcategories_one_hot = VectorizingData('clean_subcategories', project_data_train, project_data_train)\n",
    "cv_subcategories_one_hot = VectorizingData('clean_subcategories', project_data_train, project_data_cv)\n",
    "test_subcategories_one_hot = VectorizingData('clean_subcategories', project_data_train, project_data_test)\n",
    "\n",
    "print(\"Shape of train data matrix after one hot encoding \",train_subcategories_one_hot.shape)\n",
    "print(\"Shape of cross validation data matrix after one hot encoding \",cv_subcategories_one_hot.shape)\n",
    "print(\"Shape of test data matrix after one hot encoding \",test_subcategories_one_hot.shape)\n",
    "\n",
    "subCat_features = fnGetFeatures('clean_subcategories', project_data_train, project_data_train)\n",
    "print(subCat_features)"
   ]
  },
  {
   "cell_type": "code",
   "execution_count": 31,
   "metadata": {
    "colab": {
     "base_uri": "https://localhost:8080/",
     "height": 73
    },
    "colab_type": "code",
    "executionInfo": {
     "elapsed": 29711,
     "status": "ok",
     "timestamp": 1594367032951,
     "user": {
      "displayName": "Venkatesh Gupta",
      "photoUrl": "https://lh3.googleusercontent.com/a-/AOh14Gg8U_KUdnX4JWp6we7eGz6jpyKj3zYYWCk4s2LqwQ=s64",
      "userId": "13664137025209273415"
     },
     "user_tz": -330
    },
    "id": "RaOKOqd4r2wD",
    "outputId": "2aca9376-c113-4c88-c20b-295fd57b8add"
   },
   "outputs": [
    {
     "name": "stdout",
     "output_type": "stream",
     "text": [
      "Shape of train data matrix after one hot encoding  (17956, 51)\n",
      "Shape of cross validation data matrix after one hot encoding  (8844, 51)\n",
      "Shape of test data matrix after one hot encoding  (13200, 51)\n",
      "['AK', 'AL', 'AR', 'AZ', 'CA', 'CO', 'CT', 'DC', 'DE', 'FL', 'GA', 'HI', 'IA', 'ID', 'IL', 'IN', 'KS', 'KY', 'LA', 'MA', 'MD', 'ME', 'MI', 'MN', 'MO', 'MS', 'MT', 'NC', 'ND', 'NE', 'NH', 'NJ', 'NM', 'NV', 'NY', 'OH', 'OK', 'OR', 'PA', 'RI', 'SC', 'SD', 'TN', 'TX', 'UT', 'VA', 'VT', 'WA', 'WI', 'WV', 'WY']\n"
     ]
    }
   ],
   "source": [
    "train_school_state_category_one_hot = VectorizingData('school_state', project_data_train, project_data_train)\n",
    "cv_school_state_category_one_hot = VectorizingData('school_state', project_data_train, project_data_cv)\n",
    "test_school_state_category_one_hot = VectorizingData('school_state', project_data_train, project_data_test)\n",
    "\n",
    "\n",
    "print(\"Shape of train data matrix after one hot encoding \",train_school_state_category_one_hot.shape)\n",
    "print(\"Shape of cross validation data matrix after one hot encoding \",cv_school_state_category_one_hot.shape)\n",
    "print(\"Shape of test data matrix after one hot encoding \",test_school_state_category_one_hot.shape)\n",
    "\n",
    "schoolState_features = fnGetFeatures('school_state', project_data_train, project_data_train)\n",
    "print(schoolState_features)"
   ]
  },
  {
   "cell_type": "code",
   "execution_count": 32,
   "metadata": {
    "colab": {
     "base_uri": "https://localhost:8080/",
     "height": 73
    },
    "colab_type": "code",
    "executionInfo": {
     "elapsed": 29702,
     "status": "ok",
     "timestamp": 1594367032953,
     "user": {
      "displayName": "Venkatesh Gupta",
      "photoUrl": "https://lh3.googleusercontent.com/a-/AOh14Gg8U_KUdnX4JWp6we7eGz6jpyKj3zYYWCk4s2LqwQ=s64",
      "userId": "13664137025209273415"
     },
     "user_tz": -330
    },
    "id": "MCXKAqHCr2wJ",
    "outputId": "1a1d7c83-b550-4b28-da80-99d99167cc94"
   },
   "outputs": [
    {
     "name": "stdout",
     "output_type": "stream",
     "text": [
      "Shape of train data matrix after one hot encoding  (17956, 4)\n",
      "Shape of cross validation data matrix after one hot encoding  (8844, 4)\n",
      "Shape of test data matrix after one hot encoding  (13200, 4)\n",
      "['grades_3_5', 'grades_6_8', 'grades_9_12', 'grades_prek_2']\n"
     ]
    }
   ],
   "source": [
    "train_project_grade_category_one_hot = VectorizingData('project_grade_category', project_data_train, project_data_train)\n",
    "cv_project_grade_category_one_hot = VectorizingData('project_grade_category', project_data_train, project_data_cv)\n",
    "test_project_grade_category_one_hot = VectorizingData('project_grade_category', project_data_train, project_data_test)\n",
    "\n",
    "\n",
    "print(\"Shape of train data matrix after one hot encoding \",train_project_grade_category_one_hot.shape)\n",
    "print(\"Shape of cross validation data matrix after one hot encoding \",cv_project_grade_category_one_hot.shape)\n",
    "print(\"Shape of test data matrix after one hot encoding \",test_project_grade_category_one_hot.shape)\n",
    "\n",
    "projectGradeCat_features = fnGetFeatures('project_grade_category', project_data_train, project_data_train)\n",
    "print(projectGradeCat_features)"
   ]
  },
  {
   "cell_type": "code",
   "execution_count": 33,
   "metadata": {
    "colab": {
     "base_uri": "https://localhost:8080/",
     "height": 73
    },
    "colab_type": "code",
    "executionInfo": {
     "elapsed": 29692,
     "status": "ok",
     "timestamp": 1594367032953,
     "user": {
      "displayName": "Venkatesh Gupta",
      "photoUrl": "https://lh3.googleusercontent.com/a-/AOh14Gg8U_KUdnX4JWp6we7eGz6jpyKj3zYYWCk4s2LqwQ=s64",
      "userId": "13664137025209273415"
     },
     "user_tz": -330
    },
    "id": "rmCDkGD4r2wP",
    "outputId": "1984c38d-e480-420a-908d-f652d331ce4c"
   },
   "outputs": [
    {
     "name": "stdout",
     "output_type": "stream",
     "text": [
      "Shape of train data matrix after one hot encoding  (17956, 5)\n",
      "Shape of cross validation data matrix after one hot encoding  (8844, 5)\n",
      "Shape of test data matrix after one hot encoding  (13200, 5)\n",
      "['Dr', 'Mr', 'Mrs', 'Ms', 'Teacher']\n"
     ]
    }
   ],
   "source": [
    "train_teacher_prefix_categories_one_hot = VectorizingData('teacher_prefix', project_data_train, project_data_train)\n",
    "cv_teacher_prefix_categories_one_hot = VectorizingData('teacher_prefix', project_data_train, project_data_cv)\n",
    "test_teacher_prefix_categories_one_hot = VectorizingData('teacher_prefix', project_data_train, project_data_test)\n",
    "\n",
    "print(\"Shape of train data matrix after one hot encoding \",train_teacher_prefix_categories_one_hot.shape)\n",
    "print(\"Shape of cross validation data matrix after one hot encoding \",cv_teacher_prefix_categories_one_hot.shape)\n",
    "print(\"Shape of test data matrix after one hot encoding \",test_teacher_prefix_categories_one_hot.shape)\n",
    "\n",
    "teacherPrefix_features = fnGetFeatures('teacher_prefix', project_data_train, project_data_train)\n",
    "print(teacherPrefix_features)"
   ]
  },
  {
   "cell_type": "markdown",
   "metadata": {
    "colab_type": "text",
    "id": "5YnkzKnmCyoN"
   },
   "source": [
    "### 1.5.2 Vectorizing Text data"
   ]
  },
  {
   "cell_type": "markdown",
   "metadata": {
    "colab_type": "text",
    "id": "W544CoFtCyoN"
   },
   "source": [
    "#### 1.5.2.1 Bag of words"
   ]
  },
  {
   "cell_type": "code",
   "execution_count": 34,
   "metadata": {},
   "outputs": [],
   "source": [
    "def VectorizingTextData(sFeature, project_data_fitting, project_data_transform):\n",
    "    from sklearn.feature_extraction.text import CountVectorizer\n",
    "    vectorizer_feature = CountVectorizer(lowercase=False, binary=True, min_df = 10, ngram_range=(1, 2),max_features = 5000)\n",
    "    vectorizer_feature.fit(project_data_fitting[sFeature].values) #fitting has to be on Train data\n",
    "    transform_one_hot = vectorizer_feature.transform(project_data_transform[sFeature].values)\n",
    "    #print(vectorizer_cat.get_feature_names())\n",
    "    return(transform_one_hot)\n",
    "\n",
    "def fnGetTextFeatures(sFeature, project_data_fitting, project_data_transform):\n",
    "    from sklearn.feature_extraction.text import CountVectorizer\n",
    "    vectorizer_feature = CountVectorizer(lowercase=False, binary=True, min_df = 10, ngram_range=(1, 2),max_features = 5000)\n",
    "    vectorizer_feature.fit(project_data_fitting[sFeature].values) #fitting has to be on Train data\n",
    "    return(vectorizer_feature.get_feature_names())"
   ]
  },
  {
   "cell_type": "code",
   "execution_count": 35,
   "metadata": {
    "colab": {
     "base_uri": "https://localhost:8080/",
     "height": 73
    },
    "colab_type": "code",
    "executionInfo": {
     "elapsed": 43693,
     "status": "ok",
     "timestamp": 1594367046966,
     "user": {
      "displayName": "Venkatesh Gupta",
      "photoUrl": "https://lh3.googleusercontent.com/a-/AOh14Gg8U_KUdnX4JWp6we7eGz6jpyKj3zYYWCk4s2LqwQ=s64",
      "userId": "13664137025209273415"
     },
     "user_tz": -330
    },
    "id": "2D93QosECyoP",
    "outputId": "bc9fb91c-08ab-4d5b-83e3-9592cdd93bb2"
   },
   "outputs": [
    {
     "name": "stdout",
     "output_type": "stream",
     "text": [
      "Shape of train data matrix after one hot encoding  (17956, 5000)\n",
      "Shape of cross validation data matrix after one hot encoding  (8844, 5000)\n",
      "Shape of test data matrix after one hot encoding  (13200, 5000)\n",
      "['000', '10', '100', '100 free', '100 percent', '100 students', '11', '12', '12th', '13', '14', '15', '16', '17', '18', '19', '1st', '1st grade', '20', '20 students', '200', '2016', '2017', '21', '21st', '21st century', '22', '23', '24', '25', '25 students', '26', '28', '2nd', '2nd grade', '2nd graders', '30', '30 minutes', '30 students', '32', '35', '3d', '3d printer', '3rd', '3rd grade', '3rd graders', '40', '400', '45', '4th', '4th 5th', '4th grade', '4th graders', '50', '50 students', '500', '500 students', '5th', '5th grade', '5th graders', '60', '60 minutes', '60 students', '600', '65', '6th', '6th grade', '6th graders', '70', '70 students', '75', '75 students', '7th', '7th 8th', '7th grade', '80', '80 students', '85', '8th', '8th grade', '8th graders', '90', '90 students', '95', '95 students', '98', '99', '9th', 'abilities', 'abilities students', 'ability', 'ability learn', 'ability levels', 'able', 'able access', 'able choose', 'able complete', 'able control', 'able create', 'able experience', 'able explore', 'able focus', 'able get', 'able give', 'able help', 'able keep', 'able learn', 'able listen', 'able make', 'able move', 'able participate', 'able play', 'able practice', 'able print', 'able provide', 'able read', 'able see', 'able share', 'able sit', 'able take', 'able use', 'able work', 'absolutely', 'absolutely love', 'absorb', 'abstract', 'academic', 'academic achievement', 'academic areas', 'academic excellence', 'academic goals', 'academic performance', 'academic skills', 'academic social', 'academic success', 'academically', 'academically socially', 'academics', 'academy', 'accelerated', 'accelerated reader', 'acceptance', 'access', 'access books', 'access computers', 'access home', 'access internet', 'access materials', 'access resources', 'access technology', 'accessible', 'accessible students', 'accessories', 'accommodate', 'accomplish', 'accomplished', 'accomplishments', 'according', 'accountable', 'achieve', 'achieve goals', 'achievement', 'achievement gap', 'achieving', 'acquire', 'acquiring', 'acquisition', 'across', 'act', 'action', 'actions', 'active', 'active learners', 'active learning', 'active students', 'actively', 'actively engaged', 'activities', 'activities help', 'activities students', 'activity', 'activity students', 'actual', 'actually', 'add', 'added', 'adding', 'addition', 'addition classroom', 'addition students', 'addition subtraction', 'additional', 'additionally', 'address', 'adequate', 'adhd', 'administration', 'adult', 'adults', 'advance', 'advanced', 'advantage', 'adventure', 'adventures', 'adversity', 'affect', 'affects', 'affluent', 'afford', 'afraid', 'african', 'african american', 'afternoon', 'age', 'age appropriate', 'age students', 'ages', 'ago', 'ahead', 'ahead early', 'aid', 'aids', 'aim', 'air', 'algebra', 'alive', 'allow', 'allow children', 'allow student', 'allow students', 'allow us', 'allowed', 'allowing', 'allowing students', 'allows', 'allows students', 'almost', 'alone', 'along', 'aloud', 'alouds', 'alphabet', 'already', 'also', 'also able', 'also allow', 'also allows', 'also give', 'also help', 'also helps', 'also learn', 'also learning', 'also like', 'also love', 'also need', 'also provide', 'also requesting', 'also students', 'also teach', 'also use', 'also used', 'also want', 'alternative', 'alternative seating', 'although', 'although students', 'always', 'always eager', 'always excited', 'always looking', 'always ready', 'amaze', 'amazed', 'amazing', 'amazing group', 'amazing students', 'ambitious', 'america', 'american', 'americans', 'among', 'among students', 'amount', 'amount time', 'analysis', 'analyze', 'anchor', 'angeles', 'animal', 'animals', 'another', 'answer', 'answers', 'anxiety', 'anxious', 'anyone', 'anything', 'anywhere', 'ap', 'apart', 'app', 'apple', 'application', 'applications', 'applied', 'apply', 'applying', 'appreciate', 'appreciated', 'appreciation', 'appreciative', 'approach', 'appropriate', 'appropriately', 'approximately', 'apps', 'area', 'area many', 'area students', 'areas', 'areas students', 'around', 'around classroom', 'around room', 'around school', 'around students', 'around us', 'around world', 'array', 'arrive', 'arrive school', 'art', 'art class', 'art projects', 'art room', 'art students', 'art supplies', 'articles', 'artist', 'artistic', 'artists', 'arts', 'artwork', 'asian', 'ask', 'ask questions', 'asked', 'asking', 'asking help', 'asking questions', 'aspect', 'aspects', 'assess', 'assessment', 'assessments', 'asset', 'assigned', 'assignment', 'assignments', 'assist', 'assist students', 'assistance', 'athletes', 'athletic', 'atmosphere', 'attend', 'attend school', 'attend title', 'attendance', 'attended', 'attending', 'attention', 'attentive', 'attitude', 'attitudes', 'audio', 'auditory', 'august', 'authentic', 'author', 'authors', 'autism', 'autism spectrum', 'autistic', 'available', 'available classroom', 'available students', 'average', 'avid', 'award', 'aware', 'awareness', 'away', 'awesome', 'back', 'background', 'background knowledge', 'backgrounds', 'backgrounds cultures', 'backgrounds many', 'backgrounds school', 'backgrounds students', 'backpack', 'backpacks', 'bad', 'bag', 'bag chairs', 'bags', 'balance', 'balance balls', 'ball', 'ball chairs', 'balls', 'band', 'bands', 'bar', 'barrier', 'barriers', 'base', 'based', 'based learning', 'based socioeconomic', 'basic', 'basic needs', 'basic school', 'basic skills', 'basic supplies', 'basics', 'basis', 'basis students', 'basketball', 'bean', 'bean bag', 'bean bags', 'beautiful', 'became', 'become', 'become better', 'become engaged', 'become independent', 'become life', 'become lifelong', 'become successful', 'becomes', 'becoming', 'began', 'begin', 'beginning', 'beginning year', 'begins', 'behavior', 'behavioral', 'behaviors', 'behind', 'belief', 'believe', 'believe students', 'beneficial', 'beneficial students', 'benefit', 'benefit greatly', 'benefit students', 'benefits', 'besides', 'best', 'best education', 'best learning', 'best part', 'best possible', 'best students', 'best want', 'best way', 'best work', 'better', 'better able', 'better place', 'better readers', 'better students', 'better understand', 'better understanding', 'better way', 'beyond', 'big', 'bigger', 'biggest', 'bilingual', 'binders', 'bins', 'biology', 'bit', 'black', 'blended', 'blessed', 'block', 'blocks', 'blood', 'blue', 'board', 'boards', 'bodies', 'body', 'book', 'book read', 'book students', 'books', 'books allow', 'books also', 'books classroom', 'books help', 'books home', 'books nannan', 'books not', 'books read', 'books reading', 'books students', 'books used', 'books would', 'boost', 'bored', 'boring', 'born', 'borrow', 'bottom', 'bounce', 'bouncy', 'bouncy bands', 'bound', 'box', 'boxes', 'boys', 'boys girls', 'brain', 'brain breaks', 'brains', 'brand', 'brand new', 'break', 'breakfast', 'breakfast lunch', 'breaks', 'bridge', 'bright', 'brilliant', 'bring', 'bring classroom', 'bringing', 'brings', 'broaden', 'broken', 'bronx', 'brooklyn', 'brought', 'budding', 'budget', 'budget cuts', 'budgets', 'build', 'build confidence', 'building', 'buildings', 'builds', 'built', 'bunch', 'burn', 'bus', 'business', 'busy', 'buy', 'calculators', 'california', 'call', 'called', 'calm', 'calming', 'calories', 'came', 'camera', 'cameras', 'campus', 'cannot', 'cannot afford', 'cannot wait', 'capabilities', 'capable', 'capacity', 'capture', 'card', 'cards', 'care', 'cared', 'career', 'career ready', 'careers', 'caring', 'carolina', 'carpet', 'carry', 'cart', 'case', 'cases', 'catch', 'caucasian', 'cause', 'causes', 'cd', 'celebrate', 'cell', 'center', 'center students', 'center time', 'centered', 'centers', 'centers students', 'central', 'century', 'century learners', 'century learning', 'century skills', 'certain', 'certainly', 'certainly control', 'chair', 'chairs', 'chairs allow', 'chairs help', 'chairs students', 'challenge', 'challenge students', 'challenged', 'challenges', 'challenges classroom', 'challenges face', 'challenges students', 'challenging', 'challenging students', 'chance', 'chances', 'change', 'change students', 'change world', 'changed', 'changes', 'changing', 'changing world', 'chapter', 'chapter books', 'character', 'characters', 'charge', 'charging', 'chart', 'charter', 'charter school', 'charts', 'check', 'chemistry', 'chicago', 'child', 'childhood', 'children', 'children come', 'children learn', 'children love', 'children need', 'children not', 'children school', 'children students', 'choice', 'choices', 'choose', 'choosing', 'chose', 'chosen', 'chrome', 'chrome books', 'chromebook', 'chromebooks', 'chromebooks allow', 'chromebooks classroom', 'chromebooks students', 'chromebooks would', 'circle', 'circles', 'circumstances', 'citizens', 'city', 'city school', 'city students', 'class', 'class able', 'class also', 'class come', 'class consists', 'class every', 'class full', 'class made', 'class nannan', 'class need', 'class not', 'class school', 'class set', 'class students', 'class time', 'class use', 'class would', 'class year', 'classes', 'classes students', 'classic', 'classified', 'classmates', 'classroom', 'classroom able', 'classroom activities', 'classroom allow', 'classroom also', 'classroom classroom', 'classroom come', 'classroom community', 'classroom consists', 'classroom currently', 'classroom daily', 'classroom day', 'classroom despite', 'classroom diverse', 'classroom environment', 'classroom every', 'classroom family', 'classroom feel', 'classroom filled', 'classroom first', 'classroom focus', 'classroom full', 'classroom give', 'classroom help', 'classroom home', 'classroom learn', 'classroom learning', 'classroom library', 'classroom love', 'classroom made', 'classroom make', 'classroom many', 'classroom materials', 'classroom nannan', 'classroom need', 'classroom needs', 'classroom not', 'classroom one', 'classroom place', 'classroom provide', 'classroom safe', 'classroom school', 'classroom set', 'classroom setting', 'classroom student', 'classroom students', 'classroom supplies', 'classroom technology', 'classroom use', 'classroom want', 'classroom well', 'classroom work', 'classroom would', 'classroom year', 'classrooms', 'classwork', 'clay', 'clean', 'cleaning', 'clear', 'clearly', 'clever', 'climate', 'clipboards', 'close', 'close achievement', 'closer', 'clothes', 'clothing', 'club', 'clubs', 'co', 'coach', 'code', 'codes', 'coding', 'cognitive', 'cold', 'collaborate', 'collaborating', 'collaboration', 'collaborative', 'collaborative learning', 'collaboratively', 'collect', 'collection', 'college', 'college career', 'college students', 'color', 'color printer', 'colored', 'colored pencils', 'colorful', 'colors', 'com', 'combination', 'combine', 'come', 'come alive', 'come class', 'come classroom', 'come different', 'come diverse', 'come every', 'come families', 'come high', 'come homes', 'come life', 'come low', 'come many', 'come nannan', 'come school', 'come single', 'come together', 'come true', 'come us', 'come variety', 'come various', 'come walks', 'come wide', 'comes', 'comfort', 'comfortable', 'comfortable learning', 'comfortable place', 'comfortably', 'comfy', 'coming', 'coming school', 'commitment', 'committed', 'common', 'common core', 'communicate', 'communicating', 'communication', 'communication skills', 'communities', 'community', 'community learners', 'community many', 'community school', 'community students', 'compare', 'compassion', 'compassionate', 'compete', 'competition', 'competitions', 'competitive', 'complete', 'complete assignments', 'complete work', 'completed', 'completely', 'completing', 'complex', 'component', 'components', 'composed', 'composition', 'comprehend', 'comprehension', 'comprehension skills', 'comprised', 'computer', 'computer lab', 'computer programming', 'computer science', 'computers', 'computers classroom', 'computers home', 'concentrate', 'concentration', 'concept', 'concepts', 'concepts students', 'concrete', 'conditions', 'conducive', 'conduct', 'conduct research', 'confidence', 'confident', 'connect', 'connected', 'connecting', 'connection', 'connections', 'consider', 'consider helping', 'consideration', 'considered', 'considering', 'consist', 'consistent', 'consistently', 'consists', 'constant', 'constantly', 'construct', 'construction', 'contain', 'contained', 'contains', 'content', 'content areas', 'continually', 'continue', 'continue grow', 'continue path', 'continued', 'continues', 'continuing', 'continuously', 'contribute', 'contributing', 'control', 'control experience', 'control home', 'control learning', 'conversation', 'conversations', 'cool', 'cooperation', 'cooperative', 'cooperative learning', 'cooperatively', 'coordination', 'copies', 'copy', 'core', 'core muscles', 'core standards', 'core strength', 'corner', 'correct', 'correctly', 'cost', 'could', 'could not', 'could use', 'count', 'counting', 'countless', 'countries', 'country', 'county', 'couple', 'course', 'courses', 'cover', 'covered', 'covers', 'cozy', 'craft', 'crave', 'crayons', 'create', 'create art', 'create classroom', 'create environment', 'create learning', 'create new', 'create projects', 'created', 'creates', 'creating', 'creation', 'creations', 'creative', 'creative meaningful', 'creative positive', 'creative thinking', 'creative ways', 'creatively', 'creativity', 'crime', 'critical', 'critical thinkers', 'critical thinking', 'critically', 'cross', 'crucial', 'cultural', 'cultural backgrounds', 'culturally', 'culturally diverse', 'culture', 'cultures', 'curiosity', 'curious', 'curious world', 'current', 'current events', 'currently', 'currently not', 'currently students', 'curricular', 'curriculum', 'curriculum students', 'cushions', 'cut', 'cuts', 'cutting', 'cycle', 'daily', 'daily basis', 'daily classroom', 'daily lives', 'daily students', 'dance', 'dancing', 'dash', 'data', 'date', 'day', 'day also', 'day class', 'day classroom', 'day come', 'day creative', 'day day', 'day eager', 'day excited', 'day full', 'day learn', 'day learning', 'day long', 'day love', 'day many', 'day nannan', 'day not', 'day one', 'day ready', 'day school', 'day students', 'day want', 'day work', 'day would', 'days', 'deal', 'dealing', 'decide', 'decided', 'decisions', 'decrease', 'dedicated', 'dedication', 'deep', 'deepen', 'deeper', 'deeper understanding', 'deeply', 'deficit', 'deficits', 'define', 'definitely', 'degree', 'delays', 'demand', 'demands', 'demonstrate', 'department', 'depend', 'depending', 'depth', 'describe', 'deserve', 'deserve best', 'deserves', 'deserving', 'design', 'designated', 'designed', 'designing', 'designs', 'desire', 'desire learn', 'desk', 'desks', 'desks chairs', 'desktop', 'desperate', 'desperate need', 'desperately', 'desperately need', 'despite', 'despite challenges', 'despite hardships', 'despite many', 'details', 'determination', 'determine', 'determined', 'develop', 'develop love', 'develop skills', 'developed', 'developing', 'development', 'developmental', 'developmentally', 'device', 'devices', 'diagnosed', 'difference', 'difference lives', 'difference students', 'differences', 'different', 'different backgrounds', 'different countries', 'different cultures', 'different economic', 'different languages', 'different learning', 'different levels', 'different needs', 'different seating', 'different types', 'different way', 'different ways', 'differentiate', 'differentiate instruction', 'differentiated', 'differentiated instruction', 'differentiation', 'differently', 'difficult', 'difficult students', 'difficult time', 'difficulties', 'difficulty', 'dig', 'digital', 'dinner', 'direct', 'directed', 'direction', 'directions', 'directly', 'dirty', 'disabilities', 'disabilities students', 'disability', 'disabled', 'disadvantage', 'disadvantaged', 'discipline', 'discover', 'discover new', 'discovered', 'discoveries', 'discovering', 'discovery', 'discuss', 'discussing', 'discussion', 'discussions', 'disorder', 'disorders', 'display', 'displayed', 'distracted', 'distracting', 'distraction', 'distractions', 'district', 'district students', 'districts', 'dive', 'diverse', 'diverse backgrounds', 'diverse community', 'diverse group', 'diverse learners', 'diverse learning', 'diverse population', 'diverse school', 'diverse student', 'diverse students', 'diversity', 'docs', 'doctors', 'document', 'document camera', 'documents', 'donate', 'donated', 'donating', 'donating project', 'donation', 'donation help', 'donation project', 'donations', 'donations help', 'donations project', 'done', 'donor', 'donors', 'donors choose', 'donorschoose', 'door', 'door classroom', 'doors', 'dot', 'download', 'dr', 'dr seuss', 'drama', 'dramatic', 'draw', 'drawing', 'drawings', 'dream', 'dreamers', 'dreams', 'drive', 'driven', 'drop', 'dry', 'dry erase', 'dual', 'dual language', 'due', 'due lack', 'durable', 'duty', 'dynamic', 'eager', 'eager excited', 'eager learn', 'eager learners', 'eagerness', 'eagerness learn', 'earliest', 'earliest learners', 'early', 'early age', 'early childhood', 'early life', 'earn', 'earth', 'ease', 'easel', 'easier', 'easier students', 'easily', 'east', 'easy', 'easy access', 'eat', 'eating', 'economic', 'economic backgrounds', 'economic status', 'economically', 'economically disadvantaged', 'economy', 'ed', 'edge', 'edit', 'editing', 'educate', 'educated', 'education', 'education class', 'education classroom', 'education nannan', 'education not', 'education possible', 'education services', 'education students', 'education teacher', 'educational', 'educational apps', 'educational experience', 'educational experiences', 'educational games', 'educator', 'educators', 'effect', 'effective', 'effectively', 'effects', 'efficient', 'efficiently', 'effort', 'efforts', 'eight', 'eighth', 'eighth grade', 'either', 'ela', 'electronic', 'elementary', 'elementary school', 'elementary schools', 'elementary students', 'elements', 'eligible', 'eligible free', 'eliminate', 'ell', 'ell students', 'else', 'embrace', 'emotional', 'emotional needs', 'emotionally', 'emotions', 'empathy', 'emphasis', 'empower', 'empower students', 'empowered', 'empowering', 'enable', 'enable students', 'enables', 'encounter', 'encourage', 'encourage students', 'encouraged', 'encouragement', 'encourages', 'encouraging', 'end', 'end day', 'end school', 'end year', 'endeavors', 'endless', 'ends', 'ends meet', 'energetic', 'energetic eager', 'energy', 'engage', 'engage learning', 'engage students', 'engaged', 'engaged learning', 'engagement', 'engages', 'engaging', 'engaging activities', 'engaging learning', 'engaging students', 'engaging way', 'engineer', 'engineering', 'engineering math', 'engineers', 'english', 'english language', 'english learners', 'english not', 'english second', 'english spanish', 'english students', 'enhance', 'enhance learning', 'enhance students', 'enhanced', 'enhances', 'enhancing', 'enjoy', 'enjoy coming', 'enjoy learning', 'enjoy reading', 'enjoy using', 'enjoy working', 'enjoyable', 'enjoyed', 'enjoying', 'enjoyment', 'enough', 'enrich', 'enriching', 'enrichment', 'enrolled', 'enrollment', 'ensure', 'ensure students', 'ensuring', 'enter', 'enter classroom', 'entering', 'enthusiasm', 'enthusiasm learning', 'enthusiastic', 'enthusiastic learners', 'enthusiastic learning', 'entire', 'entire class', 'entire school', 'environment', 'environment classroom', 'environment nannan', 'environment students', 'environmental', 'environments', 'envision', 'equal', 'equipment', 'equipment students', 'equipped', 'erase', 'erase boards', 'erase markers', 'erasers', 'escape', 'esl', 'esl students', 'esol', 'especially', 'essays', 'essential', 'essentials', 'establish', 'esteem', 'etc', 'ethnic', 'ethnic backgrounds', 'ethnically', 'ethnically diverse', 'ethnicities', 'ethnicity', 'even', 'even earliest', 'even not', 'even though', 'event', 'events', 'eventually', 'ever', 'ever changing', 'every', 'every child', 'every classroom', 'every day', 'every morning', 'every one', 'every opportunity', 'every single', 'every student', 'every time', 'every week', 'every year', 'everyday', 'everyday students', 'everyone', 'everything', 'everything need', 'everywhere', 'evidence', 'exactly', 'example', 'examples', 'exceed', 'excel', 'excellence', 'excellent', 'exceptional', 'excess', 'excess energy', 'excite', 'excited', 'excited come', 'excited eager', 'excited learn', 'excited learning', 'excited new', 'excited reading', 'excited ready', 'excited school', 'excited see', 'excited store', 'excitement', 'excitement learning', 'exciting', 'exciting way', 'exercise', 'exercise balls', 'exercises', 'expand', 'expand knowledge', 'expanding', 'expect', 'expectations', 'expectations students', 'expected', 'expensive', 'experience', 'experience school', 'experience students', 'experienced', 'experiences', 'experiences many', 'experiences school', 'experiences students', 'experiencing', 'experiment', 'experiments', 'explain', 'exploration', 'explore', 'explore create', 'explore learn', 'explore new', 'explore world', 'explorers', 'exploring', 'expose', 'expose students', 'exposed', 'exposing', 'exposure', 'express', 'expressed', 'expression', 'expressive', 'extend', 'extended', 'extra', 'extra energy', 'extra help', 'extra support', 'extreme', 'extremely', 'extremely hard', 'eye', 'eyes', 'fabulous', 'face', 'face challenges', 'face daily', 'face looking', 'face many', 'face students', 'faced', 'faced challenges', 'faced many', 'faced several', 'faces', 'facilitate', 'facing', 'fact', 'factor', 'factors', 'facts', 'fair', 'fall', 'fall love', 'falling', 'familiar', 'families', 'families many', 'families not', 'families school', 'families students', 'family', 'family members', 'fantastic', 'far', 'farm', 'farming', 'fast', 'fast paced', 'faster', 'favorite', 'fear', 'features', 'feed', 'feedback', 'feel', 'feel comfortable', 'feel confident', 'feel like', 'feel safe', 'feel successful', 'feeling', 'feelings', 'feels', 'feet', 'felt', 'fiction', 'fiction books', 'fidget', 'fidgeting', 'field', 'field trips', 'fields', 'fifth', 'fifth grade', 'fifth graders', 'figure', 'fill', 'filled', 'final', 'finally', 'financial', 'financially', 'find', 'find books', 'find ways', 'finding', 'findings', 'fine', 'fine motor', 'fingertips', 'finish', 'finished', 'fire', 'first', 'first day', 'first experience', 'first generation', 'first grade', 'first graders', 'first hand', 'first language', 'first school', 'first time', 'first year', 'fit', 'fitness', 'fits', 'five', 'five six', 'five year', 'flexibility', 'flexible', 'flexible seating', 'flood', 'floor', 'florida', 'flourish', 'flow', 'fluency', 'fluency comprehension', 'fluent', 'focus', 'focus better', 'focus learning', 'focus potential', 'focus work', 'focused', 'focused learning', 'focuses', 'focusing', 'folder', 'folders', 'follow', 'follow along', 'following', 'food', 'foods', 'foot', 'football', 'force', 'forced', 'forever', 'forget', 'form', 'formal', 'format', 'forms', 'forth', 'fortunate', 'fortunate enough', 'forward', 'forward coming', 'foster', 'foster love', 'fostering', 'fosters', 'found', 'foundation', 'foundational', 'four', 'fourth', 'fourth grade', 'fourth graders', 'fractions', 'free', 'free breakfast', 'free lunch', 'free reduced', 'freedom', 'freely', 'frequent', 'frequently', 'fresh', 'friday', 'friend', 'friendly', 'friends', 'front', 'fruits', 'frustrated', 'frustration', 'fuel', 'fulfill', 'full', 'full energy', 'full life', 'full potential', 'fullest', 'fullest potential', 'fully', 'fun', 'fun engaging', 'fun exciting', 'fun interactive', 'fun learning', 'fun loving', 'fun nannan', 'fun students', 'fun way', 'function', 'functional', 'functioning', 'functions', 'fund', 'fundamental', 'funded', 'funding', 'funding project', 'funds', 'funny', 'furniture', 'furthermore', 'future', 'future leaders', 'future nannan', 'future students', 'future want', 'futures', 'gain', 'gain confidence', 'gain knowledge', 'gaining', 'gains', 'game', 'games', 'games activities', 'games help', 'games students', 'gap', 'gaps', 'garden', 'gather', 'general', 'general education', 'generation', 'generations', 'generosity', 'generous', 'generous donation', 'genres', 'geography', 'geometry', 'georgia', 'get', 'get chance', 'get excited', 'get experience', 'get hands', 'get lost', 'get move', 'get moving', 'get new', 'get opportunity', 'get school', 'get students', 'get use', 'get wiggles', 'get work', 'gets', 'getting', 'getting ahead', 'getting students', 'gift', 'gifted', 'gifted students', 'gifted talented', 'girls', 'give', 'give best', 'give chance', 'give children', 'give every', 'give opportunity', 'give students', 'give us', 'given', 'given opportunity', 'gives', 'gives students', 'giving', 'giving students', 'global', 'globe', 'glue', 'go', 'go along', 'go beyond', 'go college', 'go home', 'go outside', 'go school', 'goal', 'goal create', 'goal help', 'goal make', 'goal provide', 'goal students', 'goals', 'goals students', 'goes', 'going', 'gone', 'good', 'good book', 'google', 'google classroom', 'google docs', 'got', 'government', 'grab', 'grade', 'grade class', 'grade classroom', 'grade level', 'grade levels', 'grade math', 'grade reading', 'grade school', 'grade science', 'grade students', 'grade teacher', 'grade year', 'grader', 'graders', 'graders come', 'graders eager', 'graders love', 'graders students', 'grades', 'graduate', 'graduation', 'grammar', 'grandparents', 'grant', 'granted', 'graphic', 'graphic novels', 'graphs', 'grasp', 'grateful', 'great', 'great addition', 'great deal', 'great group', 'great students', 'great things', 'great way', 'greater', 'greatest', 'greatly', 'greatly appreciated', 'greatly benefit', 'greatness', 'green', 'greet', 'gross', 'gross motor', 'ground', 'group', 'group activities', 'group children', 'group instruction', 'group kids', 'group learners', 'group lessons', 'group setting', 'group students', 'group time', 'group work', 'groups', 'groups students', 'grow', 'grow learn', 'grow students', 'growing', 'grown', 'growth', 'growth may', 'growth mindset', 'guidance', 'guide', 'guided', 'guided reading', 'gym', 'habits', 'half', 'half students', 'hand', 'handle', 'hands', 'hands activities', 'hands approach', 'hands experience', 'hands experiences', 'hands learning', 'hands materials', 'hands projects', 'hands students', 'happen', 'happening', 'happens', 'happier', 'happy', 'hard', 'hard every', 'hard get', 'hard learn', 'hard make', 'hard students', 'hard time', 'hard work', 'hard workers', 'hard working', 'harder', 'hardest', 'hardships', 'hardships students', 'hardworking', 'head', 'headphones', 'health', 'healthier', 'healthy', 'healthy lifestyle', 'healthy snacks', 'hear', 'heard', 'hearing', 'heart', 'hearts', 'heavy', 'held', 'hello', 'help', 'help achieve', 'help become', 'help bring', 'help build', 'help children', 'help classroom', 'help create', 'help develop', 'help enhance', 'help ensure', 'help focus', 'help foster', 'help get', 'help give', 'help grow', 'help improve', 'help increase', 'help keep', 'help kids', 'help learn', 'help learning', 'help make', 'help meet', 'help nannan', 'help prepare', 'help provide', 'help reach', 'help stay', 'help student', 'help students', 'help succeed', 'help successful', 'help support', 'help teach', 'help understand', 'help us', 'helped', 'helpful', 'helping', 'helping students', 'helping us', 'helps', 'helps students', 'high', 'high achieving', 'high energy', 'high expectations', 'high interest', 'high level', 'high need', 'high needs', 'high percentage', 'high poverty', 'high quality', 'high school', 'higher', 'higher level', 'highest', 'highlight', 'highly', 'highly motivated', 'hispanic', 'historical', 'history', 'hit', 'hokki', 'hokki stools', 'hold', 'holding', 'holds', 'home', 'home life', 'home lives', 'home many', 'home not', 'home school', 'home students', 'home want', 'homeless', 'homes', 'homework', 'honor', 'honored', 'hope', 'hope students', 'hopeful', 'hopeful inspire', 'hopefully', 'hopes', 'hoping', 'hot', 'hour', 'hours', 'hours day', 'house', 'household', 'households', 'households receive', 'houses', 'housing', 'however', 'however certainly', 'however many', 'however not', 'however students', 'huge', 'huge difference', 'human', 'hundred', 'hundreds', 'hunger', 'hungry', 'idea', 'ideal', 'ideas', 'identified', 'identify', 'iep', 'ignite', 'images', 'imagination', 'imaginations', 'imaginative', 'imagine', 'immediate', 'immediately', 'immersion', 'immigrant', 'immigrants', 'impact', 'impact students', 'impacted', 'impairments', 'imperative', 'implement', 'implemented', 'implementing', 'importance', 'important', 'important part', 'important skills', 'important students', 'importantly', 'impossible', 'impoverished', 'improve', 'improve classroom', 'improve reading', 'improve student', 'improve students', 'improved', 'improvement', 'improves', 'improving', 'include', 'included', 'includes', 'including', 'inclusion', 'inclusive', 'income', 'income area', 'income community', 'income families', 'income high', 'income homes', 'income households', 'income neighborhood', 'income school', 'income students', 'incorporate', 'incorporate technology', 'incorporated', 'incorporating', 'increase', 'increase academic', 'increase reading', 'increase student', 'increase students', 'increased', 'increases', 'increasing', 'increasingly', 'incredible', 'incredibly', 'independence', 'independent', 'independent learners', 'independent reading', 'independent work', 'independently', 'individual', 'individual learning', 'individual needs', 'individual student', 'individualized', 'individually', 'individuals', 'indoor', 'industry', 'information', 'informational', 'initiative', 'ink', 'inner', 'inner city', 'innovation', 'innovative', 'input', 'inquiry', 'inquiry based', 'inquisitive', 'inside', 'inside classroom', 'inside outside', 'inspiration', 'inspire', 'inspire even', 'inspire students', 'inspired', 'inspired project', 'inspires', 'inspiring', 'instant', 'instead', 'instill', 'instill love', 'instruction', 'instruction students', 'instructional', 'instructional time', 'instructions', 'instrument', 'instruments', 'integral', 'integral part', 'integrate', 'integrated', 'integrating', 'integration', 'intellectual', 'intellectual disabilities', 'intelligent', 'interact', 'interacting', 'interaction', 'interactions', 'interactive', 'interactive learning', 'interest', 'interest books', 'interest reading', 'interest students', 'interested', 'interesting', 'interests', 'international', 'internet', 'internet access', 'intervention', 'interventions', 'introduce', 'introduce students', 'introduced', 'introducing', 'invaluable', 'invested', 'investigate', 'investigations', 'investment', 'inviting', 'involve', 'involved', 'involvement', 'involves', 'ipad', 'ipad mini', 'ipad minis', 'ipads', 'ipads classroom', 'ipads students', 'ipads would', 'issue', 'issues', 'item', 'items', 'items help', 'items students', 'job', 'jobs', 'join', 'journal', 'journals', 'journey', 'joy', 'jump', 'junior', 'keep', 'keep engaged', 'keep moving', 'keep students', 'keep things', 'keeping', 'keeps', 'key', 'keyboard', 'kid', 'kid inspired', 'kiddos', 'kids', 'kids come', 'kids get', 'kids learn', 'kids love', 'kids need', 'kids not', 'kind', 'kindergarten', 'kindergarten class', 'kindergarten classroom', 'kindergarten fifth', 'kindergarten first', 'kindergarten students', 'kindergarten teacher', 'kindergarteners', 'kindergartners', 'kindle', 'kindles', 'kindness', 'kinds', 'kinesthetic', 'kit', 'kits', 'knew', 'knit', 'know', 'know learn', 'know students', 'knowing', 'knowledge', 'known', 'knows', 'lab', 'labeled', 'labs', 'lack', 'lack resources', 'lacking', 'lacks', 'language', 'language arts', 'language english', 'language learners', 'language skills', 'language students', 'languages', 'languages spoken', 'lap', 'laptop', 'laptops', 'large', 'large percentage', 'large population', 'large urban', 'larger', 'largest', 'last', 'last year', 'last years', 'lasting', 'lastly', 'late', 'later', 'latest', 'latino', 'laugh', 'laughter', 'lay', 'lead', 'leader', 'leaders', 'leadership', 'leading', 'leads', 'learn', 'learn best', 'learn better', 'learn classroom', 'learn come', 'learn create', 'learn day', 'learn different', 'learn english', 'learn every', 'learn excited', 'learn explore', 'learn fun', 'learn grow', 'learn hands', 'learn love', 'learn make', 'learn many', 'learn math', 'learn much', 'learn nannan', 'learn need', 'learn new', 'learn not', 'learn one', 'learn play', 'learn read', 'learn school', 'learn science', 'learn skills', 'learn something', 'learn students', 'learn successful', 'learn technology', 'learn together', 'learn use', 'learn using', 'learn want', 'learn way', 'learn work', 'learn world', 'learned', 'learner', 'learners', 'learners classroom', 'learners come', 'learners continue', 'learners love', 'learners many', 'learners nannan', 'learners need', 'learners school', 'learners students', 'learning', 'learning able', 'learning activities', 'learning also', 'learning center', 'learning centers', 'learning class', 'learning classroom', 'learning community', 'learning day', 'learning disabilities', 'learning disability', 'learning english', 'learning environment', 'learning every', 'learning experience', 'learning experiences', 'learning fun', 'learning games', 'learning goals', 'learning hands', 'learning help', 'learning love', 'learning many', 'learning materials', 'learning math', 'learning nannan', 'learning need', 'learning needs', 'learning new', 'learning not', 'learning opportunities', 'learning play', 'learning process', 'learning project', 'learning read', 'learning reading', 'learning school', 'learning science', 'learning skills', 'learning space', 'learning students', 'learning style', 'learning styles', 'learning take', 'learning technology', 'learning time', 'learning tools', 'learning use', 'learning using', 'learning want', 'learning well', 'learning work', 'learning would', 'learns', 'least', 'leave', 'leaves', 'leaving', 'led', 'left', 'lego', 'legos', 'legs', 'less', 'lesson', 'lessons', 'lessons students', 'let', 'let alone', 'let students', 'lets', 'letter', 'letters', 'letters sounds', 'letting', 'level', 'level many', 'level reading', 'level students', 'leveled', 'leveled books', 'levels', 'levels students', 'library', 'library books', 'library students', 'life', 'life experiences', 'life long', 'life may', 'life nannan', 'life ready', 'life skills', 'life students', 'lifelong', 'lifelong learners', 'lifestyle', 'lifetime', 'light', 'lights', 'like', 'like able', 'like give', 'like move', 'like provide', 'like students', 'like use', 'likely', 'limit', 'limitations', 'limited', 'limited access', 'limited resources', 'limits', 'line', 'lines', 'list', 'listen', 'listen stories', 'listening', 'listening center', 'literacy', 'literacy centers', 'literacy math', 'literacy skills', 'literally', 'literary', 'literate', 'literature', 'little', 'little bit', 'little learners', 'little no', 'little ones', 'live', 'live high', 'live low', 'live poverty', 'live rural', 'lively', 'lives', 'lives better', 'lives however', 'lives nannan', 'lives students', 'living', 'living poverty', 'local', 'located', 'located high', 'located low', 'located rural', 'location', 'long', 'long learners', 'long periods', 'long term', 'long way', 'longer', 'look', 'look forward', 'look like', 'looking', 'looking forward', 'looking keep', 'looking new', 'looking ways', 'looks', 'los', 'los angeles', 'lose', 'loss', 'lost', 'lot', 'lot students', 'lot time', 'lots', 'lots positive', 'loud', 'love', 'love able', 'love books', 'love come', 'love coming', 'love create', 'love explore', 'love get', 'love hands', 'love learn', 'love learning', 'love lots', 'love move', 'love music', 'love opportunity', 'love play', 'love read', 'love reading', 'love school', 'love science', 'love see', 'love share', 'love students', 'love teaching', 'love technology', 'love use', 'love using', 'love work', 'love working', 'loved', 'loves', 'loving', 'low', 'low economic', 'low income', 'low socio', 'low socioeconomic', 'lower', 'lower income', 'lowest', 'lucky', 'lucky enough', 'lunch', 'lunch based', 'lunch breakfast', 'lunch despite', 'lunch many', 'lunch program', 'lunch school', 'lunch students', 'lunches', 'machine', 'made', 'magazine', 'magazines', 'magic', 'magical', 'magnet', 'magnet school', 'magnetic', 'main', 'mainly', 'maintain', 'maintaining', 'major', 'majority', 'majority students', 'make', 'make better', 'make choices', 'make classroom', 'make connections', 'make difference', 'make ends', 'make happen', 'make huge', 'make learning', 'make possible', 'make reading', 'make school', 'make students', 'make sure', 'make world', 'maker', 'makerspace', 'makes', 'makes difficult', 'makes learning', 'makes students', 'making', 'making sure', 'manage', 'management', 'manipulate', 'manipulative', 'manipulatives', 'manner', 'many', 'many books', 'many challenges', 'many children', 'many come', 'many different', 'many english', 'many families', 'many hardships', 'many kids', 'many learning', 'many live', 'many not', 'many obstacles', 'many opportunities', 'many parents', 'many raised', 'many resources', 'many students', 'many things', 'many times', 'many us', 'many ways', 'many years', 'map', 'maps', 'markers', 'master', 'mastered', 'mastering', 'mastery', 'match', 'material', 'materials', 'materials allow', 'materials classroom', 'materials help', 'materials make', 'materials need', 'materials needed', 'materials not', 'materials requested', 'materials requesting', 'materials students', 'materials supplies', 'materials used', 'materials would', 'math', 'math activities', 'math centers', 'math class', 'math concepts', 'math facts', 'math games', 'math literacy', 'math manipulatives', 'math problems', 'math reading', 'math science', 'math skills', 'math students', 'mathematical', 'mathematicians', 'mathematics', 'mats', 'matter', 'maximize', 'maximum', 'may', 'may face', 'may not', 'may prevent', 'maybe', 'meal', 'meals', 'mean', 'meaning', 'meaningful', 'meaningful learning', 'means', 'means students', 'meant', 'measure', 'media', 'meet', 'meet individual', 'meet needs', 'meet students', 'meeting', 'meetings', 'meets', 'member', 'members', 'memorable', 'memories', 'memory', 'men', 'mental', 'mentor', 'met', 'method', 'methods', 'mexico', 'middle', 'middle class', 'middle school', 'might', 'might not', 'miles', 'military', 'military families', 'mind', 'minds', 'mindset', 'mine', 'mini', 'minimal', 'minis', 'minority', 'minute', 'minute walk', 'minutes', 'minutes day', 'miss', 'missing', 'mission', 'mistakes', 'mix', 'mixed', 'mixture', 'mobile', 'model', 'modeling', 'models', 'moderate', 'modern', 'mom', 'moment', 'moments', 'money', 'monitor', 'month', 'months', 'morning', 'mostly', 'motion', 'motivate', 'motivate students', 'motivated', 'motivated learn', 'motivates', 'motivating', 'motivation', 'motor', 'motor skills', 'motto', 'mouse', 'move', 'move around', 'move learn', 'move learning', 'move love', 'moved', 'movement', 'movements', 'movies', 'moving', 'moving around', 'mrs', 'ms', 'much', 'much easier', 'much fun', 'much needed', 'much possible', 'much students', 'much time', 'multi', 'multicultural', 'multiple', 'multiplication', 'multitude', 'muscle', 'muscles', 'music', 'music class', 'music program', 'music students', 'musical', 'musicians', 'must', 'name', 'names', 'nannan', 'nation', 'national', 'native', 'natural', 'naturally', 'nature', 'navigate', 'near', 'nearly', 'necessary', 'necessary materials', 'necessary tools', 'necessities', 'necessity', 'need', 'need able', 'need access', 'need additional', 'need books', 'need classroom', 'need extra', 'need get', 'need hands', 'need help', 'need know', 'need learn', 'need little', 'need make', 'need many', 'need materials', 'need move', 'need movement', 'need nannan', 'need new', 'need opportunities', 'need opportunity', 'need order', 'need students', 'need succeed', 'need successful', 'need supplies', 'need support', 'need technology', 'need tools', 'need work', 'needed', 'needing', 'needs', 'needs classroom', 'needs many', 'needs met', 'needs nannan', 'needs school', 'needs students', 'negative', 'neighborhood', 'neighborhood school', 'neighborhood students', 'neighborhoods', 'never', 'new', 'new books', 'new classroom', 'new concepts', 'new country', 'new exciting', 'new experiences', 'new ideas', 'new information', 'new language', 'new learning', 'new materials', 'new school', 'new skills', 'new students', 'new teacher', 'new technology', 'new things', 'new vocabulary', 'new way', 'new ways', 'new world', 'new york', 'newly', 'news', 'next', 'next generation', 'next level', 'next year', 'nice', 'night', 'nine', 'ninety', 'no', 'no longer', 'no matter', 'no one', 'noise', 'non', 'non fiction', 'non verbal', 'nonfiction', 'normal', 'normally', 'north', 'north carolina', 'northern', 'not', 'not able', 'not access', 'not afford', 'not allow', 'not always', 'not available', 'not books', 'not come', 'not easy', 'not enough', 'not even', 'not exposed', 'not get', 'not give', 'not help', 'not know', 'not learn', 'not let', 'not like', 'not lot', 'not make', 'not many', 'not much', 'not necessary', 'not need', 'not one', 'not opportunity', 'not provide', 'not read', 'not receive', 'not resources', 'not school', 'not see', 'not sit', 'not speak', 'not stop', 'not students', 'not understand', 'not use', 'not wait', 'not want', 'not work', 'not worry', 'not yet', 'note', 'notebook', 'notebooks', 'notes', 'nothing', 'notice', 'noticed', 'novel', 'novels', 'number', 'number sense', 'number students', 'numbers', 'numerous', 'nurture', 'nurturing', 'nutrition', 'objectives', 'objects', 'observations', 'observe', 'obstacle', 'obstacles', 'obtain', 'occur', 'odds', 'offer', 'offer students', 'offered', 'offering', 'offers', 'office', 'often', 'often not', 'often students', 'often times', 'old', 'old students', 'older', 'olds', 'one', 'one another', 'one best', 'one day', 'one favorite', 'one hundred', 'one important', 'one one', 'one place', 'one school', 'one student', 'one students', 'one thing', 'one time', 'one way', 'ones', 'online', 'onto', 'open', 'opened', 'opening', 'opens', 'opinion', 'opinions', 'opportunities', 'opportunities learn', 'opportunities students', 'opportunity', 'opportunity create', 'opportunity experience', 'opportunity explore', 'opportunity learn', 'opportunity move', 'opportunity read', 'opportunity students', 'opportunity use', 'opportunity work', 'optimal', 'option', 'options', 'options classroom', 'options students', 'oral', 'order', 'order help', 'order learn', 'order make', 'order students', 'order successful', 'org', 'organization', 'organizational', 'organize', 'organized', 'original', 'osmo', 'others', 'others students', 'otherwise', 'outcomes', 'outdated', 'outdoor', 'outdoors', 'outlet', 'outside', 'outside box', 'outside classroom', 'outside school', 'outstanding', 'overall', 'overcome', 'overwhelming', 'ownership', 'ownership learning', 'oxygen', 'pace', 'paced', 'pads', 'page', 'pages', 'paint', 'painting', 'pair', 'pairs', 'paper', 'paper pencil', 'papers', 'parent', 'parent homes', 'parent households', 'parental', 'parents', 'parents not', 'parents students', 'parents work', 'park', 'part', 'part classroom', 'part day', 'part learning', 'part school', 'participate', 'participating', 'participation', 'particular', 'particularly', 'partner', 'partners', 'parts', 'pass', 'passion', 'passion learning', 'passionate', 'past', 'past year', 'past years', 'path', 'path academic', 'patterns', 'pay', 'pay attention', 'pe', 'peer', 'peers', 'peers students', 'pen', 'pencil', 'pencil sharpener', 'pencils', 'pens', 'people', 'per', 'percent', 'percent students', 'percentage', 'percentage students', 'perfect', 'perform', 'performance', 'performances', 'performing', 'period', 'periods', 'periods time', 'perseverance', 'persevere', 'person', 'personal', 'personalities', 'personality', 'personalized', 'personally', 'perspective', 'perspectives', 'philadelphia', 'phone', 'phones', 'phonics', 'photos', 'physical', 'physical activity', 'physical education', 'physically', 'physically active', 'physics', 'pick', 'picture', 'pictures', 'piece', 'pieces', 'pillows', 'place', 'place learn', 'place sit', 'place students', 'placed', 'places', 'plan', 'plan use', 'planet', 'planning', 'plans', 'plant', 'plants', 'plastic', 'platform', 'play', 'play games', 'played', 'player', 'players', 'playground', 'playing', 'playing field', 'playing games', 'plays', 'please', 'please consider', 'please help', 'pleasure', 'plenty', 'plus', 'pocket', 'pockets', 'point', 'points', 'poor', 'poorest', 'pop', 'popular', 'population', 'population students', 'portable', 'portion', 'position', 'positive', 'positive attention', 'positive attitude', 'positive learning', 'positive way', 'positively', 'possibilities', 'possibilities endless', 'possibility', 'possible', 'possible students', 'possibly', 'post', 'posters', 'posture', 'potential', 'potential growth', 'potential students', 'poverty', 'poverty area', 'poverty level', 'poverty line', 'poverty rate', 'poverty school', 'poverty stricken', 'poverty students', 'power', 'powerful', 'practice', 'practice math', 'practice reading', 'practice skills', 'practices', 'practicing', 'pre', 'pre kindergarten', 'precious', 'predominantly', 'prefer', 'prek', 'prep', 'prepare', 'prepare future', 'prepare students', 'prepared', 'preparing', 'preparing students', 'preschool', 'present', 'presentation', 'presentations', 'presented', 'presenting', 'pressure', 'pretty', 'prevent', 'prevent getting', 'previous', 'previously', 'price', 'price lunch', 'priced', 'pride', 'primarily', 'primary', 'print', 'printed', 'printer', 'printing', 'prior', 'priority', 'privilege', 'privileged', 'problem', 'problem solve', 'problem solvers', 'problem solving', 'problems', 'process', 'process students', 'processes', 'processing', 'produce', 'product', 'production', 'productive', 'productivity', 'products', 'professional', 'proficiency', 'proficient', 'program', 'program school', 'program students', 'programming', 'programs', 'programs students', 'progress', 'project', 'project allow', 'project based', 'project funded', 'project give', 'project help', 'project improve', 'project make', 'project nannan', 'project not', 'project provide', 'project students', 'project would', 'projector', 'projects', 'projects students', 'promote', 'promotes', 'promoting', 'proper', 'properly', 'protect', 'proud', 'prove', 'proven', 'provide', 'provide best', 'provide life', 'provide many', 'provide materials', 'provide opportunities', 'provide opportunity', 'provide safe', 'provide students', 'provided', 'provides', 'provides students', 'providing', 'providing students', 'public', 'public school', 'public schools', 'publish', 'pull', 'purchase', 'purchased', 'purchasing', 'purpose', 'purposes', 'pursue', 'push', 'pushing', 'put', 'puts', 'putting', 'puzzles', 'qualifies', 'qualify', 'qualify free', 'qualifying', 'qualifying free', 'quality', 'quality education', 'question', 'questions', 'quick', 'quickly', 'quiet', 'quietly', 'quite', 'quizzes', 'quote', 'race', 'raise', 'raised', 'raised single', 'range', 'range abilities', 'ranging', 'rarely', 'rate', 'rates', 'rather', 'reach', 'reach full', 'reach goal', 'reach goals', 'reach students', 'reaching', 'read', 'read aloud', 'read alouds', 'read book', 'read books', 'read independently', 'read learn', 'read love', 'read nannan', 'read students', 'read write', 'reader', 'readers', 'readers nannan', 'readers students', 'readers writers', 'readily', 'readily available', 'readiness', 'reading', 'reading book', 'reading books', 'reading comprehension', 'reading fluency', 'reading grade', 'reading groups', 'reading learning', 'reading level', 'reading levels', 'reading material', 'reading materials', 'reading math', 'reading nannan', 'reading not', 'reading program', 'reading skills', 'reading strategies', 'reading students', 'reading time', 'reading writing', 'reads', 'ready', 'ready learn', 'ready take', 'real', 'real life', 'real world', 'reality', 'realize', 'realized', 'really', 'really enjoy', 'really help', 'really need', 'really want', 'reason', 'reasoning', 'reasons', 'receive', 'receive free', 'received', 'receives', 'receives free', 'receiving', 'receiving free', 'recent', 'recently', 'recess', 'recess time', 'recognition', 'recognize', 'record', 'recording', 'reduce', 'reduced', 'reduced lunch', 'reduced lunches', 'reduced price', 'reduced priced', 'reference', 'reflect', 'refugees', 'regardless', 'regular', 'regular basis', 'regular education', 'regularly', 'reinforce', 'reinforcement', 'relate', 'related', 'relationship', 'relationships', 'relax', 'relaxed', 'release', 'relevant', 'reliable', 'reluctant', 'reluctant readers', 'rely', 'remain', 'remaining', 'remember', 'remind', 'replace', 'reports', 'represent', 'represented', 'request', 'requested', 'requesting', 'require', 'required', 'requirements', 'requires', 'research', 'research projects', 'research shown', 'research shows', 'researched', 'researching', 'resilient', 'resource', 'resources', 'resources available', 'resources help', 'resources home', 'resources need', 'resources needed', 'resources students', 'respect', 'respectful', 'respond', 'response', 'responses', 'responsibility', 'responsible', 'rest', 'result', 'results', 'retain', 'retention', 'return', 'review', 'reward', 'rewarding', 'rewards', 'rhythm', 'rich', 'right', 'right tools', 'rigor', 'rigorous', 'rigorous academics', 'rise', 'risk', 'risks', 'road', 'robot', 'robotics', 'robots', 'rock', 'rocking', 'role', 'roll', 'room', 'room students', 'ropes', 'rotate', 'rotation', 'rotations', 'rough', 'round', 'rounded', 'routine', 'routines', 'rug', 'rules', 'run', 'running', 'rural', 'rural area', 'rural community', 'rural school', 'rural town', 'sadly', 'safe', 'safe comfortable', 'safe environment', 'safe learning', 'safe place', 'safely', 'safety', 'said', 'san', 'sand', 'save', 'savvy', 'saw', 'say', 'saying', 'says', 'scale', 'schedule', 'scholars', 'scholastic', 'school', 'school 100', 'school 90', 'school able', 'school also', 'school building', 'school children', 'school class', 'school classroom', 'school college', 'school come', 'school community', 'school considered', 'school currently', 'school day', 'school district', 'school diverse', 'school eager', 'school environment', 'school every', 'school everyday', 'school excited', 'school experience', 'school first', 'school full', 'school great', 'school help', 'school high', 'school home', 'school kids', 'school large', 'school learn', 'school learning', 'school library', 'school life', 'school limited', 'school located', 'school love', 'school low', 'school majority', 'school many', 'school means', 'school nannan', 'school need', 'school new', 'school not', 'school offers', 'school often', 'school one', 'school place', 'school population', 'school program', 'school provides', 'school ready', 'school receive', 'school receives', 'school rural', 'school safe', 'school school', 'school serves', 'school setting', 'school small', 'school student', 'school students', 'school supplies', 'school system', 'school teach', 'school title', 'school urban', 'school want', 'school well', 'school wide', 'school without', 'school work', 'school working', 'school would', 'school year', 'schools', 'science', 'science class', 'science classroom', 'science concepts', 'science math', 'science social', 'science standards', 'science students', 'science technology', 'scientific', 'scientist', 'scientists', 'scissors', 'scores', 'screen', 'search', 'searching', 'season', 'seat', 'seated', 'seating', 'seating allow', 'seating choices', 'seating classroom', 'seating option', 'seating options', 'seating students', 'seats', 'second', 'second grade', 'second graders', 'second language', 'second year', 'secondary', 'section', 'secure', 'see', 'see students', 'see typical', 'see world', 'seeing', 'seek', 'seeking', 'seem', 'seems', 'seen', 'select', 'selected', 'selection', 'self', 'self confidence', 'self contained', 'self esteem', 'semester', 'send', 'sense', 'sense community', 'senses', 'sensory', 'sensory input', 'sensory needs', 'sent', 'sentence', 'sentences', 'separate', 'series', 'serve', 'serve students', 'served', 'serves', 'serves students', 'service', 'services', 'services students', 'serving', 'sessions', 'set', 'set students', 'sets', 'setting', 'setting students', 'settings', 'seuss', 'seven', 'seventh', 'several', 'several challenges', 'several different', 'several students', 'several years', 'severe', 'shape', 'shapes', 'share', 'share ideas', 'share work', 'shared', 'sharing', 'sharpener', 'sheets', 'shelf', 'shelters', 'shelves', 'shine', 'shoes', 'short', 'show', 'show students', 'showcase', 'showing', 'shown', 'shows', 'shows students', 'siblings', 'side', 'sight', 'sight word', 'sight words', 'sign', 'significant', 'significantly', 'silly', 'similar', 'simple', 'simple provide', 'simply', 'simply not', 'simultaneously', 'since', 'since students', 'sing', 'singing', 'single', 'single day', 'single parent', 'sit', 'sit floor', 'sit still', 'site', 'sites', 'sitting', 'sitting desk', 'sitting still', 'situation', 'situations', 'six', 'six year', 'sixth', 'sixth grade', 'sixth graders', 'size', 'sizes', 'skill', 'skills', 'skills also', 'skills help', 'skills learn', 'skills learned', 'skills learning', 'skills many', 'skills nannan', 'skills necessary', 'skills need', 'skills needed', 'skills not', 'skills reading', 'skills students', 'skills taught', 'skills use', 'skills using', 'skills well', 'sky', 'slow', 'slowly', 'small', 'small community', 'small group', 'small groups', 'small rural', 'small school', 'small town', 'smaller', 'smart', 'smile', 'smile face', 'smiles', 'smiles faces', 'smiling', 'snack', 'snacks', 'soak', 'soar', 'soccer', 'social', 'social emotional', 'social skills', 'social studies', 'socially', 'society', 'socio', 'socio economic', 'socioeconomic', 'socioeconomic backgrounds', 'socioeconomic status', 'socioeconomically', 'soft', 'software', 'solid', 'solution', 'solutions', 'solve', 'solve problems', 'solvers', 'solving', 'solving skills', 'someone', 'something', 'something new', 'sometimes', 'song', 'songs', 'soon', 'sort', 'sound', 'sounds', 'source', 'sources', 'south', 'southern', 'space', 'space students', 'spaces', 'span', 'spanish', 'spanish speaking', 'spark', 'speak', 'speak english', 'speakers', 'speaking', 'special', 'special education', 'special needs', 'specialized', 'specific', 'specific learning', 'specifically', 'spectrum', 'spectrum disorder', 'speech', 'speech language', 'speed', 'spelling', 'spend', 'spend lot', 'spend time', 'spending', 'spent', 'spirit', 'spite', 'spoken', 'sponges', 'sport', 'sports', 'spot', 'spots', 'spread', 'spring', 'stability', 'stability balls', 'stable', 'staff', 'stage', 'stamina', 'stand', 'standard', 'standardized', 'standards', 'standards students', 'standing', 'stands', 'stars', 'start', 'start day', 'start school', 'started', 'starting', 'starts', 'state', 'state standards', 'stated', 'states', 'station', 'stations', 'status', 'status things', 'stay', 'stay active', 'stay engaged', 'stay focused', 'stay organized', 'stay task', 'staying', 'staying focused', 'steam', 'stem', 'stem activities', 'step', 'steps', 'sticks', 'still', 'still need', 'stimulate', 'stimulating', 'stimulation', 'stock', 'stool', 'stools', 'stools allow', 'stools help', 'stop', 'storage', 'store', 'store day', 'stored', 'stories', 'stories read', 'story', 'strategies', 'strategy', 'strength', 'strengthen', 'strengths', 'stress', 'stretch', 'stricken', 'strive', 'strive best', 'strive make', 'strive provide', 'strives', 'striving', 'strong', 'stronger', 'structure', 'structured', 'structures', 'struggle', 'struggle reading', 'struggles', 'struggling', 'struggling readers', 'struggling students', 'stuck', 'student', 'student able', 'student body', 'student centered', 'student class', 'student engagement', 'student learn', 'student learning', 'student needs', 'student not', 'student population', 'student school', 'student success', 'student use', 'student work', 'students', 'students ability', 'students able', 'students academic', 'students access', 'students achieve', 'students active', 'students actively', 'students adhd', 'students ages', 'students already', 'students also', 'students always', 'students amazing', 'students arrive', 'students art', 'students ask', 'students asked', 'students asking', 'students attend', 'students attention', 'students autism', 'students awesome', 'students become', 'students begin', 'students beginning', 'students benefit', 'students best', 'students better', 'students books', 'students bright', 'students bring', 'students build', 'students building', 'students cannot', 'students chance', 'students choice', 'students choose', 'students class', 'students classroom', 'students collaborate', 'students come', 'students comfortable', 'students coming', 'students community', 'students complete', 'students connect', 'students constantly', 'students continue', 'students could', 'students create', 'students creative', 'students curious', 'students currently', 'students daily', 'students day', 'students deserve', 'students desire', 'students develop', 'students different', 'students difficult', 'students difficulty', 'students disabilities', 'students diverse', 'students eager', 'students easily', 'students economically', 'students encouraged', 'students energetic', 'students engage', 'students engaged', 'students english', 'students enjoy', 'students enter', 'students enthusiastic', 'students especially', 'students even', 'students ever', 'students every', 'students excited', 'students expected', 'students experience', 'students explore', 'students exposed', 'students express', 'students extremely', 'students face', 'students faced', 'students families', 'students feel', 'students find', 'students first', 'students focus', 'students free', 'students full', 'students fun', 'students future', 'students gain', 'students get', 'students give', 'students given', 'students go', 'students going', 'students grade', 'students grades', 'students great', 'students group', 'students grow', 'students hands', 'students hard', 'students help', 'students high', 'students highly', 'students however', 'students improve', 'students increase', 'students independent', 'students individual', 'students inquisitive', 'students interact', 'students interested', 'students involved', 'students keep', 'students kids', 'students kind', 'students kindergarten', 'students know', 'students lack', 'students learn', 'students learning', 'students life', 'students like', 'students limited', 'students listen', 'students little', 'students live', 'students lives', 'students living', 'students look', 'students lot', 'students love', 'students low', 'students make', 'students many', 'students materials', 'students math', 'students may', 'students meet', 'students motivated', 'students move', 'students moving', 'students much', 'students must', 'students nannan', 'students need', 'students needs', 'students never', 'students new', 'students no', 'students not', 'students often', 'students one', 'students opportunities', 'students opportunity', 'students parents', 'students part', 'students participate', 'students place', 'students play', 'students practice', 'students pre', 'students project', 'students put', 'students qualify', 'students range', 'students reach', 'students read', 'students reading', 'students ready', 'students really', 'students receive', 'students receiving', 'students require', 'students required', 'students research', 'students room', 'students safe', 'students school', 'students second', 'students see', 'students self', 'students share', 'students show', 'students sit', 'students small', 'students speak', 'students special', 'students spend', 'students staff', 'students start', 'students stay', 'students still', 'students strive', 'students struggle', 'students struggling', 'students students', 'students succeed', 'students success', 'students successful', 'students take', 'students taught', 'students teach', 'students teachers', 'students technology', 'students think', 'students thrive', 'students throughout', 'students time', 'students title', 'students tools', 'students truly', 'students try', 'students unable', 'students understand', 'students understanding', 'students unique', 'students use', 'students using', 'students utilize', 'students variety', 'students various', 'students varying', 'students visual', 'students walk', 'students want', 'students way', 'students well', 'students wide', 'students wonderful', 'students work', 'students working', 'students world', 'students would', 'students write', 'students year', 'students years', 'students young', 'studies', 'studies science', 'study', 'studying', 'sturdy', 'style', 'styles', 'subject', 'subject areas', 'subjects', 'subtraction', 'suburban', 'succeed', 'succeed school', 'succeed students', 'success', 'success nannan', 'success school', 'success students', 'successes', 'successful', 'successful classroom', 'successful future', 'successful learners', 'successful learning', 'successful nannan', 'successful school', 'successful students', 'successfully', 'summer', 'super', 'supplement', 'supplies', 'supplies allow', 'supplies help', 'supplies need', 'supplies needed', 'supplies students', 'supply', 'support', 'support classroom', 'support learning', 'support nannan', 'support need', 'support students', 'supported', 'supporting', 'supportive', 'supports', 'sure', 'sure students', 'surface', 'surprise', 'surrounded', 'surrounding', 'sweet', 'syndrome', 'system', 'systems', 'table', 'tables', 'tablet', 'tablets', 'tackle', 'tactile', 'take', 'take advantage', 'take care', 'take granted', 'take home', 'take learning', 'take ownership', 'take place', 'take pride', 'take risks', 'taken', 'takes', 'taking', 'talent', 'talented', 'talents', 'talk', 'talking', 'tangible', 'tape', 'target', 'task', 'task hand', 'tasks', 'taught', 'teach', 'teach amazing', 'teach high', 'teach kindergarten', 'teach low', 'teach reading', 'teach school', 'teach small', 'teach students', 'teach title', 'teacher', 'teacher low', 'teacher students', 'teacher title', 'teacher want', 'teachers', 'teachers school', 'teachers students', 'teaches', 'teaching', 'teaching learning', 'teaching students', 'team', 'teams', 'teamwork', 'tech', 'technical', 'techniques', 'technological', 'technologically', 'technologies', 'technology', 'technology allow', 'technology also', 'technology available', 'technology classroom', 'technology daily', 'technology engineering', 'technology help', 'technology home', 'technology learning', 'technology nannan', 'technology not', 'technology school', 'technology skills', 'technology students', 'technology use', 'technology would', 'tell', 'telling', 'ten', 'tend', 'term', 'terms', 'test', 'test scores', 'testing', 'tests', 'texas', 'text', 'textbook', 'textbooks', 'texts', 'thank', 'thank advance', 'thank considering', 'thank much', 'thank nannan', 'thankful', 'thanks', 'theater', 'theme', 'themes', 'therapy', 'therefore', 'thing', 'thing common', 'things', 'things like', 'things may', 'things simple', 'things students', 'think', 'think critically', 'think outside', 'thinkers', 'thinking', 'thinking skills', 'third', 'third grade', 'third graders', 'thirst', 'thirst knowledge', 'thirty', 'though', 'though students', 'thought', 'thoughtful', 'thoughts', 'three', 'three years', 'thrilled', 'thrive', 'throughout', 'throughout day', 'throughout school', 'throughout year', 'thus', 'tight', 'tight knit', 'tiles', 'time', 'time classroom', 'time day', 'time kids', 'time learning', 'time nannan', 'time not', 'time read', 'time school', 'time sitting', 'time spent', 'time students', 'times', 'times day', 'times students', 'tired', 'title', 'title one', 'title school', 'titles', 'today', 'today students', 'today world', 'together', 'together create', 'together learn', 'together make', 'together students', 'told', 'tomorrow', 'tone', 'took', 'tool', 'tool students', 'tools', 'tools help', 'tools need', 'tools students', 'top', 'topic', 'topics', 'total', 'touch', 'tough', 'toward', 'towards', 'town', 'toys', 'track', 'traditional', 'traditional classroom', 'training', 'transfer', 'transform', 'transient', 'transition', 'transitional', 'transportation', 'trauma', 'travel', 'treat', 'tremendous', 'tremendously', 'tried', 'trip', 'trips', 'trouble', 'true', 'truly', 'truly believe', 'trust', 'try', 'try best', 'try make', 'try new', 'try provide', 'trying', 'turn', 'turning', 'turns', 'tv', 'twenty', 'twice', 'two', 'two students', 'two years', 'type', 'types', 'typical', 'typical day', 'typical minute', 'typically', 'typing', 'ultimate', 'ultimate goal', 'ultimately', 'unable', 'uncomfortable', 'understand', 'understanding', 'unfortunately', 'unfortunately many', 'unfortunately not', 'uniforms', 'unique', 'unique learning', 'unique way', 'unit', 'united', 'united states', 'units', 'university', 'upcoming', 'updated', 'upon', 'upper', 'urban', 'urban area', 'urban school', 'us', 'us get', 'us learn', 'us nannan', 'us see', 'use', 'use books', 'use chromebooks', 'use classroom', 'use computer', 'use computers', 'use daily', 'use google', 'use hands', 'use help', 'use ipad', 'use ipads', 'use materials', 'use math', 'use new', 'use school', 'use students', 'use tablets', 'use technology', 'used', 'used classroom', 'used daily', 'used help', 'used students', 'useful', 'uses', 'using', 'using hands', 'using ipads', 'using technology', 'usually', 'utilize', 'utilized', 'utilizing', 'valuable', 'value', 'valued', 'values', 'varied', 'variety', 'variety backgrounds', 'variety books', 'variety different', 'variety learning', 'variety materials', 'variety seating', 'variety ways', 'various', 'various backgrounds', 'various learning', 'vary', 'varying', 'vast', 'vegetables', 'verbal', 'via', 'vibrant', 'video', 'video games', 'videos', 'view', 'violence', 'virtual', 'vision', 'visit', 'visual', 'visual learners', 'visualize', 'visually', 'visuals', 'vital', 'vocabulary', 'vocabulary words', 'voice', 'voices', 'wait', 'wait see', 'waiting', 'walk', 'walk classroom', 'walk door', 'walking', 'walks', 'walks life', 'wall', 'walls', 'want', 'want able', 'want best', 'want classroom', 'want continue', 'want create', 'want ensure', 'want feel', 'want get', 'want give', 'want help', 'want know', 'want learn', 'want make', 'want provide', 'want read', 'want school', 'want see', 'want students', 'want succeed', 'want use', 'wanted', 'wanting', 'wanting learn', 'wants', 'warm', 'washington', 'waste', 'watch', 'watching', 'water', 'way', 'way get', 'way help', 'way hopeful', 'way learn', 'way learning', 'way nannan', 'way students', 'way teach', 'ways', 'ways help', 'ways learn', 'ways students', 'wealth', 'wear', 'weather', 'web', 'website', 'websites', 'week', 'week students', 'weekend', 'weekends', 'weekly', 'weeks', 'weight', 'welcome', 'welcoming', 'well', 'well nannan', 'well rounded', 'well school', 'well students', 'wellness', 'went', 'west', 'whatever', 'whenever', 'whether', 'white', 'white board', 'white boards', 'whiteboard', 'whiteboards', 'whole', 'whole child', 'whole class', 'whole group', 'whole new', 'whose', 'wide', 'wide range', 'wide variety', 'wiggle', 'wiggles', 'wiggling', 'wiggly', 'willing', 'willing learn', 'willingness', 'win', 'winning', 'winter', 'wireless', 'wish', 'within', 'within classroom', 'within school', 'without', 'wobble', 'wobble chairs', 'wobble stools', 'women', 'wonder', 'wonderful', 'wonderful group', 'wonderful students', 'wonderfully', 'word', 'words', 'work', 'work best', 'work collaboratively', 'work groups', 'work hard', 'work independently', 'work nannan', 'work not', 'work school', 'work small', 'work students', 'work team', 'work time', 'work title', 'work together', 'work well', 'worked', 'workers', 'workforce', 'working', 'working hard', 'working small', 'working students', 'working together', 'works', 'works best', 'worksheets', 'workshop', 'world', 'world around', 'world better', 'world live', 'world nannan', 'world outside', 'world problems', 'world students', 'world technology', 'worlds', 'worn', 'worry', 'worth', 'would', 'would able', 'would allow', 'would also', 'would benefit', 'would give', 'would great', 'would greatly', 'would help', 'would like', 'would love', 'would make', 'would never', 'would not', 'would provide', 'would really', 'would use', 'would used', 'write', 'writer', 'writers', 'writing', 'writing math', 'writing reading', 'writing skills', 'writing students', 'written', 'wrong', 'year', 'year classroom', 'year long', 'year many', 'year nannan', 'year not', 'year old', 'year olds', 'year school', 'year students', 'year teacher', 'year teaching', 'year want', 'year would', 'year year', 'years', 'years ago', 'years come', 'years old', 'years students', 'yes', 'yet', 'yoga', 'yoga balls', 'york', 'york city', 'young', 'young adults', 'young age', 'young children', 'young learners', 'young minds', 'young people', 'young students', 'younger', 'younger students', 'youth']\n"
     ]
    }
   ],
   "source": [
    "train_essay_bow = VectorizingTextData('preprocessed_essays', project_data_train, project_data_train)\n",
    "cv_essay_bow = VectorizingTextData('preprocessed_essays', project_data_train, project_data_cv)\n",
    "test_essay_bow = VectorizingTextData('preprocessed_essays', project_data_train, project_data_test)\n",
    "\n",
    "print(\"Shape of train data matrix after one hot encoding \",train_essay_bow.shape)\n",
    "print(\"Shape of cross validation data matrix after one hot encoding \",cv_essay_bow.shape)\n",
    "print(\"Shape of test data matrix after one hot encoding \",test_essay_bow.shape)\n",
    "\n",
    "essay_features = fnGetTextFeatures('preprocessed_essays', project_data_train, project_data_train)\n",
    "print(essay_features)"
   ]
  },
  {
   "cell_type": "code",
   "execution_count": 36,
   "metadata": {
    "colab": {
     "base_uri": "https://localhost:8080/",
     "height": 73
    },
    "colab_type": "code",
    "executionInfo": {
     "elapsed": 43682,
     "status": "ok",
     "timestamp": 1594367046970,
     "user": {
      "displayName": "Venkatesh Gupta",
      "photoUrl": "https://lh3.googleusercontent.com/a-/AOh14Gg8U_KUdnX4JWp6we7eGz6jpyKj3zYYWCk4s2LqwQ=s64",
      "userId": "13664137025209273415"
     },
     "user_tz": -330
    },
    "id": "rvPTRSkrCyoU",
    "outputId": "725f98d8-0a9a-456a-dd1a-cfbd7baccaff"
   },
   "outputs": [
    {
     "name": "stdout",
     "output_type": "stream",
     "text": [
      "Shape of train data matrix after one hot encoding  (17956, 1514)\n",
      "Shape of cross validation data matrix after one hot encoding  (8844, 1514)\n",
      "Shape of test data matrix after one hot encoding  (13200, 1514)\n",
      "['05', '16', '1st', '1st grade', '1st graders', '2016', '2017', '21st', '21st century', '2nd', '2nd grade', '2nd graders', '3d', '3d printer', '3d printing', '3rd', '3rd grade', '3rd graders', '4th', '4th grade', '4th graders', '5th', '5th grade', '5th graders', '6th', '6th grade', 'abc', 'about', 'about it', 'about our', 'academic', 'access', 'accessible', 'achieve', 'achievement', 'action', 'active', 'active bodies', 'active learners', 'active learning', 'active minds', 'active seating', 'active students', 'activities', 'activity', 'add', 'adding', 'adventure', 'adventures', 'after', 'again', 'age', 'ahead', 'air', 'algebra', 'alive', 'all', 'all about', 'all day', 'all learners', 'all students', 'along', 'alouds', 'alphabet', 'alternative', 'alternative seating', 'amazing', 'america', 'american', 'an', 'an apple', 'an ipad', 'and', 'another', 'ap', 'app', 'apple', 'apple day', 'approach', 'apps', 'are', 'area', 'around', 'around world', 'art', 'art room', 'art supplies', 'artist', 'artistic', 'artists', 'arts', 'as', 'at', 'at time', 'athletes', 'attention', 'authors', 'autism', 'autism classroom', 'away', 'awesome', 'baby', 'back', 'back basics', 'back school', 'backpacks', 'bags', 'balance', 'balancing', 'ball', 'balls', 'band', 'bands', 'based', 'based learning', 'basic', 'basic supplies', 'basics', 'basketball', 'basketball team', 'basketballs', 'bass', 'bay', 'be', 'bean', 'beat', 'beautiful', 'become', 'becoming', 'begin', 'beginning', 'behavior', 'being', 'best', 'better', 'better readers', 'beyond', 'big', 'bilingual', 'bins', 'biology', 'bit', 'blocks', 'board', 'boards', 'bodies', 'bodies active', 'body', 'boogie', 'book', 'book club', 'book clubs', 'books', 'books are', 'books books', 'books for', 'books inspire', 'books more', 'books need', 'bounce', 'bouncing', 'bouncy', 'bouncy bands', 'box', 'boxes', 'boys', 'brain', 'brain power', 'brains', 'break', 'breaking', 'breakout', 'bridge', 'bright', 'brighter', 'brighter future', 'bring', 'bringing', 'bringing technology', 'brings', 'budding', 'build', 'build it', 'build our', 'building', 'building community', 'building our', 'busy', 'but', 'by', 'ca', 'ca not', 'calculating', 'calculators', 'calling', 'calm', 'calming', 'camera', 'camera action', 'can', 'can be', 'can do', 'can hear', 'can learn', 'can read', 'can see', 'can we', 'can you', 'capture', 'capturing', 'care', 'career', 'carpet', 'carpet ride', 'cart', 'cases', 'center', 'centered', 'centered classroom', 'centers', 'century', 'century classroom', 'century learners', 'century learning', 'century skills', 'century technology', 'chair', 'chairs', 'challenge', 'change', 'changing', 'chapter', 'character', 'charge', 'charged', 'charging', 'check', 'chemistry', 'chess', 'child', 'children', 'choice', 'choices', 'choose', 'chrome', 'chrome books', 'chromebook', 'chromebooks', 'chromebooks classroom', 'chromebooks for', 'citizens', 'city', 'class', 'class needs', 'classes', 'classroom', 'classroom carpet', 'classroom community', 'classroom library', 'classroom needs', 'classroom rug', 'classroom seating', 'classroom supplies', 'classroom technology', 'classrooms', 'clay', 'clean', 'click', 'club', 'clubs', 'code', 'coding', 'collaborate', 'collaboration', 'collaborative', 'college', 'color', 'color our', 'color printer', 'colorful', 'colors', 'come', 'come alive', 'come life', 'comes', 'comfort', 'comfortable', 'comfy', 'comfy cozy', 'coming', 'communicate', 'communication', 'community', 'comprehension', 'computer', 'computer lab', 'computer science', 'computers', 'confidence', 'connect', 'connected', 'connecting', 'connections', 'cooking', 'cool', 'core', 'corner', 'counting', 'cozy', 'cozy classroom', 'cozy reading', 'crayons', 'crazy', 'create', 'creating', 'creative', 'creative minds', 'creativity', 'critical', 'critical thinking', 'cultivating', 'culture', 'current', 'current events', 'curriculum', 'cutting', 'daily', 'dance', 'dash', 'dash dot', 'day', 'day keeps', 'days', 'design', 'desk', 'desks', 'desperately', 'develop', 'developing', 'development', 'difference', 'different', 'differentiated', 'digital', 'discover', 'discovery', 'diverse', 'do', 'do it', 'do not', 'do we', 'do you', 'document', 'document camera', 'does', 'doing', 'dot', 'dots', 'down', 'dramatic', 'dramatic play', 'draw', 'drawing', 'dream', 'dreams', 'drumming', 'dry', 'dry erase', 'during', 'eager', 'eager readers', 'ear', 'early', 'ears', 'earth', 'easel', 'easy', 'eat', 'eating', 'education', 'education students', 'educational', 'effective', 'ela', 'elementary', 'emotional', 'empowering', 'empowering students', 'encourage', 'encouraging', 'energy', 'engage', 'engaged', 'engagement', 'engaging', 'engaging students', 'engineering', 'engineers', 'english', 'english language', 'enhance', 'enhancing', 'enriching', 'environment', 'environmental', 'environmental science', 'equipment', 'erase', 'esl', 'essential', 'essentials', 'even', 'events', 'every', 'everyday', 'everyone', 'everything', 'everywhere', 'excited', 'excitement', 'exciting', 'exercise', 'expanding', 'expanding our', 'experience', 'experiences', 'exploration', 'explore', 'exploring', 'expression', 'extra', 'extra extra', 'extra read', 'eye', 'eyes', 'fabulous', 'facts', 'fair', 'fall', 'families', 'family', 'fantastic', 'feel', 'feet', 'fiction', 'fidget', 'fidgets', 'fidgety', 'field', 'fifth', 'fifth grade', 'fill', 'financial', 'financial literacy', 'find', 'finding', 'fine', 'fine motor', 'fingertips', 'fire', 'fire up', 'fired', 'fired up', 'fires', 'first', 'first grade', 'first graders', 'firsties', 'fit', 'fitness', 'flex', 'flexible', 'flexible learners', 'flexible learning', 'flexible seating', 'flood', 'floor', 'fluency', 'fluent', 'focus', 'focused', 'folders', 'food', 'football', 'for', 'for all', 'for learning', 'for love', 'for my', 'for our', 'for success', 'for the', 'forward', 'fostering', 'foundation', 'fourth', 'fourth grade', 'fourth graders', 'free', 'freedom', 'french', 'friendly', 'from', 'fuel', 'full', 'full steam', 'full stem', 'fun', 'fun learning', 'fun with', 'functional', 'furniture', 'future', 'future engineers', 'future leaders', 'futures', 'galore', 'game', 'games', 'gap', 'garden', 'gardening', 'generation', 'genius', 'geometry', 'get', 'get fit', 'get moving', 'get organized', 'get physical', 'getting', 'getting comfy', 'getting fit', 'girls', 'give', 'give us', 'giving', 'global', 'go', 'goal', 'goals', 'going', 'gold', 'good', 'good book', 'google', 'google classroom', 'got', 'gotta', 'grade', 'grade classroom', 'grade needs', 'graders', 'graders love', 'graders need', 'graphic', 'graphic novels', 'graphing', 'great', 'great books', 'green', 'grooving', 'group', 'groups', 'grow', 'growing', 'growing minds', 'growth', 'growth mindset', 'guided', 'guided reading', 'hand', 'hands', 'hands learning', 'hands on', 'happy', 'hard', 'has', 'have', 'having', 'head', 'headphones', 'health', 'healthy', 'healthy bodies', 'healthy kids', 'healthy minds', 'healthy snacks', 'hear', 'hear me', 'hearing', 'heart', 'hearts', 'help', 'help build', 'help make', 'help me', 'help my', 'help our', 'help students', 'help us', 'help we', 'helping', 'helping students', 'helps', 'helps us', 'here', 'high', 'high interest', 'high school', 'higher', 'historical', 'history', 'hokki', 'hokki stools', 'home', 'hooray', 'hope', 'hot', 'house', 'how', 'hungry', 'hygiene', 'ican', 'ideas', 'if', 'if you', 'ii', 'ilearn', 'imagination', 'imaginations', 'imagine', 'improve', 'improving', 'in', 'in need', 'in our', 'in the', 'incentives', 'increase', 'increasing', 'independence', 'independent', 'individual', 'individualized', 'individualized learning', 'indoor', 'indoor recess', 'ing', 'ink', 'inner', 'inner city', 'innovation', 'innovative', 'inquiry', 'inside', 'inspiration', 'inspire', 'inspired', 'inspires', 'inspiring', 'instruction', 'instruments', 'integrating', 'integration', 'interactive', 'interactive learning', 'interactive notebooks', 'interest', 'intervention', 'into', 'into learning', 'into reading', 'ipad', 'ipad mini', 'ipad minis', 'ipads', 'is', 'is fun', 'is the', 'it', 'it all', 'it move', 'it out', 'it time', 'it up', 'items', 'its', 'journals', 'journey', 'jump', 'just', 'keep', 'keep calm', 'keep our', 'keep us', 'keeping', 'keeps', 'key', 'key success', 'keyboards', 'kid', 'kid inspired', 'kiddos', 'kids', 'kids need', 'kinder', 'kindergarten', 'kindergarten classroom', 'kindergarteners', 'kindergarteners need', 'kindergartners', 'kinders', 'kindle', 'kindle fire', 'kindle fires', 'kindles', 'kit', 'kits', 'know', 'knowledge', 'lab', 'language', 'language arts', 'language learners', 'laptop', 'laptops', 'last', 'leader', 'leaders', 'leads', 'leap', 'learn', 'learn about', 'learner', 'learners', 'learners need', 'learning', 'learning about', 'learning all', 'learning centers', 'learning english', 'learning environment', 'learning fun', 'learning is', 'learning math', 'learning read', 'learning technology', 'learning through', 'learning with', 'lego', 'legos', 'lessons', 'let', 'let get', 'let learn', 'let make', 'let me', 'let read', 'let us', 'lets', 'letters', 'level', 'leveled', 'leveled library', 'leveled readers', 'library', 'life', 'life essentials', 'lifelong', 'lifetime', 'light', 'light up', 'lights', 'lights camera', 'like', 'like move', 'like to', 'listen', 'listen learn', 'listen up', 'listening', 'listening center', 'listening learn', 'literacy', 'literacy math', 'literature', 'little', 'little learners', 'live', 'lives', 'living', 'long', 'look', 'looking', 'love', 'love books', 'love learning', 'love literacy', 'love read', 'love reading', 'loving', 'low', 'macbook', 'machine', 'made', 'madness', 'magazine', 'magazines', 'magic', 'magic carpet', 'magical', 'magnetic', 'magnificent', 'make', 'make it', 'make learning', 'make our', 'makeover', 'maker', 'maker space', 'makers', 'makerspace', 'makes', 'makes learning', 'makey', 'making', 'making learning', 'making math', 'mania', 'manipulatives', 'many', 'markers', 'marvelous', 'masters', 'materials', 'math', 'math classroom', 'math fun', 'math games', 'math manipulatives', 'math materials', 'math science', 'mathematicians', 'mathematics', 'matter', 'matters', 'maximize', 'may', 'me', 'me now', 'meaningful', 'media', 'media literacy', 'meet', 'meeting', 'mentor', 'mentor texts', 'mice', 'middle', 'middle school', 'mind', 'mindful', 'mindfulness', 'minds', 'minds through', 'mindset', 'mini', 'minis', 'miss', 'mission', 'mobile', 'modeling', 'modern', 'money', 'more', 'more books', 'more technology', 'morning', 'most', 'motion', 'motivate', 'motivating', 'motivation', 'motor', 'move', 'move it', 'move learn', 'move move', 'movement', 'movin', 'moving', 'moving grooving', 'moving learning', 'mr', 'mrs', 'ms', 'much', 'multi', 'music', 'musical', 'musicians', 'must', 'my', 'my classroom', 'my students', 'necessities', 'need', 'need books', 'need chromebooks', 'need more', 'need move', 'need new', 'need supplies', 'need technology', 'need to', 'needed', 'needs', 'needs students', 'never', 'new', 'new books', 'new classroom', 'new school', 'new world', 'new year', 'news', 'next', 'next generation', 'nice', 'no', 'no more', 'non', 'non fiction', 'nonfiction', 'nook', 'not', 'not just', 'notebooks', 'novel', 'novels', 'now', 'number', 'numbers', 'of', 'off', 'oh', 'oh my', 'oh the', 'old', 'on', 'on learning', 'on science', 'on target', 'on the', 'one', 'one book', 'online', 'only', 'open', 'opening', 'opportunities', 'opportunity', 'options', 'organization', 'organization key', 'organizational', 'organize', 'organized', 'organizing', 'osmo', 'osmos', 'our', 'our books', 'our brains', 'our class', 'our classroom', 'our fingertips', 'our future', 'our hands', 'our learning', 'our minds', 'our own', 'our reading', 'our students', 'our way', 'our world', 'ourselves', 'out', 'outdoor', 'outdoors', 'outside', 'over', 'own', 'ozobots', 'pads', 'painting', 'pants', 'paper', 'part', 'part ii', 'past', 'pe', 'pencil', 'pencils', 'people', 'percussion', 'perfect', 'personal', 'personalized', 'personalized learning', 'phonics', 'photography', 'physical', 'physical education', 'physics', 'piano', 'picture', 'pictures', 'place', 'places', 'plant', 'plants', 'play', 'playground', 'playing', 'please', 'please help', 'pockets', 'poetry', 'pop', 'portfolios', 'positive', 'possibilities', 'power', 'practice', 'pre', 'prek', 'preparing', 'preschool', 'preschoolers', 'print', 'printer', 'printing', 'pro', 'problem', 'problem solving', 'productive', 'program', 'programming', 'progress', 'project', 'project based', 'projecting', 'projector', 'projects', 'promote', 'promoting', 'provide', 'providing', 'publishing', 'put', 'putting', 'quality', 'quiet', 'rainbow', 'reach', 'reaching', 'read', 'read all', 'read alouds', 'read it', 'read read', 'read succeed', 'read write', 'reader', 'reader tomorrow', 'readers', 'readers need', 'readers writers', 'reading', 'reading corner', 'reading fun', 'reading is', 'reading math', 'reading nook', 'reading skills', 'reading writing', 'ready', 'ready learn', 'ready read', 'ready set', 'real', 'real world', 'reality', 'really', 'recess', 'relax', 'reluctant', 'reluctant readers', 'rescue', 'research', 'resource', 'resources', 'reward', 'rewards', 'ride', 'right', 'robot', 'robotics', 'robots', 'rock', 'rockin', 'rocks', 'roll', 'rolling', 'room', 'round', 'rug', 'run', 'running', 'safe', 'safety', 'save', 'savvy', 'say', 'scholars', 'scholastic', 'scholastic news', 'school', 'school students', 'school supplies', 'school year', 'science', 'science lab', 'science technology', 'scientific', 'scientist', 'scientists', 'screen', 'seat', 'seating', 'seating active', 'seating classroom', 'seating flexible', 'seating for', 'seating options', 'seating student', 'seats', 'second', 'second grade', 'second graders', 'see', 'see it', 'seeing', 'seek', 'seeking', 'self', 'sensational', 'sense', 'sensory', 'series', 'set', 'set read', 'sets', 'setting', 'shake', 'shakespeare', 'share', 'sharing', 'sharp', 'shelves', 'shine', 'should', 'show', 'sight', 'simple', 'sims', 'sing', 'sit', 'sitting', 'skills', 'small', 'small group', 'small groups', 'smart', 'snack', 'snacks', 'so', 'soaring', 'soccer', 'social', 'social emotional', 'social skills', 'social studies', 'solving', 'some', 'something', 'sound', 'sounds', 'space', 'spaces', 'spanish', 'speak', 'speaking', 'special', 'special education', 'special needs', 'speech', 'speech language', 'sports', 'spot', 'spring', 'stability', 'stand', 'stand up', 'standing', 'star', 'stars', 'start', 'starting', 'starts', 'station', 'stations', 'stay', 'staying', 'staying active', 'steam', 'steam ahead', 'steaming', 'stem', 'stem activities', 'stem ahead', 'stem learning', 'stem science', 'stem students', 'step', 'stick', 'still', 'stools', 'stop', 'storage', 'store', 'stories', 'story', 'strong', 'struggling', 'student', 'student centered', 'student engagement', 'student learning', 'student success', 'students', 'students autism', 'students become', 'students learn', 'students learning', 'students need', 'students special', 'students through', 'students with', 'studies', 'study', 'stuff', 'style', 'succeed', 'success', 'successful', 'summer', 'super', 'supplies', 'supplies for', 'supplies needed', 'supplies success', 'supply', 'support', 'surface', 'table', 'tables', 'tablet', 'tablets', 'take', 'take seat', 'takes', 'taking', 'tales', 'talk', 'target', 'targeting', 'tastic', 'teach', 'teacher', 'teaching', 'teaching technology', 'team', 'teamwork', 'tech', 'tech savvy', 'techies', 'techno', 'technological', 'technology', 'technology 21st', 'technology all', 'technology classroom', 'technology engineering', 'technology for', 'technology future', 'technology needed', 'technology our', 'techy', 'teens', 'tennis', 'terrific', 'testing', 'text', 'texts', 'than', 'that', 'the', 'the art', 'the classroom', 'the future', 'the places', 'the power', 'the world', 'theater', 'theatre', 'their', 'them', 'therapy', 'there', 'there no', 'these', 'they', 'things', 'think', 'thinkers', 'thinking', 'thinking through', 'third', 'third grade', 'third graders', 'this', 'those', 'thousand', 'through', 'through art', 'through literacy', 'through literature', 'through play', 'through reading', 'through technology', 'time', 'time for', 'time kids', 'times', 'tiny', 'title', 'tk', 'to', 'to be', 'to learn', 'to move', 'to read', 'to the', 'today', 'today reader', 'together', 'tomorrow', 'tomorrow leader', 'too', 'tool', 'tools', 'toon', 'top', 'touch', 'towards', 'toys', 'track', 'training', 'trip', 'tune', 'turn', 'two', 'ukuleles', 'under', 'understanding', 'unique', 'unit', 'up', 'up for', 'up learning', 'up our', 'up with', 'urban', 'us', 'us build', 'us get', 'us grow', 'us learn', 'us read', 'use', 'using', 'using technology', 'via', 'video', 'view', 'virtual', 'virtual reality', 'visual', 'vocabulary', 'voice', 'volleyball', 'wall', 'walls', 'want', 'want to', 'wanted', 'warm', 'watch', 'water', 'way', 'way success', 'way through', 'way to', 'ways', 'we', 'we all', 'we are', 'we can', 'we have', 'we learn', 'we like', 'we love', 'we need', 'we want', 'we work', 'welcome', 'wellness', 'what', 'what we', 'when', 'where', 'while', 'while learning', 'while we', 'while you', 'white', 'whiteboards', 'who', 'whole', 'why', 'wiggle', 'wiggle learn', 'wiggle while', 'wiggle wiggle', 'wiggle wobble', 'wiggle worms', 'wiggles', 'wiggles out', 'wiggling', 'wiggly', 'wild', 'will', 'will help', 'window', 'winning', 'with', 'with chromebooks', 'with flexible', 'with new', 'with our', 'with technology', 'without', 'wo', 'wo not', 'wobble', 'wobble chairs', 'wobble learn', 'wobble while', 'wobbling', 'wobbly', 'wonder', 'wonderful', 'word', 'words', 'work', 'working', 'works', 'workshop', 'world', 'world with', 'worms', 'worth', 'would', 'write', 'writers', 'writing', 'year', 'yearbook', 'yes', 'yoga', 'you', 'you can', 'you hear', 'you see', 'you work', 'young', 'young minds', 'young readers', 'your', 'yourself', 'zone']\n"
     ]
    }
   ],
   "source": [
    "train_title_bow = VectorizingTextData('preprocessed_titles', project_data_train, project_data_train)\n",
    "cv_title_bow = VectorizingTextData('preprocessed_titles', project_data_train, project_data_cv)\n",
    "test_title_bow = VectorizingTextData('preprocessed_titles', project_data_train, project_data_test)\n",
    "\n",
    "print(\"Shape of train data matrix after one hot encoding \",train_title_bow.shape)\n",
    "print(\"Shape of cross validation data matrix after one hot encoding \",cv_title_bow.shape)\n",
    "print(\"Shape of test data matrix after one hot encoding \",test_title_bow.shape)\n",
    "\n",
    "title_features = fnGetTextFeatures('preprocessed_titles', project_data_train, project_data_train)\n",
    "print(title_features)"
   ]
  },
  {
   "cell_type": "markdown",
   "metadata": {
    "colab_type": "text",
    "id": "gK_SHRpTCyol"
   },
   "source": [
    "#### 1.5.2.2 tfidf"
   ]
  },
  {
   "cell_type": "code",
   "execution_count": 37,
   "metadata": {
    "colab": {},
    "colab_type": "code",
    "executionInfo": {
     "elapsed": 43677,
     "status": "ok",
     "timestamp": 1594367046973,
     "user": {
      "displayName": "Venkatesh Gupta",
      "photoUrl": "https://lh3.googleusercontent.com/a-/AOh14Gg8U_KUdnX4JWp6we7eGz6jpyKj3zYYWCk4s2LqwQ=s64",
      "userId": "13664137025209273415"
     },
     "user_tz": -330
    },
    "id": "LFsx6ujVr2wk"
   },
   "outputs": [],
   "source": [
    "def tfidf_Vectorizer(sFeature, project_data_fitting,project_data_transform):\n",
    "    from sklearn.feature_extraction.text import TfidfVectorizer\n",
    "    vectorizer_tfidf_feature = TfidfVectorizer(min_df=10, ngram_range=(1, 2),max_features = 5000)\n",
    "    vectorizer_tfidf_feature.fit(project_data_train[sFeature])      #Fitting has to be on Train data\n",
    "\n",
    "    tfidf_vect = vectorizer_tfidf_feature.transform(project_data_transform[sFeature].values)\n",
    "    return(tfidf_vect)"
   ]
  },
  {
   "cell_type": "code",
   "execution_count": 38,
   "metadata": {
    "colab": {
     "base_uri": "https://localhost:8080/",
     "height": 73
    },
    "colab_type": "code",
    "executionInfo": {
     "elapsed": 51998,
     "status": "ok",
     "timestamp": 1594367055305,
     "user": {
      "displayName": "Venkatesh Gupta",
      "photoUrl": "https://lh3.googleusercontent.com/a-/AOh14Gg8U_KUdnX4JWp6we7eGz6jpyKj3zYYWCk4s2LqwQ=s64",
      "userId": "13664137025209273415"
     },
     "user_tz": -330
    },
    "id": "l0gzc2iwCyoo",
    "outputId": "234d9f7d-a770-43a7-e0c1-f9c9b72ca1ef"
   },
   "outputs": [
    {
     "name": "stdout",
     "output_type": "stream",
     "text": [
      "Shape of train data matrix after one hot encoding  (17956, 5000)\n",
      "Shape of cross validation data matrix after one hot encoding  (8844, 5000)\n",
      "Shape of test data matrix after one hot encoding  (13200, 5000)\n"
     ]
    }
   ],
   "source": [
    "train_essay_tfidf = tfidf_Vectorizer('preprocessed_essays',  project_data_train, project_data_train)\n",
    "cv_essay_tfidf = tfidf_Vectorizer('preprocessed_essays',  project_data_train, project_data_cv)\n",
    "test_essay_tfidf = tfidf_Vectorizer('preprocessed_essays',  project_data_train, project_data_test)\n",
    "\n",
    "print(\"Shape of train data matrix after one hot encoding \",train_essay_tfidf.shape)\n",
    "print(\"Shape of cross validation data matrix after one hot encoding \",cv_essay_tfidf.shape)\n",
    "print(\"Shape of test data matrix after one hot encoding \",test_essay_tfidf.shape)"
   ]
  },
  {
   "cell_type": "code",
   "execution_count": 39,
   "metadata": {
    "colab": {
     "base_uri": "https://localhost:8080/",
     "height": 73
    },
    "colab_type": "code",
    "executionInfo": {
     "elapsed": 51989,
     "status": "ok",
     "timestamp": 1594367055307,
     "user": {
      "displayName": "Venkatesh Gupta",
      "photoUrl": "https://lh3.googleusercontent.com/a-/AOh14Gg8U_KUdnX4JWp6we7eGz6jpyKj3zYYWCk4s2LqwQ=s64",
      "userId": "13664137025209273415"
     },
     "user_tz": -330
    },
    "id": "BoECqgt0r2wx",
    "outputId": "5891f884-e07f-4c6b-80b4-f80638ec44fb"
   },
   "outputs": [
    {
     "name": "stdout",
     "output_type": "stream",
     "text": [
      "Shape of train data matrix after one hot encoding  (17956, 1514)\n",
      "Shape of cross validation data matrix after one hot encoding  (8844, 1514)\n",
      "Shape of test data matrix after one hot encoding  (13200, 1514)\n"
     ]
    }
   ],
   "source": [
    "train_title_tfidf = tfidf_Vectorizer('preprocessed_titles',  project_data_train, project_data_train)\n",
    "cv_title_tfidf = tfidf_Vectorizer('preprocessed_titles',  project_data_train, project_data_cv)\n",
    "test_title_tfidf = tfidf_Vectorizer('preprocessed_titles',  project_data_train, project_data_test)\n",
    "\n",
    "print(\"Shape of train data matrix after one hot encoding \",train_title_tfidf.shape)\n",
    "print(\"Shape of cross validation data matrix after one hot encoding \",cv_title_tfidf.shape)\n",
    "print(\"Shape of test data matrix after one hot encoding \",test_title_tfidf.shape)"
   ]
  },
  {
   "cell_type": "markdown",
   "metadata": {
    "colab_type": "text",
    "id": "-olRrWcrr2w2"
   },
   "source": [
    "#### 1.5.2.3 Using Pretrained Models: TFIDF weighted W2V"
   ]
  },
  {
   "cell_type": "code",
   "execution_count": 40,
   "metadata": {
    "colab": {},
    "colab_type": "code",
    "executionInfo": {
     "elapsed": 52627,
     "status": "ok",
     "timestamp": 1594367055953,
     "user": {
      "displayName": "Venkatesh Gupta",
      "photoUrl": "https://lh3.googleusercontent.com/a-/AOh14Gg8U_KUdnX4JWp6we7eGz6jpyKj3zYYWCk4s2LqwQ=s64",
      "userId": "13664137025209273415"
     },
     "user_tz": -330
    },
    "id": "Gu0YB3p4Cyo8"
   },
   "outputs": [],
   "source": [
    "# stronging variables into pickle files python: http://www.jessicayung.com/how-to-use-pickle-to-save-and-load-variables-in-python/\n",
    "# make sure you have the glove_vectors file\n",
    "with open('glove_vectors', 'rb') as f:\n",
    "    model = pickle.load(f)\n",
    "    glove_words =  set(model.keys())"
   ]
  },
  {
   "cell_type": "code",
   "execution_count": 41,
   "metadata": {
    "colab": {
     "base_uri": "https://localhost:8080/",
     "height": 896
    },
    "colab_type": "code",
    "executionInfo": {
     "elapsed": 57442,
     "status": "ok",
     "timestamp": 1594367060777,
     "user": {
      "displayName": "Venkatesh Gupta",
      "photoUrl": "https://lh3.googleusercontent.com/a-/AOh14Gg8U_KUdnX4JWp6we7eGz6jpyKj3zYYWCk4s2LqwQ=s64",
      "userId": "13664137025209273415"
     },
     "user_tz": -330
    },
    "id": "TEKi0VqVCyo_",
    "outputId": "74309c82-08c7-491a-998c-10b2f7a099c5",
    "scrolled": true
   },
   "outputs": [
    {
     "name": "stderr",
     "output_type": "stream",
     "text": [
      "100%|██████████| 17956/17956 [00:13<00:00, 1299.52it/s]"
     ]
    },
    {
     "name": "stdout",
     "output_type": "stream",
     "text": [
      "17956\n",
      "300\n"
     ]
    },
    {
     "name": "stderr",
     "output_type": "stream",
     "text": [
      "\n"
     ]
    }
   ],
   "source": [
    "\n",
    "# average Word2Vec\n",
    "# compute average word2vec for each review.\n",
    "train_No_ofWords_essays=[];\n",
    "train_avg_w2v_essays = []; # the avg-w2v for each sentence/review is stored in this list\n",
    "for sentence in tqdm(project_data_train['preprocessed_essays']): # for each review/sentence\n",
    "    vector = np.zeros(300) # as word vectors are of zero length\n",
    "    cnt_words =0; # num of words with a valid vector in the sentence/review\n",
    "    for word in sentence.split(): # for each word in a review/sentence\n",
    "        if word in glove_words:\n",
    "            vector += model[word]\n",
    "            cnt_words += 1\n",
    "    if cnt_words != 0:\n",
    "        vector /= cnt_words\n",
    "    train_avg_w2v_essays.append(vector)\n",
    "    train_No_ofWords_essays.append(len(sentence.split()))\n",
    "    \n",
    "print(len(train_avg_w2v_essays))\n",
    "print(len(train_avg_w2v_essays[0]))"
   ]
  },
  {
   "cell_type": "code",
   "execution_count": 42,
   "metadata": {},
   "outputs": [
    {
     "data": {
      "text/plain": [
       "17956"
      ]
     },
     "execution_count": 42,
     "metadata": {},
     "output_type": "execute_result"
    }
   ],
   "source": [
    "len(train_No_ofWords_essays)"
   ]
  },
  {
   "cell_type": "code",
   "execution_count": 43,
   "metadata": {
    "colab": {
     "base_uri": "https://localhost:8080/",
     "height": 485
    },
    "colab_type": "code",
    "executionInfo": {
     "elapsed": 59767,
     "status": "ok",
     "timestamp": 1594367063112,
     "user": {
      "displayName": "Venkatesh Gupta",
      "photoUrl": "https://lh3.googleusercontent.com/a-/AOh14Gg8U_KUdnX4JWp6we7eGz6jpyKj3zYYWCk4s2LqwQ=s64",
      "userId": "13664137025209273415"
     },
     "user_tz": -330
    },
    "id": "W3y86BuVr2xB",
    "outputId": "8705ca88-ff69-4b54-d521-14346aa8a631"
   },
   "outputs": [
    {
     "name": "stderr",
     "output_type": "stream",
     "text": [
      "100%|██████████| 8844/8844 [00:06<00:00, 1319.39it/s]"
     ]
    },
    {
     "name": "stdout",
     "output_type": "stream",
     "text": [
      "8844\n",
      "300\n",
      "8844\n"
     ]
    },
    {
     "name": "stderr",
     "output_type": "stream",
     "text": [
      "\n"
     ]
    }
   ],
   "source": [
    "# average Word2Vec\n",
    "# compute average word2vec for each review.\n",
    "cv_avg_w2v_essays = []; \n",
    "cv_No_ofWords_essays=[];# the avg-w2v for each sentence/review is stored in this list\n",
    "for sentence in tqdm(project_data_cv['preprocessed_essays']): # for each review/sentence\n",
    "    vector = np.zeros(300) # as word vectors are of zero length\n",
    "    cnt_words =0; # num of words with a valid vector in the sentence/review\n",
    "    for word in sentence.split(): # for each word in a review/sentence\n",
    "        if word in glove_words:\n",
    "            vector += model[word]\n",
    "            cnt_words += 1\n",
    "    if cnt_words != 0:\n",
    "        vector /= cnt_words\n",
    "    cv_avg_w2v_essays.append(vector)\n",
    "    cv_No_ofWords_essays.append(len(sentence.split()))\n",
    "\n",
    "print(len(cv_avg_w2v_essays))\n",
    "print(len(cv_avg_w2v_essays[0]))\n",
    "print(len(cv_No_ofWords_essays))"
   ]
  },
  {
   "cell_type": "code",
   "execution_count": 44,
   "metadata": {
    "colab": {
     "base_uri": "https://localhost:8080/",
     "height": 690
    },
    "colab_type": "code",
    "executionInfo": {
     "elapsed": 63141,
     "status": "ok",
     "timestamp": 1594367066499,
     "user": {
      "displayName": "Venkatesh Gupta",
      "photoUrl": "https://lh3.googleusercontent.com/a-/AOh14Gg8U_KUdnX4JWp6we7eGz6jpyKj3zYYWCk4s2LqwQ=s64",
      "userId": "13664137025209273415"
     },
     "user_tz": -330
    },
    "id": "ImnsXixxr2xG",
    "outputId": "d103d4eb-aa0e-4a82-e391-eafdf2e6b3f0"
   },
   "outputs": [
    {
     "name": "stderr",
     "output_type": "stream",
     "text": [
      "100%|██████████| 13200/13200 [00:09<00:00, 1326.97it/s]"
     ]
    },
    {
     "name": "stdout",
     "output_type": "stream",
     "text": [
      "13200\n",
      "300\n",
      "13200\n"
     ]
    },
    {
     "name": "stderr",
     "output_type": "stream",
     "text": [
      "\n"
     ]
    }
   ],
   "source": [
    "# compute average word2vec for each review.\n",
    "test_No_ofWords_essays=[];\n",
    "test_avg_w2v_essays = []; # the avg-w2v for each sentence/review is stored in this list\n",
    "for sentence in tqdm(project_data_test['preprocessed_essays']): # for each review/sentence\n",
    "    vector = np.zeros(300) # as word vectors are of zero length\n",
    "    cnt_words =0; # num of words with a valid vector in the sentence/review\n",
    "    for word in sentence.split(): # for each word in a review/sentence\n",
    "        if word in glove_words:\n",
    "            vector += model[word]\n",
    "            cnt_words += 1\n",
    "    if cnt_words != 0:\n",
    "        vector /= cnt_words\n",
    "    test_avg_w2v_essays.append(vector)\n",
    "    test_No_ofWords_essays.append(len(sentence.split()))\n",
    "\n",
    "print(len(test_avg_w2v_essays))\n",
    "print(len(test_avg_w2v_essays[0]))\n",
    "print(len(test_No_ofWords_essays))"
   ]
  },
  {
   "cell_type": "code",
   "execution_count": 45,
   "metadata": {
    "colab": {
     "base_uri": "https://localhost:8080/",
     "height": 129
    },
    "colab_type": "code",
    "executionInfo": {
     "elapsed": 63818,
     "status": "ok",
     "timestamp": 1594367067186,
     "user": {
      "displayName": "Venkatesh Gupta",
      "photoUrl": "https://lh3.googleusercontent.com/a-/AOh14Gg8U_KUdnX4JWp6we7eGz6jpyKj3zYYWCk4s2LqwQ=s64",
      "userId": "13664137025209273415"
     },
     "user_tz": -330
    },
    "id": "YE6WXj1tr2xO",
    "outputId": "2bf75e29-d484-469b-9c45-c7bcf8abfe54"
   },
   "outputs": [
    {
     "name": "stderr",
     "output_type": "stream",
     "text": [
      "100%|██████████| 17956/17956 [00:00<00:00, 26245.06it/s]"
     ]
    },
    {
     "name": "stdout",
     "output_type": "stream",
     "text": [
      "17956\n",
      "300\n",
      "17956\n"
     ]
    },
    {
     "name": "stderr",
     "output_type": "stream",
     "text": [
      "\n"
     ]
    }
   ],
   "source": [
    "# average Word2Vec\n",
    "# compute average word2vec for each review.\n",
    "train_No_ofWords_titles=[];\n",
    "train_avg_w2v_titles = []; # the avg-w2v for each sentence/review is stored in this list\n",
    "for sentence in tqdm(project_data_train['preprocessed_titles']): # for each review/sentence\n",
    "    vector = np.zeros(300) # as word vectors are of zero length\n",
    "    cnt_words =0; # num of words with a valid vector in the sentence/review\n",
    "    for word in sentence.split(): # for each word in a review/sentence\n",
    "        if word in glove_words:\n",
    "            vector += model[word]\n",
    "            cnt_words += 1\n",
    "    if cnt_words != 0:\n",
    "        vector /= cnt_words\n",
    "    train_avg_w2v_titles.append(vector)\n",
    "    train_No_ofWords_titles.append(len(sentence.split()))\n",
    "                                   \n",
    "print(len(train_avg_w2v_titles))\n",
    "print(len(train_avg_w2v_titles[0]))\n",
    "print(len(train_No_ofWords_titles))"
   ]
  },
  {
   "cell_type": "code",
   "execution_count": 46,
   "metadata": {
    "colab": {
     "base_uri": "https://localhost:8080/",
     "height": 111
    },
    "colab_type": "code",
    "executionInfo": {
     "elapsed": 63808,
     "status": "ok",
     "timestamp": 1594367067187,
     "user": {
      "displayName": "Venkatesh Gupta",
      "photoUrl": "https://lh3.googleusercontent.com/a-/AOh14Gg8U_KUdnX4JWp6we7eGz6jpyKj3zYYWCk4s2LqwQ=s64",
      "userId": "13664137025209273415"
     },
     "user_tz": -330
    },
    "id": "ABN8TP6jr2xV",
    "outputId": "99dfcbfb-6baa-490f-e161-3926d1ab38f7"
   },
   "outputs": [
    {
     "name": "stderr",
     "output_type": "stream",
     "text": [
      "100%|██████████| 8844/8844 [00:00<00:00, 18899.73it/s]"
     ]
    },
    {
     "name": "stdout",
     "output_type": "stream",
     "text": [
      "8844\n",
      "300\n",
      "8844\n"
     ]
    },
    {
     "name": "stderr",
     "output_type": "stream",
     "text": [
      "\n"
     ]
    }
   ],
   "source": [
    "# average Word2Vec\n",
    "# compute average word2vec for each review.\n",
    "cv_No_ofWords_titles=[];\n",
    "cv_avg_w2v_titles = []; # the avg-w2v for each sentence/review is stored in this list\n",
    "for sentence in tqdm(project_data_cv['preprocessed_titles']): # for each review/sentence\n",
    "    vector = np.zeros(300) # as word vectors are of zero length\n",
    "    cnt_words =0; # num of words with a valid vector in the sentence/review\n",
    "    for word in sentence.split(): # for each word in a review/sentence\n",
    "        if word in glove_words:\n",
    "            vector += model[word]\n",
    "            cnt_words += 1\n",
    "    if cnt_words != 0:\n",
    "        vector /= cnt_words\n",
    "    cv_avg_w2v_titles.append(vector)\n",
    "    cv_No_ofWords_titles.append(len(sentence.split()))\n",
    "\n",
    "print(len(cv_avg_w2v_titles))\n",
    "print(len(cv_avg_w2v_titles[0]))\n",
    "print(len(cv_No_ofWords_titles))"
   ]
  },
  {
   "cell_type": "code",
   "execution_count": 47,
   "metadata": {
    "colab": {
     "base_uri": "https://localhost:8080/",
     "height": 111
    },
    "colab_type": "code",
    "executionInfo": {
     "elapsed": 63801,
     "status": "ok",
     "timestamp": 1594367067190,
     "user": {
      "displayName": "Venkatesh Gupta",
      "photoUrl": "https://lh3.googleusercontent.com/a-/AOh14Gg8U_KUdnX4JWp6we7eGz6jpyKj3zYYWCk4s2LqwQ=s64",
      "userId": "13664137025209273415"
     },
     "user_tz": -330
    },
    "id": "Np9RkpMBr2xZ",
    "outputId": "e2f051ba-cf28-4213-9d90-07b23f3e6d9d"
   },
   "outputs": [
    {
     "name": "stderr",
     "output_type": "stream",
     "text": [
      "100%|██████████| 13200/13200 [00:00<00:00, 18425.57it/s]"
     ]
    },
    {
     "name": "stdout",
     "output_type": "stream",
     "text": [
      "13200\n",
      "300\n",
      "13200\n"
     ]
    },
    {
     "name": "stderr",
     "output_type": "stream",
     "text": [
      "\n"
     ]
    }
   ],
   "source": [
    "# average Word2Vec\n",
    "# compute average word2vec for each review.\n",
    "test_No_ofWords_titles=[];\n",
    "test_avg_w2v_titles = []; # the avg-w2v for each sentence/review is stored in this list\n",
    "for sentence in tqdm(project_data_test['preprocessed_titles']): # for each review/sentence\n",
    "    vector = np.zeros(300) # as word vectors are of zero length\n",
    "    cnt_words =0; # num of words with a valid vector in the sentence/review\n",
    "    for word in sentence.split(): # for each word in a review/sentence\n",
    "        if word in glove_words:\n",
    "            vector += model[word]\n",
    "            cnt_words += 1\n",
    "    if cnt_words != 0:\n",
    "        vector /= cnt_words\n",
    "    test_avg_w2v_titles.append(vector)\n",
    "    test_No_ofWords_titles.append(len(sentence.split()))\n",
    "\n",
    "print(len(test_avg_w2v_titles))\n",
    "print(len(test_avg_w2v_titles[0]))\n",
    "print(len(test_No_ofWords_titles))"
   ]
  },
  {
   "cell_type": "markdown",
   "metadata": {
    "colab_type": "text",
    "id": "_s3QN_ZNCypD"
   },
   "source": [
    "#### 1.5.2.3 Using Pretrained Models: TFIDF weighted W2V"
   ]
  },
  {
   "cell_type": "code",
   "execution_count": 48,
   "metadata": {
    "colab": {},
    "colab_type": "code",
    "executionInfo": {
     "elapsed": 63791,
     "status": "ok",
     "timestamp": 1594367067190,
     "user": {
      "displayName": "Venkatesh Gupta",
      "photoUrl": "https://lh3.googleusercontent.com/a-/AOh14Gg8U_KUdnX4JWp6we7eGz6jpyKj3zYYWCk4s2LqwQ=s64",
      "userId": "13664137025209273415"
     },
     "user_tz": -330
    },
    "id": "r0wLePgMr2xg"
   },
   "outputs": [],
   "source": [
    "# Similarly you can vectorize for title also\n",
    "tfidf_model = TfidfVectorizer()\n",
    "tfidf_model.fit(project_data_train['preprocessed_titles'])\n",
    "# we are converting a dictionary with word as a key, and the idf as a value\n",
    "dictionary = dict(zip(tfidf_model.get_feature_names(), list(tfidf_model.idf_)))\n",
    "tfidf_words = set(tfidf_model.get_feature_names())"
   ]
  },
  {
   "cell_type": "code",
   "execution_count": 49,
   "metadata": {
    "colab": {
     "base_uri": "https://localhost:8080/",
     "height": 223
    },
    "colab_type": "code",
    "executionInfo": {
     "elapsed": 65050,
     "status": "ok",
     "timestamp": 1594367068456,
     "user": {
      "displayName": "Venkatesh Gupta",
      "photoUrl": "https://lh3.googleusercontent.com/a-/AOh14Gg8U_KUdnX4JWp6we7eGz6jpyKj3zYYWCk4s2LqwQ=s64",
      "userId": "13664137025209273415"
     },
     "user_tz": -330
    },
    "id": "nD56bsiRCypE",
    "outputId": "45c125f3-e02b-4849-e3e3-2753c36e5297"
   },
   "outputs": [
    {
     "name": "stderr",
     "output_type": "stream",
     "text": [
      "100%|██████████| 17956/17956 [00:01<00:00, 11180.96it/s]"
     ]
    },
    {
     "name": "stdout",
     "output_type": "stream",
     "text": [
      "17956\n",
      "300\n"
     ]
    },
    {
     "name": "stderr",
     "output_type": "stream",
     "text": [
      "\n"
     ]
    }
   ],
   "source": [
    "# average Word2Vec\n",
    "# compute average word2vec for each review.\n",
    "train_tfidf_w2v_titles = []; # the avg-w2v for each sentence/review is stored in this list\n",
    "for sentence in tqdm(project_data_train['preprocessed_titles']): # for each review/sentence\n",
    "    vector = np.zeros(300) # as word vectors are of zero length\n",
    "    tf_idf_weight =0; # num of words with a valid vector in the sentence/review\n",
    "    for word in sentence.split(): # for each word in a review/sentence\n",
    "        if (word in glove_words) and (word in tfidf_words):\n",
    "            vec = model[word] # getting the vector for each word\n",
    "            # here we are multiplying idf value(dictionary[word]) and the tf value((sentence.count(word)/len(sentence.split())))\n",
    "            tf_idf = dictionary[word]*(sentence.count(word)/len(sentence.split())) # getting the tfidf value for each word\n",
    "            vector += (vec * tf_idf) # calculating tfidf weighted w2v\n",
    "            tf_idf_weight += tf_idf\n",
    "    if tf_idf_weight != 0:\n",
    "        vector /= tf_idf_weight\n",
    "    train_tfidf_w2v_titles.append(vector)\n",
    "\n",
    "print(len(train_tfidf_w2v_titles))\n",
    "print(len(train_tfidf_w2v_titles[0]))"
   ]
  },
  {
   "cell_type": "code",
   "execution_count": 50,
   "metadata": {
    "colab": {
     "base_uri": "https://localhost:8080/",
     "height": 129
    },
    "colab_type": "code",
    "executionInfo": {
     "elapsed": 65042,
     "status": "ok",
     "timestamp": 1594367068459,
     "user": {
      "displayName": "Venkatesh Gupta",
      "photoUrl": "https://lh3.googleusercontent.com/a-/AOh14Gg8U_KUdnX4JWp6we7eGz6jpyKj3zYYWCk4s2LqwQ=s64",
      "userId": "13664137025209273415"
     },
     "user_tz": -330
    },
    "id": "8aB83HDUCypL",
    "outputId": "a620ead0-b2b5-494f-d388-0a871d7733bc",
    "scrolled": true
   },
   "outputs": [
    {
     "name": "stderr",
     "output_type": "stream",
     "text": [
      "100%|██████████| 8844/8844 [00:00<00:00, 16764.44it/s]"
     ]
    },
    {
     "name": "stdout",
     "output_type": "stream",
     "text": [
      "8844\n",
      "300\n"
     ]
    },
    {
     "name": "stderr",
     "output_type": "stream",
     "text": [
      "\n"
     ]
    }
   ],
   "source": [
    "# average Word2Vec\n",
    "# compute average word2vec for each review.\n",
    "cv_tfidf_w2v_titles = []; # the avg-w2v for each sentence/review is stored in this list\n",
    "for sentence in tqdm(project_data_cv['preprocessed_titles']): # for each review/sentence\n",
    "    vector = np.zeros(300) # as word vectors are of zero length\n",
    "    tf_idf_weight =0; # num of words with a valid vector in the sentence/review\n",
    "    for word in sentence.split(): # for each word in a review/sentence\n",
    "        if (word in glove_words) and (word in tfidf_words):\n",
    "            vec = model[word] # getting the vector for each word\n",
    "            # here we are multiplying idf value(dictionary[word]) and the tf value((sentence.count(word)/len(sentence.split())))\n",
    "            tf_idf = dictionary[word]*(sentence.count(word)/len(sentence.split())) # getting the tfidf value for each word\n",
    "            vector += (vec * tf_idf) # calculating tfidf weighted w2v\n",
    "            tf_idf_weight += tf_idf\n",
    "    if tf_idf_weight != 0:\n",
    "        vector /= tf_idf_weight\n",
    "    cv_tfidf_w2v_titles.append(vector)\n",
    "\n",
    "print(len(cv_tfidf_w2v_titles))\n",
    "print(len(cv_tfidf_w2v_titles[0]))"
   ]
  },
  {
   "cell_type": "code",
   "execution_count": 51,
   "metadata": {
    "colab": {
     "base_uri": "https://localhost:8080/",
     "height": 167
    },
    "colab_type": "code",
    "executionInfo": {
     "elapsed": 65632,
     "status": "ok",
     "timestamp": 1594367069062,
     "user": {
      "displayName": "Venkatesh Gupta",
      "photoUrl": "https://lh3.googleusercontent.com/a-/AOh14Gg8U_KUdnX4JWp6we7eGz6jpyKj3zYYWCk4s2LqwQ=s64",
      "userId": "13664137025209273415"
     },
     "user_tz": -330
    },
    "id": "hTmVKnder2xw",
    "outputId": "d233ad42-45f0-413b-e0a7-6977eb0ce5c7"
   },
   "outputs": [
    {
     "name": "stderr",
     "output_type": "stream",
     "text": [
      "100%|██████████| 13200/13200 [00:01<00:00, 13122.59it/s]"
     ]
    },
    {
     "name": "stdout",
     "output_type": "stream",
     "text": [
      "13200\n",
      "300\n"
     ]
    },
    {
     "name": "stderr",
     "output_type": "stream",
     "text": [
      "\n"
     ]
    }
   ],
   "source": [
    "# compute average word2vec for each review.\n",
    "test_tfidf_w2v_titles = []; # the avg-w2v for each sentence/review is stored in this list\n",
    "for sentence in tqdm(project_data_test['preprocessed_titles']): # for each review/sentence\n",
    "    vector = np.zeros(300) # as word vectors are of zero length\n",
    "    tf_idf_weight =0; # num of words with a valid vector in the sentence/review\n",
    "    for word in sentence.split(): # for each word in a review/sentence\n",
    "        if (word in glove_words) and (word in tfidf_words):\n",
    "            vec = model[word] # getting the vector for each word\n",
    "            # here we are multiplying idf value(dictionary[word]) and the tf value((sentence.count(word)/len(sentence.split())))\n",
    "            tf_idf = dictionary[word]*(sentence.count(word)/len(sentence.split())) # getting the tfidf value for each word\n",
    "            vector += (vec * tf_idf) # calculating tfidf weighted w2v\n",
    "            tf_idf_weight += tf_idf\n",
    "    if tf_idf_weight != 0:\n",
    "        vector /= tf_idf_weight\n",
    "    test_tfidf_w2v_titles.append(vector)\n",
    "\n",
    "print(len(test_tfidf_w2v_titles))\n",
    "print(len(test_tfidf_w2v_titles[0]))"
   ]
  },
  {
   "cell_type": "code",
   "execution_count": 52,
   "metadata": {
    "colab": {},
    "colab_type": "code",
    "executionInfo": {
     "elapsed": 67550,
     "status": "ok",
     "timestamp": 1594367070987,
     "user": {
      "displayName": "Venkatesh Gupta",
      "photoUrl": "https://lh3.googleusercontent.com/a-/AOh14Gg8U_KUdnX4JWp6we7eGz6jpyKj3zYYWCk4s2LqwQ=s64",
      "userId": "13664137025209273415"
     },
     "user_tz": -330
    },
    "id": "Fxr8IxXkulxo"
   },
   "outputs": [],
   "source": [
    "# Similarly you can vectorize for title also\n",
    "tfidf_model = TfidfVectorizer()\n",
    "tfidf_model.fit(project_data_train['preprocessed_essays'])\n",
    "# we are converting a dictionary with word as a key, and the idf as a value\n",
    "dictionary = dict(zip(tfidf_model.get_feature_names(), list(tfidf_model.idf_)))\n",
    "tfidf_words = set(tfidf_model.get_feature_names())"
   ]
  },
  {
   "cell_type": "code",
   "execution_count": 53,
   "metadata": {
    "colab": {
     "base_uri": "https://localhost:8080/",
     "height": 1000
    },
    "colab_type": "code",
    "executionInfo": {
     "elapsed": 95840,
     "status": "ok",
     "timestamp": 1594367099284,
     "user": {
      "displayName": "Venkatesh Gupta",
      "photoUrl": "https://lh3.googleusercontent.com/a-/AOh14Gg8U_KUdnX4JWp6we7eGz6jpyKj3zYYWCk4s2LqwQ=s64",
      "userId": "13664137025209273415"
     },
     "user_tz": -330
    },
    "id": "7mbYjWfgu0Y5",
    "outputId": "6af3d358-bbcb-4995-b105-c35bd64bf90a"
   },
   "outputs": [
    {
     "name": "stderr",
     "output_type": "stream",
     "text": [
      "100%|██████████| 17956/17956 [01:45<00:00, 170.71it/s]"
     ]
    },
    {
     "name": "stdout",
     "output_type": "stream",
     "text": [
      "17956\n",
      "300\n"
     ]
    },
    {
     "name": "stderr",
     "output_type": "stream",
     "text": [
      "\n"
     ]
    }
   ],
   "source": [
    "# average Word2Vec\n",
    "# compute average word2vec for each review.\n",
    "train_tfidf_w2v_essays = []; # the avg-w2v for each sentence/review is stored in this list\n",
    "for sentence in tqdm(project_data_train['preprocessed_essays']): # for each review/sentence\n",
    "    vector = np.zeros(300) # as word vectors are of zero length\n",
    "    tf_idf_weight =0; # num of words with a valid vector in the sentence/review\n",
    "    for word in sentence.split(): # for each word in a review/sentence\n",
    "        if (word in glove_words) and (word in tfidf_words):\n",
    "            vec = model[word] # getting the vector for each word\n",
    "            # here we are multiplying idf value(dictionary[word]) and the tf value((sentence.count(word)/len(sentence.split())))\n",
    "            tf_idf = dictionary[word]*(sentence.count(word)/len(sentence.split())) # getting the tfidf value for each word\n",
    "            vector += (vec * tf_idf) # calculating tfidf weighted w2v\n",
    "            tf_idf_weight += tf_idf\n",
    "    if tf_idf_weight != 0:\n",
    "        vector /= tf_idf_weight\n",
    "    train_tfidf_w2v_essays.append(vector)\n",
    "\n",
    "print(len(train_tfidf_w2v_essays))\n",
    "print(len(train_tfidf_w2v_essays[0]))"
   ]
  },
  {
   "cell_type": "code",
   "execution_count": 54,
   "metadata": {
    "colab": {
     "base_uri": "https://localhost:8080/",
     "height": 1000
    },
    "colab_type": "code",
    "executionInfo": {
     "elapsed": 110382,
     "status": "ok",
     "timestamp": 1594367113836,
     "user": {
      "displayName": "Venkatesh Gupta",
      "photoUrl": "https://lh3.googleusercontent.com/a-/AOh14Gg8U_KUdnX4JWp6we7eGz6jpyKj3zYYWCk4s2LqwQ=s64",
      "userId": "13664137025209273415"
     },
     "user_tz": -330
    },
    "id": "OPEMa-w-u6gM",
    "outputId": "683e012c-1016-4e4e-9b23-6a7c3059a8bf"
   },
   "outputs": [
    {
     "name": "stderr",
     "output_type": "stream",
     "text": [
      "100%|██████████| 8844/8844 [00:45<00:00, 194.40it/s]"
     ]
    },
    {
     "name": "stdout",
     "output_type": "stream",
     "text": [
      "8844\n",
      "300\n"
     ]
    },
    {
     "name": "stderr",
     "output_type": "stream",
     "text": [
      "\n"
     ]
    }
   ],
   "source": [
    "# average Word2Vec\n",
    "# compute average word2vec for each review.\n",
    "cv_tfidf_w2v_essays = []; # the avg-w2v for each sentence/review is stored in this list\n",
    "for sentence in tqdm(project_data_cv['preprocessed_essays']): # for each review/sentence\n",
    "    vector = np.zeros(300) # as word vectors are of zero length\n",
    "    tf_idf_weight =0; # num of words with a valid vector in the sentence/review\n",
    "    for word in sentence.split(): # for each word in a review/sentence\n",
    "        if (word in glove_words) and (word in tfidf_words):\n",
    "            vec = model[word] # getting the vector for each word\n",
    "            # here we are multiplying idf value(dictionary[word]) and the tf value((sentence.count(word)/len(sentence.split())))\n",
    "            tf_idf = dictionary[word]*(sentence.count(word)/len(sentence.split())) # getting the tfidf value for each word\n",
    "            vector += (vec * tf_idf) # calculating tfidf weighted w2v\n",
    "            tf_idf_weight += tf_idf\n",
    "    if tf_idf_weight != 0:\n",
    "        vector /= tf_idf_weight\n",
    "    cv_tfidf_w2v_essays.append(vector)\n",
    "\n",
    "print(len(cv_tfidf_w2v_essays))\n",
    "print(len(cv_tfidf_w2v_essays[0]))"
   ]
  },
  {
   "cell_type": "code",
   "execution_count": 55,
   "metadata": {
    "colab": {
     "base_uri": "https://localhost:8080/",
     "height": 1000
    },
    "colab_type": "code",
    "executionInfo": {
     "elapsed": 131571,
     "status": "ok",
     "timestamp": 1594367135035,
     "user": {
      "displayName": "Venkatesh Gupta",
      "photoUrl": "https://lh3.googleusercontent.com/a-/AOh14Gg8U_KUdnX4JWp6we7eGz6jpyKj3zYYWCk4s2LqwQ=s64",
      "userId": "13664137025209273415"
     },
     "user_tz": -330
    },
    "id": "NRQ7bjfou-i4",
    "outputId": "1dc59bdd-75b2-46e6-f6b8-1b2a387e2ccf"
   },
   "outputs": [
    {
     "name": "stderr",
     "output_type": "stream",
     "text": [
      "100%|██████████| 13200/13200 [01:02<00:00, 212.01it/s]"
     ]
    },
    {
     "name": "stdout",
     "output_type": "stream",
     "text": [
      "13200\n",
      "300\n"
     ]
    },
    {
     "name": "stderr",
     "output_type": "stream",
     "text": [
      "\n"
     ]
    }
   ],
   "source": [
    "# compute average word2vec for each review.\n",
    "test_tfidf_w2v_essays = []; # the avg-w2v for each sentence/review is stored in this list\n",
    "for sentence in tqdm(project_data_test['preprocessed_essays']): # for each review/sentence\n",
    "    vector = np.zeros(300) # as word vectors are of zero length\n",
    "    tf_idf_weight =0; # num of words with a valid vector in the sentence/review\n",
    "    for word in sentence.split(): # for each word in a review/sentence\n",
    "        if (word in glove_words) and (word in tfidf_words):\n",
    "            vec = model[word] # getting the vector for each word\n",
    "            # here we are multiplying idf value(dictionary[word]) and the tf value((sentence.count(word)/len(sentence.split())))\n",
    "            tf_idf = dictionary[word]*(sentence.count(word)/len(sentence.split())) # getting the tfidf value for each word\n",
    "            vector += (vec * tf_idf) # calculating tfidf weighted w2v\n",
    "            tf_idf_weight += tf_idf\n",
    "    if tf_idf_weight != 0:\n",
    "        vector /= tf_idf_weight\n",
    "    test_tfidf_w2v_essays.append(vector)\n",
    "\n",
    "print(len(test_tfidf_w2v_essays))\n",
    "print(len(test_tfidf_w2v_essays[0]))"
   ]
  },
  {
   "cell_type": "markdown",
   "metadata": {
    "colab_type": "text",
    "id": "6Em6Kb2-CypR"
   },
   "source": [
    "### 1.5.3 Vectorizing Numerical features"
   ]
  },
  {
   "cell_type": "code",
   "execution_count": 56,
   "metadata": {
    "colab": {},
    "colab_type": "code",
    "executionInfo": {
     "elapsed": 132839,
     "status": "ok",
     "timestamp": 1594367136311,
     "user": {
      "displayName": "Venkatesh Gupta",
      "photoUrl": "https://lh3.googleusercontent.com/a-/AOh14Gg8U_KUdnX4JWp6we7eGz6jpyKj3zYYWCk4s2LqwQ=s64",
      "userId": "13664137025209273415"
     },
     "user_tz": -330
    },
    "id": "dQunmy9FCypT"
   },
   "outputs": [],
   "source": [
    "price_data = resource_data.groupby('id').agg({'price':'sum', 'quantity':'sum'}).reset_index()\n",
    "\n",
    "project_data_train = pd.merge(project_data_train, price_data, on='id', how='left')\n",
    "project_data_cv = pd.merge(project_data_cv, price_data, on='id', how='left')\n",
    "project_data_test = pd.merge(project_data_test, price_data, on='id', how='left')"
   ]
  },
  {
   "cell_type": "code",
   "execution_count": 57,
   "metadata": {
    "colab": {
     "base_uri": "https://localhost:8080/",
     "height": 92
    },
    "colab_type": "code",
    "executionInfo": {
     "elapsed": 132835,
     "status": "ok",
     "timestamp": 1594367136314,
     "user": {
      "displayName": "Venkatesh Gupta",
      "photoUrl": "https://lh3.googleusercontent.com/a-/AOh14Gg8U_KUdnX4JWp6we7eGz6jpyKj3zYYWCk4s2LqwQ=s64",
      "userId": "13664137025209273415"
     },
     "user_tz": -330
    },
    "id": "owkbYbowCypV",
    "outputId": "94035ceb-2e5b-497c-b2db-b81eaddc05d4"
   },
   "outputs": [
    {
     "name": "stdout",
     "output_type": "stream",
     "text": [
      "After normalization\n",
      "(17956, 1)\n",
      "(8844, 1)\n",
      "(13200, 1)\n"
     ]
    }
   ],
   "source": [
    "from sklearn.preprocessing import Normalizer\n",
    "# normalizer.fit(X_train['price'].values)\n",
    "# this will rise an error Expected 2D array, got 1D array instead: \n",
    "# array.reshape(-1, 1) if your data has a single feature \n",
    "# array.reshape(1, -1)  if it contains a single sample.\n",
    "\n",
    "normalizer = Normalizer()\n",
    "normalizer.fit(project_data_train['price'].values.reshape(-1,1)) \n",
    "\n",
    "\n",
    "price_normalized_train = normalizer.transform(project_data_train['price'].values.reshape(-1, 1))\n",
    "price_normalized_cv = normalizer.transform(project_data_cv['price'].values.reshape(-1, 1))\n",
    "price_normalized_test = normalizer.transform(project_data_test['price'].values.reshape(-1, 1))\n",
    "\n",
    "\n",
    "print('After normalization')\n",
    "print(price_normalized_train.shape)\n",
    "print(price_normalized_cv.shape)\n",
    "print(price_normalized_test.shape)"
   ]
  },
  {
   "cell_type": "code",
   "execution_count": 58,
   "metadata": {
    "colab": {
     "base_uri": "https://localhost:8080/",
     "height": 92
    },
    "colab_type": "code",
    "executionInfo": {
     "elapsed": 132827,
     "status": "ok",
     "timestamp": 1594367136316,
     "user": {
      "displayName": "Venkatesh Gupta",
      "photoUrl": "https://lh3.googleusercontent.com/a-/AOh14Gg8U_KUdnX4JWp6we7eGz6jpyKj3zYYWCk4s2LqwQ=s64",
      "userId": "13664137025209273415"
     },
     "user_tz": -330
    },
    "id": "nDDZIfdhCypY",
    "outputId": "ddd7dc50-4f99-45c8-c613-044a0279634d"
   },
   "outputs": [
    {
     "name": "stdout",
     "output_type": "stream",
     "text": [
      "After normalization\n",
      "(17956, 1)\n",
      "(8844, 1)\n",
      "(13200, 1)\n"
     ]
    }
   ],
   "source": [
    "normalizer = Normalizer()\n",
    "normalizer.fit(project_data_train['teacher_number_of_previously_posted_projects'].values.reshape(-1,1)) \n",
    "\n",
    "\n",
    "# Now standardize the data with above maen and variance.\n",
    "previously_posted_projects_normalized_train = normalizer.transform(project_data_train['teacher_number_of_previously_posted_projects'].values.reshape(-1, 1))\n",
    "previously_posted_projects_normalized_cv = normalizer.transform(project_data_cv['teacher_number_of_previously_posted_projects'].values.reshape(-1, 1))\n",
    "previously_posted_projects_normalized_test = normalizer.transform(project_data_test['teacher_number_of_previously_posted_projects'].values.reshape(-1, 1))\n",
    "\n",
    "\n",
    "print('After normalization')\n",
    "print(previously_posted_projects_normalized_train.shape)\n",
    "print(previously_posted_projects_normalized_cv.shape)\n",
    "print(previously_posted_projects_normalized_test.shape)"
   ]
  },
  {
   "cell_type": "markdown",
   "metadata": {},
   "source": [
    "# Assignment 5: Logistic Regression"
   ]
  },
  {
   "cell_type": "markdown",
   "metadata": {},
   "source": [
    "<ol>\n",
    "    <li><strong>[Task-1] Logistic Regression(either SGDClassifier with log loss, or LogisticRegression) on these feature sets</strong>\n",
    "        <ul>\n",
    "            <li><font color='red'>Set 1</font>: categorical, numerical features + project_title(BOW) + preprocessed_eassay (`BOW with bi-grams` with `min_df=10` and `max_features=5000`)</li>\n",
    "            <li><font color='red'>Set 2</font>: categorical, numerical features + project_title(TFIDF)+  preprocessed_eassay (`TFIDF with bi-grams` with `min_df=10` and `max_features=5000`)</li>\n",
    "            <li><font color='red'>Set 3</font>: categorical, numerical features + project_title(AVG W2V)+  preprocessed_eassay (AVG W2V)</li>\n",
    "            <li><font color='red'>Set 4</font>: categorical, numerical features + project_title(TFIDF W2V)+  preprocessed_essay (TFIDF W2V)</li>        </ul>\n",
    "    </li>\n",
    "    <br>\n",
    "    <li><strong>Hyper paramter tuning (find best hyper parameters corresponding the algorithm that you choose)</strong>\n",
    "        <ul>\n",
    "    <li>Find the best hyper parameter which will give the maximum <a href='https://www.appliedaicourse.com/course/applied-ai-course-online/lessons/receiver-operating-characteristic-curve-roc-curve-and-auc-1/'>AUC</a> value</li>\n",
    "    <li>Find the best hyper paramter using k-fold cross validation or simple cross validation data</li>\n",
    "    <li>Use gridsearch cv or randomsearch cv or you can also write your own for loops to do this task of hyperparameter tuning</li>          \n",
    "        </ul>\n",
    "    </li>\n",
    "    <br>\n",
    "    <li><strong>Representation of results</strong>\n",
    "        <ul>\n",
    "    <li>You need to plot the performance of model both on train data and cross validation data for each hyper parameter, like shown in the figure.\n",
    "    <img src='train_cv_auc.JPG' width=300px></li>\n",
    "    <li>Once after you found the best hyper parameter, you need to train your model with it, and find the AUC on test data and plot the ROC curve on both train and test.\n",
    "    <img src='train_test_auc.JPG' width=300px></li>\n",
    "    <li>Along with plotting ROC curve, you need to print the <a href='https://www.appliedaicourse.com/course/applied-ai-course-online/lessons/confusion-matrix-tpr-fpr-fnr-tnr-1/'>confusion matrix</a> with predicted and original labels of test data points. Please visualize your confusion matrices using <a href='https://seaborn.pydata.org/generated/seaborn.heatmap.html'>seaborn heatmaps.\n",
    "    <img src='confusion_matrix.png' width=300px></li>\n",
    "        </ul>\n",
    "    </li>\n",
    "    <br>\n",
    "    <li><strong>[Task-2] Apply Logistic Regression on the below feature set <font color='red'> Set 5 </font> by finding the best hyper parameter as suggested in step 2 and step 3.</strong>\n",
    "    <li> Consider these set of features <font color='red'> Set 5 :</font>\n",
    "            <ul>\n",
    "                <li><strong>school_state</strong> : categorical data</li>\n",
    "                <li><strong>clean_categories</strong> : categorical data</li>\n",
    "                <li><strong>clean_subcategories</strong> : categorical data</li>\n",
    "                <li><strong>project_grade_category</strong> :categorical data</li>\n",
    "                <li><strong>teacher_prefix</strong> : categorical data</li>\n",
    "                <li><strong>quantity</strong> : numerical data</li>\n",
    "                <li><strong>teacher_number_of_previously_posted_projects</strong> : numerical data</li>\n",
    "                <li><strong>price</strong> : numerical data</li>\n",
    "                <li><strong>sentiment score's of each of the essay</strong> : numerical data</li>\n",
    "                <li><strong>number of words in the title</strong> : numerical data</li>\n",
    "                <li><strong>number of words in the combine essays</strong> : numerical data</li>\n",
    "            </ul>\n",
    "        And apply the Logistic regression on these features by finding the best hyper paramter as suggested in step 2 and step 3 <br>\n",
    "    </li>\n",
    "    <br>\n",
    "    <li><strong>Conclusion</strong>\n",
    "        <ul>\n",
    "    <li>You need to summarize the results at the end of the notebook, summarize it in the table format. To print out a table please refer to this prettytable library<a href='http://zetcode.com/python/prettytable/'>  link</a> \n",
    "        <img src='summary.JPG' width=400px>\n",
    "    </li>\n",
    "        </ul>\n",
    "</ol>"
   ]
  },
  {
   "cell_type": "markdown",
   "metadata": {},
   "source": [
    "<h4><font color='red'>Note: Data Leakage</font></h4>\n",
    "\n",
    "1. There will be an issue of data-leakage if you vectorize the entire data and then split it into train/cv/test.\n",
    "2. To avoid the issue of data-leakage, make sure to split your data first and then vectorize it. \n",
    "3. While vectorizing your data, apply the method fit_transform() on you train data, and apply the method transform() on cv/test data.\n",
    "4. For more details please go through this <a href='https://soundcloud.com/applied-ai-course/leakage-bow-and-tfidf'>link.</a>"
   ]
  },
  {
   "cell_type": "markdown",
   "metadata": {},
   "source": [
    "## <li><font color='red'>Set 1</font>: Categorical, numerical features + project_title(BOW) + preprocessed_eassay (`BOW with bi-grams` with `min_df=10` and `max_features=5000`)</li>"
   ]
  },
  {
   "cell_type": "code",
   "execution_count": 256,
   "metadata": {},
   "outputs": [
    {
     "name": "stdout",
     "output_type": "stream",
     "text": [
      "Final Data matrix\n",
      "(17956, 6615) (17956,)\n",
      "(8844, 6615) (8844,)\n",
      "(13200, 6615) (13200,)\n"
     ]
    }
   ],
   "source": [
    "# merge two sparse matrices: https://stackoverflow.com/a/19710648/4084039\n",
    "from scipy.sparse import hstack\n",
    "# with the same hstack function we are concatinating a sparse matrix and a dense matirx :)\n",
    "X_train = hstack((train_categories_one_hot, train_subcategories_one_hot, train_essay_bow, train_title_bow, train_school_state_category_one_hot,train_teacher_prefix_categories_one_hot, previously_posted_projects_normalized_train, train_project_grade_category_one_hot, price_normalized_train)).tocsr()\n",
    "X_cv = hstack((cv_categories_one_hot, cv_subcategories_one_hot, cv_essay_bow, cv_title_bow, cv_school_state_category_one_hot, cv_teacher_prefix_categories_one_hot, previously_posted_projects_normalized_cv, cv_project_grade_category_one_hot, price_normalized_cv)).tocsr()\n",
    "X_test = hstack((test_categories_one_hot, test_subcategories_one_hot, test_essay_bow, test_title_bow, test_school_state_category_one_hot, test_teacher_prefix_categories_one_hot, previously_posted_projects_normalized_test, test_project_grade_category_one_hot, price_normalized_test)).tocsr()\n",
    "\n",
    "print(\"Final Data matrix\")\n",
    "print(X_train.shape, y_train.shape)\n",
    "print(X_cv.shape, y_cv.shape)\n",
    "print(X_test.shape, y_test.shape)"
   ]
  },
  {
   "cell_type": "markdown",
   "metadata": {},
   "source": [
    "###  Using GridSearchCV"
   ]
  },
  {
   "cell_type": "code",
   "execution_count": 266,
   "metadata": {},
   "outputs": [
    {
     "data": {
      "image/png": "[encoded data removed]",
      "text/plain": [
       "<Figure size 432x288 with 1 Axes>"
      ]
     },
     "metadata": {},
     "output_type": "display_data"
    }
   ],
   "source": [
    "from sklearn.model_selection import GridSearchCV\n",
    "from sklearn.linear_model import LogisticRegression\n",
    "\n",
    "lr = LogisticRegression(penalty = 'l1',class_weight='balanced')\n",
    "\n",
    "parameters = {'C':[10**-4, 10**-3,10**-2,1,10,100,1000,500,1000,10000]}\n",
    "\n",
    "clf_l1 = GridSearchCV(lr, parameters, cv= 5, scoring='roc_auc',return_train_score=True)\n",
    "\n",
    "clf_l1.fit(X_train, y_train)\n",
    "\n",
    "train_auc= clf_l1.cv_results_['mean_train_score']\n",
    "train_auc_std= clf_l1.cv_results_['std_train_score']\n",
    "cv_auc = clf_l1.cv_results_['mean_test_score'] \n",
    "cv_auc_std= clf_l1.cv_results_['std_test_score']\n",
    "\n",
    "plt.plot(parameters['C'], train_auc, label='Train AUC')\n",
    "# this code is copied from here: https://stackoverflow.com/a/48803361/4084039\n",
    "plt.gca().fill_between(parameters['C'],train_auc - train_auc_std,train_auc + train_auc_std,alpha=0.2,color='darkblue')\n",
    "\n",
    "plt.plot(parameters['C'], cv_auc, label='CV AUC')\n",
    "# this code is copied from here: https://stackoverflow.com/a/48803361/4084039\n",
    "plt.gca().fill_between(parameters['C'],cv_auc - cv_auc_std,cv_auc + cv_auc_std,alpha=0.2,color='darkorange')\n",
    "\n",
    "plt.scatter(parameters['C'], train_auc, label='Train AUC points')\n",
    "plt.scatter(parameters['C'], cv_auc, label='CV AUC points')\n",
    "plt.xscale('log') \n",
    "\n",
    "plt.legend()\n",
    "plt.xlabel(\"C(1/lambda): hyperparameter\")\n",
    "plt.ylabel(\"AUC\")\n",
    "plt.title(\"ERROR PLOTS\")\n",
    "plt.grid()\n",
    "plt.show()"
   ]
  },
  {
   "cell_type": "code",
   "execution_count": 267,
   "metadata": {},
   "outputs": [
    {
     "name": "stdout",
     "output_type": "stream",
     "text": [
      "Best score:  0.6207139714910336\n",
      "alpha value with best score(penalty = l1):  {'C': 0.01}\n",
      "===========================================================================\n",
      "Train AUC scores\n",
      "[0.5        0.5        0.63388894 0.98897782 0.99999998 1.\n",
      " 1.         1.         1.         1.        ]\n",
      "CV AUC scores\n",
      "[0.5        0.5        0.62071397 0.61970536 0.59875561 0.59532603\n",
      " 0.59331532 0.59399886 0.59333601 0.58916076]\n"
     ]
    }
   ],
   "source": [
    "#Output of GridSearchCV\n",
    "print('Best score: ',clf_l1.best_score_)\n",
    "print('alpha value with best score(penalty = l1): ',clf_l1.best_params_)\n",
    "print('='*75)\n",
    "print('Train AUC scores')\n",
    "print(clf_l1.cv_results_['mean_train_score'])\n",
    "print('CV AUC scores')\n",
    "print(clf_l1.cv_results_['mean_test_score'])"
   ]
  },
  {
   "cell_type": "code",
   "execution_count": 268,
   "metadata": {},
   "outputs": [
    {
     "data": {
      "image/png": "[encoded data removed]",
      "text/plain": [
       "<Figure size 432x288 with 1 Axes>"
      ]
     },
     "metadata": {},
     "output_type": "display_data"
    }
   ],
   "source": [
    "from sklearn.model_selection import GridSearchCV\n",
    "from sklearn.linear_model import LogisticRegression\n",
    "\n",
    "lr = LogisticRegression(penalty = 'l2',class_weight='balanced')\n",
    "\n",
    "parameters = {'C':[10**-4, 10**-3,10**-2,1,10,100,1000,500,1000,10000]}\n",
    "\n",
    "clf_l2 = GridSearchCV(lr, parameters, cv= 5, scoring='roc_auc',return_train_score=True)\n",
    "\n",
    "clf_l2.fit(X_train, y_train)\n",
    "\n",
    "train_auc= clf_l1.cv_results_['mean_train_score']\n",
    "train_auc_std= clf_l1.cv_results_['std_train_score']\n",
    "cv_auc = clf_l1.cv_results_['mean_test_score'] \n",
    "cv_auc_std= clf_l1.cv_results_['std_test_score']\n",
    "\n",
    "plt.plot(parameters['C'], train_auc, label='Train AUC')\n",
    "# this code is copied from here: https://stackoverflow.com/a/48803361/4084039\n",
    "plt.gca().fill_between(parameters['C'],train_auc - train_auc_std,train_auc + train_auc_std,alpha=0.2,color='darkblue')\n",
    "\n",
    "plt.plot(parameters['C'], cv_auc, label='CV AUC')\n",
    "# this code is copied from here: https://stackoverflow.com/a/48803361/4084039\n",
    "plt.gca().fill_between(parameters['C'],cv_auc - cv_auc_std,cv_auc + cv_auc_std,alpha=0.2,color='darkorange')\n",
    "\n",
    "plt.scatter(parameters['C'], train_auc, label='Train AUC points')\n",
    "plt.scatter(parameters['C'], cv_auc, label='CV AUC points')\n",
    "plt.xscale('log') \n",
    "\n",
    "plt.legend()\n",
    "plt.xlabel(\"C(1/lambda): hyperparameter\")\n",
    "plt.ylabel(\"AUC\")\n",
    "plt.title(\"ERROR PLOTS\")\n",
    "plt.grid()\n",
    "plt.show()"
   ]
  },
  {
   "cell_type": "code",
   "execution_count": 269,
   "metadata": {},
   "outputs": [
    {
     "name": "stdout",
     "output_type": "stream",
     "text": [
      "Best score:  0.6718379328004225\n",
      "alpha value with best score(penalty = l2):  {'C': 0.001}\n",
      "===========================================================================\n",
      "Train AUC scores\n",
      "[0.71778526 0.77974214 0.88949917 0.99457469 0.99999132 1.\n",
      " 1.         1.         1.         1.        ]\n",
      "CV AUC scores\n",
      "[0.65539174 0.67183793 0.66980114 0.61389036 0.59971629 0.59604038\n",
      " 0.59467386 0.59496619 0.59467386 0.59391942]\n"
     ]
    }
   ],
   "source": [
    "#Output of GridSearchCV\n",
    "print('Best score: ',clf_l2.best_score_)\n",
    "print('alpha value with best score(penalty = l2): ',clf_l2.best_params_)\n",
    "print('='*75)\n",
    "print('Train AUC scores')\n",
    "print(clf_l2.cv_results_['mean_train_score'])\n",
    "print('CV AUC scores')\n",
    "print(clf_l2.cv_results_['mean_test_score'])"
   ]
  },
  {
   "cell_type": "markdown",
   "metadata": {},
   "source": [
    "L2 norms is giving max AUC."
   ]
  },
  {
   "cell_type": "code",
   "execution_count": 261,
   "metadata": {},
   "outputs": [],
   "source": [
    "def batch_predict(clf, data):\n",
    "    # roc_auc_score(y_true, y_score) the 2nd parameter should be probability estimates of the positive class\n",
    "    # not the predicted outputs\n",
    "\n",
    "    y_data_pred = []\n",
    "    tr_loop = data.shape[0] - data.shape[0]%1000\n",
    "    # consider you X_tr shape is 49041, then your tr_loop will be 49041 - 49041%1000 = 49000\n",
    "    # in this for loop we will iterate unti the last 1000 multiplier\n",
    "    for i in range(0, tr_loop, 1000):\n",
    "        y_data_pred.extend(clf.predict_proba(data[i:i+1000])[:,1])\n",
    "    # we will be predicting for the last data points\n",
    "    if data.shape[0]%1000 !=0:\n",
    "        y_data_pred.extend(clf.predict_proba(data[tr_loop:])[:,1])\n",
    "    \n",
    "    return y_data_pred"
   ]
  },
  {
   "cell_type": "code",
   "execution_count": 270,
   "metadata": {},
   "outputs": [
    {
     "data": {
      "image/png": "[encoded data removed]",
      "text/plain": [
       "<Figure size 432x288 with 1 Axes>"
      ]
     },
     "metadata": {},
     "output_type": "display_data"
    }
   ],
   "source": [
    "# https://scikit-learn.org/stable/modules/generated/sklearn.metrics.roc_curve.html#sklearn.metrics.roc_curve\n",
    "from sklearn.metrics import roc_curve, auc\n",
    "\n",
    "\n",
    "lr = LogisticRegression(penalty = 'l1',C = clf_l1.best_params_['C'], class_weight='balanced')\n",
    "lr.fit(X_train ,y_train)\n",
    "# roc_auc_score(y_true, y_score) the 2nd parameter should be probability estimates of the positive class\n",
    "# not the predicted outputs\n",
    "\n",
    "y_train_pred =  batch_predict(lr, X_train)#Return probability estimates for the  set1x ,for the class label 1 or +ve.\n",
    "y_test_pred =  batch_predict(lr, X_test)#Return probability estimates for the setcvx,for the class label 1 or +ve .\n",
    "\n",
    "train_fpr, train_tpr, thresholds = roc_curve(y_train, y_train_pred)\n",
    "test_fpr, test_tpr, thresholds = roc_curve(y_test, y_test_pred)\n",
    "\n",
    "plt.plot(train_fpr, train_tpr, label=\"train AUC =\"+str(auc(train_fpr, train_tpr)))\n",
    "plt.plot(test_fpr, test_tpr, label=\"test AUC =\"+str(auc(test_fpr, test_tpr)))\n",
    "plt.legend()\n",
    "plt.xlabel(\"False Positive Rate(FPR)\")\n",
    "plt.ylabel(\"True Positive Rate(TPR)\")\n",
    "plt.title(\"ROC PLOTS\")\n",
    "plt.show()"
   ]
  },
  {
   "cell_type": "code",
   "execution_count": 271,
   "metadata": {},
   "outputs": [
    {
     "data": {
      "image/png": "[encoded data removed]",
      "text/plain": [
       "<Figure size 432x288 with 1 Axes>"
      ]
     },
     "metadata": {},
     "output_type": "display_data"
    }
   ],
   "source": [
    "# https://scikit-learn.org/stable/modules/generated/sklearn.metrics.roc_curve.html#sklearn.metrics.roc_curve\n",
    "from sklearn.metrics import roc_curve, auc\n",
    "\n",
    "\n",
    "lr = LogisticRegression(penalty = 'l2',C = clf_l2.best_params_['C'], class_weight='balanced')\n",
    "lr.fit(X_train ,y_train)\n",
    "# roc_auc_score(y_true, y_score) the 2nd parameter should be probability estimates of the positive class\n",
    "# not the predicted outputs\n",
    "\n",
    "y_train_pred =  batch_predict(lr, X_train)#Return probability estimates for the  set1x ,for the class label 1 or +ve.\n",
    "y_test_pred =  batch_predict(lr, X_test)#Return probability estimates for the setcvx,for the class label 1 or +ve .\n",
    "\n",
    "train_fpr, train_tpr, thresholds = roc_curve(y_train, y_train_pred)\n",
    "test_fpr, test_tpr, thresholds = roc_curve(y_test, y_test_pred)\n",
    "\n",
    "plt.plot(train_fpr, train_tpr, label=\"train AUC =\"+str(auc(train_fpr, train_tpr)))\n",
    "plt.plot(test_fpr, test_tpr, label=\"test AUC =\"+str(auc(test_fpr, test_tpr)))\n",
    "plt.legend()\n",
    "plt.xlabel(\"False Positive Rate(FPR)\")\n",
    "plt.ylabel(\"True Positive Rate(TPR)\")\n",
    "plt.title(\"ROC PLOTS\")\n",
    "plt.show()"
   ]
  },
  {
   "cell_type": "markdown",
   "metadata": {},
   "source": [
    "### Confusion Matrix of Train and Test Data"
   ]
  },
  {
   "cell_type": "code",
   "execution_count": 67,
   "metadata": {},
   "outputs": [],
   "source": [
    "# we are writing our own function for predict, with defined thresould\n",
    "# we will pick a threshold that will give the least fpr\n",
    "def find_best_threshold(threshould, fpr, tpr):\n",
    "    t = threshould[np.argmax(tpr*(1-fpr))]\n",
    "    # (tpr*(1-fpr)) will be maximum if your fpr is very low and tpr is very high\n",
    "    print(\"the maximum value of tpr*(1-fpr)\", max(tpr*(1-fpr)), \"for threshold\", np.round(t,3))\n",
    "    return t\n",
    "\n",
    "def predict_with_best_t(proba, threshould):\n",
    "    predictions = []\n",
    "    for i in proba:\n",
    "        if i>=threshould:\n",
    "            predictions.append(1)\n",
    "        else:\n",
    "            predictions.append(0)\n",
    "    return predictions"
   ]
  },
  {
   "cell_type": "code",
   "execution_count": 68,
   "metadata": {},
   "outputs": [
    {
     "name": "stdout",
     "output_type": "stream",
     "text": [
      "the maximum value of tpr*(1-fpr) 0.4925221753132712 for threshold 0.503\n",
      "Train confusion matrix\n",
      "[[ 1957   815]\n",
      " [ 4607 10577]]\n",
      "Test confusion matrix\n",
      "[[1211  826]\n",
      " [3729 7434]]\n"
     ]
    }
   ],
   "source": [
    "from sklearn.metrics import confusion_matrix\n",
    "best_t = find_best_threshold(thresholds, train_fpr, train_tpr)\n",
    "print(\"Train confusion matrix\")\n",
    "print(confusion_matrix(y_train, predict_with_best_t(y_train_pred, best_t)))\n",
    "print(\"Test confusion matrix\")\n",
    "print(confusion_matrix(y_test, predict_with_best_t(y_test_pred, best_t)))"
   ]
  },
  {
   "cell_type": "code",
   "execution_count": 69,
   "metadata": {},
   "outputs": [
    {
     "data": {
      "image/png": "[encoded data removed]",
      "text/plain": [
       "<Figure size 432x288 with 2 Axes>"
      ]
     },
     "metadata": {},
     "output_type": "display_data"
    }
   ],
   "source": [
    "import seaborn as sns\n",
    "import matplotlib.pyplot as plt   \n",
    "\n",
    "ax= plt.subplot()\n",
    "sns.heatmap(confusion_matrix(y_train, predict_with_best_t(y_train_pred, best_t)), annot=True, ax = ax,fmt='g');\n",
    "ax.set_xlabel('Predicted labels');\n",
    "ax.set_ylabel('True labels'); \n",
    "ax.set_title('Confusion Matrix');"
   ]
  },
  {
   "cell_type": "code",
   "execution_count": 70,
   "metadata": {},
   "outputs": [
    {
     "data": {
      "image/png": "[encoded data removed]",
      "text/plain": [
       "<Figure size 432x288 with 2 Axes>"
      ]
     },
     "metadata": {},
     "output_type": "display_data"
    }
   ],
   "source": [
    "ax= plt.subplot()\n",
    "sns.heatmap(confusion_matrix(y_test, predict_with_best_t(y_test_pred, best_t)), annot=True, ax = ax,fmt='g');\n",
    "ax.set_xlabel('Predicted labels');\n",
    "ax.set_ylabel('True labels'); \n",
    "ax.set_title('Confusion Matrix');"
   ]
  },
  {
   "cell_type": "markdown",
   "metadata": {},
   "source": [
    "## <li><font color='red'>Set 2</font>: Categorical, numerical features + project_title(TFIDF)+  preprocessed_eassay (`TFIDF with bi-grams` with `min_df=10` and `max_features=5000`)</li>"
   ]
  },
  {
   "cell_type": "code",
   "execution_count": 71,
   "metadata": {},
   "outputs": [
    {
     "name": "stdout",
     "output_type": "stream",
     "text": [
      "Final Data matrix\n",
      "(17956, 6615) (17956,)\n",
      "(8844, 6615) (8844,)\n",
      "(13200, 6615) (13200,)\n"
     ]
    }
   ],
   "source": [
    "# Please write all the code with proper documentation\n",
    "\n",
    "X_train = hstack((train_categories_one_hot, train_subcategories_one_hot, train_essay_tfidf, train_title_tfidf, train_school_state_category_one_hot,train_teacher_prefix_categories_one_hot, previously_posted_projects_normalized_train, train_project_grade_category_one_hot, price_normalized_train)).tocsr()\n",
    "X_cv = hstack((cv_categories_one_hot, cv_subcategories_one_hot, cv_essay_tfidf, cv_title_tfidf, cv_school_state_category_one_hot, cv_teacher_prefix_categories_one_hot, previously_posted_projects_normalized_cv, cv_project_grade_category_one_hot, price_normalized_cv)).tocsr()\n",
    "X_test = hstack((test_categories_one_hot, test_subcategories_one_hot, test_essay_tfidf, test_title_tfidf, test_school_state_category_one_hot, test_teacher_prefix_categories_one_hot, previously_posted_projects_normalized_test, test_project_grade_category_one_hot, price_normalized_test)).tocsr()\n",
    "\n",
    "print(\"Final Data matrix\")\n",
    "print(X_train.shape, y_train.shape)\n",
    "print(X_cv.shape, y_cv.shape)\n",
    "print(X_test.shape, y_test.shape)"
   ]
  },
  {
   "cell_type": "markdown",
   "metadata": {},
   "source": [
    "#### penalty = l1"
   ]
  },
  {
   "cell_type": "code",
   "execution_count": 72,
   "metadata": {},
   "outputs": [
    {
     "data": {
      "image/png": "[encoded data removed]",
      "text/plain": [
       "<Figure size 432x288 with 1 Axes>"
      ]
     },
     "metadata": {},
     "output_type": "display_data"
    }
   ],
   "source": [
    "from sklearn.model_selection import GridSearchCV\n",
    "from sklearn.linear_model import LogisticRegression\n",
    "\n",
    "lr = LogisticRegression(penalty = 'l1',class_weight='balanced')\n",
    "\n",
    "parameters = {'C':[10**-4, 10**-3,10**-2,1,10,100,1000,500,1000,10000]}\n",
    "\n",
    "clf_l1 = GridSearchCV(lr, parameters, cv= 5, scoring='roc_auc',return_train_score=True)\n",
    "\n",
    "clf_l1.fit(X_train, y_train)\n",
    "\n",
    "train_auc= clf_l1.cv_results_['mean_train_score']\n",
    "train_auc_std= clf_l1.cv_results_['std_train_score']\n",
    "cv_auc = clf_l1.cv_results_['mean_test_score'] \n",
    "cv_auc_std= clf_l1.cv_results_['std_test_score']\n",
    "\n",
    "plt.plot(parameters['C'], train_auc, label='Train AUC')\n",
    "# this code is copied from here: https://stackoverflow.com/a/48803361/4084039\n",
    "plt.gca().fill_between(parameters['C'],train_auc - train_auc_std,train_auc + train_auc_std,alpha=0.2,color='darkblue')\n",
    "\n",
    "plt.plot(parameters['C'], cv_auc, label='CV AUC')\n",
    "# this code is copied from here: https://stackoverflow.com/a/48803361/4084039\n",
    "plt.gca().fill_between(parameters['C'],cv_auc - cv_auc_std,cv_auc + cv_auc_std,alpha=0.2,color='darkorange')\n",
    "\n",
    "plt.scatter(parameters['C'], train_auc, label='Train AUC points')\n",
    "plt.scatter(parameters['C'], cv_auc, label='CV AUC points')\n",
    "plt.xscale('log') \n",
    "\n",
    "plt.legend()\n",
    "plt.xlabel(\"C(1/lambda): hyperparameter\")\n",
    "plt.ylabel(\"AUC\")\n",
    "plt.title(\"ERROR PLOTS\")\n",
    "plt.grid()\n",
    "plt.show()"
   ]
  },
  {
   "cell_type": "code",
   "execution_count": 73,
   "metadata": {},
   "outputs": [
    {
     "name": "stdout",
     "output_type": "stream",
     "text": [
      "Best score:  0.656238718033259\n",
      "alpha value with best score(penalty = l1):  {'C': 1}\n",
      "===========================================================================\n",
      "Train AUC scores\n",
      "[0.5        0.5        0.55311718 0.88841274 0.99712916 1.\n",
      " 1.         1.         1.         1.        ]\n",
      "CV AUC scores\n",
      "[0.5        0.5        0.5451446  0.65623872 0.60176673 0.58883565\n",
      " 0.58713051 0.5875393  0.58716835 0.58556951]\n"
     ]
    }
   ],
   "source": [
    "#Output of GridSearchCV\n",
    "print('Best score: ',clf_l1.best_score_)\n",
    "print('alpha value with best score(penalty = l1): ',clf_l1.best_params_)\n",
    "print('='*75)\n",
    "print('Train AUC scores')\n",
    "print(clf_l1.cv_results_['mean_train_score'])\n",
    "print('CV AUC scores')\n",
    "print(clf_l1.cv_results_['mean_test_score'])"
   ]
  },
  {
   "cell_type": "markdown",
   "metadata": {},
   "source": [
    "#### penalty = l2"
   ]
  },
  {
   "cell_type": "code",
   "execution_count": 74,
   "metadata": {},
   "outputs": [
    {
     "data": {
      "image/png": "[encoded data removed]",
      "text/plain": [
       "<Figure size 432x288 with 1 Axes>"
      ]
     },
     "metadata": {},
     "output_type": "display_data"
    }
   ],
   "source": [
    "from sklearn.model_selection import GridSearchCV\n",
    "from sklearn.linear_model import LogisticRegression\n",
    "\n",
    "lr = LogisticRegression(penalty = 'l2',class_weight='balanced')\n",
    "\n",
    "parameters = {'C':[10**-4, 10**-3,10**-2,1,10,100,1000,500,1000,10000]}\n",
    "\n",
    "clf_l2 = GridSearchCV(lr, parameters, cv= 5, scoring='roc_auc',return_train_score=True)\n",
    "\n",
    "clf_l2.fit(X_train, y_train)\n",
    "\n",
    "train_auc= clf_l2.cv_results_['mean_train_score']\n",
    "train_auc_std= clf_l2.cv_results_['std_train_score']\n",
    "cv_auc = clf_l2.cv_results_['mean_test_score'] \n",
    "cv_auc_std= clf_l2.cv_results_['std_test_score']\n",
    "\n",
    "plt.plot(parameters['C'], train_auc, label='Train AUC')\n",
    "# this code is copied from here: https://stackoverflow.com/a/48803361/4084039\n",
    "plt.gca().fill_between(parameters['C'],train_auc - train_auc_std,train_auc + train_auc_std,alpha=0.2,color='darkblue')\n",
    "\n",
    "plt.plot(parameters['C'], cv_auc, label='CV AUC')\n",
    "# this code is copied from here: https://stackoverflow.com/a/48803361/4084039\n",
    "plt.gca().fill_between(parameters['C'],cv_auc - cv_auc_std,cv_auc + cv_auc_std,alpha=0.2,color='darkorange')\n",
    "\n",
    "plt.scatter(parameters['C'], train_auc, label='Train AUC points')\n",
    "plt.scatter(parameters['C'], cv_auc, label='CV AUC points')\n",
    "plt.xscale('log') \n",
    "\n",
    "plt.legend()\n",
    "plt.xlabel(\"C(1/lambda): hyperparameter\")\n",
    "plt.ylabel(\"AUC\")\n",
    "plt.title(\"ERROR PLOTS\")\n",
    "plt.grid()\n",
    "plt.show()"
   ]
  },
  {
   "cell_type": "code",
   "execution_count": 75,
   "metadata": {},
   "outputs": [
    {
     "name": "stdout",
     "output_type": "stream",
     "text": [
      "Best score:  0.6540976570699589\n",
      "alpha value with best score(penalty = l2):  {'C': 1}\n",
      "===========================================================================\n",
      "Train AUC scores\n",
      "[0.57844865 0.59476846 0.66649154 0.92746723 0.98279054 0.99934301\n",
      " 1.         0.99999863 1.         1.        ]\n",
      "CV AUC scores\n",
      "[0.56427067 0.57346432 0.61094457 0.65409766 0.62197018 0.59891085\n",
      " 0.59134321 0.59257292 0.59134321 0.58928533]\n"
     ]
    }
   ],
   "source": [
    "#Output of GridSearchCV\n",
    "print('Best score: ',clf_l2.best_score_)\n",
    "print('alpha value with best score(penalty = l2): ',clf_l2.best_params_)\n",
    "print('='*75)\n",
    "print('Train AUC scores')\n",
    "print(clf_l2.cv_results_['mean_train_score'])\n",
    "print('CV AUC scores')\n",
    "print(clf_l2.cv_results_['mean_test_score'])"
   ]
  },
  {
   "cell_type": "code",
   "execution_count": 76,
   "metadata": {},
   "outputs": [
    {
     "data": {
      "image/png": "[encoded data removed]",
      "text/plain": [
       "<Figure size 432x288 with 1 Axes>"
      ]
     },
     "metadata": {},
     "output_type": "display_data"
    }
   ],
   "source": [
    "# https://scikit-learn.org/stable/modules/generated/sklearn.metrics.roc_curve.html#sklearn.metrics.roc_curve\n",
    "from sklearn.metrics import roc_curve, auc\n",
    "\n",
    "\n",
    "lr2 = LogisticRegression(penalty = 'l1',C = clf_l1.best_params_['C'], class_weight='balanced')\n",
    "lr2.fit(X_train ,y_train)\n",
    "# roc_auc_score(y_true, y_score) the 2nd parameter should be probability estimates of the positive class\n",
    "# not the predicted outputs\n",
    "\n",
    "y_train_pred =  batch_predict(lr2, X_train)#Return probability estimates for the  set1x ,for the class label 1 or +ve.\n",
    "y_test_pred =  batch_predict(lr2, X_test)#Return probability estimates for the setcvx,for the class label 1 or +ve .\n",
    "\n",
    "train_fpr, train_tpr, thresholds = roc_curve(y_train, y_train_pred)\n",
    "test_fpr, test_tpr, thresholds = roc_curve(y_test, y_test_pred)\n",
    "\n",
    "plt.plot(train_fpr, train_tpr, label=\"train AUC =\"+str(auc(train_fpr, train_tpr)))\n",
    "plt.plot(test_fpr, test_tpr, label=\"test AUC =\"+str(auc(test_fpr, test_tpr)))\n",
    "plt.legend()\n",
    "plt.xlabel(\"False Positive Rate(FPR)\")\n",
    "plt.ylabel(\"True Positive Rate(TPR)\")\n",
    "plt.title(\"ROC PLOTS\")\n",
    "plt.show()"
   ]
  },
  {
   "cell_type": "markdown",
   "metadata": {},
   "source": [
    "### Confusion Matrix of Train and Test Data"
   ]
  },
  {
   "cell_type": "code",
   "execution_count": 77,
   "metadata": {},
   "outputs": [],
   "source": [
    "# we are writing our own function for predict, with defined thresould\n",
    "# we will pick a threshold that will give the least fpr\n",
    "def find_best_threshold(threshould, fpr, tpr):\n",
    "    t = threshould[np.argmax(tpr*(1-fpr))]\n",
    "    # (tpr*(1-fpr)) will be maximum if your fpr is very low and tpr is very high\n",
    "    print(\"the maximum value of tpr*(1-fpr)\", max(tpr*(1-fpr)), \"for threshold\", np.round(t,3))\n",
    "    return t\n",
    "\n",
    "def predict_with_best_t(proba, threshould):\n",
    "    predictions = []\n",
    "    for i in proba:\n",
    "        if i>=threshould:\n",
    "            predictions.append(1)\n",
    "        else:\n",
    "            predictions.append(0)\n",
    "    return predictions"
   ]
  },
  {
   "cell_type": "code",
   "execution_count": 78,
   "metadata": {},
   "outputs": [
    {
     "name": "stdout",
     "output_type": "stream",
     "text": [
      "the maximum value of tpr*(1-fpr) 0.6513200222532415 for threshold 0.682\n",
      "Train confusion matrix\n",
      "[[2679   93]\n",
      " [7497 7687]]\n",
      "Test confusion matrix\n",
      "[[1543  494]\n",
      " [6018 5145]]\n"
     ]
    }
   ],
   "source": [
    "from sklearn.metrics import confusion_matrix\n",
    "best_t = find_best_threshold(thresholds, train_fpr, train_tpr)\n",
    "print(\"Train confusion matrix\")\n",
    "print(confusion_matrix(y_train, predict_with_best_t(y_train_pred, best_t)))\n",
    "print(\"Test confusion matrix\")\n",
    "print(confusion_matrix(y_test, predict_with_best_t(y_test_pred, best_t)))"
   ]
  },
  {
   "cell_type": "code",
   "execution_count": 79,
   "metadata": {},
   "outputs": [
    {
     "data": {
      "image/png": "[encoded data removed]",
      "text/plain": [
       "<Figure size 432x288 with 2 Axes>"
      ]
     },
     "metadata": {},
     "output_type": "display_data"
    }
   ],
   "source": [
    "import seaborn as sns\n",
    "import matplotlib.pyplot as plt   \n",
    "\n",
    "ax= plt.subplot()\n",
    "sns.heatmap(confusion_matrix(y_train, predict_with_best_t(y_train_pred, best_t)), annot=True, ax = ax,fmt='g');\n",
    "ax.set_xlabel('Predicted labels');\n",
    "ax.set_ylabel('True labels'); \n",
    "ax.set_title('Confusion Matrix');"
   ]
  },
  {
   "cell_type": "code",
   "execution_count": 80,
   "metadata": {},
   "outputs": [
    {
     "data": {
      "image/png": "[encoded data removed]",
      "text/plain": [
       "<Figure size 432x288 with 2 Axes>"
      ]
     },
     "metadata": {},
     "output_type": "display_data"
    }
   ],
   "source": [
    "ax= plt.subplot()\n",
    "sns.heatmap(confusion_matrix(y_test, predict_with_best_t(y_test_pred, best_t)), annot=True, ax = ax,fmt='g');\n",
    "ax.set_xlabel('Predicted labels');\n",
    "ax.set_ylabel('True labels'); \n",
    "ax.set_title('Confusion Matrix');"
   ]
  },
  {
   "cell_type": "markdown",
   "metadata": {},
   "source": [
    "## <li><font color='red'>Set 3</font>: categorical, numerical features + project_title(AVG W2V)+  preprocessed_eassay (AVG W2V)</li>      "
   ]
  },
  {
   "cell_type": "code",
   "execution_count": 81,
   "metadata": {},
   "outputs": [
    {
     "name": "stdout",
     "output_type": "stream",
     "text": [
      "(17956, 701)\n",
      "(8844, 701)\n",
      "(13200, 701)\n"
     ]
    }
   ],
   "source": [
    "# merge two sparse matrices: https://stackoverflow.com/a/19710648/4084039\n",
    "from scipy.sparse import hstack\n",
    "# with the same hstack function we are concatinating a sparse matrix and a dense matirx :)\n",
    "X_train = hstack((train_categories_one_hot, train_subcategories_one_hot, train_avg_w2v_essays, train_avg_w2v_titles, train_school_state_category_one_hot,train_teacher_prefix_categories_one_hot, previously_posted_projects_normalized_train, train_project_grade_category_one_hot, price_normalized_train)).tocsr()\n",
    "X_cv = hstack((cv_categories_one_hot, cv_subcategories_one_hot, cv_avg_w2v_essays, cv_avg_w2v_titles, cv_school_state_category_one_hot, cv_teacher_prefix_categories_one_hot, previously_posted_projects_normalized_cv, cv_project_grade_category_one_hot, price_normalized_cv)).tocsr()\n",
    "X_test = hstack((test_categories_one_hot, test_subcategories_one_hot, test_avg_w2v_essays, test_avg_w2v_titles, test_school_state_category_one_hot, test_teacher_prefix_categories_one_hot, previously_posted_projects_normalized_test, test_project_grade_category_one_hot, price_normalized_test)).tocsr()\n",
    "\n",
    "print(X_train.shape)\n",
    "print(X_cv.shape)\n",
    "print(X_test.shape)"
   ]
  },
  {
   "cell_type": "code",
   "execution_count": 82,
   "metadata": {},
   "outputs": [
    {
     "data": {
      "image/png": "[encoded data removed]",
      "text/plain": [
       "<Figure size 432x288 with 1 Axes>"
      ]
     },
     "metadata": {},
     "output_type": "display_data"
    }
   ],
   "source": [
    "from sklearn.model_selection import GridSearchCV\n",
    "from sklearn.linear_model import LogisticRegression\n",
    "\n",
    "lr = LogisticRegression(penalty = 'l2',class_weight='balanced')\n",
    "\n",
    "parameters = {'C':[10**-4, 10**-3,10**-2,1,10,100,1000,500,1000,10000]}\n",
    "\n",
    "clf_l2 = GridSearchCV(lr, parameters, cv= 5, scoring='roc_auc',return_train_score=True)\n",
    "\n",
    "clf_l2.fit(X_train, y_train)\n",
    "\n",
    "train_auc= clf_l2.cv_results_['mean_train_score']\n",
    "train_auc_std= clf_l2.cv_results_['std_train_score']\n",
    "cv_auc = clf_l2.cv_results_['mean_test_score'] \n",
    "cv_auc_std= clf_l2.cv_results_['std_test_score']\n",
    "\n",
    "plt.plot(parameters['C'], train_auc, label='Train AUC')\n",
    "# this code is copied from here: https://stackoverflow.com/a/48803361/4084039\n",
    "plt.gca().fill_between(parameters['C'],train_auc - train_auc_std,train_auc + train_auc_std,alpha=0.2,color='darkblue')\n",
    "\n",
    "plt.plot(parameters['C'], cv_auc, label='CV AUC')\n",
    "# this code is copied from here: https://stackoverflow.com/a/48803361/4084039\n",
    "plt.gca().fill_between(parameters['C'],cv_auc - cv_auc_std,cv_auc + cv_auc_std,alpha=0.2,color='darkorange')\n",
    "\n",
    "plt.scatter(parameters['C'], train_auc, label='Train AUC points')\n",
    "plt.scatter(parameters['C'], cv_auc, label='CV AUC points')\n",
    "plt.xscale('log') \n",
    "\n",
    "plt.legend()\n",
    "plt.xlabel(\"C(1/lambda): hyperparameter\")\n",
    "plt.ylabel(\"AUC\")\n",
    "plt.title(\"ERROR PLOTS\")\n",
    "plt.grid()\n",
    "plt.show()"
   ]
  },
  {
   "cell_type": "code",
   "execution_count": 83,
   "metadata": {},
   "outputs": [
    {
     "name": "stdout",
     "output_type": "stream",
     "text": [
      "Best score:  0.6744201695350622\n",
      "alpha value with best score(penalty = l2):  {'C': 1}\n",
      "===========================================================================\n",
      "Train AUC scores\n",
      "[0.61533237 0.64699901 0.7023538  0.76517072 0.7711488  0.77140663\n",
      " 0.77139715 0.77139787 0.77139715 0.77139336]\n",
      "CV AUC scores\n",
      "[0.60100835 0.62267144 0.65387965 0.67442017 0.67070793 0.66879228\n",
      " 0.66851146 0.66854804 0.66851146 0.66848437]\n"
     ]
    }
   ],
   "source": [
    "#Output of GridSearchCV\n",
    "print('Best score: ',clf_l2.best_score_)\n",
    "print('alpha value with best score(penalty = l2): ',clf_l2.best_params_)\n",
    "print('='*75)\n",
    "print('Train AUC scores')\n",
    "print(clf_l2.cv_results_['mean_train_score'])\n",
    "print('CV AUC scores')\n",
    "print(clf_l2.cv_results_['mean_test_score'])"
   ]
  },
  {
   "cell_type": "code",
   "execution_count": 84,
   "metadata": {},
   "outputs": [
    {
     "data": {
      "image/png": "[encoded data removed]",
      "text/plain": [
       "<Figure size 432x288 with 1 Axes>"
      ]
     },
     "metadata": {},
     "output_type": "display_data"
    }
   ],
   "source": [
    "# https://scikit-learn.org/stable/modules/generated/sklearn.metrics.roc_curve.html#sklearn.metrics.roc_curve\n",
    "from sklearn.metrics import roc_curve, auc\n",
    "\n",
    "\n",
    "lr2 = LogisticRegression(penalty = 'l1',C = clf_l2.best_params_['C'], class_weight='balanced',solver='liblinear')\n",
    "lr2.fit(X_train ,y_train)\n",
    "# roc_auc_score(y_true, y_score) the 2nd parameter should be probability estimates of the positive class\n",
    "# not the predicted outputs\n",
    "\n",
    "y_train_pred =  batch_predict(lr2, X_train)#Return probability estimates for the  set1x ,for the class label 1 or +ve.\n",
    "y_test_pred =  batch_predict(lr2, X_test)#Return probability estimates for the setcvx,for the class label 1 or +ve .\n",
    "\n",
    "train_fpr, train_tpr, thresholds = roc_curve(y_train, y_train_pred)\n",
    "test_fpr, test_tpr, thresholds = roc_curve(y_test, y_test_pred)\n",
    "\n",
    "plt.plot(train_fpr, train_tpr, label=\"train AUC =\"+str(auc(train_fpr, train_tpr)))\n",
    "plt.plot(test_fpr, test_tpr, label=\"test AUC =\"+str(auc(test_fpr, test_tpr)))\n",
    "plt.legend()\n",
    "plt.xlabel(\"False Positive Rate(FPR)\")\n",
    "plt.ylabel(\"True Positive Rate(TPR)\")\n",
    "plt.title(\"ROC PLOTS\")\n",
    "plt.show()\n"
   ]
  },
  {
   "cell_type": "code",
   "execution_count": 86,
   "metadata": {},
   "outputs": [
    {
     "name": "stdout",
     "output_type": "stream",
     "text": [
      "the maximum value of tpr*(1-fpr) 0.4812995223954129 for threshold 0.487\n",
      "Train confusion matrix\n",
      "[[ 1895   877]\n",
      " [ 4529 10655]]\n",
      "Test confusion matrix\n",
      "[[1191  846]\n",
      " [3536 7627]]\n"
     ]
    }
   ],
   "source": [
    "from sklearn.metrics import confusion_matrix\n",
    "best_t = find_best_threshold(thresholds, train_fpr, train_tpr)\n",
    "print(\"Train confusion matrix\")\n",
    "print(confusion_matrix(y_train, predict_with_best_t(y_train_pred, best_t)))\n",
    "print(\"Test confusion matrix\")\n",
    "print(confusion_matrix(y_test, predict_with_best_t(y_test_pred, best_t)))"
   ]
  },
  {
   "cell_type": "code",
   "execution_count": 87,
   "metadata": {},
   "outputs": [
    {
     "data": {
      "image/png": "[encoded data removed]",
      "text/plain": [
       "<Figure size 432x288 with 2 Axes>"
      ]
     },
     "metadata": {},
     "output_type": "display_data"
    }
   ],
   "source": [
    "import seaborn as sns\n",
    "import matplotlib.pyplot as plt   \n",
    "\n",
    "ax= plt.subplot()\n",
    "sns.heatmap(confusion_matrix(y_train, predict_with_best_t(y_train_pred, best_t)), annot=True, ax = ax,fmt='g');\n",
    "ax.set_xlabel('Predicted labels');\n",
    "ax.set_ylabel('True labels'); \n",
    "ax.set_title('Confusion Matrix');"
   ]
  },
  {
   "cell_type": "code",
   "execution_count": 88,
   "metadata": {},
   "outputs": [
    {
     "data": {
      "image/png": "[encoded data removed]",
      "text/plain": [
       "<Figure size 432x288 with 2 Axes>"
      ]
     },
     "metadata": {},
     "output_type": "display_data"
    }
   ],
   "source": [
    "ax= plt.subplot()\n",
    "sns.heatmap(confusion_matrix(y_test, predict_with_best_t(y_test_pred, best_t)), annot=True, ax = ax,fmt='g');\n",
    "ax.set_xlabel('Predicted labels');\n",
    "ax.set_ylabel('True labels'); \n",
    "ax.set_title('Confusion Matrix');"
   ]
  },
  {
   "cell_type": "markdown",
   "metadata": {},
   "source": [
    "## <li><font color='red'>Set 4</font>: categorical, numerical features + project_title(TFIDF W2V)+  preprocessed_essay (TFIDF W2V)</li>"
   ]
  },
  {
   "cell_type": "code",
   "execution_count": 89,
   "metadata": {},
   "outputs": [
    {
     "name": "stdout",
     "output_type": "stream",
     "text": [
      "(17956, 701)\n",
      "(8844, 701)\n",
      "(13200, 701)\n"
     ]
    }
   ],
   "source": [
    "X_train = hstack((train_categories_one_hot, train_subcategories_one_hot, train_school_state_category_one_hot, train_project_grade_category_one_hot, train_teacher_prefix_categories_one_hot, price_normalized_train ,  previously_posted_projects_normalized_train, train_tfidf_w2v_essays, train_tfidf_w2v_titles)).tocsr()\n",
    "X_test = hstack((test_categories_one_hot, test_subcategories_one_hot, test_school_state_category_one_hot, test_project_grade_category_one_hot, test_teacher_prefix_categories_one_hot, price_normalized_test,  previously_posted_projects_normalized_test, test_tfidf_w2v_essays, test_tfidf_w2v_titles)).tocsr()\n",
    "X_cv = hstack((cv_categories_one_hot, cv_subcategories_one_hot, cv_school_state_category_one_hot, cv_project_grade_category_one_hot, cv_teacher_prefix_categories_one_hot, price_normalized_cv,previously_posted_projects_normalized_cv,  cv_tfidf_w2v_essays, cv_tfidf_w2v_titles)).tocsr()\n",
    "\n",
    "print(X_train.shape)\n",
    "print(X_cv.shape)\n",
    "print(X_test.shape)"
   ]
  },
  {
   "cell_type": "code",
   "execution_count": 90,
   "metadata": {},
   "outputs": [
    {
     "data": {
      "image/png": "[encoded data removed]",
      "text/plain": [
       "<Figure size 432x288 with 1 Axes>"
      ]
     },
     "metadata": {},
     "output_type": "display_data"
    }
   ],
   "source": [
    "from sklearn.model_selection import GridSearchCV\n",
    "from sklearn.linear_model import LogisticRegression\n",
    "\n",
    "lr = LogisticRegression(penalty = 'l2',class_weight='balanced')\n",
    "\n",
    "parameters = {'C':[10**-4, 10**-3,10**-2,1,10,100,1000,500,1000,10000]}\n",
    "\n",
    "clf_l2 = GridSearchCV(lr, parameters, cv= 5, scoring='roc_auc',return_train_score=True)\n",
    "\n",
    "clf_l2.fit(X_train, y_train)\n",
    "\n",
    "train_auc= clf_l2.cv_results_['mean_train_score']\n",
    "train_auc_std= clf_l2.cv_results_['std_train_score']\n",
    "cv_auc = clf_l2.cv_results_['mean_test_score'] \n",
    "cv_auc_std= clf_l2.cv_results_['std_test_score']\n",
    "\n",
    "plt.plot(parameters['C'], train_auc, label='Train AUC')\n",
    "# this code is copied from here: https://stackoverflow.com/a/48803361/4084039\n",
    "plt.gca().fill_between(parameters['C'],train_auc - train_auc_std,train_auc + train_auc_std,alpha=0.2,color='darkblue')\n",
    "\n",
    "plt.plot(parameters['C'], cv_auc, label='CV AUC')\n",
    "# this code is copied from here: https://stackoverflow.com/a/48803361/4084039\n",
    "plt.gca().fill_between(parameters['C'],cv_auc - cv_auc_std,cv_auc + cv_auc_std,alpha=0.2,color='darkorange')\n",
    "\n",
    "plt.scatter(parameters['C'], train_auc, label='Train AUC points')\n",
    "plt.scatter(parameters['C'], cv_auc, label='CV AUC points')\n",
    "plt.xscale('log') \n",
    "\n",
    "plt.legend()\n",
    "plt.xlabel(\"C(1/lambda): hyperparameter\")\n",
    "plt.ylabel(\"AUC\")\n",
    "plt.title(\"ERROR PLOTS\")\n",
    "plt.grid()\n",
    "plt.show()"
   ]
  },
  {
   "cell_type": "code",
   "execution_count": 91,
   "metadata": {},
   "outputs": [
    {
     "name": "stdout",
     "output_type": "stream",
     "text": [
      "Best score:  0.6698815250125646\n",
      "alpha value with best score(penalty = l2):  {'C': 0.01}\n",
      "===========================================================================\n",
      "Train AUC scores\n",
      "[0.63325065 0.66831301 0.71930856 0.76226673 0.76354293 0.76351037\n",
      " 0.76350025 0.76350143 0.76350025 0.76349895]\n",
      "CV AUC scores\n",
      "[0.61790423 0.64293629 0.66988153 0.66290609 0.65692616 0.65574158\n",
      " 0.65560604 0.65562279 0.65560604 0.65559297]\n"
     ]
    }
   ],
   "source": [
    "#Output of GridSearchCV\n",
    "print('Best score: ',clf_l2.best_score_)\n",
    "print('alpha value with best score(penalty = l2): ',clf_l2.best_params_)\n",
    "print('='*75)\n",
    "print('Train AUC scores')\n",
    "print(clf_l2.cv_results_['mean_train_score'])\n",
    "print('CV AUC scores')\n",
    "print(clf_l2.cv_results_['mean_test_score'])"
   ]
  },
  {
   "cell_type": "code",
   "execution_count": 93,
   "metadata": {},
   "outputs": [
    {
     "data": {
      "image/png": "[encoded data removed]",
      "text/plain": [
       "<Figure size 432x288 with 1 Axes>"
      ]
     },
     "metadata": {},
     "output_type": "display_data"
    }
   ],
   "source": [
    "# https://scikit-learn.org/stable/modules/generated/sklearn.metrics.roc_curve.html#sklearn.metrics.roc_curve\n",
    "from sklearn.metrics import roc_curve, auc\n",
    "\n",
    "\n",
    "lr2 = LogisticRegression(penalty = 'l2',C = clf_l2.best_params_['C'], class_weight='balanced')\n",
    "lr2.fit(X_train ,y_train)\n",
    "# roc_auc_score(y_true, y_score) the 2nd parameter should be probability estimates of the positive class\n",
    "# not the predicted outputs\n",
    "\n",
    "y_train_pred =  batch_predict(lr2, X_train)#Return probability estimates for the  set1x ,for the class label 1 or +ve.\n",
    "y_test_pred =  batch_predict(lr2, X_test)#Return probability estimates for the setcvx,for the class label 1 or +ve .\n",
    "\n",
    "train_fpr, train_tpr, thresholds = roc_curve(y_train, y_train_pred)\n",
    "test_fpr, test_tpr, thresholds = roc_curve(y_test, y_test_pred)\n",
    "\n",
    "plt.plot(train_fpr, train_tpr, label=\"train AUC =\"+str(auc(train_fpr, train_tpr)))\n",
    "plt.plot(test_fpr, test_tpr, label=\"test AUC =\"+str(auc(test_fpr, test_tpr)))\n",
    "plt.legend()\n",
    "plt.xlabel(\"False Positive Rate(FPR)\")\n",
    "plt.ylabel(\"True Positive Rate(TPR)\")\n",
    "plt.title(\"ROC PLOTS\")\n",
    "plt.show()"
   ]
  },
  {
   "cell_type": "code",
   "execution_count": 94,
   "metadata": {},
   "outputs": [
    {
     "name": "stdout",
     "output_type": "stream",
     "text": [
      "the maximum value of tpr*(1-fpr) 0.4337319833895177 for threshold 0.477\n",
      "Train confusion matrix\n",
      "[[ 1679  1093]\n",
      " [ 4460 10724]]\n",
      "Test confusion matrix\n",
      "[[1131  906]\n",
      " [3399 7764]]\n"
     ]
    }
   ],
   "source": [
    "from sklearn.metrics import confusion_matrix\n",
    "best_t = find_best_threshold(thresholds, train_fpr, train_tpr)\n",
    "print(\"Train confusion matrix\")\n",
    "print(confusion_matrix(y_train, predict_with_best_t(y_train_pred, best_t)))\n",
    "print(\"Test confusion matrix\")\n",
    "print(confusion_matrix(y_test, predict_with_best_t(y_test_pred, best_t)))"
   ]
  },
  {
   "cell_type": "code",
   "execution_count": 95,
   "metadata": {},
   "outputs": [
    {
     "data": {
      "image/png": "[encoded data removed]",
      "text/plain": [
       "<Figure size 432x288 with 2 Axes>"
      ]
     },
     "metadata": {},
     "output_type": "display_data"
    }
   ],
   "source": [
    "import seaborn as sns\n",
    "import matplotlib.pyplot as plt   \n",
    "\n",
    "ax= plt.subplot()\n",
    "sns.heatmap(confusion_matrix(y_train, predict_with_best_t(y_train_pred, best_t)), annot=True, ax = ax,fmt='g');\n",
    "ax.set_xlabel('Predicted labels');\n",
    "ax.set_ylabel('True labels'); \n",
    "ax.set_title('Confusion Matrix');"
   ]
  },
  {
   "cell_type": "code",
   "execution_count": 96,
   "metadata": {},
   "outputs": [
    {
     "data": {
      "image/png": "[encoded data removed]",
      "text/plain": [
       "<Figure size 432x288 with 2 Axes>"
      ]
     },
     "metadata": {},
     "output_type": "display_data"
    }
   ],
   "source": [
    "ax= plt.subplot()\n",
    "sns.heatmap(confusion_matrix(y_test, predict_with_best_t(y_test_pred, best_t)), annot=True, ax = ax,fmt='g');\n",
    "ax.set_xlabel('Predicted labels');\n",
    "ax.set_ylabel('True labels'); \n",
    "ax.set_title('Confusion Matrix');"
   ]
  },
  {
   "cell_type": "markdown",
   "metadata": {},
   "source": [
    "## <li><strong>[Task-2] Apply Logistic Regression on the below feature set <font color='red'> Set 5 </font> by finding the best hyper parameter as suggested in step 2 and step 3.</strong>"
   ]
  },
  {
   "cell_type": "markdown",
   "metadata": {},
   "source": [
    "<li> Consider these set of features <font color='red'> Set 5 :</font>\n",
    "            <ul>\n",
    "                <li><strong>school_state</strong> : categorical data</li>\n",
    "                <li><strong>clean_categories</strong> : categorical data</li>\n",
    "                <li><strong>clean_subcategories</strong> : categorical data</li>\n",
    "                <li><strong>project_grade_category</strong> :categorical data</li>\n",
    "                <li><strong>teacher_prefix</strong> : categorical data</li>\n",
    "                <li><strong>quantity</strong> : numerical data</li>\n",
    "                <li><strong>teacher_number_of_previously_posted_projects</strong> : numerical data</li>\n",
    "                <li><strong>price</strong> : numerical data</li>\n",
    "                <li><strong>sentiment score's of each of the essay</strong> : numerical data</li>\n",
    "                <li><strong>number of words in the title</strong> : numerical data</li>\n",
    "                <li><strong>number of words in the combine essays</strong> : numerical data</li>\n",
    "            </ul>\n",
    "        And apply the Logistic regression on these features by finding the best hyper paramter as suggested in step 2 and step 3 <br>\n",
    "    </li>"
   ]
  },
  {
   "cell_type": "markdown",
   "metadata": {},
   "source": [
    "#### Sentiment score's of each of the essay"
   ]
  },
  {
   "cell_type": "code",
   "execution_count": 234,
   "metadata": {
    "scrolled": false
   },
   "outputs": [
    {
     "name": "stdout",
     "output_type": "stream",
     "text": [
      "[nltk_data] Downloading package vader_lexicon to\n",
      "[nltk_data]     C:\\Users\\venka\\AppData\\Roaming\\nltk_data...\n",
      "[nltk_data]   Package vader_lexicon is already up-to-date!\n"
     ]
    }
   ],
   "source": [
    "#https://www.programcreek.com/python/example/100005/nltk.sentiment.vader.SentimentIntensityAnalyzerimport nltk\n",
    "\n",
    "from nltk.sentiment.vader import SentimentIntensityAnalyzer\n",
    "nltk.download('vader_lexicon')\n",
    "def sentimentScore(sentences):\n",
    "    analyzer = SentimentIntensityAnalyzer()\n",
    "    sentiments = []\n",
    "    for sentence in sentences:\n",
    "        sentiment = analyzer.polarity_scores(sentence)# calculate the sentiment\n",
    "        sentiments.append( [sentiment['neg'], sentiment['pos'],sentiment['neu'], sentiment['compound']])# list of lists\n",
    "        df = pd.DataFrame(sentiments)\n",
    "    df[['neg', 'pos', 'neu', 'compound']] = pd.DataFrame(sentiments)\n",
    "    df['Negative'] = df['compound'] < -0.1\n",
    "    df['Positive'] = df['compound'] > 0.1\n",
    "    return df\n"
   ]
  },
  {
   "cell_type": "code",
   "execution_count": 235,
   "metadata": {
    "scrolled": true
   },
   "outputs": [
    {
     "name": "stdout",
     "output_type": "stream",
     "text": [
      "(17956, 10)\n",
      "(8844, 10)\n",
      "(13200, 10)\n"
     ]
    }
   ],
   "source": [
    "sentimentScoreEssays_train = sentimentScore(project_data_train['preprocessed_essays'])\n",
    "sentimentScoreEssays_cv = sentimentScore(project_data_cv['preprocessed_essays'])\n",
    "sentimentScoreEssays_test = sentimentScore(project_data_test['preprocessed_essays'])\n",
    "\n",
    "print(sentimentScoreEssays_train.shape)\n",
    "print(sentimentScoreEssays_cv.shape)\n",
    "print(sentimentScoreEssays_test.shape)"
   ]
  },
  {
   "cell_type": "code",
   "execution_count": 240,
   "metadata": {},
   "outputs": [],
   "source": [
    "#for train\n",
    "pos=list(sentimentScoreEssays_train['pos'])\n",
    "pos_train=np.array(pos)\n",
    "neg=list(sentimentScoreEssays_train['neg'])\n",
    "neg_train=np.array(neg)\n",
    "com=list(sentimentScoreEssays_train['compound'])\n",
    "com_train=np.array(com)\n",
    "\n",
    "\n",
    "#for cv\n",
    "pos=list(sentimentScoreEssays_cv['pos'])\n",
    "pos_cv=np.array(pos)\n",
    "neg=list(sentimentScoreEssays_cv['neg'])\n",
    "neg_cv=np.array(neg)\n",
    "com=list(sentimentScoreEssays_cv['compound'])\n",
    "com_cv=np.array(com)\n",
    "\n",
    "\n",
    "#for test\n",
    "pos=list(sentimentScoreEssays_test['pos'])\n",
    "pos_test=np.array(pos)\n",
    "neg=list(sentimentScoreEssays_test['neg'])\n",
    "neg_test=np.array(neg)\n",
    "com=list(sentimentScoreEssays_test['compound'])\n",
    "com_test=np.array(com)"
   ]
  },
  {
   "cell_type": "code",
   "execution_count": 241,
   "metadata": {},
   "outputs": [
    {
     "name": "stdout",
     "output_type": "stream",
     "text": [
      "(17956, 106)\n",
      "(8844, 106)\n",
      "(13200, 106)\n"
     ]
    }
   ],
   "source": [
    "train_No_ofWords_essays=np.array(train_No_ofWords_essays)\n",
    "train_No_ofWords_titles=np.array(train_No_ofWords_titles)\n",
    "cv_No_ofWords_essays=np.array(cv_No_ofWords_essays)\n",
    "cv_No_ofWords_titles=np.array(cv_No_ofWords_titles)\n",
    "test_No_ofWords_essays=np.array(test_No_ofWords_essays)\n",
    "test_No_ofWords_titles=np.array(test_No_ofWords_titles)\n",
    "\n",
    "train_No_ofWords_essays = normalizer.transform(train_No_ofWords_essays.reshape(-1, 1))\n",
    "train_No_ofWords_titles = normalizer.transform(train_No_ofWords_titles.reshape(-1, 1))\n",
    "\n",
    "\n",
    "cv_No_ofWords_essays = normalizer.transform(cv_No_ofWords_essays.reshape(-1, 1))\n",
    "cv_No_ofWords_titles = normalizer.transform(cv_No_ofWords_titles.reshape(-1, 1))\n",
    "\n",
    "test_No_ofWords_essays = normalizer.transform(test_No_ofWords_essays.reshape(-1, 1))\n",
    "test_No_ofWords_titles = normalizer.transform(test_No_ofWords_titles.reshape(-1, 1))\n",
    "\n",
    "X_train = hstack((train_categories_one_hot, train_subcategories_one_hot, train_school_state_category_one_hot, train_project_grade_category_one_hot, train_teacher_prefix_categories_one_hot, price_normalized_train ,  previously_posted_projects_normalized_train,train_No_ofWords_essays, train_No_ofWords_titles,pos_train.reshape(-1,1),neg_train.reshape(-1,1),com_train.reshape(-1,1))).tocsr()\n",
    "X_test = hstack((test_categories_one_hot, test_subcategories_one_hot, test_school_state_category_one_hot, test_project_grade_category_one_hot, test_teacher_prefix_categories_one_hot, price_normalized_test,  previously_posted_projects_normalized_test,test_No_ofWords_essays, test_No_ofWords_titles,pos_test.reshape(-1,1),neg_test.reshape(-1,1),com_test.reshape(-1,1))).tocsr()\n",
    "X_cv = hstack((cv_categories_one_hot, cv_subcategories_one_hot, cv_school_state_category_one_hot, cv_project_grade_category_one_hot, cv_teacher_prefix_categories_one_hot, price_normalized_cv,previously_posted_projects_normalized_cv,cv_No_ofWords_essays, cv_No_ofWords_titles,pos_cv.reshape(-1,1),neg_cv.reshape(-1,1),com_cv.reshape(-1,1))).tocsr()\n",
    "\n",
    "print(X_train.shape)\n",
    "print(X_cv.shape)\n",
    "print(X_test.shape)\n",
    "\n"
   ]
  },
  {
   "cell_type": "markdown",
   "metadata": {},
   "source": [
    "#### penalty = l1"
   ]
  },
  {
   "cell_type": "code",
   "execution_count": 242,
   "metadata": {},
   "outputs": [
    {
     "data": {
      "image/png": "[encoded data removed]",
      "text/plain": [
       "<Figure size 432x288 with 1 Axes>"
      ]
     },
     "metadata": {},
     "output_type": "display_data"
    }
   ],
   "source": [
    "from sklearn.model_selection import GridSearchCV\n",
    "from sklearn.linear_model import LogisticRegression\n",
    "\n",
    "lr = LogisticRegression(penalty = 'l1',class_weight='balanced')\n",
    "\n",
    "parameters = {'C':[10**-4, 10**-3,10**-2,1,10,100,1000,500,1000,10000]}\n",
    "\n",
    "clf_l1 = GridSearchCV(lr, parameters, cv= 5, scoring='roc_auc',return_train_score=True)\n",
    "\n",
    "clf_l1.fit(X_train, y_train)\n",
    "\n",
    "train_auc= clf_l1.cv_results_['mean_train_score']\n",
    "train_auc_std= clf_l1.cv_results_['std_train_score']\n",
    "cv_auc = clf_l1.cv_results_['mean_test_score'] \n",
    "cv_auc_std= clf_l1.cv_results_['std_test_score']\n",
    "\n",
    "plt.plot(parameters['C'], train_auc, label='Train AUC')\n",
    "# this code is copied from here: https://stackoverflow.com/a/48803361/4084039\n",
    "plt.gca().fill_between(parameters['C'],train_auc - train_auc_std,train_auc + train_auc_std,alpha=0.2,color='darkblue')\n",
    "\n",
    "plt.plot(parameters['C'], cv_auc, label='CV AUC')\n",
    "# this code is copied from here: https://stackoverflow.com/a/48803361/4084039\n",
    "plt.gca().fill_between(parameters['C'],cv_auc - cv_auc_std,cv_auc + cv_auc_std,alpha=0.2,color='darkorange')\n",
    "\n",
    "plt.scatter(parameters['C'], train_auc, label='Train AUC points')\n",
    "plt.scatter(parameters['C'], cv_auc, label='CV AUC points')\n",
    "plt.xscale('log') \n",
    "\n",
    "plt.legend()\n",
    "plt.xlabel(\"C(1/lambda): hyperparameter\")\n",
    "plt.ylabel(\"AUC\")\n",
    "plt.title(\"ERROR PLOTS\")\n",
    "plt.grid()\n",
    "plt.show()"
   ]
  },
  {
   "cell_type": "code",
   "execution_count": 243,
   "metadata": {},
   "outputs": [
    {
     "name": "stdout",
     "output_type": "stream",
     "text": [
      "Best score:  0.5756997491504333\n",
      "alpha value with best score(penalty = l1):  {'C': 1}\n",
      "===========================================================================\n",
      "Train AUC scores\n",
      "[0.5        0.5        0.55311718 0.60804505 0.60824717 0.60823491\n",
      " 0.6082327  0.60823275 0.60823247 0.60823272]\n",
      "CV AUC scores\n",
      "[0.5        0.5        0.5451446  0.57569975 0.57441693 0.57426986\n",
      " 0.57425952 0.57425904 0.57425584 0.57425536]\n"
     ]
    }
   ],
   "source": [
    "#Output of GridSearchCV\n",
    "print('Best score: ',clf_l1.best_score_)\n",
    "print('alpha value with best score(penalty = l1): ',clf_l1.best_params_)\n",
    "print('='*75)\n",
    "print('Train AUC scores')\n",
    "print(clf_l1.cv_results_['mean_train_score'])\n",
    "print('CV AUC scores')\n",
    "print(clf_l1.cv_results_['mean_test_score'])"
   ]
  },
  {
   "cell_type": "markdown",
   "metadata": {},
   "source": [
    "#### penalty = l2"
   ]
  },
  {
   "cell_type": "code",
   "execution_count": 244,
   "metadata": {},
   "outputs": [
    {
     "data": {
      "image/png": "[encoded data removed]",
      "text/plain": [
       "<Figure size 432x288 with 1 Axes>"
      ]
     },
     "metadata": {},
     "output_type": "display_data"
    }
   ],
   "source": [
    "from sklearn.model_selection import GridSearchCV\n",
    "from sklearn.linear_model import LogisticRegression\n",
    "\n",
    "lr = LogisticRegression(penalty = 'l2',class_weight='balanced')\n",
    "\n",
    "parameters = {'C':[10**-4, 10**-3,10**-2,1,10,100,1000,500,1000,10000]}\n",
    "\n",
    "clf_l2 = GridSearchCV(lr, parameters, cv= 5, scoring='roc_auc',return_train_score=True)\n",
    "\n",
    "clf_l2.fit(X_train, y_train)\n",
    "\n",
    "train_auc= clf_l2.cv_results_['mean_train_score']\n",
    "train_auc_std= clf_l2.cv_results_['std_train_score']\n",
    "cv_auc = clf_l2.cv_results_['mean_test_score'] \n",
    "cv_auc_std= clf_l2.cv_results_['std_test_score']\n",
    "\n",
    "plt.plot(parameters['C'], train_auc, label='Train AUC')\n",
    "# this code is copied from here: https://stackoverflow.com/a/48803361/4084039\n",
    "plt.gca().fill_between(parameters['C'],train_auc - train_auc_std,train_auc + train_auc_std,alpha=0.2,color='darkblue')\n",
    "\n",
    "plt.plot(parameters['C'], cv_auc, label='CV AUC')\n",
    "# this code is copied from here: https://stackoverflow.com/a/48803361/4084039\n",
    "plt.gca().fill_between(parameters['C'],cv_auc - cv_auc_std,cv_auc + cv_auc_std,alpha=0.2,color='darkorange')\n",
    "\n",
    "plt.scatter(parameters['C'], train_auc, label='Train AUC points')\n",
    "plt.scatter(parameters['C'], cv_auc, label='CV AUC points')\n",
    "plt.xscale('log') \n",
    "\n",
    "plt.legend()\n",
    "plt.xlabel(\"C(1/lambda): hyperparameter\")\n",
    "plt.ylabel(\"AUC\")\n",
    "plt.title(\"ERROR PLOTS\")\n",
    "plt.grid()\n",
    "plt.show()"
   ]
  },
  {
   "cell_type": "code",
   "execution_count": 245,
   "metadata": {},
   "outputs": [
    {
     "name": "stdout",
     "output_type": "stream",
     "text": [
      "Best score:  0.5743657114535463\n",
      "alpha value with best score(penalty = l2):  {'C': 1}\n",
      "===========================================================================\n",
      "Train AUC scores\n",
      "[0.56852618 0.57622063 0.59385143 0.60810045 0.60824316 0.60823359\n",
      " 0.60823259 0.60823188 0.60823259 0.60823298]\n",
      "CV AUC scores\n",
      "[0.55831808 0.56263022 0.57079899 0.57436571 0.57425929 0.57424599\n",
      " 0.57425489 0.57425335 0.57425489 0.57425358]\n"
     ]
    }
   ],
   "source": [
    "#Output of GridSearchCV\n",
    "print('Best score: ',clf_l2.best_score_)\n",
    "print('alpha value with best score(penalty = l2): ',clf_l2.best_params_)\n",
    "print('='*75)\n",
    "print('Train AUC scores')\n",
    "print(clf_l2.cv_results_['mean_train_score'])\n",
    "print('CV AUC scores')\n",
    "print(clf_l2.cv_results_['mean_test_score'])"
   ]
  },
  {
   "cell_type": "code",
   "execution_count": 249,
   "metadata": {},
   "outputs": [
    {
     "data": {
      "image/png": "[encoded data removed]",
      "text/plain": [
       "<Figure size 432x288 with 1 Axes>"
      ]
     },
     "metadata": {},
     "output_type": "display_data"
    }
   ],
   "source": [
    "# https://scikit-learn.org/stable/modules/generated/sklearn.metrics.roc_curve.html#sklearn.metrics.roc_curve\n",
    "from sklearn.metrics import roc_curve, auc\n",
    "\n",
    "\n",
    "lr2 = LogisticRegression(penalty = 'l1',C = clf_l1.best_params_['C'], class_weight='balanced')\n",
    "lr2.fit(X_train ,y_train)\n",
    "# roc_auc_score(y_true, y_score) the 2nd parameter should be probability estimates of the positive class\n",
    "# not the predicted outputs\n",
    "\n",
    "y_train_pred =  batch_predict(lr2, X_train)#Return probability estimates for the  set1x ,for the class label 1 or +ve.\n",
    "y_test_pred =  batch_predict(lr2, X_test)#Return probability estimates for the setcvx,for the class label 1 or +ve .\n",
    "\n",
    "train_fpr, train_tpr, thresholds = roc_curve(y_train, y_train_pred)\n",
    "test_fpr, test_tpr, thresholds = roc_curve(y_test, y_test_pred)\n",
    "\n",
    "plt.plot(train_fpr, train_tpr, label=\"train AUC =\"+str(auc(train_fpr, train_tpr)))\n",
    "plt.plot(test_fpr, test_tpr, label=\"test AUC =\"+str(auc(test_fpr, test_tpr)))\n",
    "plt.legend()\n",
    "plt.xlabel(\"False Positive Rate(FPR)\")\n",
    "plt.ylabel(\"True Positive Rate(TPR)\")\n",
    "plt.title(\"ROC PLOTS\")\n",
    "plt.show()"
   ]
  },
  {
   "cell_type": "code",
   "execution_count": 250,
   "metadata": {},
   "outputs": [
    {
     "name": "stdout",
     "output_type": "stream",
     "text": [
      "the maximum value of tpr*(1-fpr) 0.33551738881362164 for threshold 0.469\n",
      "Train confusion matrix\n",
      "[[ 1189  1583]\n",
      " [ 4422 10762]]\n",
      "Test confusion matrix\n",
      "[[ 807 1230]\n",
      " [3407 7756]]\n"
     ]
    }
   ],
   "source": [
    "from sklearn.metrics import confusion_matrix\n",
    "best_t = find_best_threshold(thresholds, train_fpr, train_tpr)\n",
    "print(\"Train confusion matrix\")\n",
    "print(confusion_matrix(y_train, predict_with_best_t(y_train_pred, best_t)))\n",
    "print(\"Test confusion matrix\")\n",
    "print(confusion_matrix(y_test, predict_with_best_t(y_test_pred, best_t)))"
   ]
  },
  {
   "cell_type": "code",
   "execution_count": 251,
   "metadata": {},
   "outputs": [
    {
     "data": {
      "image/png": "[encoded data removed]",
      "text/plain": [
       "<Figure size 432x288 with 2 Axes>"
      ]
     },
     "metadata": {},
     "output_type": "display_data"
    }
   ],
   "source": [
    "import seaborn as sns\n",
    "import matplotlib.pyplot as plt   \n",
    "\n",
    "ax= plt.subplot()\n",
    "sns.heatmap(confusion_matrix(y_train, predict_with_best_t(y_train_pred, best_t)), annot=True, ax = ax,fmt='g');\n",
    "ax.set_xlabel('Predicted labels');\n",
    "ax.set_ylabel('True labels'); \n",
    "ax.set_title('Confusion Matrix');"
   ]
  },
  {
   "cell_type": "code",
   "execution_count": 252,
   "metadata": {},
   "outputs": [
    {
     "data": {
      "image/png": "[encoded data removed]",
      "text/plain": [
       "<Figure size 432x288 with 2 Axes>"
      ]
     },
     "metadata": {},
     "output_type": "display_data"
    }
   ],
   "source": [
    "ax= plt.subplot()\n",
    "sns.heatmap(confusion_matrix(y_test, predict_with_best_t(y_test_pred, best_t)), annot=True, ax = ax,fmt='g');\n",
    "ax.set_xlabel('Predicted labels');\n",
    "ax.set_ylabel('True labels'); \n",
    "ax.set_title('Confusion Matrix');"
   ]
  },
  {
   "cell_type": "markdown",
   "metadata": {},
   "source": [
    "## Conclusion"
   ]
  },
  {
   "cell_type": "code",
   "execution_count": 273,
   "metadata": {},
   "outputs": [
    {
     "name": "stdout",
     "output_type": "stream",
     "text": [
      "+------------+--------------------+-----------------------+----------+-----------+-----------+\n",
      "| Vectorizer |       Model        | Hyperparameter(Alpha) | Penality | Train AUC |  Test AUC |\n",
      "+------------+--------------------+-----------------------+----------+-----------+-----------+\n",
      "|    BoW     | LogisticRegression |         0.001         |    l2    | 0.7728487 | 0.6774227 |\n",
      "|   Tfidf    | LogisticRegression |           1           |    l1    | 0.8832495 | 0.6599468 |\n",
      "|  Avg W2V   | LogisticRegression |           1           |    l1    | 0.7566702 | 0.6754424 |\n",
      "| Tfidf W2V  | LogisticRegression |          0.01         |    l2    | 0.7169568 | 0.6652829 |\n",
      "|   Set-5    | LogisticRegression |           1           |    l1    | 0.6046784 | 0.5737615 |\n",
      "+------------+--------------------+-----------------------+----------+-----------+-----------+\n"
     ]
    }
   ],
   "source": [
    "from prettytable import PrettyTable\n",
    "pt=PrettyTable(['Vectorizer','Model','Hyperparameter(Alpha)','Penality','Train AUC','Test AUC'])\n",
    "pt.add_row(['BoW','LogisticRegression',0.001,'l2',0.7728487,0.6774227])\n",
    "pt.add_row(['Tfidf','LogisticRegression',1,'l1',0.8832495,0.6599468])\n",
    "pt.add_row(['Avg W2V','LogisticRegression',1,'l1',0.7566702,0.6754424])\n",
    "pt.add_row(['Tfidf W2V','LogisticRegression',0.01,'l2',0.7169568,0.6652829])\n",
    "pt.add_row(['Set-5','LogisticRegression',1,'l1',0.6046784,0.5737615])\n",
    "print(pt)"
   ]
  },
  {
   "cell_type": "code",
   "execution_count": null,
   "metadata": {},
   "outputs": [],
   "source": []
  }
 ],
 "metadata": {
  "accelerator": "TPU",
  "colab": {
   "collapsed_sections": [],
   "name": "3_DonorsChoose_KNN.ipynb",
   "provenance": []
  },
  "kernelspec": {
   "display_name": "Python 3",
   "language": "python",
   "name": "python3"
  },
  "language_info": {
   "codemirror_mode": {
    "name": "ipython",
    "version": 3
   },
   "file_extension": ".py",
   "mimetype": "text/x-python",
   "name": "python",
   "nbconvert_exporter": "python",
   "pygments_lexer": "ipython3",
   "version": "3.6.5"
  }
 },
 "nbformat": 4,
 "nbformat_minor": 1
}
